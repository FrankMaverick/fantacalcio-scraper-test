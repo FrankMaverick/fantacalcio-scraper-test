{
 "cells": [
  {
   "cell_type": "markdown",
   "metadata": {},
   "source": [
    "# Library FeedParser\n",
    "\n",
    "https://github.com/kurtmckee/feedparser/tree/master\n",
    "\n",
    "https://feedparser.readthedocs.io/en/latest/introduction.html"
   ]
  },
  {
   "cell_type": "code",
   "execution_count": 52,
   "metadata": {},
   "outputs": [],
   "source": [
    "import feedparser\n",
    "from bs4 import BeautifulSoup\n",
    "import pandas as pd\n"
   ]
  },
  {
   "cell_type": "markdown",
   "metadata": {},
   "source": [
    "## Test L'ultimo Uomo"
   ]
  },
  {
   "cell_type": "code",
   "execution_count": 53,
   "metadata": {},
   "outputs": [
    {
     "data": {
      "text/plain": [
       "\"L'Ultimo Uomo\""
      ]
     },
     "execution_count": 53,
     "metadata": {},
     "output_type": "execute_result"
    }
   ],
   "source": [
    "d = feedparser.parse('https://www.ultimouomo.com/feed/')\n",
    "d['feed']['title']"
   ]
  },
  {
   "cell_type": "code",
   "execution_count": 54,
   "metadata": {},
   "outputs": [
    {
     "data": {
      "text/plain": [
       "{'title': \"L'Ultimo Uomo\",\n",
       " 'title_detail': {'type': 'text/plain',\n",
       "  'language': None,\n",
       "  'base': 'https://www.ultimouomo.com/feed/',\n",
       "  'value': \"L'Ultimo Uomo\"},\n",
       " 'links': [{'href': 'https://www.ultimouomo.com/feed/',\n",
       "   'rel': 'self',\n",
       "   'type': 'application/rss+xml'},\n",
       "  {'rel': 'alternate',\n",
       "   'type': 'text/html',\n",
       "   'href': 'https://www.ultimouomo.com'}],\n",
       " 'link': 'https://www.ultimouomo.com',\n",
       " 'subtitle': 'Sport & Cultura',\n",
       " 'subtitle_detail': {'type': 'text/html',\n",
       "  'language': None,\n",
       "  'base': 'https://www.ultimouomo.com/feed/',\n",
       "  'value': 'Sport & Cultura'},\n",
       " 'updated': 'Sat, 18 May 2024 07:13:58 +0000',\n",
       " 'updated_parsed': time.struct_time(tm_year=2024, tm_mon=5, tm_mday=18, tm_hour=7, tm_min=13, tm_sec=58, tm_wday=5, tm_yday=139, tm_isdst=0),\n",
       " 'language': 'it-IT',\n",
       " 'sy_updateperiod': 'hourly',\n",
       " 'sy_updatefrequency': '1',\n",
       " 'generator_detail': {'name': 'https://wordpress.org/?v=4.9.8'},\n",
       " 'generator': 'https://wordpress.org/?v=4.9.8'}"
      ]
     },
     "execution_count": 54,
     "metadata": {},
     "output_type": "execute_result"
    }
   ],
   "source": [
    "d.feed"
   ]
  },
  {
   "cell_type": "code",
   "execution_count": 55,
   "metadata": {},
   "outputs": [
    {
     "data": {
      "text/plain": [
       "\"L'Ultimo Uomo\""
      ]
     },
     "execution_count": 55,
     "metadata": {},
     "output_type": "execute_result"
    }
   ],
   "source": [
    "d.feed.title\n"
   ]
  },
  {
   "cell_type": "markdown",
   "metadata": {},
   "source": [
    "### Extract Article Data"
   ]
  },
  {
   "cell_type": "code",
   "execution_count": 56,
   "metadata": {},
   "outputs": [
    {
     "data": {
      "text/plain": [
       "{'title': 'Classici: Milan-Barcellona ’94',\n",
       " 'title_detail': {'type': 'text/plain',\n",
       "  'language': None,\n",
       "  'base': 'https://www.ultimouomo.com/feed/',\n",
       "  'value': 'Classici: Milan-Barcellona ’94'},\n",
       " 'links': [{'rel': 'alternate',\n",
       "   'type': 'text/html',\n",
       "   'href': 'https://www.ultimouomo.com/classici-milan-barcellona-4-0-finale-champions-league-1994/'}],\n",
       " 'link': 'https://www.ultimouomo.com/classici-milan-barcellona-4-0-finale-champions-league-1994/',\n",
       " 'published': 'Sat, 18 May 2024 06:57:35 +0000',\n",
       " 'published_parsed': time.struct_time(tm_year=2024, tm_mon=5, tm_mday=18, tm_hour=6, tm_min=57, tm_sec=35, tm_wday=5, tm_yday=139, tm_isdst=0),\n",
       " 'authors': [{'name': 'Marco Gaetani'}],\n",
       " 'author': 'Marco Gaetani',\n",
       " 'author_detail': {'name': 'Marco Gaetani'},\n",
       " 'tags': [{'term': 'Classici', 'scheme': None, 'label': None},\n",
       "  {'term': 'Barcellona', 'scheme': None, 'label': None},\n",
       "  {'term': 'champions league', 'scheme': None, 'label': None},\n",
       "  {'term': 'milan', 'scheme': None, 'label': None}],\n",
       " 'id': 'https://www.ultimouomo.com/?p=103150',\n",
       " 'guidislink': False,\n",
       " 'summary': 'Una delle partite simbolo della scuola tattica italiana.',\n",
       " 'summary_detail': {'type': 'text/html',\n",
       "  'language': None,\n",
       "  'base': 'https://www.ultimouomo.com/feed/',\n",
       "  'value': 'Una delle partite simbolo della scuola tattica italiana.'},\n",
       " 'content': [{'type': 'text/html',\n",
       "   'language': None,\n",
       "   'base': 'https://www.ultimouomo.com/feed/',\n",
       "   'value': '<p class=\"p1\" style=\"text-align: right;\"><i>«Noi per rafforzarci abbiamo preso Romario, il Milan ha preso Desailly. Capite la differenza?»</i></p>\\n<p class=\"p1\" style=\"text-align: right;\"><em>Johan Cruijff, 17 maggio 1994</em></p>\\n<p>&nbsp;</p>\\n<p class=\"p3\">«È uguale a Rijkaard, me lo ha garantito tutto lo staff tecnico», bofonchia un non convintissimo Silvio Berlusconi mentre a San Siro sta per iniziare il secondo tempo di un dimenticabilissimo Milan-Piacenza di Coppa Italia: finirà 1-1, gol di Alessandro Orlando per i rossoneri, infarciti di riserve e ragazzini, e Stefano Maccoppi per gli ospiti. È il 10 novembre 1993 e Berlusconi è scettico non tanto per l’acquisto che il suo Milan ha appena concluso, quanto per le modalità: si sente scavalcato da Adriano Galliani, che non lo ha messo al corrente dell’affare, e non c’è nulla che lo infastidisca più di sentirsi impotente. Mentre il Cavaliere è sugli spalti, infatti, il suo fidato dirigente non c’è. Leggenda vuole che proprio in quel momento sia in un ristorante insieme ad Ariedo Braida, in pieno centro, intento a far firmare a Marcel Desailly il contratto che lo legherà al Milan. Sui giornali del giorno dopo è chiaramente Berlusconi a dare i titoli ai giornalisti, confermando una certa ritrosia a spendere miliardi in quel frangente conclusivo del mercato novembrino anche a causa delle difficoltà della Fininvest: «Se non si fosse fatto male Boban avrei opposto una resistenza più convinta. Mi auguro che questo giocatore possa portare il vigore fisico e la personalità che in mezzo al campo possedeva Frank». Davanti alle telecamere di Tele+ prova a dissimulare, mostrando il sorriso magico che gli ha spalancato tutte le porte del mondo. Ha altro a cui pensare, in quei giorni.</p>\\n<p>&nbsp;</p>\\n<p class=\"p3\">Due settimane più tardi, in un’intervista concessa a <em>La Stampa</em>, anticiperà la sua discesa in campo, riuscendo a mescolare verità e menzogna con fare luciferino: «C’è una maggioranza di elettori che crede in una serie di valori – il mercato, la libera impresa, la tolleranza, la correttezza, il buon senso – che non trova negli attuali partiti una forma di rappresentanza». E alla domanda «sta dicendo che al centro c’è un vuoto politico da riempire?», la risposta è lapidaria: «Sì. […] Come editore io non posso diventare un soggetto politico. Non posso. Ma devo dire anche che sono in molti a chiedere un mio impegno».<span class=\"Apple-converted-space\">\\xa0</span></p>\\n<p>&nbsp;</p>\\n<p class=\"p3\">Il 27 aprile 1994, Silvio Berlusconi è decisamente meno scettico. Un mese prima ha visto la coalizione guidata da Forza Italia spazzare via l’Alleanza dei Progressisti, non ha ancora formato il suo primo governo ma insomma, nessuno sembra in grado di arrestarne l’ascesa. E nessuno, tra i giocatori del Monaco, è capace di fermare l’elevazione mostruosa di Desailly, che su un corner da sinistra calciato da Boban si arrampica oltre le mani protese di Jean-Luc Ettori e impatta di testa il pallone del vantaggio, lasciando di sasso Arsene Wenger seduto sulla panchina monegasca. Giornali e riviste cercheranno di calcolare l’altezza dell’impatto, fissandola tra i 2,90 e i 2,95 metri. È il preludio a una delle partite rimaste nella storia del calcio italiano e internazionale. E senza Marcel Desailly, senza quell’acquisto carbonaro portato a termine da Galliani, forse la stagione milanista avrebbe preso una piega diversa.</p>\\n<p>&nbsp;</p>\\n<p class=\"p3\"><b>La stagione</b></p>\\n<p class=\"p3\">Il Milan 1993-94 rappresenta l’inizio di una nuova era. Si è infatti definitivamente chiusa l’epoca degli olandesi: Ruud Gullit, in rotta con Fabio Capello, è stato spedito alla Sampdoria; Frank Rijkaard è invece tornato in Olanda, all’Ajax. Aveva annunciato l’addio al rossonero nel giorno più brutto, quello di Monaco di Baviera: il colpo di testa di Basile Boli, l’Olympique Marsiglia che vince la prima edizione della rinnovata Champions League sotto lo sguardo torvo di Berlusconi. Un’uscita di scena annunciata poche ore prima della finale che aveva indispettito non poco la dirigenza rossonera.</p>\\n<p>&nbsp;</p>\\n<p class=\"p3\">L’estate del 1993 è segnata dalla speranza di ritrovare il miglior van Basten, reduce da una stagione che definire tormentata è un eufemismo: la miseria di 15 presenze in campionato e 13 gol, l’ultimo dei quali siglato ad Ancona, il 9 maggio, con l’illusione di rimetterlo in piedi al meglio in vista della nefasta finale bavarese, giocata ben al di sotto della sua fama, devastato dal dolore. Il 9 giugno viene operato ancora una volta alla caviglia da Martens, il 25 agosto c’è un controllo in vista ma l’orizzonte per l’eventuale rientro è posto comunque attorno a Natale: «Quando ritornerò, mi piacerebbe diventare l’acquisto più importante del Milan». Non tornerà più. Ben prima di quel controllo, nella notte tra il 2 e il 3 agosto, la Porsche gialla di Gianluigi Lentini diventa una scheggia impazzita: ha spinto troppo con un ruotino che non poteva sopportare quella velocità, si è schiantato, ha rischiato la vita, mandato in fumo la stagione e, inevitabilmente, una carriera che ci ha lasciato con più domande che risposte. Ma non c’è il classico <em>what if</em>, non siamo qui a chiederci cosa sarebbe diventato Lentini: lo sappiamo già, e chi non lo sa, recuperi la versione integrale di Torino-Real Madrid, semifinale di Coppa UEFA 1992. C’è già tutto dentro. È anche per questo che il Milan 1993/94 non sembra far paura come alcune edizioni passate della corazzata berlusconiana. Il mercato è quasi esclusivamente all’insegna dei ritocchi: ce ne è uno di lusso, fondamentale, che è Christian Panucci, necessario per immaginare un Diavolo senza Mauro Tassotti. Arrivano poi Brian Laudrup appena retrocesso con la Fiorentina, Raducioiu, Ielpo e Alessandro Orlando.<span class=\"Apple-converted-space\">\\xa0 \\xa0</span></p>\\n<p>&nbsp;</p>\\n<p class=\"p3\">Il Milan inizia il campionato al piccolo trotto, ha dalla sua soprattutto la capacità di non prendere mai gol: il primo arriva a metà ottobre, 1-1 a Foggia, dopo sette partite e mezza senza mai vedere Sebastiano Rossi, diventato finalmente titolare inamovibile dopo anni in cui ha dovuto divorare concorrenti sempre diversi, da Pazzagli ad Antonioli, piegato a raccogliere il pallone in fondo al sacco. Il 31 ottobre, dopo due anni da dominatore assoluto, il Diavolo scopre che si può anche occupare una posizione diversa da quella più alta: a Genova, in casa della Sampdoria, va avanti 0-2 ed esce sconfitto 3-2, con la coscia di granito di Ruud Gullit che addomestica il pallone come se fosse di velluto e spara alle spalle di Rossi un pallone intriso di veleno per un anno trascorso a masticare fiele. È anche sullo slancio di quella sconfitta che Capello inizia a lavorare ai fianchi Galliani, convincendolo che per il centrocampo orfano di Rijkaard serva qualcosa di più. Il tecnico non ha ancora trovato la quadratura: troppo poco solida la coppia Albertini-Boban, che spesso deve essere riequilibrata con l’inserimento di Eranio su una delle due corsie. In più, il tecnico è già alle prese con l’ostico turnover degli stranieri: ne ha sei in organico, anche se van Basten è presente per onor di firma, e non può metterne più di tre per volta. Gli vengono in soccorso gli infortuni, ma con l’arrivo di Desailly si capisce in fretta che c’è un nuovo inamovibile. Il francese trasforma la squadra che per due mesi non prende gol: l’imbattibilità di Sebastiano Rossi si ferma il 27 febbraio per un gol di Kolyvanov, dopo 929 minuti, ed è il nuovo record per la Serie A, festeggiato indicandosi gli attributi verso il settore ospiti. Nel match di andata, a Foggia, aveva rispedito in curva un fumogeno lanciato dopo il gol dei padroni di casa: «Pensavo fosse un petardo». Ah beh.<span class=\"Apple-converted-space\">\\xa0</span></p>\\n<p>&nbsp;</p>\\n<p class=\"p3\">Il Milan esce dal trittico Juventus-Sampdoria-Inter con sei punti e lo scudetto va in archivio così, limitandosi alla normale amministrazione verso il traguardo finale. E in Europa? Il Diavolo prende un bello spavento contro l’Aarau, passando il primo turno con uno striminzito 1-0 complessivo firmato dal gol di Papin a metà settembre. Più agevole la pratica Copenaghen (0-6 in Danimarca, 1-0 a San Siro, ancora JPP sugli scudi) prima dell’inizio della fase a gironi. Il format della Champions League 1993/94<span class=\"Apple-converted-space\">\\xa0 </span>prevede una novità rispetto a quello delle edizioni precedenti: i gironi sono sempre posti dopo gli ottavi di finale, ma stavolta non qualificano direttamente le finaliste. Pur di mettere una partita in più da offrire alle televisioni, spunta dunque anche la semifinale, da giocare in gara singola in casa della meglio classificata. Il Milan costruisce il suo primato nelle prime tre gare, battendo Porto e Werder Brema, e facendo 0-0 con l’Anderlecht, e amministrando nelle ultime tre, limitandosi a tre pareggi. Non sembra più il Diavolo schiacciasassi dell’anno precedente, che si era presentato in finale vincendo tutte le partite giocate. Il 27 aprile a San Siro arriva quindi il Monaco di Arsene Wenger, agevole seconda classificata dell’altro girone che ha visto passeggiare il Barcellona. È una formula folle: il Milan arriva alla sfida con i monegaschi avendo undici diffidati. Il tedesco Heynemann, dopo il vantaggio di Desailly, prima ne impallina uno (Baresi) e poi, due minuti più tardi, espelle Costacurta. Il 2-0 di Albertini è un capolavoro di potenza e precisione, anche il tris di Massaro si lascia guardare più che volentieri. Dall’altra parte, adesso, c’è il Barcellona. Che parte strafavorito.</p>\\n<p>&nbsp;</p>\\n<p></p>\\n<p class=\"p6\" style=\"text-align: center;\"><i>I tre gol al Monaco.</i></p>\\n<p>&nbsp;</p>\\n<p class=\"p3\"><b>La vigilia</b></p>\\n<p class=\"p3\">È praticamente impossibile raccontare Milan-Barcellona senza occuparsi del lungo avvicinamento che l’ha preceduta, quasi venti giorni di paranoie di formazione e di provocazioni ricevute dalla Catalogna. Mentre i giornali provano a entrare nella testa di Capello, ipotizzando Desailly centrale difensivo con l’arretramento di Massaro sulla fascia per lasciare spazio a Simone e lo spostamento di Boban in mediana, oppure l’ingresso di Eranio a centrocampo, i primi siluri arrivano da Stoichkov, uno degli spauracchi principali.</p>\\n<p>&nbsp;</p>\\n<p class=\"p3\">Il bulgaro è convinto da tempo di non aver vinto il Pallone d’Oro 1992 per via delle ingerenze di Berlusconi: «È stato lui a influenzare i giornalisti che diedero il Pallone d’Oro a Van Basten. Una brutta storia. Non andrei mai al Milan, sarebbe peggio che finire al Real Madrid. Meglio la Juve, almeno non c’è quella folla di stranieri che ha il Milan. Non mi piace il Milan, non mi piace Berlusconi, si crede onnipotente». Poi arriva Cruijff a preparare il terreno: «Sarà una partita senza storia. Gli mancano Baresi e Costacurta? Non è un alibi, tocca la difesa. Sarebbe peggio se mancassero giocatori nel settore in cui nasce la manovra». Il campionato milanista va in archivio il primo maggio 1994 con la discussa e discutibile Milan-Reggiana 0-1, che salva &#8220;la Regia&#8221; e scatena un putiferio nazionale.<span class=\"Apple-converted-space\">\\xa0</span></p>\\n<p>&nbsp;</p>\\n<p class=\"p3\">In uno degli allenamenti di inizio maggio, Capello incassa l’ennesima tegola: Stefano Eranio si rompe il tendine d’Achille sinistro ed è un infortunio che gli costerà anche la chiamata di Sacchi in vista di USA 1994. «Saremo in emergenza, ma non perdo il sonno per questo. Se certe cose diventano indispensabili, occorrerà adattarsi», dice il tecnico commentando lo scetticismo di Desailly sull’arretramento («Non è facile tornare in difesa dopo otto mesi a centrocampo»). Per assurdo che possa sembrare, uno dei temi più affrontati riguarda la trappola del fuorigioco milanista, allenata da anni a innescarsi in sintonia con il respiro di Franco Baresi. Chi dovrà tenere le redini del pacchetto arretrato? E chi alzerà, ebbene sì, la mano per richiamare all’ordine il guardalinee di turno?<span class=\"Apple-converted-space\">\\xa0</span></p>\\n<p>&nbsp;</p>\\n<p class=\"p3\">C’è da dire che anche il Barcellona ha i suoi problemi: Romario, per esempio, è alle prese con una strenua trattativa con i malviventi che hanno rapito il padre il 2 maggio a Rio de Janeiro e chiedono sette milioni di dollari per liberarlo. La Liga intanto deve ancora finire e il Barça è impegnato nella rincorsa al titolo che passa anche dal successo ottenuto al Bernabeu il 7 maggio: segna Amor, Capello esce stralunato dallo stadio che diventerà casa sua. «Cruijff ha una squadra tonica, noi siamo in un brutto momento. E senza i due centrali titolari non potremo adottare la tattica del fuorigioco». Intanto, a Rio, la polizia fa irruzione in una baracca e riesce a liberare il padre di Romario, marcato a vista da due donne e un ragazzino in attesa del rientro dei rapitori.<span class=\"Apple-converted-space\">\\xa0</span></p>\\n<p>&nbsp;</p>\\n<p class=\"p3\">Il Milan piazza un’amichevole a metà strada tra la fine del campionato e la finale di Champions League con la neopromossa Fiorentina: la coppia Tassotti-Desailly al centro della difesa va talmente tanto in difficoltà da indurre Capello a cambiare tutto dopo 37 minuti di partita e il risultato già compromesso sul 2-0. Intanto succede un pasticciaccio con la UEFA, che prima designa l’olandese John Blankenstein, quindi, a sei giorni dalla partita, cambia idea e sceglie per la finalissima l’inglese Philip Don.</p>\\n<p>&nbsp;</p>\\n<p class=\"p3\">Blankenstein sarebbe stato troppo vicino a Cruijff, secondo i maligni, anche se le cronache di quei giorni motivano il cambio con presunte minacce di morte ricevute dal direttore di gara. E mentre Cruijff fa il vago &#8211; «Ah sì? Non sapevo neppure chi fosse l’arbitro designato inizialmente» &#8211; Capello applaude: «Una scelta opportuna. Finalmente la UEFA si è resa conto, dopo averglielo fatto rilevare ma senza fare proteste ufficiali, che era meglio cambiare per evitare il rischio di polemiche». Non è la prima volta, peraltro: Blankenstein era stato già designato e sostituito per Parma-Milan di Supercoppa Europea, quella volta su richiesta degli emiliani visto che il match si sarebbe giocato alla vigilia di Ajax-Parma di Coppa delle Coppe. Dopo aver vinto la Liga in volata con il suicidio sportivo del Deportivo, che pareggia in casa con il Valencia sbagliando un rigore all’ultimo istante, Cruijff torna sul tema arbitrale: «Hanno fatto una fesseria, sul nuovo arbitro si concentrerà una pressione terribile». Koeman rilancia: «Se l’hanno sostituito perché è olandese come me e Cruijff sono veramente degli stupidi».</p>\\n<p>&nbsp;</p>\\n<p class=\"p3\">Il Milan continua a lavorare, il test con il Saronno è decisamente più morbido di quello contro la Fiorentina e finisce 9-2. Al centro della difesa tocca a Filippo Galli e Maldini. Più si avvicina la partita, più i toni si alzano. Cruijff: «Con Capello tutto parte dalla difesa, a me non piace il suo modulo, preferivo quello di Sacchi. Gli manca chi organizzi quel reparto e capisco le sue paure, tanto più che noi abbiamo un attacco da 90 gol a campionato. Dopo 20 partite senza sconfitte, non vedo perché dovremmo perdere l’ultima». Stoichkov va ancora più dritto: «Senza Baresi non c’è il leader, è un capo, come Koeman. Se noi diamo il massimo e il Milan fa lo stesso, ne esce una partita equilibrata, ma alla fine vincerà chi è più portato a fare i gol. Ho fiducia. Vorrei che mi marcasse Desailly. Lo fece a Parigi in Francia-Bulgaria che ha deciso la nostra qualificazione al Mondiale e segnai. Con i difensori neri mi va sempre bene. Desailly, Boli, Aloisio, li ho fregati tutti».</p>\\n<p>&nbsp;</p>\\n<p class=\"p3\">Berlusconi appare con l’elicottero d’ordinanza a Milanello e prende da parte Savicevic: «Se davvero sei un genio, dimostramelo ad Atene». Nell’ultima conferenza prima di partire per Atene, Cruijff definisce il Milan una stella cadente: «Qualcuno capace di segnare lo potrà comprare sempre, ma la sua crisi si compirà quando non avrà più Baresi, e qualcosa si potrebbe vedere già ad Atene». Il Diavolo corre ai ripari scegliendo di indossare la maglia bianca, la stessa di Londra 1963, Barcellona 1989 e Vienna 1990. A Monaco, invece, il crollo in rossonero.<span class=\"Apple-converted-space\">\\xa0</span></p>\\n<p>&nbsp;</p>\\n<p class=\"p3\">Romario è la minaccia principale. «Ha enormi qualità tecniche ed è un uomo-gol, due cose che raramente si mescolano nella stessa persona: la sua sola presenza intimidisce gli avversari. Gli basta un metro quadrato per liberarsi del difensore, saltarlo e filare in porta: realizza il 90% delle palle gol, se lo toccano in area è un rigore guadagnato», dice Cruijff. Michael Laudrup, finito ai margini per via del regolamento che impone la presenza di soli tre stranieri, lo descrive così: «Io impazzirei a toccare tre palloni in novanta minuti, mi sentirei inutile. Lui invece non se ne preoccupa. Pensa a sfruttare al massimo le occasioni che ha. Se non gli riesce, pazienza». Il brasiliano parla pochissimo alla vigilia, si lascia scappare solo una frase: «Ho già affrontato il Milan quando ero al PSV, ho perso ma ho segnato. E stavolta gioco in una squadra più forte. Andiamo in campo decisi a vincere e ce la faremo». Bakero: «Se sono il grande club che dicono devono avere più di undici giocatori, non piangano sull’assenza di Baresi». Koeman: «Forse stanno peggio di noi». L’ultima parola spetta ancora<span class=\"Apple-converted-space\">\\xa0</span>a Cruijff: «Giochiamo un calcio più piacevole e per questo avremo il sostegno pure dei tifosi greci. L’Italia? Non mi interessa. Ho quasi 50 anni e voglio vivere bene. A Barcellona il calcio è un piacere».<span class=\"Apple-converted-space\">\\xa0</span></p>\\n<p>&nbsp;</p>\\n<p class=\"p3\"><b>La partita</b></p>\\n<p class=\"p3\">L’assillo principale in sede di formazione per Capello è ovviamente la sostituzione della coppia centrale di difesa. La scelta, dopo i test delle settimane di avvicinamento, ricade su Filippo Galli, sostituto naturale, e sullo spostamento di Paolo Maldini in mezzo preferito sia all’arretramento di Desailly, sia all’ipotesi legata a Stefano Nava, con Tassotti a presidiare la fascia destra e Panucci dirottato a sinistra. Boban agisce da esterno destro di centrocampo con Donadoni sul fronte opposto, Albertini-Desailly in mezzo, Savicevic a fare da partner di Massaro. Cruijff sceglie un sistema profondamente asimmetrico. La difesa è a quattro, perché Nadal affianca Koeman in mezzo con Ferrer e Sergi larghi. Guardiola è il vertice basso del centrocampo a tre, con Amor e Bakero mezze ali. Stoichkov parte apertissimo sulla destra, con Romario in mezzo e Beguiristain, teorica ala sinistra, che si fa invece trovare sistematicamente tra le linee, componendo una sorta di rombo di centrocampo. È lo stesso sistema con cui hanno spazzato via in semifinale il Porto (3-0 al Camp Nou, doppietta di Stoichkov e gol di Koeman).<span class=\"Apple-converted-space\">\\xa0</span></p>\\n<p>&nbsp;</p>\\n<p class=\"p3\">I primi temi del match affiorano già in avvio: Savicevic che va a cercarsi l’uno contro uno sulle corsie con l’obiettivo di generare superiorità numerica, Stoichkov che ha facoltà di accentrarsi da destra per liberare il mancino da fuori. La sua prima conclusione termina a lato. Chi è abituato al Boban maturo, crepuscolare, abituato a danzare sulla trequarti o a cucire il gioco in regia, può rimanere sorpreso nel vedere l’applicazione del croato nel ruolo di esterno destro di centrocampo. È un Milan che non vuole lasciare le redini del gioco in mano al Barcellona e per questo non disdegna di alzare il livello del pressing: non commette, dunque, l’errore che aveva invece effettuato la Sampdoria di Boskov nel 1992, totalmente concentrata sulle marcature a uomo dei giocatori d’attacco finendo però per trascurare la facilità di calcio di Koeman, che poteva agire da regista aggiunto senza opposizione. Era un altro Barcellona, quello, improntato sul classico 3-4-3 a rombo di Cruijff.<span class=\"Apple-converted-space\">\\xa0</span></p>\\n<p>&nbsp;</p>\\n<p class=\"p3\">Donadoni e Savicevic appaiono da subito particolarmente ispirati, il Milan passerebbe presto in vantaggio con Panucci ma il gol viene annullato per fuorigioco a centro area di Massaro: una rete che, con il regolamento odierno, sarebbe validissima. Il Barça risponde con quella che è una delle migliori azioni della sua partita: Guardiola (che Bruno Pizzul definisce «giocatore ancora giovane ma dal raffinato senso tattico») sfrutta un raro momento di respiro per andare lungo su Stoichkov, immediato cross da destra del bulgaro per il rimorchio di Romario che mastica la conclusione al volo. Il Milan vuole affollare il lato sinistro del suo attacco: Panucci ha decisamente più gamba di quanta ne abbia il 34enne Tassotti e si propone spesso in sovrapposizione su una corsia che vede già la presenza di Donadoni e di Savicevic, per natura portato a cercarsi la fetta di campo nella quale far male. E pensare che, per buona parte di stagione, il montenegrino è stato più una preoccupazione che una risorsa.<span class=\"Apple-converted-space\">\\xa0</span></p>\\n<p>&nbsp;</p>\\n<p class=\"p3\">Silvio Berlusconi è sempre stato particolarmente suscettibile al talento. L’innamoramento che ha provato per Savicevic non è così dissimile da quello che, alla fine del 1985, l’aveva colpito di sorpresa in piena notte assistendo a Juventus-Argentinos Juniors. Claudio Daniel Borghi gli aveva rubato il cuore senza mai vestire il rossonero in gare ufficiali, prima dirottato al Como vista la presenza di van Basten e Gullit quando gli stranieri ammessi in rosa erano soltanto due, quindi messo alla porta da Arrigo Sacchi che non aveva la minima intenzione di accoglierlo come terzo straniero potendo mettere le mani su Rijkaard.</p>\\n<p>&nbsp;</p>\\n<p class=\"p3\">Savicevic, non è un mistero, non andava a genio a Capello. Troppo indolente, troppo pigro, quasi allergico al concetto di squadra. Un oltraggio per un allenatore come il non ancora &#8220;Don Fabio&#8221; (soprannome che gli arriverà in dote nel periodo madridista), che in quella fase della sua carriera ha l’equilibrio tattico come faro universale del suo modo di intendere il calcio: un tratto che manterrà anche negli anni a venire, ma sapendo venire maggiormente incontro al talento rispetto al passato. I rapporti con Savicevic, dopo una prima stagione da comparsa, diventano infuocati nella metà iniziale della stagione: &#8220;il Genio&#8221;, convinto di essere destinato a un ruolo di primo attore con l’uscita di scena degli olandesi, si ritrova invece spesso e malvontieri ai margini. Capello lo lascia a Milano in occasione della trasferta di Bruxelles con l’Anderlecht: gli preannuncia la panchina e il montenegrino non si rende disponibile per far parte dei possibili sostituti, generando l’ira dell’allenatore. Era già accaduto un mese prima, Milan-Juventus, 24 ottobre 1993: era spuntato un misterioso fastidio all’adduttore, sta di fatto che il Diavolo si era presentato con due soli stranieri all’appello, Boban e Papin. Capello è però sceso a patti con il fatto di non poterlo utilizzare come esterno di centrocampo: troppo poco propenso al sacrificio, Dejan, per prestarsi a un ruolo di faticatore.</p>\\n<p>&nbsp;</p>\\n<p class=\"p3\">Dopo settimane novembrine in cui il suo nome viene accostato al prestito al Genoa, la storia di Savicevic al Milan rischia di finire a metà dicembre. I rossoneri preparano la Coppa Intercontinentale, giocata al posto dell’Olympique Marsiglia squalificato dalle competizioni internazionali, con un punto interrogativo: Savicevic è squalificato oppure no? Nel 1991, infatti, si era fatto cacciare proprio nell’Intercontinentale contro il Colo Colo, rifilando una testata a Mendoza a palla lontana. Il gruppo vive giorni nel dubbio, finché Capello non si convince a ignorare Savicevic e a preparare la partita con Raducioiu al fianco di Papin. Poi, pian piano, i due iniziano ad annusarsi, a venirsi incontro, ad apprezzarsi. E nel giorno più importante, dopo aver segnato dei gol di platino nel cammino, come i due al Werder Brema nella fase a gironi, Savicevic è lì, numero 10, licenza di svariare e di colpire.</p>\\n<p>&nbsp;</p>\\n<p class=\"p3\">Panucci mette a ferro e fuoco la fascia sinistra e va al cross, Massaro si coordina in un battito di ciglia, Zubizarreta blocca. Desailly martella Bakero, gli è addosso ogni volta che prova a ricevere le tracce in verticale di Guardiola. Il Milan lascia scientemente che sia Nadal a impostare, alza il pressing non appena il pallone arriva nelle zone ritenute più facili da attaccare in pressione. Romario non vede palla, ingabbiato tra Maldini e Galli, e allora cerca di rendersi minaccioso sparendo dalla zona d’attacco, svuotando il centro: prova l’imbucata per Amor, Maldini trova una chiusura monumentale.</p>\\n<p>&nbsp;</p>\\n<p class=\"p3\">Il vantaggio milanista arriva grazie a un tema ricorrente dei primi venti minuti di partita: l’aggressione sulle seconde palle da parte degli esterni di centrocampo, Boban e Donadoni. Nadal addomestica un rinvio lungo di Rossi e va di testa verso Sergi, è il classico <i>trigger</i> che scatena la riaggressione milanista: Boban si allunga e trova l’anticipo, Savicevic mette giù palla con un tocco dolcissimo e si trova subito davanti Nadal, saltato secco andando verso il centro. Guardiola prova un rientro disperato ma il montenegrino rimane in controllo fino al vertice dell’area piccola, quando perde contatto con il terreno sull’uscita di Zubizarreta: calcia con il destro verso Massaro, il pallone si impenna, &#8220;Provvidenza&#8221; si allunga e trova la zampata mancina a porta sguarnita.<span class=\"Apple-converted-space\">\\xa0</span></p>\\n<p>&nbsp;</p>\\n<p class=\"p3\">Campione del mondo da giovanissimo nel 1982 come elemento marginale della spedizione di Enzo Bearzot, Massaro è almeno alla sua terza vita da calciatore. Ai tempi della Fiorentina era stato un centrocampista energico, nel 1986 era stato il secondo acquisto dell’epopea berlusconiana dopo un numero da circo del duo Berlusconi-Galliani relativo alla firma di Dario Bonetti. Galliani era stato il principale sponsor dell’arrivo di Massaro: lo aveva scovato in un oratorio di Monza quando era un adolescente e lo aveva portato in biancorosso. Il prezzo versato da Berlusconi per Massaro era parso eccessivo: sei miliardi e settecento milioni di lire, all’epoca, avrebbero consentito l’arrivo di ben altro profilo. In rossonero aveva iniziato da esterno sinistro di centrocampo, quindi aveva via via messo la porta nel mirino, rivelandosi decisivo, per esempio, in uno spareggio UEFA contro la Sampdoria. In panchina, Fabio Capello, subentrato in corsa al posto di Nils Liedholm nel 1987. Quindi, dopo una stagione in prestito a Roma, era tornato nell’organico rossonero con un ruolo da protagonista nel 1989. Un anno prima della finale di Atene, a Monaco di Baviera, era finito nel mirino della critica per i troppi errori sotto porta contro l’OM. Nella stagione 1993/94, i suoi gol fruttano sistematicamente punti pesantissimi.</p>\\n<p>&nbsp;</p>\\n<p class=\"p3\">Adesso corre impazzito di gioia mentre Capello torna verso la panchina con le mani in tasca e la mandibola più serrata del solito. Cruijff ha la faccia di un uomo che ha appena visto un ladro partire con la sua macchina. Stoichkov abbozza una reazione solitaria andando via a Maldini sulla destra e sull’uscita a terra di Rossi non toglie il piede, scatenando la rabbia rossonera. Il Milan non aspetta col blocco basso, Desailly e Albertini giocano una partita di raro acume e aggressività, senza mai dare respiro a Bakero e Amor. Si ricordano spesso i tradizionali attacchi a due degli anni Novanta, prima-seconda punta, il centravanti grosso fisicamente e al suo fianco un attaccante più basso, pronto ad attaccare la profondità, e si dimentica invece quanto fosse difficile trovare due centrocampisti capaci di completarsi come Desailly e Albertini. Atleticamente straripante il primo, di infinita intelligenza tattica grazie al suo passato da difensore centrale, capace di rompere il gioco e di affidarsi al compagno per il cesello; apparentemente fuori posto il secondo, con una faccia da bambino ancora poco cresciuto costretto a vivere in mezzo agli uomini, e invece giocatore abilissimo nelle letture e sul gioco corto e lungo, l’evoluzione del regista classico.</p>\\n<p>&nbsp;</p>\\n<p class=\"p3\">È un concetto sul quale Capello ha lavorato a lungo, plasmando il suo 4-4-2 imponendo una cerniera centrale più solida e dando agli esterni il compito di inventare: «Tante squadre giocavano con un centrocampista centrale e un rifinitore. Mi sono detto che non avrei dovuto copiarli, altrimenti finiva uno contro uno. […] Una cosa altrettanto importante è stata l’impostazione con due esterni molto offensivi. Studiando le caratteristiche del gioco italiano, avevo notato che quasi tutte le squadre giocavano con esterni bravi ad attaccare ma poco bravi a difendere. Allora mi convinsi: se gli altri non sanno difendere, andiamo ad accentuare le loro difficoltà ed eviteremo di farci attaccare», racconta al <em>Corriere della Sera</em>\\xa0nell’ottobre del 1993, in un momento in cui in molti ritengono che sia un mero gestore, un uomo che manda in campo undici giocatori senza ragionare più di tanto su moduli e schemi.<span class=\"Apple-converted-space\">\\xa0</span></p>\\n<p>&nbsp;</p>\\n<p class=\"p3\">Il Milan punge anche su palla ferma, con Donadoni che raccoglie un rimpallo su Massaro dopo un destro da lontanissimo di Albertini e calcia subito al volo: colpisce in maniera fin troppo pulita, Zubizarreta blocca. Cruijff capisce che non può andare avanti in questo modo e prova a mischiare le carte, aprendo Beguiristain a destra e mettendo Stoichkov a galleggiare tra la fascia sinistra e il sostegno centrale a Romario, provando a giocare sull’ammonizione rimediata qualche minuto prima da Tassotti. Proprio Beguiristain, su invito del bulgaro, può controllare e concludere dal limite: nessun problema per Rossi. Ha un sussulto anche Romario, velenoso come sempre, ma sul suo destro si materializza la punta del piede di Filippo Galli.</p>\\n<p>&nbsp;</p>\\n<p class=\"p3\">Quando Cruijff pensa già all’intervallo e a un’eventuale soluzione da mettere in pratica, il Milan punge di nuovo. Boban apre da destra a sinistra per Donadoni che si isola in uno contro uno. Punta Ferrer e gli va via, non si accontenta di un cross mancino e prosegue attaccando la linea di fondo. Savicevic stringe verso il primo palo, reclamando palla nei pressi del vertice dell’area piccola. Boban occupa lo spazio sul palo lontano, anche se è soltanto all’ingresso nei sedici metri. Massaro, invece, si sfila, aspettando paziente ai 14 metri. Donadoni lo pesca con un passaggio semplice rasoterra, il numero 11 rossonero incrocia con il sinistro. «Cruijff ha perso molta della sua baldanza della vigilia», urla Bruno Pizzul, approfittando dell’inquadratura vagamente sadica della regia internazionale. Il primo tempo va in archivio così, con un Milan praticamente perfetto e il Barcellona che non ha la minima idea di come rispondere. Proprio in quei minuti, il governo Berlusconi ottiene una fiducia sudatissima al Senato, con 159 voti favorevoli (ne sarebbero serviti 158), 153 contrari e 2 astenuti, al termine di un’opera di convincimento portata avanti da Cesare Previti e Gianni Letta che ha ribaltato la teorica minoranza del Polo nei confronti dell’opposizione. L’annuncio della fiducia incassata dall’esecutivo appena formato appare in sovraimpressione durante la finale, come se fosse una notizia di palinsesto.<span class=\"Apple-converted-space\">\\xa0</span></p>\\n<p>&nbsp;</p>\\n<p class=\"p3\">Bastano pochi minuti della ripresa per dare la spallata definitiva al match. Albertini butta via un pallone senza troppe pretese verso la linea laterale destra, Savicevic va in pressione su Nadal che si crede al sicuro: mal gliene incoglie. Il montenegrino riesce ad andarsene col pallone sul tentativo di disimpegno e la sfera prende a rimbalzare verso i sedici metri. &#8220;Il Genio&#8221; è praticamente al vertice dell’area e fa partire un pallonetto visionario, una carezza al pallone che si impenna quando nell’inquadratura ancora non v’è traccia di Zubizarreta. Quando lo vediamo, sta indietreggiando disperato: è una corsa sgraziata che finirà con il portiere a terra e il pallone già a gonfiare la rete. Zubizarreta ha una crisi di nervi, si rialza e scalcia via la sfera, poi inizia a coprire di insulti Nadal per il pasticcio appena commesso. Savicevic esulta saltando un tabellone pubblicitario e abbozzando una corsetta a braccia larghe sotto la tribuna, per una volta Capello sembra allentare la presa sui muscoli facciali ma è soltanto un’illusione.</p>\\n<p>&nbsp;</p>\\n<p class=\"p3\">Cruijff richiama in panchina Beguiristan per Eusebio Sacristán, l’uomo che due anni prima aveva conquistato, con la complicità di Schmidhuber, la punizione con cui Koeman aveva distrutto i sogni sampdoriani. Sulla partita inizia a incombere il nervosismo dei giocatori del Barcellona, nulla però che possa scalfire la notte perfetta del Diavolo. Nadal abbatte Savicevic con un’entrata di pura frustrazione, a livello tattico non c’è quasi più nulla da dire. Il piano inclinato del match è ormai fissato, il montenegrino è in totale controllo e fa quello che vuole, che si trovi a 40 metri dalla porta o a 10. Va vicino al poker mettendo giù una sventagliata di Albertini che fa venire il torcicollo a Ferrer: tocco sotto sull’uscita di Zubizarreta, palo pieno. L’azione prosegue, il Barcellona prova a uscire, Desailly strappa l’ennesimo pallone della sua serata ai 35 metri ma stavolta prosegue famelico in avanti. Scambia con Albertini che gli restituisce il pallone cadendo, la difesa blaugrana è disposta a casaccio, il francese si presenta da solo in area di rigore e di destro a giro fissa il 4-0. Adesso sì, Capello riesce persino a prodursi in un sorriso, travolta da un abbraccio di massa in cui Ramaccioni per poco non lo soffoca.<span class=\"Apple-converted-space\">\\xa0</span></p>\\n<p>&nbsp;</p>\\n<p></p>\\n<p class=\"p3\">Rivista trent’anni dopo, Milan-Barcellona presenta tratti estremamente moderni pur essendo una partita di un’altra epoca: la capacità di aggressione della squadra di Capello è decisamente più vicina ai giorni nostri di quanto si possa pensare. Alla fine, a festeggiare, ci sono tutti, anche Costacurta e Baresi, che Sacchi voleva tenere prigionieri nel ritiro azzurro vista la squalifica: li ha liberati giusto in tempo per farli salire sull’aereo destinato in Grecia. Appare persino van Basten, mentre Massaro festeggia con una maglia del Barcellona addosso.</p>\\n<p>&nbsp;</p>\\n<p class=\"p3\">«Siamo stati intelligenti, veloci, aggressivi», dice Capello ai microfoni della Rai. Ai giornalisti poi racconta di aver immediatamente telefonato a Berlusconi («Stasera ha vinto due volte») e si toglie diversi sassolini dalle scarpe: «Vi ho lasciato parlare per tanto tempo, ma dentro ero tranquillo. Conoscevo la forza della mia squadra, come era stata preparata questa partita: alla perfezione. La vittoria non poteva mancare, e non poteva mancare la mia capacità di vincere un trofeo europeo: come si fa a dubitare di un allenatore che negli ultimi tre anni ha vinto lo scudetto?». Rimarrà, però, l’unica Champions League vinta da Capello in una carriera straordinaria, con un solo ulteriore trofeo internazionale, la Supercoppa Europea vinta nel febbraio 1995 contro l’Arsenal. Cruijff appare in sala stampa a testa bassa, giusto qualche battuta per dovere: «Per me è stata una pena».<span class=\"Apple-converted-space\">\\xa0</span></p>\\n<p>&nbsp;</p>'}]}"
      ]
     },
     "execution_count": 56,
     "metadata": {},
     "output_type": "execute_result"
    }
   ],
   "source": [
    "d.entries[0]"
   ]
  },
  {
   "cell_type": "code",
   "execution_count": 57,
   "metadata": {},
   "outputs": [
    {
     "data": {
      "text/plain": [
       "'Classici: Milan-Barcellona ’94'"
      ]
     },
     "execution_count": 57,
     "metadata": {},
     "output_type": "execute_result"
    }
   ],
   "source": [
    "# Title\n",
    "d.entries[0].title"
   ]
  },
  {
   "cell_type": "code",
   "execution_count": 58,
   "metadata": {},
   "outputs": [
    {
     "name": "stdout",
     "output_type": "stream",
     "text": [
      "Classici\n",
      "Barcellona\n",
      "champions league\n",
      "milan\n"
     ]
    }
   ],
   "source": [
    "# Tags\n",
    "tags = d.entries[0].tags\n",
    "for tag in tags:\n",
    "    print(tag['term'])"
   ]
  },
  {
   "cell_type": "code",
   "execution_count": 59,
   "metadata": {},
   "outputs": [
    {
     "data": {
      "text/plain": [
       "'Sat, 18 May 2024 06:57:35 +0000'"
      ]
     },
     "execution_count": 59,
     "metadata": {},
     "output_type": "execute_result"
    }
   ],
   "source": [
    "# published Data\n",
    "d.entries[0].published"
   ]
  },
  {
   "cell_type": "code",
   "execution_count": 60,
   "metadata": {},
   "outputs": [
    {
     "data": {
      "text/plain": [
       "'<p class=\"p1\" style=\"text-align: right;\"><i>«Noi per rafforzarci abbiamo preso Romario, il Milan ha preso Desailly. Capite la differenza?»</i></p>\\n<p class=\"p1\" style=\"text-align: right;\"><em>Johan Cruijff, 17 maggio 1994</em></p>\\n<p>&nbsp;</p>\\n<p class=\"p3\">«È uguale a Rijkaard, me lo ha garantito tutto lo staff tecnico», bofonchia un non convintissimo Silvio Berlusconi mentre a San Siro sta per iniziare il secondo tempo di un dimenticabilissimo Milan-Piacenza di Coppa Italia: finirà 1-1, gol di Alessandro Orlando per i rossoneri, infarciti di riserve e ragazzini, e Stefano Maccoppi per gli ospiti. È il 10 novembre 1993 e Berlusconi è scettico non tanto per l’acquisto che il suo Milan ha appena concluso, quanto per le modalità: si sente scavalcato da Adriano Galliani, che non lo ha messo al corrente dell’affare, e non c’è nulla che lo infastidisca più di sentirsi impotente. Mentre il Cavaliere è sugli spalti, infatti, il suo fidato dirigente non c’è. Leggenda vuole che proprio in quel...'"
      ]
     },
     "execution_count": 60,
     "metadata": {},
     "output_type": "execute_result"
    }
   ],
   "source": [
    "html_content = d.entries[0].content[0].value\n",
    "html_content\n",
    "\n",
    "truncated_html_content= html_content[:1000] + \"...\"\n",
    "truncated_html_content"
   ]
  },
  {
   "cell_type": "code",
   "execution_count": 61,
   "metadata": {},
   "outputs": [
    {
     "data": {
      "text/plain": [
       "'«Noi per rafforzarci abbiamo preso Romario, il Milan ha preso Desailly. Capite la differenza?»\\nJohan Cruijff, 17 maggio 1994\\n\\xa0\\n«È uguale a Rijkaard, me lo ha garantito tutto lo staff tecnico», bofonchia un non convintissimo Silvio Berlusconi mentre a San Siro sta per iniziare il secondo tempo di un dimenticabilissimo Milan-Piacenza di Coppa Italia: finirà 1-1, gol di Alessandro Orlando per i rossoneri, infarciti di riserve e ragazzini, e Stefano Maccoppi per gli ospiti. È il 10 novembre 1993 e Berlusconi è scettico non tanto per l’acquisto che il suo Milan ha appena concluso, quanto per le modalità: si sente scavalcato da Adriano Galliani, che non lo ha messo al corrente dell’affare, e non c’è nulla che lo infastidisca più di sentirsi impotente. Mentre il Cavaliere è sugli spalti, infatti, il suo fidato dirigente non c’è. Leggenda vuole che proprio in quel momento sia in un ristorante insieme ad Ariedo Braida, in pieno centro, intento a far firmare a Marcel Desailly il contratto che lo...'"
      ]
     },
     "execution_count": 61,
     "metadata": {},
     "output_type": "execute_result"
    }
   ],
   "source": [
    "soup = BeautifulSoup(html_content, 'html.parser')\n",
    "text_content  = soup.get_text()\n",
    "\n",
    "truncated_text = text_content[:1000] + \"...\"\n",
    "truncated_text"
   ]
  },
  {
   "cell_type": "markdown",
   "metadata": {},
   "source": [
    "### All Articles in the feed"
   ]
  },
  {
   "cell_type": "code",
   "execution_count": 62,
   "metadata": {},
   "outputs": [
    {
     "data": {
      "text/html": [
       "<div>\n",
       "<style scoped>\n",
       "    .dataframe tbody tr th:only-of-type {\n",
       "        vertical-align: middle;\n",
       "    }\n",
       "\n",
       "    .dataframe tbody tr th {\n",
       "        vertical-align: top;\n",
       "    }\n",
       "\n",
       "    .dataframe thead th {\n",
       "        text-align: right;\n",
       "    }\n",
       "</style>\n",
       "<table border=\"1\" class=\"dataframe\">\n",
       "  <thead>\n",
       "    <tr style=\"text-align: right;\">\n",
       "      <th></th>\n",
       "      <th>title</th>\n",
       "      <th>publishedDate</th>\n",
       "      <th>author</th>\n",
       "      <th>summary</th>\n",
       "      <th>content</th>\n",
       "      <th>tags</th>\n",
       "    </tr>\n",
       "  </thead>\n",
       "  <tbody>\n",
       "    <tr>\n",
       "      <th>0</th>\n",
       "      <td>Classici: Milan-Barcellona ’94</td>\n",
       "      <td>Sat, 18 May 2024 06:57:35 +0000</td>\n",
       "      <td>Marco Gaetani</td>\n",
       "      <td>Una delle partite simbolo della scuola tattica italiana.</td>\n",
       "      <td>«Noi per rafforzarci abbiamo preso Romario, il Milan ha preso Desailly. Capite la differenza?»\\nJohan Cruijff, 17 maggio 1994\\n \\n«È uguale a Rijkaard, me lo ha garantito tutto lo staff tecnico», bofonchia un non convintissimo Silvio Berlusconi mentre a San Siro sta per iniziare il secondo tempo di un dimenticabilissimo Milan-Piacenza di Coppa Italia: finirà 1-1, gol di Alessandro Orlando per i rossoneri, infarciti di riserve e ragazzini, e Stefano Maccoppi per gli ospiti. È il 10 novembre 1993 e Berlusconi è scettico non tanto per l’acquisto che il suo Milan ha appena concluso, quanto per le modalità: si sente scavalcato da Adriano Galliani, che non lo ha messo al corrente dell’affare, e non c’è nulla che lo infastidisca più di sentirsi impotente. Mentre il Cavaliere è sugli spalti, infatti, il suo fidato dirigente non c’è. Leggenda vuole che proprio in quel momento sia in un ristorante insieme ad Ariedo Braida, in pieno centro, intento a far firmare a Marcel Desailly il contratto...</td>\n",
       "      <td>[Classici, Barcellona, champions league, milan]</td>\n",
       "    </tr>\n",
       "    <tr>\n",
       "      <th>1</th>\n",
       "      <td>Ma il Milan ha capito che tipo di allenatore vuole?</td>\n",
       "      <td>Fri, 17 May 2024 15:10:19 +0000</td>\n",
       "      <td>Emanuele Mongiardo</td>\n",
       "      <td>Perché le idee della dirigenza sul nuovo allenatore inquietano i tifosi del Milan.</td>\n",
       "      <td>Arrivati a due giornate dal termine della stagione, i tifosi del Milan non sanno ancora chi sarà il loro allenatore il prossimo anno. In teoria non ci sarebbe nulla di male, visto che il club rossonero è in buona compagnia. Due giganti come Barcellona e Bayern Monaco brancolano nel buio: fino a poche ora fa sembravano convinti di proseguire con i loro attuali tecnici, Xavi e Tuchel. Per Juventus e Liverpool, invece, le trattative con Motta e Slot sembrano più avviate, ma i colpi di scena, in situazioni del genere, non si possono certo escludere.\\n \\nNessuno dei grandi club citati finora , però, sembra trasmettere nel proprio pubblico l’inquietudine e la confusione che il Milan sta lasciando nella sua gente. È un momento di svolta per la società rossonera, perché dopo anni di sostegno incondizionato, per la prima volta i tifosi hanno fatto capire che la misura è colma. Contro il Genoa, domenica 5 maggio, la Curva Sud non solo è rimasta in silenzio, senza esporre i propri vessilli, m...</td>\n",
       "      <td>[Calcio, ac milan, antonio conte, gerry cardinale, julen lopetegui]</td>\n",
       "    </tr>\n",
       "    <tr>\n",
       "      <th>2</th>\n",
       "      <td>La differenza per il Chelsea si chiama Cole Palmer</td>\n",
       "      <td>Fri, 17 May 2024 12:43:47 +0000</td>\n",
       "      <td>Daniele Manusia</td>\n",
       "      <td>Il giovane talento arrivato dal City ha avuto una stagione d'esordio eccezionale.</td>\n",
       "      <td>Con quello segnato nella vittoria (2-1) contro il Brighton, Cole Palmer è arrivato a 22 gol in Premier League con la maglia del Chelsea; 27 stagionali, contando anche quelli segnati con la maglia del Manchester City prima che venisse ceduto. Insieme ai 10 assist in campionato, fanno 32 contributi diretti, quasi esattamente un terzo, nel totale dei gol realizzati dal Chelsea (102) in Premier League. Cole Palmer aveva già battuto il record di gol di Diego Costa (20) nella stagione 2016/17, adesso ha anche superato quello di gol+assist di Eden Hazard (31) nella stagione 2018/19. Poche settimane fa è stato premiato come giocatore dell’anno in due distinte categorie nella cerimonia annuale del Chelsea, una decisa dal voto dei tifosi e l’altra da quello dei giocatori della prima squadra; ed è candidato sia come miglior giocatore che come miglior giovane nei premi della Premier League.\\n \\nI numeri e i premi aggiungono concretezza a un’impressione in ogni caso piuttosto oggettiva, ovvero ...</td>\n",
       "      <td>[Calcio, chelsea, cole palmer]</td>\n",
       "    </tr>\n",
       "    <tr>\n",
       "      <th>3</th>\n",
       "      <td>Paolo Montero non è l’allenatore che vi immaginate</td>\n",
       "      <td>Fri, 17 May 2024 08:49:36 +0000</td>\n",
       "      <td>Angelo Andrea Pisani</td>\n",
       "      <td>Del tecnico uruguaiano si parla come possibile traghettatore in caso di esonero di Allegri.</td>\n",
       "      <td>Sin dal suo ritorno in bianconero, Paolo Montero è stato un pensiero fisso dei tifosi della Juventus. A volte sussurrato, a volte espresso, ma sempre presente. Le prime voci che lo volevano come traghettatore risalgono addirittura al settembre del 2022, poche settimane dopo il suo arrivo. Anche se poi non se ne fece nulla la suggestione è rimasta, messa in disparte ma comunque visibile: un totem conservato sotto vetro con la scritta “rompere nei momenti di difficoltà”. \\n \\nDopo che le voci di un possibile esonero di Allegri hanno iniziato a rimbalzare, il suo nome è tornato subito di moda, e oggi come allora l’impressione è che l’uruguaiano sia acclamato non tanto per l’allenatore che è, ma per quello che rappresenta per il mondo Juventus. Montero è visto e raccontato come il simbolo di un calcio conservatore, sulla scia dei buoni maestri della sua esperienza juventina, al riparo dalle contraddizioni della modernità. In molti vedono nell’allenatore la propagazione del giocatore ch...</td>\n",
       "      <td>[Calcio, juventus, paolo montero]</td>\n",
       "    </tr>\n",
       "    <tr>\n",
       "      <th>4</th>\n",
       "      <td>Tressoldi è davvero così scarso?</td>\n",
       "      <td>Fri, 17 May 2024 07:19:51 +0000</td>\n",
       "      <td>Dario Saltari</td>\n",
       "      <td>Il difensore del Sassuolo è diventato sinonimo di disastro.</td>\n",
       "      <td>Già con quel nome si era capito che non avrebbe avuto vita facile. Ruan Tressoldi Netto non poteva passare inosservato in un Paese così affezionato alla storpiatura dei nomi come forma di delegittimazione, in cui ha avuto successo lo slogan elettorale pdmenoelle, dove è stata sventolata una fetta di mortadella in Parlamento perché all’epoca il presidente del consiglio veniva chiamato – per l’appunto – “mortadella”. Insomma, Tressoldi è meno di quattro soldi, che è già sinonimo di scarso valore, e quel Netto come secondo cognome non lasciava adito a dubbi. Se fosse stato Lordo forse si sarebbe salvato, ma così proprio non potevamo esimerci dal prenderlo in giro. Siamo questi.\\n \\nPrima del suo approdo al Sassuolo su di lui non esistono molte informazioni. Nasce a Tramandaì, nello stato brasiliano del Rio Grande do Sul, cresce al Novo Hamburgo, ha un fratello gemello praticamente identico in tutto e per tutto che si chiama Ramon. Ramon Tressoldi Netto (scusate, dopotutto sono italian...</td>\n",
       "      <td>[Calcio, ruan tressoldi, sassuolo]</td>\n",
       "    </tr>\n",
       "    <tr>\n",
       "      <th>5</th>\n",
       "      <td>Il pregio di Vlahovic è anche il suo difetto più grande</td>\n",
       "      <td>Thu, 16 May 2024 14:56:20 +0000</td>\n",
       "      <td>Emanuele Atturo</td>\n",
       "      <td>La partita contro l'Atalanta ci mostra il lato luminoso del suo talento.</td>\n",
       "      <td>Vlahovic col megafono in mano, capo-ultrà: «Se vittoria sarà, la curva sud canterà». È questa l’immagine che chiude e incornicia la finale di Coppa Italia: una partita in cui Dusan Vlahovic è stato l’uomo vittoria e il miglior giocatore in campo. Una partita dopo la quale, finalmente, ha potuto vestire i panni del leader carismatico senza apparire ridicolo. Una partita in cui il suo desiderio di essere il centro emotivo della Juventus, un uomo squadra, è stato all’altezza del palcoscenico e della prestazione. Vlahovic sostituito a dieci minuti dalla fine esce dal campo incitando il settore della Juventus alzando le braccia una volta, due volte, tre volte e appena prima di uscire un’ultima volta. Vlahovic che dopo il gol del 2-0, poi annullato, aveva mimato di avere degli attributi così pesanti da toccare terra. Tutto questo, per una volta, senza rischiare di risultare eccessivo, patetico.\\n \\n\\n#Vlahovic\\n“SE VITTORIA SARÀ\\nLA CURVA SUD CANTERÀ”\\npic.twitter.com/s65f9rdgB0\\n— (@and...</td>\n",
       "      <td>[Calcio, Coppa Italia, dusan vlahovic, juventus]</td>\n",
       "    </tr>\n",
       "    <tr>\n",
       "      <th>6</th>\n",
       "      <td>Aurelio De Laurentiis e la napoletanità</td>\n",
       "      <td>Thu, 16 May 2024 12:30:32 +0000</td>\n",
       "      <td>Gianni Montieri</td>\n",
       "      <td>Un rapporto complicato.</td>\n",
       "      <td>Chi ci ricorda? Così recita il titolo di una nota rubrica della Settimana Enigmistica, ecco, io per anni, ogni volta che ho provato a ragionare sul Presidente del Napoli, Aurelio De Laurentiis mi domandavo, come se mi trovassi davanti lo storico settimanale, chi mi ricorda? Ero sicuro che il suo atteggiamento – alcune sfumature bizzarre del carattere, i suoi eccessi, sia rispetto alle decisioni da prendere, sia quelli lessicali – mi dovesse far saltare fuori dal cassetto della memoria qualcuno, ma chi?\\n \\n___STEADY_PAYWALL___\\n \\nPoi l’anno scorso, ovvero nel periodo più tranquillo di ADL, quello in cui ha parlato di meno, coincidente non a caso con lo scudetto, si sono aperti i cassetti e sono emerse due figure a me familiari, due persone che non ci sono più, che devo raccontare un minimo perché i fatti sono solo fatti, la narrativa ci aiuta a disporli in modo che siano raccontabili e credibili. De Laurentiis è più vicino alla letteratura che alla realtà, d’altra parte nulla spie...</td>\n",
       "      <td>[Per abbonati, aurelio de laurentiis, napoli]</td>\n",
       "    </tr>\n",
       "    <tr>\n",
       "      <th>7</th>\n",
       "      <td>La Juventus vince, alla fine</td>\n",
       "      <td>Thu, 16 May 2024 10:11:19 +0000</td>\n",
       "      <td>Marco D'Ottavi</td>\n",
       "      <td>La squadra di Gasperini non è riuscita a scardinare la Juventus.</td>\n",
       "      <td>Dopo la partita, dopo i confetti, dopo la Coppa e la medaglia, Allegri e il suo staff si sono seduti sui cartelloni pubblicitari dell’Olimpico, lo sguardo sognante rivolto alla curva occupata dai tifosi bianconeri. C’è un senso di fine nei loro gesti, ma una fine serena, di chi in una serata perfetta ha sovvertito un destino avverso, una storia che pareva già scritta. Già, perché a discapito della storia, del DNA, dell’abitudine, forse mai come prima in Italia la Juventus sembrava la vittima sacrificale di turno, il simulacro da sacrificare sull’altare dell’Atalanta di Gasperini, quest’esperienza collettiva a cui mancava solo un trofeo per legittimarsi.\\n \\n\\nMan.. This Allegri silent Farwell moment pic.twitter.com/XxTvuR630e\\n— Manar (@Manora23) May 15, 2024\\n\\nAl fischio d’inizio in un Olimpico gonfio di tifosi e degli acuti di Al Bano, si arrivava infatti con una Juventus capace di vincere solo 3 delle ultime 17 partite, mostrando un calcio spesso spento e in balia degli eventi;...</td>\n",
       "      <td>[Calcio, atalanta, Coppa Italia, juventus]</td>\n",
       "    </tr>\n",
       "    <tr>\n",
       "      <th>8</th>\n",
       "      <td>Volevo far arrivare qualcosa alla gente, intervista a Javier Pastore</td>\n",
       "      <td>Thu, 16 May 2024 07:44:25 +0000</td>\n",
       "      <td>Andrea Lamperti</td>\n",
       "      <td>Con il \"Flaco\" abbiamo parlato di passato, futuro e serenità.</td>\n",
       "      <td>Javier Pastore non gioca una partita da più di un anno. Era il 9 maggio del 2023 e “el Flaco” scendeva in campo per 45 minuti con la maglia del Qatar SC, in un dimenticabile e dimenticato 0-0 contro l’Umm Salal. Nonostante gli ultimi anni di decadenza, contraddistinti più da parole malinconiche e infortuni, Pastore però non si è ancora ufficialmente ritirato. Soprattutto, continua ad esercitare su di noi un fascino malinconico, la nostalgia per un mondo perduto.\\n \\nHo conosciuto “el Flaco” circa un mese fa durante l’inaugurazione del nuovo centro sportivo del Palermo, a cui io ero stato invitato come giornalista, e lui come leggenda del club. Per una serie di coincidenze sono riuscito a rincontrarlo qualche giorno fa a Milano. Questa è la trascrizione della chiacchierata sulla sua carriera che ci siamo fatti.\\n \\nL’anca come va?\\nAdesso va bene, sto bene. Mi sono operato, ho messo una protesi all’anca sinistra e mi ha cambiato completamente la vita: non ce la facevo più ad alzarmi...</td>\n",
       "      <td>[Calcio, javier pastore, palermo, psg, roma]</td>\n",
       "    </tr>\n",
       "    <tr>\n",
       "      <th>9</th>\n",
       "      <td>Non è Gobert, è che contro questo Jokic non puoi farci nulla</td>\n",
       "      <td>Wed, 15 May 2024 12:09:02 +0000</td>\n",
       "      <td>Marco D'Ottavi</td>\n",
       "      <td>Contro Minnesota una prestazione irreale del serbo.</td>\n",
       "      <td>Rudy Gobert è alto 216 centimetri; quando apre le braccia il medio della mano destra e sinistra sono distanti 235 centimetri. Quando alza il braccio arriva oltre i 290 centimetri, cioè, senza saltare o usare scale, potrebbe attaccare un adesivo al tabellone. A questo pacchetto, che già sarebbe spaventoso di per sé, parlando di basket ma non solo, unisce una buona mobilità e soprattutto un grande tempismo quando si tratta di proteggere il ferro. \\n \\nPochi giorni fa ha vinto per la quarta volta il DPOY, il premio di difensore dell’anno della NBA, raggiungendo Dikembe Mutombo e Ben Wallace in cima alla lista di chi ne ha vinti di più. È e rimarrà un giocatore divisivo, per i limiti in attacco e per una certa antipatia francese che si porta dietro, ma nessuno può mettere in dubbio che, quando si parla di difesa, è già oggi uno dei migliori di sempre in questo gioco. \\n \\nIeri, ahilui, gli toccava marcare Nikola Jokic. Senza dilungarmi: il miglior giocatore di basket al mondo in questo...</td>\n",
       "      <td>[NBA, gobert, jokic, playoff nba]</td>\n",
       "    </tr>\n",
       "  </tbody>\n",
       "</table>\n",
       "</div>"
      ],
      "text/plain": [
       "                                                                  title  \\\n",
       "0                                        Classici: Milan-Barcellona ’94   \n",
       "1                   Ma il Milan ha capito che tipo di allenatore vuole?   \n",
       "2                    La differenza per il Chelsea si chiama Cole Palmer   \n",
       "3                    Paolo Montero non è l’allenatore che vi immaginate   \n",
       "4                                      Tressoldi è davvero così scarso?   \n",
       "5               Il pregio di Vlahovic è anche il suo difetto più grande   \n",
       "6                               Aurelio De Laurentiis e la napoletanità   \n",
       "7                                          La Juventus vince, alla fine   \n",
       "8  Volevo far arrivare qualcosa alla gente, intervista a Javier Pastore   \n",
       "9          Non è Gobert, è che contro questo Jokic non puoi farci nulla   \n",
       "\n",
       "                     publishedDate                author  \\\n",
       "0  Sat, 18 May 2024 06:57:35 +0000         Marco Gaetani   \n",
       "1  Fri, 17 May 2024 15:10:19 +0000    Emanuele Mongiardo   \n",
       "2  Fri, 17 May 2024 12:43:47 +0000       Daniele Manusia   \n",
       "3  Fri, 17 May 2024 08:49:36 +0000  Angelo Andrea Pisani   \n",
       "4  Fri, 17 May 2024 07:19:51 +0000         Dario Saltari   \n",
       "5  Thu, 16 May 2024 14:56:20 +0000       Emanuele Atturo   \n",
       "6  Thu, 16 May 2024 12:30:32 +0000       Gianni Montieri   \n",
       "7  Thu, 16 May 2024 10:11:19 +0000        Marco D'Ottavi   \n",
       "8  Thu, 16 May 2024 07:44:25 +0000       Andrea Lamperti   \n",
       "9  Wed, 15 May 2024 12:09:02 +0000        Marco D'Ottavi   \n",
       "\n",
       "                                                                                       summary  \\\n",
       "0                                     Una delle partite simbolo della scuola tattica italiana.   \n",
       "1           Perché le idee della dirigenza sul nuovo allenatore inquietano i tifosi del Milan.   \n",
       "2            Il giovane talento arrivato dal City ha avuto una stagione d'esordio eccezionale.   \n",
       "3  Del tecnico uruguaiano si parla come possibile traghettatore in caso di esonero di Allegri.   \n",
       "4                                  Il difensore del Sassuolo è diventato sinonimo di disastro.   \n",
       "5                     La partita contro l'Atalanta ci mostra il lato luminoso del suo talento.   \n",
       "6                                                                      Un rapporto complicato.   \n",
       "7                             La squadra di Gasperini non è riuscita a scardinare la Juventus.   \n",
       "8                                Con il \"Flaco\" abbiamo parlato di passato, futuro e serenità.   \n",
       "9                                          Contro Minnesota una prestazione irreale del serbo.   \n",
       "\n",
       "                                                                                                                                                                                                                                                                                                                                                                                                                                                                                                                                                                                                                                                                                                                                                                                                                                                                                                                                                                                                                                   content  \\\n",
       "0  «Noi per rafforzarci abbiamo preso Romario, il Milan ha preso Desailly. Capite la differenza?»\\nJohan Cruijff, 17 maggio 1994\\n \\n«È uguale a Rijkaard, me lo ha garantito tutto lo staff tecnico», bofonchia un non convintissimo Silvio Berlusconi mentre a San Siro sta per iniziare il secondo tempo di un dimenticabilissimo Milan-Piacenza di Coppa Italia: finirà 1-1, gol di Alessandro Orlando per i rossoneri, infarciti di riserve e ragazzini, e Stefano Maccoppi per gli ospiti. È il 10 novembre 1993 e Berlusconi è scettico non tanto per l’acquisto che il suo Milan ha appena concluso, quanto per le modalità: si sente scavalcato da Adriano Galliani, che non lo ha messo al corrente dell’affare, e non c’è nulla che lo infastidisca più di sentirsi impotente. Mentre il Cavaliere è sugli spalti, infatti, il suo fidato dirigente non c’è. Leggenda vuole che proprio in quel momento sia in un ristorante insieme ad Ariedo Braida, in pieno centro, intento a far firmare a Marcel Desailly il contratto...   \n",
       "1  Arrivati a due giornate dal termine della stagione, i tifosi del Milan non sanno ancora chi sarà il loro allenatore il prossimo anno. In teoria non ci sarebbe nulla di male, visto che il club rossonero è in buona compagnia. Due giganti come Barcellona e Bayern Monaco brancolano nel buio: fino a poche ora fa sembravano convinti di proseguire con i loro attuali tecnici, Xavi e Tuchel. Per Juventus e Liverpool, invece, le trattative con Motta e Slot sembrano più avviate, ma i colpi di scena, in situazioni del genere, non si possono certo escludere.\\n \\nNessuno dei grandi club citati finora , però, sembra trasmettere nel proprio pubblico l’inquietudine e la confusione che il Milan sta lasciando nella sua gente. È un momento di svolta per la società rossonera, perché dopo anni di sostegno incondizionato, per la prima volta i tifosi hanno fatto capire che la misura è colma. Contro il Genoa, domenica 5 maggio, la Curva Sud non solo è rimasta in silenzio, senza esporre i propri vessilli, m...   \n",
       "2  Con quello segnato nella vittoria (2-1) contro il Brighton, Cole Palmer è arrivato a 22 gol in Premier League con la maglia del Chelsea; 27 stagionali, contando anche quelli segnati con la maglia del Manchester City prima che venisse ceduto. Insieme ai 10 assist in campionato, fanno 32 contributi diretti, quasi esattamente un terzo, nel totale dei gol realizzati dal Chelsea (102) in Premier League. Cole Palmer aveva già battuto il record di gol di Diego Costa (20) nella stagione 2016/17, adesso ha anche superato quello di gol+assist di Eden Hazard (31) nella stagione 2018/19. Poche settimane fa è stato premiato come giocatore dell’anno in due distinte categorie nella cerimonia annuale del Chelsea, una decisa dal voto dei tifosi e l’altra da quello dei giocatori della prima squadra; ed è candidato sia come miglior giocatore che come miglior giovane nei premi della Premier League.\\n \\nI numeri e i premi aggiungono concretezza a un’impressione in ogni caso piuttosto oggettiva, ovvero ...   \n",
       "3  Sin dal suo ritorno in bianconero, Paolo Montero è stato un pensiero fisso dei tifosi della Juventus. A volte sussurrato, a volte espresso, ma sempre presente. Le prime voci che lo volevano come traghettatore risalgono addirittura al settembre del 2022, poche settimane dopo il suo arrivo. Anche se poi non se ne fece nulla la suggestione è rimasta, messa in disparte ma comunque visibile: un totem conservato sotto vetro con la scritta “rompere nei momenti di difficoltà”. \\n \\nDopo che le voci di un possibile esonero di Allegri hanno iniziato a rimbalzare, il suo nome è tornato subito di moda, e oggi come allora l’impressione è che l’uruguaiano sia acclamato non tanto per l’allenatore che è, ma per quello che rappresenta per il mondo Juventus. Montero è visto e raccontato come il simbolo di un calcio conservatore, sulla scia dei buoni maestri della sua esperienza juventina, al riparo dalle contraddizioni della modernità. In molti vedono nell’allenatore la propagazione del giocatore ch...   \n",
       "4  Già con quel nome si era capito che non avrebbe avuto vita facile. Ruan Tressoldi Netto non poteva passare inosservato in un Paese così affezionato alla storpiatura dei nomi come forma di delegittimazione, in cui ha avuto successo lo slogan elettorale pdmenoelle, dove è stata sventolata una fetta di mortadella in Parlamento perché all’epoca il presidente del consiglio veniva chiamato – per l’appunto – “mortadella”. Insomma, Tressoldi è meno di quattro soldi, che è già sinonimo di scarso valore, e quel Netto come secondo cognome non lasciava adito a dubbi. Se fosse stato Lordo forse si sarebbe salvato, ma così proprio non potevamo esimerci dal prenderlo in giro. Siamo questi.\\n \\nPrima del suo approdo al Sassuolo su di lui non esistono molte informazioni. Nasce a Tramandaì, nello stato brasiliano del Rio Grande do Sul, cresce al Novo Hamburgo, ha un fratello gemello praticamente identico in tutto e per tutto che si chiama Ramon. Ramon Tressoldi Netto (scusate, dopotutto sono italian...   \n",
       "5  Vlahovic col megafono in mano, capo-ultrà: «Se vittoria sarà, la curva sud canterà». È questa l’immagine che chiude e incornicia la finale di Coppa Italia: una partita in cui Dusan Vlahovic è stato l’uomo vittoria e il miglior giocatore in campo. Una partita dopo la quale, finalmente, ha potuto vestire i panni del leader carismatico senza apparire ridicolo. Una partita in cui il suo desiderio di essere il centro emotivo della Juventus, un uomo squadra, è stato all’altezza del palcoscenico e della prestazione. Vlahovic sostituito a dieci minuti dalla fine esce dal campo incitando il settore della Juventus alzando le braccia una volta, due volte, tre volte e appena prima di uscire un’ultima volta. Vlahovic che dopo il gol del 2-0, poi annullato, aveva mimato di avere degli attributi così pesanti da toccare terra. Tutto questo, per una volta, senza rischiare di risultare eccessivo, patetico.\\n \\n\\n#Vlahovic\\n“SE VITTORIA SARÀ\\nLA CURVA SUD CANTERÀ”\\npic.twitter.com/s65f9rdgB0\\n— (@and...   \n",
       "6  Chi ci ricorda? Così recita il titolo di una nota rubrica della Settimana Enigmistica, ecco, io per anni, ogni volta che ho provato a ragionare sul Presidente del Napoli, Aurelio De Laurentiis mi domandavo, come se mi trovassi davanti lo storico settimanale, chi mi ricorda? Ero sicuro che il suo atteggiamento – alcune sfumature bizzarre del carattere, i suoi eccessi, sia rispetto alle decisioni da prendere, sia quelli lessicali – mi dovesse far saltare fuori dal cassetto della memoria qualcuno, ma chi?\\n \\n___STEADY_PAYWALL___\\n \\nPoi l’anno scorso, ovvero nel periodo più tranquillo di ADL, quello in cui ha parlato di meno, coincidente non a caso con lo scudetto, si sono aperti i cassetti e sono emerse due figure a me familiari, due persone che non ci sono più, che devo raccontare un minimo perché i fatti sono solo fatti, la narrativa ci aiuta a disporli in modo che siano raccontabili e credibili. De Laurentiis è più vicino alla letteratura che alla realtà, d’altra parte nulla spie...   \n",
       "7  Dopo la partita, dopo i confetti, dopo la Coppa e la medaglia, Allegri e il suo staff si sono seduti sui cartelloni pubblicitari dell’Olimpico, lo sguardo sognante rivolto alla curva occupata dai tifosi bianconeri. C’è un senso di fine nei loro gesti, ma una fine serena, di chi in una serata perfetta ha sovvertito un destino avverso, una storia che pareva già scritta. Già, perché a discapito della storia, del DNA, dell’abitudine, forse mai come prima in Italia la Juventus sembrava la vittima sacrificale di turno, il simulacro da sacrificare sull’altare dell’Atalanta di Gasperini, quest’esperienza collettiva a cui mancava solo un trofeo per legittimarsi.\\n \\n\\nMan.. This Allegri silent Farwell moment pic.twitter.com/XxTvuR630e\\n— Manar (@Manora23) May 15, 2024\\n\\nAl fischio d’inizio in un Olimpico gonfio di tifosi e degli acuti di Al Bano, si arrivava infatti con una Juventus capace di vincere solo 3 delle ultime 17 partite, mostrando un calcio spesso spento e in balia degli eventi;...   \n",
       "8  Javier Pastore non gioca una partita da più di un anno. Era il 9 maggio del 2023 e “el Flaco” scendeva in campo per 45 minuti con la maglia del Qatar SC, in un dimenticabile e dimenticato 0-0 contro l’Umm Salal. Nonostante gli ultimi anni di decadenza, contraddistinti più da parole malinconiche e infortuni, Pastore però non si è ancora ufficialmente ritirato. Soprattutto, continua ad esercitare su di noi un fascino malinconico, la nostalgia per un mondo perduto.\\n \\nHo conosciuto “el Flaco” circa un mese fa durante l’inaugurazione del nuovo centro sportivo del Palermo, a cui io ero stato invitato come giornalista, e lui come leggenda del club. Per una serie di coincidenze sono riuscito a rincontrarlo qualche giorno fa a Milano. Questa è la trascrizione della chiacchierata sulla sua carriera che ci siamo fatti.\\n \\nL’anca come va?\\nAdesso va bene, sto bene. Mi sono operato, ho messo una protesi all’anca sinistra e mi ha cambiato completamente la vita: non ce la facevo più ad alzarmi...   \n",
       "9  Rudy Gobert è alto 216 centimetri; quando apre le braccia il medio della mano destra e sinistra sono distanti 235 centimetri. Quando alza il braccio arriva oltre i 290 centimetri, cioè, senza saltare o usare scale, potrebbe attaccare un adesivo al tabellone. A questo pacchetto, che già sarebbe spaventoso di per sé, parlando di basket ma non solo, unisce una buona mobilità e soprattutto un grande tempismo quando si tratta di proteggere il ferro. \\n \\nPochi giorni fa ha vinto per la quarta volta il DPOY, il premio di difensore dell’anno della NBA, raggiungendo Dikembe Mutombo e Ben Wallace in cima alla lista di chi ne ha vinti di più. È e rimarrà un giocatore divisivo, per i limiti in attacco e per una certa antipatia francese che si porta dietro, ma nessuno può mettere in dubbio che, quando si parla di difesa, è già oggi uno dei migliori di sempre in questo gioco. \\n \\nIeri, ahilui, gli toccava marcare Nikola Jokic. Senza dilungarmi: il miglior giocatore di basket al mondo in questo...   \n",
       "\n",
       "                                                                  tags  \n",
       "0                      [Classici, Barcellona, champions league, milan]  \n",
       "1  [Calcio, ac milan, antonio conte, gerry cardinale, julen lopetegui]  \n",
       "2                                       [Calcio, chelsea, cole palmer]  \n",
       "3                                    [Calcio, juventus, paolo montero]  \n",
       "4                                   [Calcio, ruan tressoldi, sassuolo]  \n",
       "5                     [Calcio, Coppa Italia, dusan vlahovic, juventus]  \n",
       "6                        [Per abbonati, aurelio de laurentiis, napoli]  \n",
       "7                           [Calcio, atalanta, Coppa Italia, juventus]  \n",
       "8                         [Calcio, javier pastore, palermo, psg, roma]  \n",
       "9                                    [NBA, gobert, jokic, playoff nba]  "
      ]
     },
     "execution_count": 62,
     "metadata": {},
     "output_type": "execute_result"
    }
   ],
   "source": [
    "#Metadata\n",
    "pd.set_option('display.max_columns', None)\n",
    "pd.set_option('display.max_rows', None)\n",
    "pd.set_option('display.max_colwidth', 1000)\n",
    "\n",
    "\n",
    "titles = []\n",
    "published_dates = []\n",
    "authors = []\n",
    "summaries = []\n",
    "tags = []\n",
    "contents = []\n",
    "\n",
    "for article in d.entries:\n",
    "    titles.append(article.title)\n",
    "    published_dates.append(article.published)\n",
    "    authors.append(article.author)\n",
    "    summaries.append(article.summary)\n",
    "    tags.append([tag['term'] for tag in article.tags])\n",
    "    contents.append(BeautifulSoup(article.content[0].value, 'html.parser').get_text())\n",
    "\n",
    "articles_df = pd.DataFrame({\n",
    "    'title': titles,\n",
    "    'publishedDate': published_dates,\n",
    "    'author': authors,\n",
    "    'summary': summaries,\n",
    "    'content': contents,\n",
    "    'tags': tags\n",
    "})\n",
    "\n",
    "articles_df\n"
   ]
  }
 ],
 "metadata": {
  "kernelspec": {
   "display_name": "fantacalcio",
   "language": "python",
   "name": "python3"
  },
  "language_info": {
   "codemirror_mode": {
    "name": "ipython",
    "version": 3
   },
   "file_extension": ".py",
   "mimetype": "text/x-python",
   "name": "python",
   "nbconvert_exporter": "python",
   "pygments_lexer": "ipython3",
   "version": "3.11.9"
  }
 },
 "nbformat": 4,
 "nbformat_minor": 2
}
