{
 "cells": [
  {
   "cell_type": "markdown",
   "metadata": {},
   "source": [
    "# Library FeedParser\n",
    "\n",
    "https://github.com/kurtmckee/feedparser/tree/master\n",
    "\n",
    "https://feedparser.readthedocs.io/en/latest/introduction.html"
   ]
  },
  {
   "cell_type": "code",
   "execution_count": 44,
   "metadata": {},
   "outputs": [],
   "source": [
    "import feedparser\n",
    "from bs4 import BeautifulSoup"
   ]
  },
  {
   "cell_type": "markdown",
   "metadata": {},
   "source": [
    "## Test L'ultimo Uomo"
   ]
  },
  {
   "cell_type": "code",
   "execution_count": 45,
   "metadata": {},
   "outputs": [
    {
     "data": {
      "text/plain": [
       "\"L'Ultimo Uomo\""
      ]
     },
     "execution_count": 45,
     "metadata": {},
     "output_type": "execute_result"
    }
   ],
   "source": [
    "d = feedparser.parse('https://www.ultimouomo.com/feed/')\n",
    "d['feed']['title']"
   ]
  },
  {
   "cell_type": "code",
   "execution_count": 22,
   "metadata": {},
   "outputs": [
    {
     "data": {
      "text/plain": [
       "{'title': \"L'Ultimo Uomo\",\n",
       " 'title_detail': {'type': 'text/plain',\n",
       "  'language': None,\n",
       "  'base': 'https://www.ultimouomo.com/feed/',\n",
       "  'value': \"L'Ultimo Uomo\"},\n",
       " 'links': [{'href': 'https://www.ultimouomo.com/feed/',\n",
       "   'rel': 'self',\n",
       "   'type': 'application/rss+xml'},\n",
       "  {'rel': 'alternate',\n",
       "   'type': 'text/html',\n",
       "   'href': 'https://www.ultimouomo.com'}],\n",
       " 'link': 'https://www.ultimouomo.com',\n",
       " 'subtitle': 'Sport & Cultura',\n",
       " 'subtitle_detail': {'type': 'text/html',\n",
       "  'language': None,\n",
       "  'base': 'https://www.ultimouomo.com/feed/',\n",
       "  'value': 'Sport & Cultura'},\n",
       " 'updated': 'Thu, 16 May 2024 15:17:09 +0000',\n",
       " 'updated_parsed': time.struct_time(tm_year=2024, tm_mon=5, tm_mday=16, tm_hour=15, tm_min=17, tm_sec=9, tm_wday=3, tm_yday=137, tm_isdst=0),\n",
       " 'language': 'it-IT',\n",
       " 'sy_updateperiod': 'hourly',\n",
       " 'sy_updatefrequency': '1',\n",
       " 'generator_detail': {'name': 'https://wordpress.org/?v=4.9.8'},\n",
       " 'generator': 'https://wordpress.org/?v=4.9.8'}"
      ]
     },
     "execution_count": 22,
     "metadata": {},
     "output_type": "execute_result"
    }
   ],
   "source": [
    "d.feed"
   ]
  },
  {
   "cell_type": "code",
   "execution_count": 23,
   "metadata": {},
   "outputs": [
    {
     "data": {
      "text/plain": [
       "\"L'Ultimo Uomo\""
      ]
     },
     "execution_count": 23,
     "metadata": {},
     "output_type": "execute_result"
    }
   ],
   "source": [
    "d.feed.title\n"
   ]
  },
  {
   "cell_type": "markdown",
   "metadata": {},
   "source": [
    "### Article"
   ]
  },
  {
   "cell_type": "code",
   "execution_count": 24,
   "metadata": {},
   "outputs": [
    {
     "data": {
      "text/plain": [
       "{'title': 'Il pregio di Vlahovic è anche il suo difetto più grande',\n",
       " 'title_detail': {'type': 'text/plain',\n",
       "  'language': None,\n",
       "  'base': 'https://www.ultimouomo.com/feed/',\n",
       "  'value': 'Il pregio di Vlahovic è anche il suo difetto più grande'},\n",
       " 'links': [{'rel': 'alternate',\n",
       "   'type': 'text/html',\n",
       "   'href': 'https://www.ultimouomo.com/pregio-di-vlahovic-analisi-prestazione-contro-atalanta-vittoria-juventus-0-1/'}],\n",
       " 'link': 'https://www.ultimouomo.com/pregio-di-vlahovic-analisi-prestazione-contro-atalanta-vittoria-juventus-0-1/',\n",
       " 'published': 'Thu, 16 May 2024 14:56:20 +0000',\n",
       " 'published_parsed': time.struct_time(tm_year=2024, tm_mon=5, tm_mday=16, tm_hour=14, tm_min=56, tm_sec=20, tm_wday=3, tm_yday=137, tm_isdst=0),\n",
       " 'authors': [{'name': 'Emanuele Atturo'}],\n",
       " 'author': 'Emanuele Atturo',\n",
       " 'author_detail': {'name': 'Emanuele Atturo'},\n",
       " 'tags': [{'term': 'Calcio', 'scheme': None, 'label': None},\n",
       "  {'term': 'Coppa Italia', 'scheme': None, 'label': None},\n",
       "  {'term': 'dusan vlahovic', 'scheme': None, 'label': None},\n",
       "  {'term': 'juventus', 'scheme': None, 'label': None}],\n",
       " 'id': 'https://www.ultimouomo.com/?p=103102',\n",
       " 'guidislink': False,\n",
       " 'summary': \"La partita contro l'Atalanta ci mostra il lato luminoso del suo talento.\",\n",
       " 'summary_detail': {'type': 'text/html',\n",
       "  'language': None,\n",
       "  'base': 'https://www.ultimouomo.com/feed/',\n",
       "  'value': \"La partita contro l'Atalanta ci mostra il lato luminoso del suo talento.\"},\n",
       " 'content': [{'type': 'text/html',\n",
       "   'language': None,\n",
       "   'base': 'https://www.ultimouomo.com/feed/',\n",
       "   'value': '<p class=\"p1\">Vlahovic col megafono in mano, capo-ultrà: «Se vittoria sarà, la curva sud canterà». È questa l’immagine che chiude e incornicia la finale di Coppa Italia: una partita in cui Dusan Vlahovic è stato l’uomo vittoria e il miglior giocatore in campo. Una partita dopo la quale, finalmente, ha potuto vestire i panni del leader carismatico senza apparire ridicolo. Una partita in cui il suo desiderio di essere il centro emotivo della Juventus, un <i>uomo squadra</i>, è stato all’altezza del palcoscenico e della prestazione. Vlahovic sostituito a dieci minuti dalla fine esce dal campo incitando il settore della Juventus alzando le braccia una volta, due volte, tre volte e appena prima di uscire un’ultima volta. Vlahovic che dopo il gol del 2-0, poi annullato, aveva mimato di avere degli attributi così pesanti da toccare terra. Tutto questo, per una volta, senza rischiare di risultare eccessivo, patetico.</p>\\n<p>&nbsp;</p>\\n<blockquote class=\"twitter-tweet\">\\n<p dir=\"ltr\" lang=\"it\"><a href=\"https://twitter.com/hashtag/Vlahovic?src=hash&amp;ref_src=twsrc%5Etfw\">#Vlahovic</a><br />\\n“SE VITTORIA SARÀ<br />\\nLA CURVA SUD CANTERÀ”</p>\\n<p><a href=\"https://t.co/s65f9rdgB0\">pic.twitter.com/s65f9rdgB0</a></p>\\n<p>— (@andarsofian) <a href=\"https://twitter.com/andarsofian/status/1790900732327293259?ref_src=twsrc%5Etfw\">May 16, 2024</a></p></blockquote>\\n<p></p>\\n<p>&nbsp;</p>\\n<p class=\"p1\">Questi momenti non sono superflui o decorativi: raccontano l’atteggiamento ultra-emotivo con cui Vlahovic vive le partite di calcio. Una dimensione che non è avulsa da quella tecnica e che invece influisce sul suo stile di gioco e la sua efficacia. Per dirla in modo semplice: Vlahovic ha bisogno di essere in fiducia per giocare bene; sentirsi responsabilizzato e in grado di accogliere questa responsabilità. La partita di ieri contro l’Atalanta, se non la migliore di certo la più iconica, racconta soprattutto questo.</p>\\n<p>&nbsp;</p>\\n<p class=\"p1\">Vlahovic segna dopo cinque minuti. Una bella dinamica in uscita della Juventus, la palla che arriva a Cambiaso che dopo il controllo di petto al volo, col sinistro, lancia in profondità Vlahovic. La difesa dell’Atalanta è sorpresa dalla rapidità dei fatti. Hien, che deve marcare Vlahovic, avanza per mettere in fuorigioco l’attaccante ma non si rende conto che Djimsiti è rimasto fermo. A quel punto è troppo tardi. Il centrale svedese prova a recuperare Vlahovic con quella foga che è la sua cifra stilistica: cerca di tamponarlo, smanacciarlo, ostacolarlo in tutti i modi; non può fermarlo ma può almeno provare a mandarlo fuori equilibrio. Vlahovic però resiste con l’arte manesca dei centravanti: tenendo lontano il difensore col braccio, mettendogli le cosce davanti, tagliandogli la corsa per proteggere il pallone. Hien riesce al massimo a portarlo sul piede debole, il destro, ma Vlahovic apre il piatto sul primo palo e segna.</p>\\n<p>&nbsp;</p>\\n<p class=\"p1\">È un bellissimo gol che poi si rivelerà decisivo: non solo per il risultato ma anche per sbloccare mentalmente Vlahovic. Aver segnato così presto, come gli è già successo in passato, lo fa sentire in una bolla di sicurezza e onnipotenza. Se Vlahovic segna subito, si toglie quel peso di dosso, sente di poter fare tutto. Inizia una prestazione sontuosa, che ha profonde ripercussioni sull’equilibrio del match. È una partita ruvida e di duelli. La Juventus gioca sostanzialmente nella propria metà campo e Vlahovic è chiamato a quel lavoro improbo di lotta e difesa del pallone. Diventa il corpo su cui spedire lanci scottanti, e a cui si chiede di guadagnare più tempo e spazio possibile. Far rifiatare la squadra dall’assedio, portarla qualche metro in avanti, fuori dall’assedio militare. Un tipo di lavoro difficilissimo per ogni centravanti, e che ieri era ancora più estremo del solito, vista la pressione territoriale esercitata dall’Atalanta.</p>\\n<p>&nbsp;</p>\\n<p class=\"p1\">Eppure, proprio nel contesto più difficile, Vlahovic ha svolto questo lavoro egregiamente, persino esaltato dalle dinamiche di gioco più difficili: più era contorto proteggere palla, vincere il duello, risalire il campo, più Vlahovic ci riusciva.</p>\\n<p>&nbsp;</p>\\n<p class=\"p1\">A inizio secondo tempo ha sbagliato giusto di pochi centimetri un lancio in profondità per Chiesa, dopo uno strappo di grande classe con la pressione di due uomini addosso.</p>\\n<p></p>\\n<p>&nbsp;</p>\\n<p class=\"p1\">Poco dopo il fatto più contestato della partita, che nasce da un suo strappo palla al piede in cui mette in mostra la sua velocità, ma anche la determinazione con cui l’ha sfoderata ieri sera. All’ingresso del limite dell’area, in transizione, non si è appoggiato pigramente sulla qualità del suo sinistro ma ha dribblato Hien verso l’interno, superandolo in velocità. Poi quello commette fallo da rigore sia con le mani che con i piedi. La stessa determinazione che si è vista dieci minuti dopo quando, in contropiede, ha mandato a spasso Miranchuk con un primo controllo inatteso sterzando verso il destro.</p>\\n<p>&nbsp;</p>\\n<p class=\"p1\">Hien è un osso duro: un centrale che sembra nato per giocare nella difesa a tre di Gasperini. Uscire a razzo sulle punte avversarie e bullizzarle con un atletismo intimidatorio. Usare spinte con mani e spalle per mettere pressione fisica e mentale agli attaccanti. Pochi giorni fa ha cancellato dal campo Romelu Lukaku. Ieri con Vlahovic però ha faticato. Il serbo era troppo più brillante di lui nel prendere posizione, proteggere palla e soprattutto usi primi passi.</p>\\n<p>&nbsp;</p>\\n<p class=\"p1\">Quando è stato possibile ha giocato di prima, rubando un tempo di gioco ma mai in modo frettoloso. Qui per esempio apre il gioco per Chiesa con una precisione tale che con un buon controllo l’esterno avrebbe potuto anche andare in porta.</p>\\n<p></p>\\n<p>&nbsp;</p>\\n<p class=\"p1\">Vlahovic ha saputo giocare anche sponde di prima delicate che hanno messo in mostra la sensibilità del suo piede sinistro.</p>\\n<p></p>\\n<p>&nbsp;</p>\\n<p class=\"p1\">O persino la sensibilità del suo petto: la parte del corpo con cui solo i centravanti puri indirizzano il pallone.</p>\\n<p></p>\\n<p>&nbsp;</p>\\n<p>Con ogni palla transitata in area di rigore, Vlahovic dava l&#8217;impressione di poter fare gol. Aveva trovato anche il 2-0, pur toccando poco la palla, pur partendo da posizione lievemente irregolare.</p>\\n<p>&nbsp;</p>\\n<p class=\"p1\">Si è spesso parlato di Vlahovic come un attaccante inadatto al gioco di Allegri, parlando delle sue difficoltà tecniche spalle alla porta. Difficoltà nell’uso del corpo o nella precisione tecnica negli stop e nelle sponde. I fondamentali di un numero nove. Come si può abbinare questo quadretto di Vlahovic con una partita come quella di ieri?</p>\\n<p>&nbsp;</p>\\n<p class=\"p1\">Effettivamente ci sono partite in cui niente di tutto questo funziona, per Vlahovic. Partite in cui questo sforzo titanico non gli riesce e anzi, non gli riescono nemmeno le cose più semplici. Il suo corpo diventa vulnerabile, il suo sinistro stranamente impreciso. Più è facile il controllo o la sponda, e più per paradosso Vlahovic diventa impreciso.</p>\\n<p>&nbsp;</p>\\n<p class=\"p1\">Di solito queste giornate capitano quando qualcosa gli va storto nei primi minuti: sbaglia un’occasione, perde un paio di duelli, sbava un cambio di gioco e poi una sponda. Se non sente che le cose possono andargli bene, non riesce a invertire la dinamica mentale della situazione. Si innervosisce, perde il controllo e inizia a giocare come per dover dimostrare qualcosa. È una caratteristica di Vlahovic che è oggi forse il suo più grande limite.</p>\\n<p>&nbsp;</p>\\n<p class=\"p1\">Il lavoro del centravanti richiede innanzitutto freddezza emotiva. Come ha detto Guardiola parlando di Haaland: è il ruolo più difficile di tutti. Al numero 9 si chiede sempre di giocare con uno o più uomini addosso, ripulire palloni sporchi, con poco tempo e poco spazio. Deve farsi strada contro i giocatori più fisici della squadra avversaria. Spesso gli si chiede di essere solamente, di fatto, un corpo bruto che distrae altri corpi bruti, che apre spazi per i compagni.</p>\\n<p>&nbsp;</p>\\n<p class=\"p1\">Per riuscire in questo lavoro bisogna avere certe qualità mentali.</p>\\n<p>&nbsp;</p>\\n<p class=\"p1\">Quando una partita si mette male e gli avversari attaccano, i centravanti toccano pochi palloni. I centravanti della Juventus toccano pochissimi palloni. E allora bisogna mantenere la mente lucida: non innervosirsi e mantenere una calma e una concentrazione zen quando la palla arriva. Gestire sapientemente la propria intensità mentale. Assecondare l’istinto, ma anche la razionalità; usare il corpo, ma saper leggere meglio degli altri lo spazio. Accettare di restare alla periferia dell’azione, ma senza assentarsi. Restare in disparte, ma vigili. Accettare di perdere un duello, e poi un altro, e poi un altro, in attesa che l’inerzia cambi, che un’occasione buona arrivi e poi, in quel momento, non sbagliare.</p>\\n<p>&nbsp;</p>\\n<p class=\"p1\">Come <a href=\"https://www.ultimouomo.com/romario-lillusionista/\" rel=\"noopener\" target=\"_blank\"><span class=\"s1\">scriveva</span></a> Matteo Gatto in un vecchio pezzo su Romario, l’area di rigore è il territorio inviolabile, e quindi frenetico, del campo da gioco: &#8220;È difficile essere in area di rigore, è difficile essere vicini alla porta: in molti, là davanti, hanno perso la lucidità, la precisione, la fiducia. Solo alcuni eletti, nella storia del calcio, hanno saputo giocare in area rimanendo interamente se stessi&#8221;. Vlahovic ha grandi qualità tecniche e quando sbaglia è soprattutto perché perde la lucidità: diventa frettoloso e insicuro.</p>\\n<p>&nbsp;</p>\\n<p class=\"p1\">Il rovescio luminoso di questa medaglia è che, appunto, quando le cose girano bene e Vlahovic entra in fiducia, allora tutto gli riesce, come è successo ieri sera. Gioca con la leggerezza precisa di chi si è tolto un grosso peso di dosso. È anche questo il bello estetico dell’esperienza di Vlahovic: vederlo così in conflitto con sé stesso, combattere contro i difensori ma anche contro le asperità di un ruolo ingrato, che la sua squadra negli ultimi anni gli ha reso ancora più ingrato.</p>\\n<p>&nbsp;</p>\\n<p class=\"p1\">Chissà se Dusan Vlahovic ha imparato qualcosa, da questi due o tre anni di disciplinamento militare; chissà se diventerà mai un centravanti freddo e in grado di controllare le proprie emozioni e quindi le proprie prestazioni. Alla fine ha ancora 24 anni.</p>\\n<p>&nbsp;</p>'}]}"
      ]
     },
     "execution_count": 24,
     "metadata": {},
     "output_type": "execute_result"
    }
   ],
   "source": [
    "d.entries[0]"
   ]
  },
  {
   "cell_type": "code",
   "execution_count": 27,
   "metadata": {},
   "outputs": [
    {
     "data": {
      "text/plain": [
       "'Il pregio di Vlahovic è anche il suo difetto più grande'"
      ]
     },
     "execution_count": 27,
     "metadata": {},
     "output_type": "execute_result"
    }
   ],
   "source": [
    "# Title\n",
    "d.entries[0].title"
   ]
  },
  {
   "cell_type": "code",
   "execution_count": 37,
   "metadata": {},
   "outputs": [
    {
     "name": "stdout",
     "output_type": "stream",
     "text": [
      "Calcio\n",
      "Coppa Italia\n",
      "dusan vlahovic\n",
      "juventus\n"
     ]
    }
   ],
   "source": [
    "# Tags\n",
    "tags = d.entries[0].tags\n",
    "for tag in tags:\n",
    "    print(tag['term'])"
   ]
  },
  {
   "cell_type": "code",
   "execution_count": 39,
   "metadata": {},
   "outputs": [
    {
     "data": {
      "text/plain": [
       "'Thu, 16 May 2024 14:56:20 +0000'"
      ]
     },
     "execution_count": 39,
     "metadata": {},
     "output_type": "execute_result"
    }
   ],
   "source": [
    "# published Data\n",
    "d.entries[0].published"
   ]
  },
  {
   "cell_type": "code",
   "execution_count": 46,
   "metadata": {},
   "outputs": [
    {
     "data": {
      "text/plain": [
       "'<p class=\"p1\">Vlahovic col megafono in mano, capo-ultrà: «Se vittoria sarà, la curva sud canterà». È questa l’immagine che chiude e incornicia la finale di Coppa Italia: una partita in cui Dusan Vlahovic è stato l’uomo vittoria e il miglior giocatore in campo. Una partita dopo la quale, finalmente, ha potuto vestire i panni del leader carismatico senza apparire ridicolo. Una partita in cui il suo desiderio di essere il centro emotivo della Juventus, un <i>uomo squadra</i>, è stato all’altezza del palcoscenico e della prestazione. Vlahovic sostituito a dieci minuti dalla fine esce dal campo incitando il settore della Juventus alzando le braccia una volta, due volte, tre volte e appena prima di uscire un’ultima volta. Vlahovic che dopo il gol del 2-0, poi annullato, aveva mimato di avere degli attributi così pesanti da toccare terra. Tutto questo, per una volta, senza rischiare di risultare eccessivo, patetico.</p>\\n<p>&nbsp;</p>\\n<blockquote class=\"twitter-tweet\">\\n<p dir=\"ltr\" lang=\"it\"><a href=\"https://twitter.com/hashtag/Vlahovic?src=hash&amp;ref_src=twsrc%5Etfw\">#Vlahovic</a><br />\\n“SE VITTORIA SARÀ<br />\\nLA CURVA SUD CANTERÀ”</p>\\n<p><a href=\"https://t.co/s65f9rdgB0\">pic.twitter.com/s65f9rdgB0</a></p>\\n<p>— (@andarsofian) <a href=\"https://twitter.com/andarsofian/status/1790900732327293259?ref_src=twsrc%5Etfw\">May 16, 2024</a></p></blockquote>\\n<p></p>\\n<p>&nbsp;</p>\\n<p class=\"p1\">Questi momenti non sono superflui o decorativi: raccontano l’atteggiamento ultra-emotivo con cui Vlahovic vive le partite di calcio. Una dimensione che non è avulsa da quella tecnica e che invece influisce sul suo stile di gioco e la sua efficacia. Per dirla in modo semplice: Vlahovic ha bisogno di essere in fiducia per giocare bene; sentirsi responsabilizzato e in grado di accogliere questa responsabilità. La partita di ieri contro l’Atalanta, se non la migliore di certo la più iconica, racconta soprattutto questo.</p>\\n<p>&nbsp;</p>\\n<p class=\"p1\">Vlahovic segna dopo cinque minuti. Una bella dinamica in uscita della Juventus, la palla che arriva a Cambiaso che dopo il controllo di petto al volo, col sinistro, lancia in profondità Vlahovic. La difesa dell’Atalanta è sorpresa dalla rapidità dei fatti. Hien, che deve marcare Vlahovic, avanza per mettere in fuorigioco l’attaccante ma non si rende conto che Djimsiti è rimasto fermo. A quel punto è troppo tardi. Il centrale svedese prova a recuperare Vlahovic con quella foga che è la sua cifra stilistica: cerca di tamponarlo, smanacciarlo, ostacolarlo in tutti i modi; non può fermarlo ma può almeno provare a mandarlo fuori equilibrio. Vlahovic però resiste con l’arte manesca dei centravanti: tenendo lontano il difensore col braccio, mettendogli le cosce davanti, tagliandogli la corsa per proteggere il pallone. Hien riesce al massimo a portarlo sul piede debole, il destro, ma Vlahovic apre il piatto sul primo palo e segna.</p>\\n<p>&nbsp;</p>\\n<p class=\"p1\">È un bellissimo gol che poi si rivelerà decisivo: non solo per il risultato ma anche per sbloccare mentalmente Vlahovic. Aver segnato così presto, come gli è già successo in passato, lo fa sentire in una bolla di sicurezza e onnipotenza. Se Vlahovic segna subito, si toglie quel peso di dosso, sente di poter fare tutto. Inizia una prestazione sontuosa, che ha profonde ripercussioni sull’equilibrio del match. È una partita ruvida e di duelli. La Juventus gioca sostanzialmente nella propria metà campo e Vlahovic è chiamato a quel lavoro improbo di lotta e difesa del pallone. Diventa il corpo su cui spedire lanci scottanti, e a cui si chiede di guadagnare più tempo e spazio possibile. Far rifiatare la squadra dall’assedio, portarla qualche metro in avanti, fuori dall’assedio militare. Un tipo di lavoro difficilissimo per ogni centravanti, e che ieri era ancora più estremo del solito, vista la pressione territoriale esercitata dall’Atalanta.</p>\\n<p>&nbsp;</p>\\n<p class=\"p1\">Eppure, proprio nel contesto più difficile, Vlahovic ha svolto questo lavoro egregiamente, persino esaltato dalle dinamiche di gioco più difficili: più era contorto proteggere palla, vincere il duello, risalire il campo, più Vlahovic ci riusciva.</p>\\n<p>&nbsp;</p>\\n<p class=\"p1\">A inizio secondo tempo ha sbagliato giusto di pochi centimetri un lancio in profondità per Chiesa, dopo uno strappo di grande classe con la pressione di due uomini addosso.</p>\\n<p></p>\\n<p>&nbsp;</p>\\n<p class=\"p1\">Poco dopo il fatto più contestato della partita, che nasce da un suo strappo palla al piede in cui mette in mostra la sua velocità, ma anche la determinazione con cui l’ha sfoderata ieri sera. All’ingresso del limite dell’area, in transizione, non si è appoggiato pigramente sulla qualità del suo sinistro ma ha dribblato Hien verso l’interno, superandolo in velocità. Poi quello commette fallo da rigore sia con le mani che con i piedi. La stessa determinazione che si è vista dieci minuti dopo quando, in contropiede, ha mandato a spasso Miranchuk con un primo controllo inatteso sterzando verso il destro.</p>\\n<p>&nbsp;</p>\\n<p class=\"p1\">Hien è un osso duro: un centrale che sembra nato per giocare nella difesa a tre di Gasperini. Uscire a razzo sulle punte avversarie e bullizzarle con un atletismo intimidatorio. Usare spinte con mani e spalle per mettere pressione fisica e mentale agli attaccanti. Pochi giorni fa ha cancellato dal campo Romelu Lukaku. Ieri con Vlahovic però ha faticato. Il serbo era troppo più brillante di lui nel prendere posizione, proteggere palla e soprattutto usi primi passi.</p>\\n<p>&nbsp;</p>\\n<p class=\"p1\">Quando è stato possibile ha giocato di prima, rubando un tempo di gioco ma mai in modo frettoloso. Qui per esempio apre il gioco per Chiesa con una precisione tale che con un buon controllo l’esterno avrebbe potuto anche andare in porta.</p>\\n<p></p>\\n<p>&nbsp;</p>\\n<p class=\"p1\">Vlahovic ha saputo giocare anche sponde di prima delicate che hanno messo in mostra la sensibilità del suo piede sinistro.</p>\\n<p></p>\\n<p>&nbsp;</p>\\n<p class=\"p1\">O persino la sensibilità del suo petto: la parte del corpo con cui solo i centravanti puri indirizzano il pallone.</p>\\n<p></p>\\n<p>&nbsp;</p>\\n<p>Con ogni palla transitata in area di rigore, Vlahovic dava l&#8217;impressione di poter fare gol. Aveva trovato anche il 2-0, pur toccando poco la palla, pur partendo da posizione lievemente irregolare.</p>\\n<p>&nbsp;</p>\\n<p class=\"p1\">Si è spesso parlato di Vlahovic come un attaccante inadatto al gioco di Allegri, parlando delle sue difficoltà tecniche spalle alla porta. Difficoltà nell’uso del corpo o nella precisione tecnica negli stop e nelle sponde. I fondamentali di un numero nove. Come si può abbinare questo quadretto di Vlahovic con una partita come quella di ieri?</p>\\n<p>&nbsp;</p>\\n<p class=\"p1\">Effettivamente ci sono partite in cui niente di tutto questo funziona, per Vlahovic. Partite in cui questo sforzo titanico non gli riesce e anzi, non gli riescono nemmeno le cose più semplici. Il suo corpo diventa vulnerabile, il suo sinistro stranamente impreciso. Più è facile il controllo o la sponda, e più per paradosso Vlahovic diventa impreciso.</p>\\n<p>&nbsp;</p>\\n<p class=\"p1\">Di solito queste giornate capitano quando qualcosa gli va storto nei primi minuti: sbaglia un’occasione, perde un paio di duelli, sbava un cambio di gioco e poi una sponda. Se non sente che le cose possono andargli bene, non riesce a invertire la dinamica mentale della situazione. Si innervosisce, perde il controllo e inizia a giocare come per dover dimostrare qualcosa. È una caratteristica di Vlahovic che è oggi forse il suo più grande limite.</p>\\n<p>&nbsp;</p>\\n<p class=\"p1\">Il lavoro del centravanti richiede innanzitutto freddezza emotiva. Come ha detto Guardiola parlando di Haaland: è il ruolo più difficile di tutti. Al numero 9 si chiede sempre di giocare con uno o più uomini addosso, ripulire palloni sporchi, con poco tempo e poco spazio. Deve farsi strada contro i giocatori più fisici della squadra avversaria. Spesso gli si chiede di essere solamente, di fatto, un corpo bruto che distrae altri corpi bruti, che apre spazi per i compagni.</p>\\n<p>&nbsp;</p>\\n<p class=\"p1\">Per riuscire in questo lavoro bisogna avere certe qualità mentali.</p>\\n<p>&nbsp;</p>\\n<p class=\"p1\">Quando una partita si mette male e gli avversari attaccano, i centravanti toccano pochi palloni. I centravanti della Juventus toccano pochissimi palloni. E allora bisogna mantenere la mente lucida: non innervosirsi e mantenere una calma e una concentrazione zen quando la palla arriva. Gestire sapientemente la propria intensità mentale. Assecondare l’istinto, ma anche la razionalità; usare il corpo, ma saper leggere meglio degli altri lo spazio. Accettare di restare alla periferia dell’azione, ma senza assentarsi. Restare in disparte, ma vigili. Accettare di perdere un duello, e poi un altro, e poi un altro, in attesa che l’inerzia cambi, che un’occasione buona arrivi e poi, in quel momento, non sbagliare.</p>\\n<p>&nbsp;</p>\\n<p class=\"p1\">Come <a href=\"https://www.ultimouomo.com/romario-lillusionista/\" rel=\"noopener\" target=\"_blank\"><span class=\"s1\">scriveva</span></a> Matteo Gatto in un vecchio pezzo su Romario, l’area di rigore è il territorio inviolabile, e quindi frenetico, del campo da gioco: &#8220;È difficile essere in area di rigore, è difficile essere vicini alla porta: in molti, là davanti, hanno perso la lucidità, la precisione, la fiducia. Solo alcuni eletti, nella storia del calcio, hanno saputo giocare in area rimanendo interamente se stessi&#8221;. Vlahovic ha grandi qualità tecniche e quando sbaglia è soprattutto perché perde la lucidità: diventa frettoloso e insicuro.</p>\\n<p>&nbsp;</p>\\n<p class=\"p1\">Il rovescio luminoso di questa medaglia è che, appunto, quando le cose girano bene e Vlahovic entra in fiducia, allora tutto gli riesce, come è successo ieri sera. Gioca con la leggerezza precisa di chi si è tolto un grosso peso di dosso. È anche questo il bello estetico dell’esperienza di Vlahovic: vederlo così in conflitto con sé stesso, combattere contro i difensori ma anche contro le asperità di un ruolo ingrato, che la sua squadra negli ultimi anni gli ha reso ancora più ingrato.</p>\\n<p>&nbsp;</p>\\n<p class=\"p1\">Chissà se Dusan Vlahovic ha imparato qualcosa, da questi due o tre anni di disciplinamento militare; chissà se diventerà mai un centravanti freddo e in grado di controllare le proprie emozioni e quindi le proprie prestazioni. Alla fine ha ancora 24 anni.</p>\\n<p>&nbsp;</p>'"
      ]
     },
     "execution_count": 46,
     "metadata": {},
     "output_type": "execute_result"
    }
   ],
   "source": [
    "html_content = d.entries[0].content[0].value\n",
    "html_content"
   ]
  },
  {
   "cell_type": "code",
   "execution_count": 47,
   "metadata": {},
   "outputs": [
    {
     "data": {
      "text/plain": [
       "'Vlahovic col megafono in mano, capo-ultrà: «Se vittoria sarà, la curva sud canterà». È questa l’immagine che chiude e incornicia la finale di Coppa Italia: una partita in cui Dusan Vlahovic è stato l’uomo vittoria e il miglior giocatore in campo. Una partita dopo la quale, finalmente, ha potuto vestire i panni del leader carismatico senza apparire ridicolo. Una partita in cui il suo desiderio di essere il centro emotivo della Juventus, un uomo squadra, è stato all’altezza del palcoscenico e della prestazione. Vlahovic sostituito a dieci minuti dalla fine esce dal campo incitando il settore della Juventus alzando le braccia una volta, due volte, tre volte e appena prima di uscire un’ultima volta. Vlahovic che dopo il gol del 2-0, poi annullato, aveva mimato di avere degli attributi così pesanti da toccare terra. Tutto questo, per una volta, senza rischiare di risultare eccessivo, patetico.\\n\\xa0\\n\\n#Vlahovic\\n“SE VITTORIA SARÀ\\nLA CURVA SUD CANTERÀ”\\npic.twitter.com/s65f9rdgB0\\n— (@andarsofian) May 16, 2024\\n\\n\\xa0\\nQuesti momenti non sono superflui o decorativi: raccontano l’atteggiamento ultra-emotivo con cui Vlahovic vive le partite di calcio. Una dimensione che non è avulsa da quella tecnica e che invece influisce sul suo stile di gioco e la sua efficacia. Per dirla in modo semplice: Vlahovic ha bisogno di essere in fiducia per giocare bene; sentirsi responsabilizzato e in grado di accogliere questa responsabilità. La partita di ieri contro l’Atalanta, se non la migliore di certo la più iconica, racconta soprattutto questo.\\n\\xa0\\nVlahovic segna dopo cinque minuti. Una bella dinamica in uscita della Juventus, la palla che arriva a Cambiaso che dopo il controllo di petto al volo, col sinistro, lancia in profondità Vlahovic. La difesa dell’Atalanta è sorpresa dalla rapidità dei fatti. Hien, che deve marcare Vlahovic, avanza per mettere in fuorigioco l’attaccante ma non si rende conto che Djimsiti è rimasto fermo. A quel punto è troppo tardi. Il centrale svedese prova a recuperare Vlahovic con quella foga che è la sua cifra stilistica: cerca di tamponarlo, smanacciarlo, ostacolarlo in tutti i modi; non può fermarlo ma può almeno provare a mandarlo fuori equilibrio. Vlahovic però resiste con l’arte manesca dei centravanti: tenendo lontano il difensore col braccio, mettendogli le cosce davanti, tagliandogli la corsa per proteggere il pallone. Hien riesce al massimo a portarlo sul piede debole, il destro, ma Vlahovic apre il piatto sul primo palo e segna.\\n\\xa0\\nÈ un bellissimo gol che poi si rivelerà decisivo: non solo per il risultato ma anche per sbloccare mentalmente Vlahovic. Aver segnato così presto, come gli è già successo in passato, lo fa sentire in una bolla di sicurezza e onnipotenza. Se Vlahovic segna subito, si toglie quel peso di dosso, sente di poter fare tutto. Inizia una prestazione sontuosa, che ha profonde ripercussioni sull’equilibrio del match. È una partita ruvida e di duelli. La Juventus gioca sostanzialmente nella propria metà campo e Vlahovic è chiamato a quel lavoro improbo di lotta e difesa del pallone. Diventa il corpo su cui spedire lanci scottanti, e a cui si chiede di guadagnare più tempo e spazio possibile. Far rifiatare la squadra dall’assedio, portarla qualche metro in avanti, fuori dall’assedio militare. Un tipo di lavoro difficilissimo per ogni centravanti, e che ieri era ancora più estremo del solito, vista la pressione territoriale esercitata dall’Atalanta.\\n\\xa0\\nEppure, proprio nel contesto più difficile, Vlahovic ha svolto questo lavoro egregiamente, persino esaltato dalle dinamiche di gioco più difficili: più era contorto proteggere palla, vincere il duello, risalire il campo, più Vlahovic ci riusciva.\\n\\xa0\\nA inizio secondo tempo ha sbagliato giusto di pochi centimetri un lancio in profondità per Chiesa, dopo uno strappo di grande classe con la pressione di due uomini addosso.\\n\\n\\xa0\\nPoco dopo il fatto più contestato della partita, che nasce da un suo strappo palla al piede in cui mette in mostra la sua velocità, ma anche la determinazione con cui l’ha sfoderata ieri sera. All’ingresso del limite dell’area, in transizione, non si è appoggiato pigramente sulla qualità del suo sinistro ma ha dribblato Hien verso l’interno, superandolo in velocità. Poi quello commette fallo da rigore sia con le mani che con i piedi. La stessa determinazione che si è vista dieci minuti dopo quando, in contropiede, ha mandato a spasso Miranchuk con un primo controllo inatteso sterzando verso il destro.\\n\\xa0\\nHien è un osso duro: un centrale che sembra nato per giocare nella difesa a tre di Gasperini. Uscire a razzo sulle punte avversarie e bullizzarle con un atletismo intimidatorio. Usare spinte con mani e spalle per mettere pressione fisica e mentale agli attaccanti. Pochi giorni fa ha cancellato dal campo Romelu Lukaku. Ieri con Vlahovic però ha faticato. Il serbo era troppo più brillante di lui nel prendere posizione, proteggere palla e soprattutto usi primi passi.\\n\\xa0\\nQuando è stato possibile ha giocato di prima, rubando un tempo di gioco ma mai in modo frettoloso. Qui per esempio apre il gioco per Chiesa con una precisione tale che con un buon controllo l’esterno avrebbe potuto anche andare in porta.\\n\\n\\xa0\\nVlahovic ha saputo giocare anche sponde di prima delicate che hanno messo in mostra la sensibilità del suo piede sinistro.\\n\\n\\xa0\\nO persino la sensibilità del suo petto: la parte del corpo con cui solo i centravanti puri indirizzano il pallone.\\n\\n\\xa0\\nCon ogni palla transitata in area di rigore, Vlahovic dava l’impressione di poter fare gol. Aveva trovato anche il 2-0, pur toccando poco la palla, pur partendo da posizione lievemente irregolare.\\n\\xa0\\nSi è spesso parlato di Vlahovic come un attaccante inadatto al gioco di Allegri, parlando delle sue difficoltà tecniche spalle alla porta. Difficoltà nell’uso del corpo o nella precisione tecnica negli stop e nelle sponde. I fondamentali di un numero nove. Come si può abbinare questo quadretto di Vlahovic con una partita come quella di ieri?\\n\\xa0\\nEffettivamente ci sono partite in cui niente di tutto questo funziona, per Vlahovic. Partite in cui questo sforzo titanico non gli riesce e anzi, non gli riescono nemmeno le cose più semplici. Il suo corpo diventa vulnerabile, il suo sinistro stranamente impreciso. Più è facile il controllo o la sponda, e più per paradosso Vlahovic diventa impreciso.\\n\\xa0\\nDi solito queste giornate capitano quando qualcosa gli va storto nei primi minuti: sbaglia un’occasione, perde un paio di duelli, sbava un cambio di gioco e poi una sponda. Se non sente che le cose possono andargli bene, non riesce a invertire la dinamica mentale della situazione. Si innervosisce, perde il controllo e inizia a giocare come per dover dimostrare qualcosa. È una caratteristica di Vlahovic che è oggi forse il suo più grande limite.\\n\\xa0\\nIl lavoro del centravanti richiede innanzitutto freddezza emotiva. Come ha detto Guardiola parlando di Haaland: è il ruolo più difficile di tutti. Al numero 9 si chiede sempre di giocare con uno o più uomini addosso, ripulire palloni sporchi, con poco tempo e poco spazio. Deve farsi strada contro i giocatori più fisici della squadra avversaria. Spesso gli si chiede di essere solamente, di fatto, un corpo bruto che distrae altri corpi bruti, che apre spazi per i compagni.\\n\\xa0\\nPer riuscire in questo lavoro bisogna avere certe qualità mentali.\\n\\xa0\\nQuando una partita si mette male e gli avversari attaccano, i centravanti toccano pochi palloni. I centravanti della Juventus toccano pochissimi palloni. E allora bisogna mantenere la mente lucida: non innervosirsi e mantenere una calma e una concentrazione zen quando la palla arriva. Gestire sapientemente la propria intensità mentale. Assecondare l’istinto, ma anche la razionalità; usare il corpo, ma saper leggere meglio degli altri lo spazio. Accettare di restare alla periferia dell’azione, ma senza assentarsi. Restare in disparte, ma vigili. Accettare di perdere un duello, e poi un altro, e poi un altro, in attesa che l’inerzia cambi, che un’occasione buona arrivi e poi, in quel momento, non sbagliare.\\n\\xa0\\nCome scriveva Matteo Gatto in un vecchio pezzo su Romario, l’area di rigore è il territorio inviolabile, e quindi frenetico, del campo da gioco: “È difficile essere in area di rigore, è difficile essere vicini alla porta: in molti, là davanti, hanno perso la lucidità, la precisione, la fiducia. Solo alcuni eletti, nella storia del calcio, hanno saputo giocare in area rimanendo interamente se stessi”. Vlahovic ha grandi qualità tecniche e quando sbaglia è soprattutto perché perde la lucidità: diventa frettoloso e insicuro.\\n\\xa0\\nIl rovescio luminoso di questa medaglia è che, appunto, quando le cose girano bene e Vlahovic entra in fiducia, allora tutto gli riesce, come è successo ieri sera. Gioca con la leggerezza precisa di chi si è tolto un grosso peso di dosso. È anche questo il bello estetico dell’esperienza di Vlahovic: vederlo così in conflitto con sé stesso, combattere contro i difensori ma anche contro le asperità di un ruolo ingrato, che la sua squadra negli ultimi anni gli ha reso ancora più ingrato.\\n\\xa0\\nChissà se Dusan Vlahovic ha imparato qualcosa, da questi due o tre anni di disciplinamento militare; chissà se diventerà mai un centravanti freddo e in grado di controllare le proprie emozioni e quindi le proprie prestazioni. Alla fine ha ancora 24 anni.\\n\\xa0'"
      ]
     },
     "execution_count": 47,
     "metadata": {},
     "output_type": "execute_result"
    }
   ],
   "source": [
    "soup = BeautifulSoup(html_content, 'html.parser')\n",
    "\n",
    "text_content  = soup.get_text()\n",
    "\n",
    "text_content"
   ]
  }
 ],
 "metadata": {
  "kernelspec": {
   "display_name": "fantacalcio",
   "language": "python",
   "name": "python3"
  },
  "language_info": {
   "codemirror_mode": {
    "name": "ipython",
    "version": 3
   },
   "file_extension": ".py",
   "mimetype": "text/x-python",
   "name": "python",
   "nbconvert_exporter": "python",
   "pygments_lexer": "ipython3",
   "version": "3.11.9"
  }
 },
 "nbformat": 4,
 "nbformat_minor": 2
}
