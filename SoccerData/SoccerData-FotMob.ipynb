{
 "cells": [
  {
   "cell_type": "markdown",
   "metadata": {},
   "source": [
    "# SoccerData\n",
    "## FotMob\n",
    "\n",
    "Historical results detailed aggregated statistics for teams\n",
    "\n",
    "[Source URL](https://www.fotmob.com/) | \n",
    "[Example usage](https://soccerdata.readthedocs.io/en/latest/datasources/FotMob.html) |\n",
    "[API reference](https://soccerdata.readthedocs.io/en/latest/reference/fotmob.html) |\n",
    "[Py Code](https://github.com/probberechts/soccerdata/blob/master/soccerdata/fotmob.py)"
   ]
  },
  {
   "cell_type": "code",
   "execution_count": 1,
   "metadata": {},
   "outputs": [
    {
     "data": {
      "text/html": [
       "<pre style=\"white-space:pre;overflow-x:auto;line-height:normal;font-family:Menlo,'DejaVu Sans Mono',consolas,'Courier New',monospace\"><span style=\"color: #7fbfbf; text-decoration-color: #7fbfbf\">[05/12/24 11:59:10] </span><span style=\"color: #000080; text-decoration-color: #000080\">INFO    </span> No custom team name replacements found. You can configure these in       <a href=\"file://c:\\Users\\Operator\\.conda\\envs\\fantacalcio\\Lib\\site-packages\\soccerdata\\_config.py\" target=\"_blank\"><span style=\"color: #7f7f7f; text-decoration-color: #7f7f7f\">_config.py</span></a><span style=\"color: #7f7f7f; text-decoration-color: #7f7f7f\">:</span><a href=\"file://c:\\Users\\Operator\\.conda\\envs\\fantacalcio\\Lib\\site-packages\\soccerdata\\_config.py#87\" target=\"_blank\"><span style=\"color: #7f7f7f; text-decoration-color: #7f7f7f\">87</span></a>\n",
       "<span style=\"color: #7fbfbf; text-decoration-color: #7fbfbf\">                    </span>         C:\\Users\\Operator\\soccerdata\\config\\teamname_replacements.json.          <span style=\"color: #7f7f7f; text-decoration-color: #7f7f7f\">             </span>\n",
       "</pre>\n"
      ],
      "text/plain": [
       "\u001b[2;36m[05/12/24 11:59:10]\u001b[0m\u001b[2;36m \u001b[0m\u001b[34mINFO    \u001b[0m No custom team name replacements found. You can configure these in       \u001b]8;id=494380;file://c:\\Users\\Operator\\.conda\\envs\\fantacalcio\\Lib\\site-packages\\soccerdata\\_config.py\u001b\\\u001b[2m_config.py\u001b[0m\u001b]8;;\u001b\\\u001b[2m:\u001b[0m\u001b]8;id=220427;file://c:\\Users\\Operator\\.conda\\envs\\fantacalcio\\Lib\\site-packages\\soccerdata\\_config.py#87\u001b\\\u001b[2m87\u001b[0m\u001b]8;;\u001b\\\n",
       "\u001b[2;36m                    \u001b[0m         C:\\Users\\Operator\\soccerdata\\config\\teamname_replacements.json.          \u001b[2m             \u001b[0m\n"
      ]
     },
     "metadata": {},
     "output_type": "display_data"
    },
    {
     "data": {
      "text/html": [
       "<pre style=\"white-space:pre;overflow-x:auto;line-height:normal;font-family:Menlo,'DejaVu Sans Mono',consolas,'Courier New',monospace\"><span style=\"color: #7fbfbf; text-decoration-color: #7fbfbf\">                    </span><span style=\"color: #000080; text-decoration-color: #000080\">INFO    </span> No custom league dict found. You can configure additional leagues in    <a href=\"file://c:\\Users\\Operator\\.conda\\envs\\fantacalcio\\Lib\\site-packages\\soccerdata\\_config.py\" target=\"_blank\"><span style=\"color: #7f7f7f; text-decoration-color: #7f7f7f\">_config.py</span></a><span style=\"color: #7f7f7f; text-decoration-color: #7f7f7f\">:</span><a href=\"file://c:\\Users\\Operator\\.conda\\envs\\fantacalcio\\Lib\\site-packages\\soccerdata\\_config.py#177\" target=\"_blank\"><span style=\"color: #7f7f7f; text-decoration-color: #7f7f7f\">177</span></a>\n",
       "<span style=\"color: #7fbfbf; text-decoration-color: #7fbfbf\">                    </span>         C:\\Users\\Operator\\soccerdata\\config\\league_dict.json.                   <span style=\"color: #7f7f7f; text-decoration-color: #7f7f7f\">              </span>\n",
       "</pre>\n"
      ],
      "text/plain": [
       "\u001b[2;36m                   \u001b[0m\u001b[2;36m \u001b[0m\u001b[34mINFO    \u001b[0m No custom league dict found. You can configure additional leagues in    \u001b]8;id=402551;file://c:\\Users\\Operator\\.conda\\envs\\fantacalcio\\Lib\\site-packages\\soccerdata\\_config.py\u001b\\\u001b[2m_config.py\u001b[0m\u001b]8;;\u001b\\\u001b[2m:\u001b[0m\u001b]8;id=861351;file://c:\\Users\\Operator\\.conda\\envs\\fantacalcio\\Lib\\site-packages\\soccerdata\\_config.py#177\u001b\\\u001b[2m177\u001b[0m\u001b]8;;\u001b\\\n",
       "\u001b[2;36m                    \u001b[0m         C:\\Users\\Operator\\soccerdata\\config\\league_dict.json.                   \u001b[2m              \u001b[0m\n"
      ]
     },
     "metadata": {},
     "output_type": "display_data"
    }
   ],
   "source": [
    "import soccerdata as sd\n",
    "import pandas as pd\n",
    "\n",
    "# Show all cols and rows\n",
    "pd.set_option('display.max_columns', None)\n",
    "pd.set_option('display.max_rows', None)"
   ]
  },
  {
   "cell_type": "code",
   "execution_count": 2,
   "metadata": {},
   "outputs": [
    {
     "data": {
      "text/html": [
       "<pre style=\"white-space:pre;overflow-x:auto;line-height:normal;font-family:Menlo,'DejaVu Sans Mono',consolas,'Courier New',monospace\"><span style=\"color: #7fbfbf; text-decoration-color: #7fbfbf\">[05/12/24 11:59:21] </span><span style=\"color: #000080; text-decoration-color: #000080\">INFO    </span> Saving cached data to C:\\Users\\Operator\\soccerdata\\data\\FotMob           <a href=\"file://c:\\Users\\Operator\\.conda\\envs\\fantacalcio\\Lib\\site-packages\\soccerdata\\_common.py\" target=\"_blank\"><span style=\"color: #7f7f7f; text-decoration-color: #7f7f7f\">_common.py</span></a><span style=\"color: #7f7f7f; text-decoration-color: #7f7f7f\">:</span><a href=\"file://c:\\Users\\Operator\\.conda\\envs\\fantacalcio\\Lib\\site-packages\\soccerdata\\_common.py#92\" target=\"_blank\"><span style=\"color: #7f7f7f; text-decoration-color: #7f7f7f\">92</span></a>\n",
       "</pre>\n"
      ],
      "text/plain": [
       "\u001b[2;36m[05/12/24 11:59:21]\u001b[0m\u001b[2;36m \u001b[0m\u001b[34mINFO    \u001b[0m Saving cached data to C:\\Users\\Operator\\soccerdata\\data\\FotMob           \u001b]8;id=269649;file://c:\\Users\\Operator\\.conda\\envs\\fantacalcio\\Lib\\site-packages\\soccerdata\\_common.py\u001b\\\u001b[2m_common.py\u001b[0m\u001b]8;;\u001b\\\u001b[2m:\u001b[0m\u001b]8;id=940814;file://c:\\Users\\Operator\\.conda\\envs\\fantacalcio\\Lib\\site-packages\\soccerdata\\_common.py#92\u001b\\\u001b[2m92\u001b[0m\u001b]8;;\u001b\\\n"
      ]
     },
     "metadata": {},
     "output_type": "display_data"
    },
    {
     "name": "stdout",
     "output_type": "stream",
     "text": [
      "Provides pd.DataFrames from data available at http://www.fotmob.com.\n",
      "\n",
      "    Data will be downloaded as necessary and cached locally in\n",
      "    ``~/soccerdata/data/FotMob``.\n",
      "\n",
      "    Parameters\n",
      "    ----------\n",
      "    leagues : string or iterable, optional\n",
      "        IDs of Leagues to include.\n",
      "    seasons : string, int or list, optional\n",
      "        Seasons to include. Supports multiple formats.\n",
      "        Examples: '16-17'; 2016; '2016-17'; [14, 15, 16]\n",
      "    proxy : 'tor' or dict or list(dict) or callable, optional\n",
      "        Use a proxy to hide your IP address. Valid options are:\n",
      "            - 'tor': Uses the Tor network. Tor should be running in\n",
      "              the background on port 9050.\n",
      "            - dict: A dictionary with the proxy to use. The dict should be\n",
      "              a mapping of supported protocols to proxy addresses. For example::\n",
      "\n",
      "                  {\n",
      "                      'http': 'http://10.10.1.10:3128',\n",
      "                      'https': 'http://10.10.1.10:1080',\n",
      "                  }\n",
      "\n",
      "            - list(dict): A list of proxies to choose from. A different proxy will\n",
      "              be selected from this list after failed requests, allowing rotating\n",
      "              proxies.\n",
      "            - callable: A function that returns a valid proxy. This function will\n",
      "              be called after failed requests, allowing rotating proxies.\n",
      "    no_cache : bool\n",
      "        If True, will not use cached data.\n",
      "    no_store : bool\n",
      "        If True, will not store downloaded data.\n",
      "    data_dir : Path\n",
      "        Path to directory where data will be cached.\n",
      "    \n"
     ]
    }
   ],
   "source": [
    "# Create scraper class instance\n",
    "fotmob = sd.FotMob(leagues='ITA-Serie A', seasons=2023)\n",
    "print(fotmob.__doc__)"
   ]
  },
  {
   "cell_type": "markdown",
   "metadata": {},
   "source": [
    "### Read league table"
   ]
  },
  {
   "cell_type": "code",
   "execution_count": 3,
   "metadata": {},
   "outputs": [
    {
     "data": {
      "text/html": [
       "<div>\n",
       "<style scoped>\n",
       "    .dataframe tbody tr th:only-of-type {\n",
       "        vertical-align: middle;\n",
       "    }\n",
       "\n",
       "    .dataframe tbody tr th {\n",
       "        vertical-align: top;\n",
       "    }\n",
       "\n",
       "    .dataframe thead th {\n",
       "        text-align: right;\n",
       "    }\n",
       "</style>\n",
       "<table border=\"1\" class=\"dataframe\">\n",
       "  <thead>\n",
       "    <tr style=\"text-align: right;\">\n",
       "      <th></th>\n",
       "      <th></th>\n",
       "      <th>team</th>\n",
       "      <th>MP</th>\n",
       "      <th>W</th>\n",
       "      <th>D</th>\n",
       "      <th>L</th>\n",
       "      <th>GF</th>\n",
       "      <th>GA</th>\n",
       "      <th>GD</th>\n",
       "      <th>Pts</th>\n",
       "    </tr>\n",
       "    <tr>\n",
       "      <th>league</th>\n",
       "      <th>season</th>\n",
       "      <th></th>\n",
       "      <th></th>\n",
       "      <th></th>\n",
       "      <th></th>\n",
       "      <th></th>\n",
       "      <th></th>\n",
       "      <th></th>\n",
       "      <th></th>\n",
       "      <th></th>\n",
       "    </tr>\n",
       "  </thead>\n",
       "  <tbody>\n",
       "    <tr>\n",
       "      <th rowspan=\"5\" valign=\"top\">ITA-Serie A</th>\n",
       "      <th>2324</th>\n",
       "      <td>Inter</td>\n",
       "      <td>36</td>\n",
       "      <td>29</td>\n",
       "      <td>5</td>\n",
       "      <td>2</td>\n",
       "      <td>86</td>\n",
       "      <td>19</td>\n",
       "      <td>67</td>\n",
       "      <td>92</td>\n",
       "    </tr>\n",
       "    <tr>\n",
       "      <th>2324</th>\n",
       "      <td>AC Milan</td>\n",
       "      <td>36</td>\n",
       "      <td>22</td>\n",
       "      <td>8</td>\n",
       "      <td>6</td>\n",
       "      <td>72</td>\n",
       "      <td>43</td>\n",
       "      <td>29</td>\n",
       "      <td>74</td>\n",
       "    </tr>\n",
       "    <tr>\n",
       "      <th>2324</th>\n",
       "      <td>Bologna</td>\n",
       "      <td>36</td>\n",
       "      <td>18</td>\n",
       "      <td>13</td>\n",
       "      <td>5</td>\n",
       "      <td>51</td>\n",
       "      <td>27</td>\n",
       "      <td>24</td>\n",
       "      <td>67</td>\n",
       "    </tr>\n",
       "    <tr>\n",
       "      <th>2324</th>\n",
       "      <td>Juventus</td>\n",
       "      <td>35</td>\n",
       "      <td>18</td>\n",
       "      <td>12</td>\n",
       "      <td>5</td>\n",
       "      <td>48</td>\n",
       "      <td>27</td>\n",
       "      <td>21</td>\n",
       "      <td>66</td>\n",
       "    </tr>\n",
       "    <tr>\n",
       "      <th>2324</th>\n",
       "      <td>Atalanta</td>\n",
       "      <td>34</td>\n",
       "      <td>18</td>\n",
       "      <td>6</td>\n",
       "      <td>10</td>\n",
       "      <td>63</td>\n",
       "      <td>38</td>\n",
       "      <td>25</td>\n",
       "      <td>60</td>\n",
       "    </tr>\n",
       "  </tbody>\n",
       "</table>\n",
       "</div>"
      ],
      "text/plain": [
       "                        team  MP   W   D   L  GF  GA  GD  Pts\n",
       "league      season                                           \n",
       "ITA-Serie A 2324       Inter  36  29   5   2  86  19  67   92\n",
       "            2324    AC Milan  36  22   8   6  72  43  29   74\n",
       "            2324     Bologna  36  18  13   5  51  27  24   67\n",
       "            2324    Juventus  35  18  12   5  48  27  21   66\n",
       "            2324    Atalanta  34  18   6  10  63  38  25   60"
      ]
     },
     "execution_count": 3,
     "metadata": {},
     "output_type": "execute_result"
    }
   ],
   "source": [
    "league_table = fotmob.read_league_table()\n",
    "league_table.head()"
   ]
  },
  {
   "cell_type": "code",
   "execution_count": 6,
   "metadata": {},
   "outputs": [],
   "source": [
    "league_table.reset_index(inplace=True)\n",
    "league_table.to_json(\"./data/FotMob/league_table.json\")"
   ]
  },
  {
   "cell_type": "markdown",
   "metadata": {},
   "source": [
    "### Read schedule"
   ]
  },
  {
   "cell_type": "code",
   "execution_count": 7,
   "metadata": {},
   "outputs": [
    {
     "data": {
      "text/html": [
       "<div>\n",
       "<style scoped>\n",
       "    .dataframe tbody tr th:only-of-type {\n",
       "        vertical-align: middle;\n",
       "    }\n",
       "\n",
       "    .dataframe tbody tr th {\n",
       "        vertical-align: top;\n",
       "    }\n",
       "\n",
       "    .dataframe thead th {\n",
       "        text-align: right;\n",
       "    }\n",
       "</style>\n",
       "<table border=\"1\" class=\"dataframe\">\n",
       "  <thead>\n",
       "    <tr style=\"text-align: right;\">\n",
       "      <th></th>\n",
       "      <th></th>\n",
       "      <th></th>\n",
       "      <th>round</th>\n",
       "      <th>week</th>\n",
       "      <th>date</th>\n",
       "      <th>home_team</th>\n",
       "      <th>away_team</th>\n",
       "      <th>home_score</th>\n",
       "      <th>away_score</th>\n",
       "      <th>status</th>\n",
       "      <th>game_id</th>\n",
       "      <th>url</th>\n",
       "    </tr>\n",
       "    <tr>\n",
       "      <th>league</th>\n",
       "      <th>season</th>\n",
       "      <th>game</th>\n",
       "      <th></th>\n",
       "      <th></th>\n",
       "      <th></th>\n",
       "      <th></th>\n",
       "      <th></th>\n",
       "      <th></th>\n",
       "      <th></th>\n",
       "      <th></th>\n",
       "      <th></th>\n",
       "      <th></th>\n",
       "    </tr>\n",
       "  </thead>\n",
       "  <tbody>\n",
       "    <tr>\n",
       "      <th rowspan=\"5\" valign=\"top\">ITA-Serie A</th>\n",
       "      <th rowspan=\"5\" valign=\"top\">2324</th>\n",
       "      <th>2023-08-19 Empoli-Hellas Verona</th>\n",
       "      <td>1</td>\n",
       "      <td>1</td>\n",
       "      <td>2023-08-19 16:30:00+00:00</td>\n",
       "      <td>Empoli</td>\n",
       "      <td>Hellas Verona</td>\n",
       "      <td>0</td>\n",
       "      <td>1</td>\n",
       "      <td>FT</td>\n",
       "      <td>4230531</td>\n",
       "      <td>https://fotmob.com/matches/empoli-vs-hellas-ve...</td>\n",
       "    </tr>\n",
       "    <tr>\n",
       "      <th>2023-08-19 Frosinone-SSC Napoli</th>\n",
       "      <td>1</td>\n",
       "      <td>1</td>\n",
       "      <td>2023-08-19 16:30:00+00:00</td>\n",
       "      <td>Frosinone</td>\n",
       "      <td>SSC Napoli</td>\n",
       "      <td>1</td>\n",
       "      <td>3</td>\n",
       "      <td>FT</td>\n",
       "      <td>4230532</td>\n",
       "      <td>https://fotmob.com/matches/ssc-napoli-vs-frosi...</td>\n",
       "    </tr>\n",
       "    <tr>\n",
       "      <th>2023-08-19 Genoa-Fiorentina</th>\n",
       "      <td>1</td>\n",
       "      <td>1</td>\n",
       "      <td>2023-08-19 18:45:00+00:00</td>\n",
       "      <td>Genoa</td>\n",
       "      <td>Fiorentina</td>\n",
       "      <td>1</td>\n",
       "      <td>4</td>\n",
       "      <td>FT</td>\n",
       "      <td>4230537</td>\n",
       "      <td>https://fotmob.com/matches/fiorentina-vs-genoa...</td>\n",
       "    </tr>\n",
       "    <tr>\n",
       "      <th>2023-08-19 Inter-Monza</th>\n",
       "      <td>1</td>\n",
       "      <td>1</td>\n",
       "      <td>2023-08-19 18:45:00+00:00</td>\n",
       "      <td>Inter</td>\n",
       "      <td>Monza</td>\n",
       "      <td>2</td>\n",
       "      <td>0</td>\n",
       "      <td>FT</td>\n",
       "      <td>4230533</td>\n",
       "      <td>https://fotmob.com/matches/monza-vs-inter/1w8t...</td>\n",
       "    </tr>\n",
       "    <tr>\n",
       "      <th>2023-08-20 Lecce-Lazio</th>\n",
       "      <td>1</td>\n",
       "      <td>1</td>\n",
       "      <td>2023-08-20 18:45:00+00:00</td>\n",
       "      <td>Lecce</td>\n",
       "      <td>Lazio</td>\n",
       "      <td>2</td>\n",
       "      <td>1</td>\n",
       "      <td>FT</td>\n",
       "      <td>4230539</td>\n",
       "      <td>https://fotmob.com/matches/lazio-vs-lecce/2t4w...</td>\n",
       "    </tr>\n",
       "  </tbody>\n",
       "</table>\n",
       "</div>"
      ],
      "text/plain": [
       "                                                    round week  \\\n",
       "league      season game                                          \n",
       "ITA-Serie A 2324   2023-08-19 Empoli-Hellas Verona      1    1   \n",
       "                   2023-08-19 Frosinone-SSC Napoli      1    1   \n",
       "                   2023-08-19 Genoa-Fiorentina          1    1   \n",
       "                   2023-08-19 Inter-Monza               1    1   \n",
       "                   2023-08-20 Lecce-Lazio               1    1   \n",
       "\n",
       "                                                                        date  \\\n",
       "league      season game                                                        \n",
       "ITA-Serie A 2324   2023-08-19 Empoli-Hellas Verona 2023-08-19 16:30:00+00:00   \n",
       "                   2023-08-19 Frosinone-SSC Napoli 2023-08-19 16:30:00+00:00   \n",
       "                   2023-08-19 Genoa-Fiorentina     2023-08-19 18:45:00+00:00   \n",
       "                   2023-08-19 Inter-Monza          2023-08-19 18:45:00+00:00   \n",
       "                   2023-08-20 Lecce-Lazio          2023-08-20 18:45:00+00:00   \n",
       "\n",
       "                                                    home_team      away_team  \\\n",
       "league      season game                                                        \n",
       "ITA-Serie A 2324   2023-08-19 Empoli-Hellas Verona     Empoli  Hellas Verona   \n",
       "                   2023-08-19 Frosinone-SSC Napoli  Frosinone     SSC Napoli   \n",
       "                   2023-08-19 Genoa-Fiorentina          Genoa     Fiorentina   \n",
       "                   2023-08-19 Inter-Monza               Inter          Monza   \n",
       "                   2023-08-20 Lecce-Lazio               Lecce          Lazio   \n",
       "\n",
       "                                                   home_score away_score  \\\n",
       "league      season game                                                    \n",
       "ITA-Serie A 2324   2023-08-19 Empoli-Hellas Verona         0           1   \n",
       "                   2023-08-19 Frosinone-SSC Napoli         1           3   \n",
       "                   2023-08-19 Genoa-Fiorentina             1           4   \n",
       "                   2023-08-19 Inter-Monza                  2           0   \n",
       "                   2023-08-20 Lecce-Lazio                  2           1   \n",
       "\n",
       "                                                   status  game_id  \\\n",
       "league      season game                                              \n",
       "ITA-Serie A 2324   2023-08-19 Empoli-Hellas Verona     FT  4230531   \n",
       "                   2023-08-19 Frosinone-SSC Napoli     FT  4230532   \n",
       "                   2023-08-19 Genoa-Fiorentina         FT  4230537   \n",
       "                   2023-08-19 Inter-Monza              FT  4230533   \n",
       "                   2023-08-20 Lecce-Lazio              FT  4230539   \n",
       "\n",
       "                                                                                                  url  \n",
       "league      season game                                                                                \n",
       "ITA-Serie A 2324   2023-08-19 Empoli-Hellas Verona  https://fotmob.com/matches/empoli-vs-hellas-ve...  \n",
       "                   2023-08-19 Frosinone-SSC Napoli  https://fotmob.com/matches/ssc-napoli-vs-frosi...  \n",
       "                   2023-08-19 Genoa-Fiorentina      https://fotmob.com/matches/fiorentina-vs-genoa...  \n",
       "                   2023-08-19 Inter-Monza           https://fotmob.com/matches/monza-vs-inter/1w8t...  \n",
       "                   2023-08-20 Lecce-Lazio           https://fotmob.com/matches/lazio-vs-lecce/2t4w...  "
      ]
     },
     "execution_count": 7,
     "metadata": {},
     "output_type": "execute_result"
    }
   ],
   "source": [
    "schedule = fotmob.read_schedule()\n",
    "schedule.head()"
   ]
  },
  {
   "cell_type": "code",
   "execution_count": 8,
   "metadata": {},
   "outputs": [],
   "source": [
    "schedule.to_json(\"./data/FotMob/schedule.json\")"
   ]
  },
  {
   "cell_type": "markdown",
   "metadata": {},
   "source": [
    "### Read team match stats"
   ]
  },
  {
   "cell_type": "code",
   "execution_count": 9,
   "metadata": {},
   "outputs": [
    {
     "data": {
      "text/html": [
       "<pre style=\"white-space:pre;overflow-x:auto;line-height:normal;font-family:Menlo,'DejaVu Sans Mono',consolas,'Courier New',monospace\"><span style=\"color: #7fbfbf; text-decoration-color: #7fbfbf\">[05/12/24 12:02:43] </span><span style=\"color: #000080; text-decoration-color: #000080\">INFO    </span> <span style=\"font-weight: bold\">[</span><span style=\"color: #008080; text-decoration-color: #008080; font-weight: bold\">1</span>/<span style=\"color: #008080; text-decoration-color: #008080; font-weight: bold\">36</span><span style=\"font-weight: bold\">]</span> Retrieving game with <span style=\"color: #808000; text-decoration-color: #808000\">id</span>=<span style=\"color: #008080; text-decoration-color: #008080; font-weight: bold\">4230530</span>                                   <a href=\"file://c:\\Users\\Operator\\.conda\\envs\\fantacalcio\\Lib\\site-packages\\soccerdata\\fotmob.py\" target=\"_blank\"><span style=\"color: #7f7f7f; text-decoration-color: #7f7f7f\">fotmob.py</span></a><span style=\"color: #7f7f7f; text-decoration-color: #7f7f7f\">:</span><a href=\"file://c:\\Users\\Operator\\.conda\\envs\\fantacalcio\\Lib\\site-packages\\soccerdata\\fotmob.py#398\" target=\"_blank\"><span style=\"color: #7f7f7f; text-decoration-color: #7f7f7f\">398</span></a>\n",
       "</pre>\n"
      ],
      "text/plain": [
       "\u001b[2;36m[05/12/24 12:02:43]\u001b[0m\u001b[2;36m \u001b[0m\u001b[34mINFO    \u001b[0m \u001b[1m[\u001b[0m\u001b[1;36m1\u001b[0m/\u001b[1;36m36\u001b[0m\u001b[1m]\u001b[0m Retrieving game with \u001b[33mid\u001b[0m=\u001b[1;36m4230530\u001b[0m                                   \u001b]8;id=742359;file://c:\\Users\\Operator\\.conda\\envs\\fantacalcio\\Lib\\site-packages\\soccerdata\\fotmob.py\u001b\\\u001b[2mfotmob.py\u001b[0m\u001b]8;;\u001b\\\u001b[2m:\u001b[0m\u001b]8;id=923285;file://c:\\Users\\Operator\\.conda\\envs\\fantacalcio\\Lib\\site-packages\\soccerdata\\fotmob.py#398\u001b\\\u001b[2m398\u001b[0m\u001b]8;;\u001b\\\n"
      ]
     },
     "metadata": {},
     "output_type": "display_data"
    },
    {
     "data": {
      "text/html": [
       "<pre style=\"white-space:pre;overflow-x:auto;line-height:normal;font-family:Menlo,'DejaVu Sans Mono',consolas,'Courier New',monospace\"><span style=\"color: #7fbfbf; text-decoration-color: #7fbfbf\">[05/12/24 12:02:45] </span><span style=\"color: #000080; text-decoration-color: #000080\">INFO    </span> <span style=\"font-weight: bold\">[</span><span style=\"color: #008080; text-decoration-color: #008080; font-weight: bold\">2</span>/<span style=\"color: #008080; text-decoration-color: #008080; font-weight: bold\">36</span><span style=\"font-weight: bold\">]</span> Retrieving game with <span style=\"color: #808000; text-decoration-color: #808000\">id</span>=<span style=\"color: #008080; text-decoration-color: #008080; font-weight: bold\">4230544</span>                                   <a href=\"file://c:\\Users\\Operator\\.conda\\envs\\fantacalcio\\Lib\\site-packages\\soccerdata\\fotmob.py\" target=\"_blank\"><span style=\"color: #7f7f7f; text-decoration-color: #7f7f7f\">fotmob.py</span></a><span style=\"color: #7f7f7f; text-decoration-color: #7f7f7f\">:</span><a href=\"file://c:\\Users\\Operator\\.conda\\envs\\fantacalcio\\Lib\\site-packages\\soccerdata\\fotmob.py#398\" target=\"_blank\"><span style=\"color: #7f7f7f; text-decoration-color: #7f7f7f\">398</span></a>\n",
       "</pre>\n"
      ],
      "text/plain": [
       "\u001b[2;36m[05/12/24 12:02:45]\u001b[0m\u001b[2;36m \u001b[0m\u001b[34mINFO    \u001b[0m \u001b[1m[\u001b[0m\u001b[1;36m2\u001b[0m/\u001b[1;36m36\u001b[0m\u001b[1m]\u001b[0m Retrieving game with \u001b[33mid\u001b[0m=\u001b[1;36m4230544\u001b[0m                                   \u001b]8;id=99321;file://c:\\Users\\Operator\\.conda\\envs\\fantacalcio\\Lib\\site-packages\\soccerdata\\fotmob.py\u001b\\\u001b[2mfotmob.py\u001b[0m\u001b]8;;\u001b\\\u001b[2m:\u001b[0m\u001b]8;id=527952;file://c:\\Users\\Operator\\.conda\\envs\\fantacalcio\\Lib\\site-packages\\soccerdata\\fotmob.py#398\u001b\\\u001b[2m398\u001b[0m\u001b]8;;\u001b\\\n"
      ]
     },
     "metadata": {},
     "output_type": "display_data"
    },
    {
     "data": {
      "text/html": [
       "<pre style=\"white-space:pre;overflow-x:auto;line-height:normal;font-family:Menlo,'DejaVu Sans Mono',consolas,'Courier New',monospace\"><span style=\"color: #7fbfbf; text-decoration-color: #7fbfbf\">[05/12/24 12:02:46] </span><span style=\"color: #000080; text-decoration-color: #000080\">INFO    </span> <span style=\"font-weight: bold\">[</span><span style=\"color: #008080; text-decoration-color: #008080; font-weight: bold\">3</span>/<span style=\"color: #008080; text-decoration-color: #008080; font-weight: bold\">36</span><span style=\"font-weight: bold\">]</span> Retrieving game with <span style=\"color: #808000; text-decoration-color: #808000\">id</span>=<span style=\"color: #008080; text-decoration-color: #008080; font-weight: bold\">4230560</span>                                   <a href=\"file://c:\\Users\\Operator\\.conda\\envs\\fantacalcio\\Lib\\site-packages\\soccerdata\\fotmob.py\" target=\"_blank\"><span style=\"color: #7f7f7f; text-decoration-color: #7f7f7f\">fotmob.py</span></a><span style=\"color: #7f7f7f; text-decoration-color: #7f7f7f\">:</span><a href=\"file://c:\\Users\\Operator\\.conda\\envs\\fantacalcio\\Lib\\site-packages\\soccerdata\\fotmob.py#398\" target=\"_blank\"><span style=\"color: #7f7f7f; text-decoration-color: #7f7f7f\">398</span></a>\n",
       "</pre>\n"
      ],
      "text/plain": [
       "\u001b[2;36m[05/12/24 12:02:46]\u001b[0m\u001b[2;36m \u001b[0m\u001b[34mINFO    \u001b[0m \u001b[1m[\u001b[0m\u001b[1;36m3\u001b[0m/\u001b[1;36m36\u001b[0m\u001b[1m]\u001b[0m Retrieving game with \u001b[33mid\u001b[0m=\u001b[1;36m4230560\u001b[0m                                   \u001b]8;id=592531;file://c:\\Users\\Operator\\.conda\\envs\\fantacalcio\\Lib\\site-packages\\soccerdata\\fotmob.py\u001b\\\u001b[2mfotmob.py\u001b[0m\u001b]8;;\u001b\\\u001b[2m:\u001b[0m\u001b]8;id=568715;file://c:\\Users\\Operator\\.conda\\envs\\fantacalcio\\Lib\\site-packages\\soccerdata\\fotmob.py#398\u001b\\\u001b[2m398\u001b[0m\u001b]8;;\u001b\\\n"
      ]
     },
     "metadata": {},
     "output_type": "display_data"
    },
    {
     "data": {
      "text/html": [
       "<pre style=\"white-space:pre;overflow-x:auto;line-height:normal;font-family:Menlo,'DejaVu Sans Mono',consolas,'Courier New',monospace\"><span style=\"color: #7fbfbf; text-decoration-color: #7fbfbf\">[05/12/24 12:02:47] </span><span style=\"color: #000080; text-decoration-color: #000080\">INFO    </span> <span style=\"font-weight: bold\">[</span><span style=\"color: #008080; text-decoration-color: #008080; font-weight: bold\">4</span>/<span style=\"color: #008080; text-decoration-color: #008080; font-weight: bold\">36</span><span style=\"font-weight: bold\">]</span> Retrieving game with <span style=\"color: #808000; text-decoration-color: #808000\">id</span>=<span style=\"color: #008080; text-decoration-color: #008080; font-weight: bold\">4230564</span>                                   <a href=\"file://c:\\Users\\Operator\\.conda\\envs\\fantacalcio\\Lib\\site-packages\\soccerdata\\fotmob.py\" target=\"_blank\"><span style=\"color: #7f7f7f; text-decoration-color: #7f7f7f\">fotmob.py</span></a><span style=\"color: #7f7f7f; text-decoration-color: #7f7f7f\">:</span><a href=\"file://c:\\Users\\Operator\\.conda\\envs\\fantacalcio\\Lib\\site-packages\\soccerdata\\fotmob.py#398\" target=\"_blank\"><span style=\"color: #7f7f7f; text-decoration-color: #7f7f7f\">398</span></a>\n",
       "</pre>\n"
      ],
      "text/plain": [
       "\u001b[2;36m[05/12/24 12:02:47]\u001b[0m\u001b[2;36m \u001b[0m\u001b[34mINFO    \u001b[0m \u001b[1m[\u001b[0m\u001b[1;36m4\u001b[0m/\u001b[1;36m36\u001b[0m\u001b[1m]\u001b[0m Retrieving game with \u001b[33mid\u001b[0m=\u001b[1;36m4230564\u001b[0m                                   \u001b]8;id=763964;file://c:\\Users\\Operator\\.conda\\envs\\fantacalcio\\Lib\\site-packages\\soccerdata\\fotmob.py\u001b\\\u001b[2mfotmob.py\u001b[0m\u001b]8;;\u001b\\\u001b[2m:\u001b[0m\u001b]8;id=962758;file://c:\\Users\\Operator\\.conda\\envs\\fantacalcio\\Lib\\site-packages\\soccerdata\\fotmob.py#398\u001b\\\u001b[2m398\u001b[0m\u001b]8;;\u001b\\\n"
      ]
     },
     "metadata": {},
     "output_type": "display_data"
    },
    {
     "data": {
      "text/html": [
       "<pre style=\"white-space:pre;overflow-x:auto;line-height:normal;font-family:Menlo,'DejaVu Sans Mono',consolas,'Courier New',monospace\"><span style=\"color: #7fbfbf; text-decoration-color: #7fbfbf\">[05/12/24 12:02:48] </span><span style=\"color: #000080; text-decoration-color: #000080\">INFO    </span> <span style=\"font-weight: bold\">[</span><span style=\"color: #008080; text-decoration-color: #008080; font-weight: bold\">5</span>/<span style=\"color: #008080; text-decoration-color: #008080; font-weight: bold\">36</span><span style=\"font-weight: bold\">]</span> Retrieving game with <span style=\"color: #808000; text-decoration-color: #808000\">id</span>=<span style=\"color: #008080; text-decoration-color: #008080; font-weight: bold\">4230578</span>                                   <a href=\"file://c:\\Users\\Operator\\.conda\\envs\\fantacalcio\\Lib\\site-packages\\soccerdata\\fotmob.py\" target=\"_blank\"><span style=\"color: #7f7f7f; text-decoration-color: #7f7f7f\">fotmob.py</span></a><span style=\"color: #7f7f7f; text-decoration-color: #7f7f7f\">:</span><a href=\"file://c:\\Users\\Operator\\.conda\\envs\\fantacalcio\\Lib\\site-packages\\soccerdata\\fotmob.py#398\" target=\"_blank\"><span style=\"color: #7f7f7f; text-decoration-color: #7f7f7f\">398</span></a>\n",
       "</pre>\n"
      ],
      "text/plain": [
       "\u001b[2;36m[05/12/24 12:02:48]\u001b[0m\u001b[2;36m \u001b[0m\u001b[34mINFO    \u001b[0m \u001b[1m[\u001b[0m\u001b[1;36m5\u001b[0m/\u001b[1;36m36\u001b[0m\u001b[1m]\u001b[0m Retrieving game with \u001b[33mid\u001b[0m=\u001b[1;36m4230578\u001b[0m                                   \u001b]8;id=371700;file://c:\\Users\\Operator\\.conda\\envs\\fantacalcio\\Lib\\site-packages\\soccerdata\\fotmob.py\u001b\\\u001b[2mfotmob.py\u001b[0m\u001b]8;;\u001b\\\u001b[2m:\u001b[0m\u001b]8;id=787840;file://c:\\Users\\Operator\\.conda\\envs\\fantacalcio\\Lib\\site-packages\\soccerdata\\fotmob.py#398\u001b\\\u001b[2m398\u001b[0m\u001b]8;;\u001b\\\n"
      ]
     },
     "metadata": {},
     "output_type": "display_data"
    },
    {
     "data": {
      "text/html": [
       "<pre style=\"white-space:pre;overflow-x:auto;line-height:normal;font-family:Menlo,'DejaVu Sans Mono',consolas,'Courier New',monospace\"><span style=\"color: #7fbfbf; text-decoration-color: #7fbfbf\">[05/12/24 12:02:49] </span><span style=\"color: #000080; text-decoration-color: #000080\">INFO    </span> <span style=\"font-weight: bold\">[</span><span style=\"color: #008080; text-decoration-color: #008080; font-weight: bold\">6</span>/<span style=\"color: #008080; text-decoration-color: #008080; font-weight: bold\">36</span><span style=\"font-weight: bold\">]</span> Retrieving game with <span style=\"color: #808000; text-decoration-color: #808000\">id</span>=<span style=\"color: #008080; text-decoration-color: #008080; font-weight: bold\">4230581</span>                                   <a href=\"file://c:\\Users\\Operator\\.conda\\envs\\fantacalcio\\Lib\\site-packages\\soccerdata\\fotmob.py\" target=\"_blank\"><span style=\"color: #7f7f7f; text-decoration-color: #7f7f7f\">fotmob.py</span></a><span style=\"color: #7f7f7f; text-decoration-color: #7f7f7f\">:</span><a href=\"file://c:\\Users\\Operator\\.conda\\envs\\fantacalcio\\Lib\\site-packages\\soccerdata\\fotmob.py#398\" target=\"_blank\"><span style=\"color: #7f7f7f; text-decoration-color: #7f7f7f\">398</span></a>\n",
       "</pre>\n"
      ],
      "text/plain": [
       "\u001b[2;36m[05/12/24 12:02:49]\u001b[0m\u001b[2;36m \u001b[0m\u001b[34mINFO    \u001b[0m \u001b[1m[\u001b[0m\u001b[1;36m6\u001b[0m/\u001b[1;36m36\u001b[0m\u001b[1m]\u001b[0m Retrieving game with \u001b[33mid\u001b[0m=\u001b[1;36m4230581\u001b[0m                                   \u001b]8;id=273139;file://c:\\Users\\Operator\\.conda\\envs\\fantacalcio\\Lib\\site-packages\\soccerdata\\fotmob.py\u001b\\\u001b[2mfotmob.py\u001b[0m\u001b]8;;\u001b\\\u001b[2m:\u001b[0m\u001b]8;id=506489;file://c:\\Users\\Operator\\.conda\\envs\\fantacalcio\\Lib\\site-packages\\soccerdata\\fotmob.py#398\u001b\\\u001b[2m398\u001b[0m\u001b]8;;\u001b\\\n"
      ]
     },
     "metadata": {},
     "output_type": "display_data"
    },
    {
     "data": {
      "text/html": [
       "<pre style=\"white-space:pre;overflow-x:auto;line-height:normal;font-family:Menlo,'DejaVu Sans Mono',consolas,'Courier New',monospace\"><span style=\"color: #7fbfbf; text-decoration-color: #7fbfbf\">[05/12/24 12:02:52] </span><span style=\"color: #000080; text-decoration-color: #000080\">INFO    </span> <span style=\"font-weight: bold\">[</span><span style=\"color: #008080; text-decoration-color: #008080; font-weight: bold\">7</span>/<span style=\"color: #008080; text-decoration-color: #008080; font-weight: bold\">36</span><span style=\"font-weight: bold\">]</span> Retrieving game with <span style=\"color: #808000; text-decoration-color: #808000\">id</span>=<span style=\"color: #008080; text-decoration-color: #008080; font-weight: bold\">4230599</span>                                   <a href=\"file://c:\\Users\\Operator\\.conda\\envs\\fantacalcio\\Lib\\site-packages\\soccerdata\\fotmob.py\" target=\"_blank\"><span style=\"color: #7f7f7f; text-decoration-color: #7f7f7f\">fotmob.py</span></a><span style=\"color: #7f7f7f; text-decoration-color: #7f7f7f\">:</span><a href=\"file://c:\\Users\\Operator\\.conda\\envs\\fantacalcio\\Lib\\site-packages\\soccerdata\\fotmob.py#398\" target=\"_blank\"><span style=\"color: #7f7f7f; text-decoration-color: #7f7f7f\">398</span></a>\n",
       "</pre>\n"
      ],
      "text/plain": [
       "\u001b[2;36m[05/12/24 12:02:52]\u001b[0m\u001b[2;36m \u001b[0m\u001b[34mINFO    \u001b[0m \u001b[1m[\u001b[0m\u001b[1;36m7\u001b[0m/\u001b[1;36m36\u001b[0m\u001b[1m]\u001b[0m Retrieving game with \u001b[33mid\u001b[0m=\u001b[1;36m4230599\u001b[0m                                   \u001b]8;id=489601;file://c:\\Users\\Operator\\.conda\\envs\\fantacalcio\\Lib\\site-packages\\soccerdata\\fotmob.py\u001b\\\u001b[2mfotmob.py\u001b[0m\u001b]8;;\u001b\\\u001b[2m:\u001b[0m\u001b]8;id=524475;file://c:\\Users\\Operator\\.conda\\envs\\fantacalcio\\Lib\\site-packages\\soccerdata\\fotmob.py#398\u001b\\\u001b[2m398\u001b[0m\u001b]8;;\u001b\\\n"
      ]
     },
     "metadata": {},
     "output_type": "display_data"
    },
    {
     "data": {
      "text/html": [
       "<pre style=\"white-space:pre;overflow-x:auto;line-height:normal;font-family:Menlo,'DejaVu Sans Mono',consolas,'Courier New',monospace\"><span style=\"color: #7fbfbf; text-decoration-color: #7fbfbf\">                    </span><span style=\"color: #000080; text-decoration-color: #000080\">INFO    </span> <span style=\"font-weight: bold\">[</span><span style=\"color: #008080; text-decoration-color: #008080; font-weight: bold\">8</span>/<span style=\"color: #008080; text-decoration-color: #008080; font-weight: bold\">36</span><span style=\"font-weight: bold\">]</span> Retrieving game with <span style=\"color: #808000; text-decoration-color: #808000\">id</span>=<span style=\"color: #008080; text-decoration-color: #008080; font-weight: bold\">4230604</span>                                   <a href=\"file://c:\\Users\\Operator\\.conda\\envs\\fantacalcio\\Lib\\site-packages\\soccerdata\\fotmob.py\" target=\"_blank\"><span style=\"color: #7f7f7f; text-decoration-color: #7f7f7f\">fotmob.py</span></a><span style=\"color: #7f7f7f; text-decoration-color: #7f7f7f\">:</span><a href=\"file://c:\\Users\\Operator\\.conda\\envs\\fantacalcio\\Lib\\site-packages\\soccerdata\\fotmob.py#398\" target=\"_blank\"><span style=\"color: #7f7f7f; text-decoration-color: #7f7f7f\">398</span></a>\n",
       "</pre>\n"
      ],
      "text/plain": [
       "\u001b[2;36m                   \u001b[0m\u001b[2;36m \u001b[0m\u001b[34mINFO    \u001b[0m \u001b[1m[\u001b[0m\u001b[1;36m8\u001b[0m/\u001b[1;36m36\u001b[0m\u001b[1m]\u001b[0m Retrieving game with \u001b[33mid\u001b[0m=\u001b[1;36m4230604\u001b[0m                                   \u001b]8;id=103399;file://c:\\Users\\Operator\\.conda\\envs\\fantacalcio\\Lib\\site-packages\\soccerdata\\fotmob.py\u001b\\\u001b[2mfotmob.py\u001b[0m\u001b]8;;\u001b\\\u001b[2m:\u001b[0m\u001b]8;id=685648;file://c:\\Users\\Operator\\.conda\\envs\\fantacalcio\\Lib\\site-packages\\soccerdata\\fotmob.py#398\u001b\\\u001b[2m398\u001b[0m\u001b]8;;\u001b\\\n"
      ]
     },
     "metadata": {},
     "output_type": "display_data"
    },
    {
     "data": {
      "text/html": [
       "<pre style=\"white-space:pre;overflow-x:auto;line-height:normal;font-family:Menlo,'DejaVu Sans Mono',consolas,'Courier New',monospace\"><span style=\"color: #7fbfbf; text-decoration-color: #7fbfbf\">[05/12/24 12:02:54] </span><span style=\"color: #000080; text-decoration-color: #000080\">INFO    </span> <span style=\"font-weight: bold\">[</span><span style=\"color: #008080; text-decoration-color: #008080; font-weight: bold\">9</span>/<span style=\"color: #008080; text-decoration-color: #008080; font-weight: bold\">36</span><span style=\"font-weight: bold\">]</span> Retrieving game with <span style=\"color: #808000; text-decoration-color: #808000\">id</span>=<span style=\"color: #008080; text-decoration-color: #008080; font-weight: bold\">4230617</span>                                   <a href=\"file://c:\\Users\\Operator\\.conda\\envs\\fantacalcio\\Lib\\site-packages\\soccerdata\\fotmob.py\" target=\"_blank\"><span style=\"color: #7f7f7f; text-decoration-color: #7f7f7f\">fotmob.py</span></a><span style=\"color: #7f7f7f; text-decoration-color: #7f7f7f\">:</span><a href=\"file://c:\\Users\\Operator\\.conda\\envs\\fantacalcio\\Lib\\site-packages\\soccerdata\\fotmob.py#398\" target=\"_blank\"><span style=\"color: #7f7f7f; text-decoration-color: #7f7f7f\">398</span></a>\n",
       "</pre>\n"
      ],
      "text/plain": [
       "\u001b[2;36m[05/12/24 12:02:54]\u001b[0m\u001b[2;36m \u001b[0m\u001b[34mINFO    \u001b[0m \u001b[1m[\u001b[0m\u001b[1;36m9\u001b[0m/\u001b[1;36m36\u001b[0m\u001b[1m]\u001b[0m Retrieving game with \u001b[33mid\u001b[0m=\u001b[1;36m4230617\u001b[0m                                   \u001b]8;id=665602;file://c:\\Users\\Operator\\.conda\\envs\\fantacalcio\\Lib\\site-packages\\soccerdata\\fotmob.py\u001b\\\u001b[2mfotmob.py\u001b[0m\u001b]8;;\u001b\\\u001b[2m:\u001b[0m\u001b]8;id=879716;file://c:\\Users\\Operator\\.conda\\envs\\fantacalcio\\Lib\\site-packages\\soccerdata\\fotmob.py#398\u001b\\\u001b[2m398\u001b[0m\u001b]8;;\u001b\\\n"
      ]
     },
     "metadata": {},
     "output_type": "display_data"
    },
    {
     "data": {
      "text/html": [
       "<pre style=\"white-space:pre;overflow-x:auto;line-height:normal;font-family:Menlo,'DejaVu Sans Mono',consolas,'Courier New',monospace\"><span style=\"color: #7fbfbf; text-decoration-color: #7fbfbf\">[05/12/24 12:02:55] </span><span style=\"color: #000080; text-decoration-color: #000080\">INFO    </span> <span style=\"font-weight: bold\">[</span><span style=\"color: #008080; text-decoration-color: #008080; font-weight: bold\">10</span>/<span style=\"color: #008080; text-decoration-color: #008080; font-weight: bold\">36</span><span style=\"font-weight: bold\">]</span> Retrieving game with <span style=\"color: #808000; text-decoration-color: #808000\">id</span>=<span style=\"color: #008080; text-decoration-color: #008080; font-weight: bold\">4230630</span>                                  <a href=\"file://c:\\Users\\Operator\\.conda\\envs\\fantacalcio\\Lib\\site-packages\\soccerdata\\fotmob.py\" target=\"_blank\"><span style=\"color: #7f7f7f; text-decoration-color: #7f7f7f\">fotmob.py</span></a><span style=\"color: #7f7f7f; text-decoration-color: #7f7f7f\">:</span><a href=\"file://c:\\Users\\Operator\\.conda\\envs\\fantacalcio\\Lib\\site-packages\\soccerdata\\fotmob.py#398\" target=\"_blank\"><span style=\"color: #7f7f7f; text-decoration-color: #7f7f7f\">398</span></a>\n",
       "</pre>\n"
      ],
      "text/plain": [
       "\u001b[2;36m[05/12/24 12:02:55]\u001b[0m\u001b[2;36m \u001b[0m\u001b[34mINFO    \u001b[0m \u001b[1m[\u001b[0m\u001b[1;36m10\u001b[0m/\u001b[1;36m36\u001b[0m\u001b[1m]\u001b[0m Retrieving game with \u001b[33mid\u001b[0m=\u001b[1;36m4230630\u001b[0m                                  \u001b]8;id=89592;file://c:\\Users\\Operator\\.conda\\envs\\fantacalcio\\Lib\\site-packages\\soccerdata\\fotmob.py\u001b\\\u001b[2mfotmob.py\u001b[0m\u001b]8;;\u001b\\\u001b[2m:\u001b[0m\u001b]8;id=447289;file://c:\\Users\\Operator\\.conda\\envs\\fantacalcio\\Lib\\site-packages\\soccerdata\\fotmob.py#398\u001b\\\u001b[2m398\u001b[0m\u001b]8;;\u001b\\\n"
      ]
     },
     "metadata": {},
     "output_type": "display_data"
    },
    {
     "data": {
      "text/html": [
       "<pre style=\"white-space:pre;overflow-x:auto;line-height:normal;font-family:Menlo,'DejaVu Sans Mono',consolas,'Courier New',monospace\"><span style=\"color: #7fbfbf; text-decoration-color: #7fbfbf\">[05/12/24 12:02:56] </span><span style=\"color: #000080; text-decoration-color: #000080\">INFO    </span> <span style=\"font-weight: bold\">[</span><span style=\"color: #008080; text-decoration-color: #008080; font-weight: bold\">11</span>/<span style=\"color: #008080; text-decoration-color: #008080; font-weight: bold\">36</span><span style=\"font-weight: bold\">]</span> Retrieving game with <span style=\"color: #808000; text-decoration-color: #808000\">id</span>=<span style=\"color: #008080; text-decoration-color: #008080; font-weight: bold\">4230639</span>                                  <a href=\"file://c:\\Users\\Operator\\.conda\\envs\\fantacalcio\\Lib\\site-packages\\soccerdata\\fotmob.py\" target=\"_blank\"><span style=\"color: #7f7f7f; text-decoration-color: #7f7f7f\">fotmob.py</span></a><span style=\"color: #7f7f7f; text-decoration-color: #7f7f7f\">:</span><a href=\"file://c:\\Users\\Operator\\.conda\\envs\\fantacalcio\\Lib\\site-packages\\soccerdata\\fotmob.py#398\" target=\"_blank\"><span style=\"color: #7f7f7f; text-decoration-color: #7f7f7f\">398</span></a>\n",
       "</pre>\n"
      ],
      "text/plain": [
       "\u001b[2;36m[05/12/24 12:02:56]\u001b[0m\u001b[2;36m \u001b[0m\u001b[34mINFO    \u001b[0m \u001b[1m[\u001b[0m\u001b[1;36m11\u001b[0m/\u001b[1;36m36\u001b[0m\u001b[1m]\u001b[0m Retrieving game with \u001b[33mid\u001b[0m=\u001b[1;36m4230639\u001b[0m                                  \u001b]8;id=329991;file://c:\\Users\\Operator\\.conda\\envs\\fantacalcio\\Lib\\site-packages\\soccerdata\\fotmob.py\u001b\\\u001b[2mfotmob.py\u001b[0m\u001b]8;;\u001b\\\u001b[2m:\u001b[0m\u001b]8;id=955771;file://c:\\Users\\Operator\\.conda\\envs\\fantacalcio\\Lib\\site-packages\\soccerdata\\fotmob.py#398\u001b\\\u001b[2m398\u001b[0m\u001b]8;;\u001b\\\n"
      ]
     },
     "metadata": {},
     "output_type": "display_data"
    },
    {
     "data": {
      "text/html": [
       "<pre style=\"white-space:pre;overflow-x:auto;line-height:normal;font-family:Menlo,'DejaVu Sans Mono',consolas,'Courier New',monospace\"><span style=\"color: #7fbfbf; text-decoration-color: #7fbfbf\">[05/12/24 12:02:58] </span><span style=\"color: #000080; text-decoration-color: #000080\">INFO    </span> <span style=\"font-weight: bold\">[</span><span style=\"color: #008080; text-decoration-color: #008080; font-weight: bold\">12</span>/<span style=\"color: #008080; text-decoration-color: #008080; font-weight: bold\">36</span><span style=\"font-weight: bold\">]</span> Retrieving game with <span style=\"color: #808000; text-decoration-color: #808000\">id</span>=<span style=\"color: #008080; text-decoration-color: #008080; font-weight: bold\">4230646</span>                                  <a href=\"file://c:\\Users\\Operator\\.conda\\envs\\fantacalcio\\Lib\\site-packages\\soccerdata\\fotmob.py\" target=\"_blank\"><span style=\"color: #7f7f7f; text-decoration-color: #7f7f7f\">fotmob.py</span></a><span style=\"color: #7f7f7f; text-decoration-color: #7f7f7f\">:</span><a href=\"file://c:\\Users\\Operator\\.conda\\envs\\fantacalcio\\Lib\\site-packages\\soccerdata\\fotmob.py#398\" target=\"_blank\"><span style=\"color: #7f7f7f; text-decoration-color: #7f7f7f\">398</span></a>\n",
       "</pre>\n"
      ],
      "text/plain": [
       "\u001b[2;36m[05/12/24 12:02:58]\u001b[0m\u001b[2;36m \u001b[0m\u001b[34mINFO    \u001b[0m \u001b[1m[\u001b[0m\u001b[1;36m12\u001b[0m/\u001b[1;36m36\u001b[0m\u001b[1m]\u001b[0m Retrieving game with \u001b[33mid\u001b[0m=\u001b[1;36m4230646\u001b[0m                                  \u001b]8;id=71429;file://c:\\Users\\Operator\\.conda\\envs\\fantacalcio\\Lib\\site-packages\\soccerdata\\fotmob.py\u001b\\\u001b[2mfotmob.py\u001b[0m\u001b]8;;\u001b\\\u001b[2m:\u001b[0m\u001b]8;id=177768;file://c:\\Users\\Operator\\.conda\\envs\\fantacalcio\\Lib\\site-packages\\soccerdata\\fotmob.py#398\u001b\\\u001b[2m398\u001b[0m\u001b]8;;\u001b\\\n"
      ]
     },
     "metadata": {},
     "output_type": "display_data"
    },
    {
     "data": {
      "text/html": [
       "<pre style=\"white-space:pre;overflow-x:auto;line-height:normal;font-family:Menlo,'DejaVu Sans Mono',consolas,'Courier New',monospace\"><span style=\"color: #7fbfbf; text-decoration-color: #7fbfbf\">[05/12/24 12:03:00] </span><span style=\"color: #000080; text-decoration-color: #000080\">INFO    </span> <span style=\"font-weight: bold\">[</span><span style=\"color: #008080; text-decoration-color: #008080; font-weight: bold\">13</span>/<span style=\"color: #008080; text-decoration-color: #008080; font-weight: bold\">36</span><span style=\"font-weight: bold\">]</span> Retrieving game with <span style=\"color: #808000; text-decoration-color: #808000\">id</span>=<span style=\"color: #008080; text-decoration-color: #008080; font-weight: bold\">4230661</span>                                  <a href=\"file://c:\\Users\\Operator\\.conda\\envs\\fantacalcio\\Lib\\site-packages\\soccerdata\\fotmob.py\" target=\"_blank\"><span style=\"color: #7f7f7f; text-decoration-color: #7f7f7f\">fotmob.py</span></a><span style=\"color: #7f7f7f; text-decoration-color: #7f7f7f\">:</span><a href=\"file://c:\\Users\\Operator\\.conda\\envs\\fantacalcio\\Lib\\site-packages\\soccerdata\\fotmob.py#398\" target=\"_blank\"><span style=\"color: #7f7f7f; text-decoration-color: #7f7f7f\">398</span></a>\n",
       "</pre>\n"
      ],
      "text/plain": [
       "\u001b[2;36m[05/12/24 12:03:00]\u001b[0m\u001b[2;36m \u001b[0m\u001b[34mINFO    \u001b[0m \u001b[1m[\u001b[0m\u001b[1;36m13\u001b[0m/\u001b[1;36m36\u001b[0m\u001b[1m]\u001b[0m Retrieving game with \u001b[33mid\u001b[0m=\u001b[1;36m4230661\u001b[0m                                  \u001b]8;id=518355;file://c:\\Users\\Operator\\.conda\\envs\\fantacalcio\\Lib\\site-packages\\soccerdata\\fotmob.py\u001b\\\u001b[2mfotmob.py\u001b[0m\u001b]8;;\u001b\\\u001b[2m:\u001b[0m\u001b]8;id=644700;file://c:\\Users\\Operator\\.conda\\envs\\fantacalcio\\Lib\\site-packages\\soccerdata\\fotmob.py#398\u001b\\\u001b[2m398\u001b[0m\u001b]8;;\u001b\\\n"
      ]
     },
     "metadata": {},
     "output_type": "display_data"
    },
    {
     "data": {
      "text/html": [
       "<pre style=\"white-space:pre;overflow-x:auto;line-height:normal;font-family:Menlo,'DejaVu Sans Mono',consolas,'Courier New',monospace\"><span style=\"color: #7fbfbf; text-decoration-color: #7fbfbf\">[05/12/24 12:03:01] </span><span style=\"color: #000080; text-decoration-color: #000080\">INFO    </span> <span style=\"font-weight: bold\">[</span><span style=\"color: #008080; text-decoration-color: #008080; font-weight: bold\">14</span>/<span style=\"color: #008080; text-decoration-color: #008080; font-weight: bold\">36</span><span style=\"font-weight: bold\">]</span> Retrieving game with <span style=\"color: #808000; text-decoration-color: #808000\">id</span>=<span style=\"color: #008080; text-decoration-color: #008080; font-weight: bold\">4230669</span>                                  <a href=\"file://c:\\Users\\Operator\\.conda\\envs\\fantacalcio\\Lib\\site-packages\\soccerdata\\fotmob.py\" target=\"_blank\"><span style=\"color: #7f7f7f; text-decoration-color: #7f7f7f\">fotmob.py</span></a><span style=\"color: #7f7f7f; text-decoration-color: #7f7f7f\">:</span><a href=\"file://c:\\Users\\Operator\\.conda\\envs\\fantacalcio\\Lib\\site-packages\\soccerdata\\fotmob.py#398\" target=\"_blank\"><span style=\"color: #7f7f7f; text-decoration-color: #7f7f7f\">398</span></a>\n",
       "</pre>\n"
      ],
      "text/plain": [
       "\u001b[2;36m[05/12/24 12:03:01]\u001b[0m\u001b[2;36m \u001b[0m\u001b[34mINFO    \u001b[0m \u001b[1m[\u001b[0m\u001b[1;36m14\u001b[0m/\u001b[1;36m36\u001b[0m\u001b[1m]\u001b[0m Retrieving game with \u001b[33mid\u001b[0m=\u001b[1;36m4230669\u001b[0m                                  \u001b]8;id=73399;file://c:\\Users\\Operator\\.conda\\envs\\fantacalcio\\Lib\\site-packages\\soccerdata\\fotmob.py\u001b\\\u001b[2mfotmob.py\u001b[0m\u001b]8;;\u001b\\\u001b[2m:\u001b[0m\u001b]8;id=853088;file://c:\\Users\\Operator\\.conda\\envs\\fantacalcio\\Lib\\site-packages\\soccerdata\\fotmob.py#398\u001b\\\u001b[2m398\u001b[0m\u001b]8;;\u001b\\\n"
      ]
     },
     "metadata": {},
     "output_type": "display_data"
    },
    {
     "data": {
      "text/html": [
       "<pre style=\"white-space:pre;overflow-x:auto;line-height:normal;font-family:Menlo,'DejaVu Sans Mono',consolas,'Courier New',monospace\"><span style=\"color: #7fbfbf; text-decoration-color: #7fbfbf\">[05/12/24 12:03:02] </span><span style=\"color: #000080; text-decoration-color: #000080\">INFO    </span> <span style=\"font-weight: bold\">[</span><span style=\"color: #008080; text-decoration-color: #008080; font-weight: bold\">15</span>/<span style=\"color: #008080; text-decoration-color: #008080; font-weight: bold\">36</span><span style=\"font-weight: bold\">]</span> Retrieving game with <span style=\"color: #808000; text-decoration-color: #808000\">id</span>=<span style=\"color: #008080; text-decoration-color: #008080; font-weight: bold\">4230674</span>                                  <a href=\"file://c:\\Users\\Operator\\.conda\\envs\\fantacalcio\\Lib\\site-packages\\soccerdata\\fotmob.py\" target=\"_blank\"><span style=\"color: #7f7f7f; text-decoration-color: #7f7f7f\">fotmob.py</span></a><span style=\"color: #7f7f7f; text-decoration-color: #7f7f7f\">:</span><a href=\"file://c:\\Users\\Operator\\.conda\\envs\\fantacalcio\\Lib\\site-packages\\soccerdata\\fotmob.py#398\" target=\"_blank\"><span style=\"color: #7f7f7f; text-decoration-color: #7f7f7f\">398</span></a>\n",
       "</pre>\n"
      ],
      "text/plain": [
       "\u001b[2;36m[05/12/24 12:03:02]\u001b[0m\u001b[2;36m \u001b[0m\u001b[34mINFO    \u001b[0m \u001b[1m[\u001b[0m\u001b[1;36m15\u001b[0m/\u001b[1;36m36\u001b[0m\u001b[1m]\u001b[0m Retrieving game with \u001b[33mid\u001b[0m=\u001b[1;36m4230674\u001b[0m                                  \u001b]8;id=238668;file://c:\\Users\\Operator\\.conda\\envs\\fantacalcio\\Lib\\site-packages\\soccerdata\\fotmob.py\u001b\\\u001b[2mfotmob.py\u001b[0m\u001b]8;;\u001b\\\u001b[2m:\u001b[0m\u001b]8;id=357824;file://c:\\Users\\Operator\\.conda\\envs\\fantacalcio\\Lib\\site-packages\\soccerdata\\fotmob.py#398\u001b\\\u001b[2m398\u001b[0m\u001b]8;;\u001b\\\n"
      ]
     },
     "metadata": {},
     "output_type": "display_data"
    },
    {
     "data": {
      "text/html": [
       "<pre style=\"white-space:pre;overflow-x:auto;line-height:normal;font-family:Menlo,'DejaVu Sans Mono',consolas,'Courier New',monospace\"><span style=\"color: #7fbfbf; text-decoration-color: #7fbfbf\">[05/12/24 12:03:03] </span><span style=\"color: #000080; text-decoration-color: #000080\">INFO    </span> <span style=\"font-weight: bold\">[</span><span style=\"color: #008080; text-decoration-color: #008080; font-weight: bold\">16</span>/<span style=\"color: #008080; text-decoration-color: #008080; font-weight: bold\">36</span><span style=\"font-weight: bold\">]</span> Retrieving game with <span style=\"color: #808000; text-decoration-color: #808000\">id</span>=<span style=\"color: #008080; text-decoration-color: #008080; font-weight: bold\">4230688</span>                                  <a href=\"file://c:\\Users\\Operator\\.conda\\envs\\fantacalcio\\Lib\\site-packages\\soccerdata\\fotmob.py\" target=\"_blank\"><span style=\"color: #7f7f7f; text-decoration-color: #7f7f7f\">fotmob.py</span></a><span style=\"color: #7f7f7f; text-decoration-color: #7f7f7f\">:</span><a href=\"file://c:\\Users\\Operator\\.conda\\envs\\fantacalcio\\Lib\\site-packages\\soccerdata\\fotmob.py#398\" target=\"_blank\"><span style=\"color: #7f7f7f; text-decoration-color: #7f7f7f\">398</span></a>\n",
       "</pre>\n"
      ],
      "text/plain": [
       "\u001b[2;36m[05/12/24 12:03:03]\u001b[0m\u001b[2;36m \u001b[0m\u001b[34mINFO    \u001b[0m \u001b[1m[\u001b[0m\u001b[1;36m16\u001b[0m/\u001b[1;36m36\u001b[0m\u001b[1m]\u001b[0m Retrieving game with \u001b[33mid\u001b[0m=\u001b[1;36m4230688\u001b[0m                                  \u001b]8;id=558327;file://c:\\Users\\Operator\\.conda\\envs\\fantacalcio\\Lib\\site-packages\\soccerdata\\fotmob.py\u001b\\\u001b[2mfotmob.py\u001b[0m\u001b]8;;\u001b\\\u001b[2m:\u001b[0m\u001b]8;id=432740;file://c:\\Users\\Operator\\.conda\\envs\\fantacalcio\\Lib\\site-packages\\soccerdata\\fotmob.py#398\u001b\\\u001b[2m398\u001b[0m\u001b]8;;\u001b\\\n"
      ]
     },
     "metadata": {},
     "output_type": "display_data"
    },
    {
     "data": {
      "text/html": [
       "<pre style=\"white-space:pre;overflow-x:auto;line-height:normal;font-family:Menlo,'DejaVu Sans Mono',consolas,'Courier New',monospace\"><span style=\"color: #7fbfbf; text-decoration-color: #7fbfbf\">[05/12/24 12:03:05] </span><span style=\"color: #000080; text-decoration-color: #000080\">INFO    </span> <span style=\"font-weight: bold\">[</span><span style=\"color: #008080; text-decoration-color: #008080; font-weight: bold\">17</span>/<span style=\"color: #008080; text-decoration-color: #008080; font-weight: bold\">36</span><span style=\"font-weight: bold\">]</span> Retrieving game with <span style=\"color: #808000; text-decoration-color: #808000\">id</span>=<span style=\"color: #008080; text-decoration-color: #008080; font-weight: bold\">4230702</span>                                  <a href=\"file://c:\\Users\\Operator\\.conda\\envs\\fantacalcio\\Lib\\site-packages\\soccerdata\\fotmob.py\" target=\"_blank\"><span style=\"color: #7f7f7f; text-decoration-color: #7f7f7f\">fotmob.py</span></a><span style=\"color: #7f7f7f; text-decoration-color: #7f7f7f\">:</span><a href=\"file://c:\\Users\\Operator\\.conda\\envs\\fantacalcio\\Lib\\site-packages\\soccerdata\\fotmob.py#398\" target=\"_blank\"><span style=\"color: #7f7f7f; text-decoration-color: #7f7f7f\">398</span></a>\n",
       "</pre>\n"
      ],
      "text/plain": [
       "\u001b[2;36m[05/12/24 12:03:05]\u001b[0m\u001b[2;36m \u001b[0m\u001b[34mINFO    \u001b[0m \u001b[1m[\u001b[0m\u001b[1;36m17\u001b[0m/\u001b[1;36m36\u001b[0m\u001b[1m]\u001b[0m Retrieving game with \u001b[33mid\u001b[0m=\u001b[1;36m4230702\u001b[0m                                  \u001b]8;id=850901;file://c:\\Users\\Operator\\.conda\\envs\\fantacalcio\\Lib\\site-packages\\soccerdata\\fotmob.py\u001b\\\u001b[2mfotmob.py\u001b[0m\u001b]8;;\u001b\\\u001b[2m:\u001b[0m\u001b]8;id=495558;file://c:\\Users\\Operator\\.conda\\envs\\fantacalcio\\Lib\\site-packages\\soccerdata\\fotmob.py#398\u001b\\\u001b[2m398\u001b[0m\u001b]8;;\u001b\\\n"
      ]
     },
     "metadata": {},
     "output_type": "display_data"
    },
    {
     "data": {
      "text/html": [
       "<pre style=\"white-space:pre;overflow-x:auto;line-height:normal;font-family:Menlo,'DejaVu Sans Mono',consolas,'Courier New',monospace\"><span style=\"color: #7fbfbf; text-decoration-color: #7fbfbf\">[05/12/24 12:03:07] </span><span style=\"color: #000080; text-decoration-color: #000080\">INFO    </span> <span style=\"font-weight: bold\">[</span><span style=\"color: #008080; text-decoration-color: #008080; font-weight: bold\">18</span>/<span style=\"color: #008080; text-decoration-color: #008080; font-weight: bold\">36</span><span style=\"font-weight: bold\">]</span> Retrieving game with <span style=\"color: #808000; text-decoration-color: #808000\">id</span>=<span style=\"color: #008080; text-decoration-color: #008080; font-weight: bold\">4230710</span>                                  <a href=\"file://c:\\Users\\Operator\\.conda\\envs\\fantacalcio\\Lib\\site-packages\\soccerdata\\fotmob.py\" target=\"_blank\"><span style=\"color: #7f7f7f; text-decoration-color: #7f7f7f\">fotmob.py</span></a><span style=\"color: #7f7f7f; text-decoration-color: #7f7f7f\">:</span><a href=\"file://c:\\Users\\Operator\\.conda\\envs\\fantacalcio\\Lib\\site-packages\\soccerdata\\fotmob.py#398\" target=\"_blank\"><span style=\"color: #7f7f7f; text-decoration-color: #7f7f7f\">398</span></a>\n",
       "</pre>\n"
      ],
      "text/plain": [
       "\u001b[2;36m[05/12/24 12:03:07]\u001b[0m\u001b[2;36m \u001b[0m\u001b[34mINFO    \u001b[0m \u001b[1m[\u001b[0m\u001b[1;36m18\u001b[0m/\u001b[1;36m36\u001b[0m\u001b[1m]\u001b[0m Retrieving game with \u001b[33mid\u001b[0m=\u001b[1;36m4230710\u001b[0m                                  \u001b]8;id=781821;file://c:\\Users\\Operator\\.conda\\envs\\fantacalcio\\Lib\\site-packages\\soccerdata\\fotmob.py\u001b\\\u001b[2mfotmob.py\u001b[0m\u001b]8;;\u001b\\\u001b[2m:\u001b[0m\u001b]8;id=348415;file://c:\\Users\\Operator\\.conda\\envs\\fantacalcio\\Lib\\site-packages\\soccerdata\\fotmob.py#398\u001b\\\u001b[2m398\u001b[0m\u001b]8;;\u001b\\\n"
      ]
     },
     "metadata": {},
     "output_type": "display_data"
    },
    {
     "data": {
      "text/html": [
       "<pre style=\"white-space:pre;overflow-x:auto;line-height:normal;font-family:Menlo,'DejaVu Sans Mono',consolas,'Courier New',monospace\"><span style=\"color: #7fbfbf; text-decoration-color: #7fbfbf\">[05/12/24 12:03:08] </span><span style=\"color: #000080; text-decoration-color: #000080\">INFO    </span> <span style=\"font-weight: bold\">[</span><span style=\"color: #008080; text-decoration-color: #008080; font-weight: bold\">19</span>/<span style=\"color: #008080; text-decoration-color: #008080; font-weight: bold\">36</span><span style=\"font-weight: bold\">]</span> Retrieving game with <span style=\"color: #808000; text-decoration-color: #808000\">id</span>=<span style=\"color: #008080; text-decoration-color: #008080; font-weight: bold\">4230715</span>                                  <a href=\"file://c:\\Users\\Operator\\.conda\\envs\\fantacalcio\\Lib\\site-packages\\soccerdata\\fotmob.py\" target=\"_blank\"><span style=\"color: #7f7f7f; text-decoration-color: #7f7f7f\">fotmob.py</span></a><span style=\"color: #7f7f7f; text-decoration-color: #7f7f7f\">:</span><a href=\"file://c:\\Users\\Operator\\.conda\\envs\\fantacalcio\\Lib\\site-packages\\soccerdata\\fotmob.py#398\" target=\"_blank\"><span style=\"color: #7f7f7f; text-decoration-color: #7f7f7f\">398</span></a>\n",
       "</pre>\n"
      ],
      "text/plain": [
       "\u001b[2;36m[05/12/24 12:03:08]\u001b[0m\u001b[2;36m \u001b[0m\u001b[34mINFO    \u001b[0m \u001b[1m[\u001b[0m\u001b[1;36m19\u001b[0m/\u001b[1;36m36\u001b[0m\u001b[1m]\u001b[0m Retrieving game with \u001b[33mid\u001b[0m=\u001b[1;36m4230715\u001b[0m                                  \u001b]8;id=882754;file://c:\\Users\\Operator\\.conda\\envs\\fantacalcio\\Lib\\site-packages\\soccerdata\\fotmob.py\u001b\\\u001b[2mfotmob.py\u001b[0m\u001b]8;;\u001b\\\u001b[2m:\u001b[0m\u001b]8;id=222725;file://c:\\Users\\Operator\\.conda\\envs\\fantacalcio\\Lib\\site-packages\\soccerdata\\fotmob.py#398\u001b\\\u001b[2m398\u001b[0m\u001b]8;;\u001b\\\n"
      ]
     },
     "metadata": {},
     "output_type": "display_data"
    },
    {
     "data": {
      "text/html": [
       "<pre style=\"white-space:pre;overflow-x:auto;line-height:normal;font-family:Menlo,'DejaVu Sans Mono',consolas,'Courier New',monospace\"><span style=\"color: #7fbfbf; text-decoration-color: #7fbfbf\">[05/12/24 12:03:09] </span><span style=\"color: #000080; text-decoration-color: #000080\">INFO    </span> <span style=\"font-weight: bold\">[</span><span style=\"color: #008080; text-decoration-color: #008080; font-weight: bold\">20</span>/<span style=\"color: #008080; text-decoration-color: #008080; font-weight: bold\">36</span><span style=\"font-weight: bold\">]</span> Retrieving game with <span style=\"color: #808000; text-decoration-color: #808000\">id</span>=<span style=\"color: #008080; text-decoration-color: #008080; font-weight: bold\">4230729</span>                                  <a href=\"file://c:\\Users\\Operator\\.conda\\envs\\fantacalcio\\Lib\\site-packages\\soccerdata\\fotmob.py\" target=\"_blank\"><span style=\"color: #7f7f7f; text-decoration-color: #7f7f7f\">fotmob.py</span></a><span style=\"color: #7f7f7f; text-decoration-color: #7f7f7f\">:</span><a href=\"file://c:\\Users\\Operator\\.conda\\envs\\fantacalcio\\Lib\\site-packages\\soccerdata\\fotmob.py#398\" target=\"_blank\"><span style=\"color: #7f7f7f; text-decoration-color: #7f7f7f\">398</span></a>\n",
       "</pre>\n"
      ],
      "text/plain": [
       "\u001b[2;36m[05/12/24 12:03:09]\u001b[0m\u001b[2;36m \u001b[0m\u001b[34mINFO    \u001b[0m \u001b[1m[\u001b[0m\u001b[1;36m20\u001b[0m/\u001b[1;36m36\u001b[0m\u001b[1m]\u001b[0m Retrieving game with \u001b[33mid\u001b[0m=\u001b[1;36m4230729\u001b[0m                                  \u001b]8;id=189294;file://c:\\Users\\Operator\\.conda\\envs\\fantacalcio\\Lib\\site-packages\\soccerdata\\fotmob.py\u001b\\\u001b[2mfotmob.py\u001b[0m\u001b]8;;\u001b\\\u001b[2m:\u001b[0m\u001b]8;id=875631;file://c:\\Users\\Operator\\.conda\\envs\\fantacalcio\\Lib\\site-packages\\soccerdata\\fotmob.py#398\u001b\\\u001b[2m398\u001b[0m\u001b]8;;\u001b\\\n"
      ]
     },
     "metadata": {},
     "output_type": "display_data"
    },
    {
     "data": {
      "text/html": [
       "<pre style=\"white-space:pre;overflow-x:auto;line-height:normal;font-family:Menlo,'DejaVu Sans Mono',consolas,'Courier New',monospace\"><span style=\"color: #7fbfbf; text-decoration-color: #7fbfbf\">[05/12/24 12:03:10] </span><span style=\"color: #000080; text-decoration-color: #000080\">INFO    </span> <span style=\"font-weight: bold\">[</span><span style=\"color: #008080; text-decoration-color: #008080; font-weight: bold\">21</span>/<span style=\"color: #008080; text-decoration-color: #008080; font-weight: bold\">36</span><span style=\"font-weight: bold\">]</span> Retrieving game with <span style=\"color: #808000; text-decoration-color: #808000\">id</span>=<span style=\"color: #008080; text-decoration-color: #008080; font-weight: bold\">4230742</span>                                  <a href=\"file://c:\\Users\\Operator\\.conda\\envs\\fantacalcio\\Lib\\site-packages\\soccerdata\\fotmob.py\" target=\"_blank\"><span style=\"color: #7f7f7f; text-decoration-color: #7f7f7f\">fotmob.py</span></a><span style=\"color: #7f7f7f; text-decoration-color: #7f7f7f\">:</span><a href=\"file://c:\\Users\\Operator\\.conda\\envs\\fantacalcio\\Lib\\site-packages\\soccerdata\\fotmob.py#398\" target=\"_blank\"><span style=\"color: #7f7f7f; text-decoration-color: #7f7f7f\">398</span></a>\n",
       "</pre>\n"
      ],
      "text/plain": [
       "\u001b[2;36m[05/12/24 12:03:10]\u001b[0m\u001b[2;36m \u001b[0m\u001b[34mINFO    \u001b[0m \u001b[1m[\u001b[0m\u001b[1;36m21\u001b[0m/\u001b[1;36m36\u001b[0m\u001b[1m]\u001b[0m Retrieving game with \u001b[33mid\u001b[0m=\u001b[1;36m4230742\u001b[0m                                  \u001b]8;id=166945;file://c:\\Users\\Operator\\.conda\\envs\\fantacalcio\\Lib\\site-packages\\soccerdata\\fotmob.py\u001b\\\u001b[2mfotmob.py\u001b[0m\u001b]8;;\u001b\\\u001b[2m:\u001b[0m\u001b]8;id=589174;file://c:\\Users\\Operator\\.conda\\envs\\fantacalcio\\Lib\\site-packages\\soccerdata\\fotmob.py#398\u001b\\\u001b[2m398\u001b[0m\u001b]8;;\u001b\\\n"
      ]
     },
     "metadata": {},
     "output_type": "display_data"
    },
    {
     "data": {
      "text/html": [
       "<pre style=\"white-space:pre;overflow-x:auto;line-height:normal;font-family:Menlo,'DejaVu Sans Mono',consolas,'Courier New',monospace\"><span style=\"color: #7fbfbf; text-decoration-color: #7fbfbf\">[05/12/24 12:03:11] </span><span style=\"color: #000080; text-decoration-color: #000080\">INFO    </span> <span style=\"font-weight: bold\">[</span><span style=\"color: #008080; text-decoration-color: #008080; font-weight: bold\">22</span>/<span style=\"color: #008080; text-decoration-color: #008080; font-weight: bold\">36</span><span style=\"font-weight: bold\">]</span> Retrieving game with <span style=\"color: #808000; text-decoration-color: #808000\">id</span>=<span style=\"color: #008080; text-decoration-color: #008080; font-weight: bold\">4230750</span>                                  <a href=\"file://c:\\Users\\Operator\\.conda\\envs\\fantacalcio\\Lib\\site-packages\\soccerdata\\fotmob.py\" target=\"_blank\"><span style=\"color: #7f7f7f; text-decoration-color: #7f7f7f\">fotmob.py</span></a><span style=\"color: #7f7f7f; text-decoration-color: #7f7f7f\">:</span><a href=\"file://c:\\Users\\Operator\\.conda\\envs\\fantacalcio\\Lib\\site-packages\\soccerdata\\fotmob.py#398\" target=\"_blank\"><span style=\"color: #7f7f7f; text-decoration-color: #7f7f7f\">398</span></a>\n",
       "</pre>\n"
      ],
      "text/plain": [
       "\u001b[2;36m[05/12/24 12:03:11]\u001b[0m\u001b[2;36m \u001b[0m\u001b[34mINFO    \u001b[0m \u001b[1m[\u001b[0m\u001b[1;36m22\u001b[0m/\u001b[1;36m36\u001b[0m\u001b[1m]\u001b[0m Retrieving game with \u001b[33mid\u001b[0m=\u001b[1;36m4230750\u001b[0m                                  \u001b]8;id=868814;file://c:\\Users\\Operator\\.conda\\envs\\fantacalcio\\Lib\\site-packages\\soccerdata\\fotmob.py\u001b\\\u001b[2mfotmob.py\u001b[0m\u001b]8;;\u001b\\\u001b[2m:\u001b[0m\u001b]8;id=468752;file://c:\\Users\\Operator\\.conda\\envs\\fantacalcio\\Lib\\site-packages\\soccerdata\\fotmob.py#398\u001b\\\u001b[2m398\u001b[0m\u001b]8;;\u001b\\\n"
      ]
     },
     "metadata": {},
     "output_type": "display_data"
    },
    {
     "data": {
      "text/html": [
       "<pre style=\"white-space:pre;overflow-x:auto;line-height:normal;font-family:Menlo,'DejaVu Sans Mono',consolas,'Courier New',monospace\"><span style=\"color: #7fbfbf; text-decoration-color: #7fbfbf\">[05/12/24 12:03:12] </span><span style=\"color: #000080; text-decoration-color: #000080\">INFO    </span> <span style=\"font-weight: bold\">[</span><span style=\"color: #008080; text-decoration-color: #008080; font-weight: bold\">23</span>/<span style=\"color: #008080; text-decoration-color: #008080; font-weight: bold\">36</span><span style=\"font-weight: bold\">]</span> Retrieving game with <span style=\"color: #808000; text-decoration-color: #808000\">id</span>=<span style=\"color: #008080; text-decoration-color: #008080; font-weight: bold\">4230757</span>                                  <a href=\"file://c:\\Users\\Operator\\.conda\\envs\\fantacalcio\\Lib\\site-packages\\soccerdata\\fotmob.py\" target=\"_blank\"><span style=\"color: #7f7f7f; text-decoration-color: #7f7f7f\">fotmob.py</span></a><span style=\"color: #7f7f7f; text-decoration-color: #7f7f7f\">:</span><a href=\"file://c:\\Users\\Operator\\.conda\\envs\\fantacalcio\\Lib\\site-packages\\soccerdata\\fotmob.py#398\" target=\"_blank\"><span style=\"color: #7f7f7f; text-decoration-color: #7f7f7f\">398</span></a>\n",
       "</pre>\n"
      ],
      "text/plain": [
       "\u001b[2;36m[05/12/24 12:03:12]\u001b[0m\u001b[2;36m \u001b[0m\u001b[34mINFO    \u001b[0m \u001b[1m[\u001b[0m\u001b[1;36m23\u001b[0m/\u001b[1;36m36\u001b[0m\u001b[1m]\u001b[0m Retrieving game with \u001b[33mid\u001b[0m=\u001b[1;36m4230757\u001b[0m                                  \u001b]8;id=640755;file://c:\\Users\\Operator\\.conda\\envs\\fantacalcio\\Lib\\site-packages\\soccerdata\\fotmob.py\u001b\\\u001b[2mfotmob.py\u001b[0m\u001b]8;;\u001b\\\u001b[2m:\u001b[0m\u001b]8;id=324959;file://c:\\Users\\Operator\\.conda\\envs\\fantacalcio\\Lib\\site-packages\\soccerdata\\fotmob.py#398\u001b\\\u001b[2m398\u001b[0m\u001b]8;;\u001b\\\n"
      ]
     },
     "metadata": {},
     "output_type": "display_data"
    },
    {
     "data": {
      "text/html": [
       "<pre style=\"white-space:pre;overflow-x:auto;line-height:normal;font-family:Menlo,'DejaVu Sans Mono',consolas,'Courier New',monospace\"><span style=\"color: #7fbfbf; text-decoration-color: #7fbfbf\">[05/12/24 12:03:13] </span><span style=\"color: #000080; text-decoration-color: #000080\">INFO    </span> <span style=\"font-weight: bold\">[</span><span style=\"color: #008080; text-decoration-color: #008080; font-weight: bold\">24</span>/<span style=\"color: #008080; text-decoration-color: #008080; font-weight: bold\">36</span><span style=\"font-weight: bold\">]</span> Retrieving game with <span style=\"color: #808000; text-decoration-color: #808000\">id</span>=<span style=\"color: #008080; text-decoration-color: #008080; font-weight: bold\">4230768</span>                                  <a href=\"file://c:\\Users\\Operator\\.conda\\envs\\fantacalcio\\Lib\\site-packages\\soccerdata\\fotmob.py\" target=\"_blank\"><span style=\"color: #7f7f7f; text-decoration-color: #7f7f7f\">fotmob.py</span></a><span style=\"color: #7f7f7f; text-decoration-color: #7f7f7f\">:</span><a href=\"file://c:\\Users\\Operator\\.conda\\envs\\fantacalcio\\Lib\\site-packages\\soccerdata\\fotmob.py#398\" target=\"_blank\"><span style=\"color: #7f7f7f; text-decoration-color: #7f7f7f\">398</span></a>\n",
       "</pre>\n"
      ],
      "text/plain": [
       "\u001b[2;36m[05/12/24 12:03:13]\u001b[0m\u001b[2;36m \u001b[0m\u001b[34mINFO    \u001b[0m \u001b[1m[\u001b[0m\u001b[1;36m24\u001b[0m/\u001b[1;36m36\u001b[0m\u001b[1m]\u001b[0m Retrieving game with \u001b[33mid\u001b[0m=\u001b[1;36m4230768\u001b[0m                                  \u001b]8;id=229092;file://c:\\Users\\Operator\\.conda\\envs\\fantacalcio\\Lib\\site-packages\\soccerdata\\fotmob.py\u001b\\\u001b[2mfotmob.py\u001b[0m\u001b]8;;\u001b\\\u001b[2m:\u001b[0m\u001b]8;id=463613;file://c:\\Users\\Operator\\.conda\\envs\\fantacalcio\\Lib\\site-packages\\soccerdata\\fotmob.py#398\u001b\\\u001b[2m398\u001b[0m\u001b]8;;\u001b\\\n"
      ]
     },
     "metadata": {},
     "output_type": "display_data"
    },
    {
     "data": {
      "text/html": [
       "<pre style=\"white-space:pre;overflow-x:auto;line-height:normal;font-family:Menlo,'DejaVu Sans Mono',consolas,'Courier New',monospace\"><span style=\"color: #7fbfbf; text-decoration-color: #7fbfbf\">[05/12/24 12:03:14] </span><span style=\"color: #000080; text-decoration-color: #000080\">INFO    </span> <span style=\"font-weight: bold\">[</span><span style=\"color: #008080; text-decoration-color: #008080; font-weight: bold\">25</span>/<span style=\"color: #008080; text-decoration-color: #008080; font-weight: bold\">36</span><span style=\"font-weight: bold\">]</span> Retrieving game with <span style=\"color: #808000; text-decoration-color: #808000\">id</span>=<span style=\"color: #008080; text-decoration-color: #008080; font-weight: bold\">4230783</span>                                  <a href=\"file://c:\\Users\\Operator\\.conda\\envs\\fantacalcio\\Lib\\site-packages\\soccerdata\\fotmob.py\" target=\"_blank\"><span style=\"color: #7f7f7f; text-decoration-color: #7f7f7f\">fotmob.py</span></a><span style=\"color: #7f7f7f; text-decoration-color: #7f7f7f\">:</span><a href=\"file://c:\\Users\\Operator\\.conda\\envs\\fantacalcio\\Lib\\site-packages\\soccerdata\\fotmob.py#398\" target=\"_blank\"><span style=\"color: #7f7f7f; text-decoration-color: #7f7f7f\">398</span></a>\n",
       "</pre>\n"
      ],
      "text/plain": [
       "\u001b[2;36m[05/12/24 12:03:14]\u001b[0m\u001b[2;36m \u001b[0m\u001b[34mINFO    \u001b[0m \u001b[1m[\u001b[0m\u001b[1;36m25\u001b[0m/\u001b[1;36m36\u001b[0m\u001b[1m]\u001b[0m Retrieving game with \u001b[33mid\u001b[0m=\u001b[1;36m4230783\u001b[0m                                  \u001b]8;id=899546;file://c:\\Users\\Operator\\.conda\\envs\\fantacalcio\\Lib\\site-packages\\soccerdata\\fotmob.py\u001b\\\u001b[2mfotmob.py\u001b[0m\u001b]8;;\u001b\\\u001b[2m:\u001b[0m\u001b]8;id=862095;file://c:\\Users\\Operator\\.conda\\envs\\fantacalcio\\Lib\\site-packages\\soccerdata\\fotmob.py#398\u001b\\\u001b[2m398\u001b[0m\u001b]8;;\u001b\\\n"
      ]
     },
     "metadata": {},
     "output_type": "display_data"
    },
    {
     "data": {
      "text/html": [
       "<pre style=\"white-space:pre;overflow-x:auto;line-height:normal;font-family:Menlo,'DejaVu Sans Mono',consolas,'Courier New',monospace\"><span style=\"color: #7fbfbf; text-decoration-color: #7fbfbf\">[05/12/24 12:03:15] </span><span style=\"color: #000080; text-decoration-color: #000080\">INFO    </span> <span style=\"font-weight: bold\">[</span><span style=\"color: #008080; text-decoration-color: #008080; font-weight: bold\">26</span>/<span style=\"color: #008080; text-decoration-color: #008080; font-weight: bold\">36</span><span style=\"font-weight: bold\">]</span> Retrieving game with <span style=\"color: #808000; text-decoration-color: #808000\">id</span>=<span style=\"color: #008080; text-decoration-color: #008080; font-weight: bold\">4230789</span>                                  <a href=\"file://c:\\Users\\Operator\\.conda\\envs\\fantacalcio\\Lib\\site-packages\\soccerdata\\fotmob.py\" target=\"_blank\"><span style=\"color: #7f7f7f; text-decoration-color: #7f7f7f\">fotmob.py</span></a><span style=\"color: #7f7f7f; text-decoration-color: #7f7f7f\">:</span><a href=\"file://c:\\Users\\Operator\\.conda\\envs\\fantacalcio\\Lib\\site-packages\\soccerdata\\fotmob.py#398\" target=\"_blank\"><span style=\"color: #7f7f7f; text-decoration-color: #7f7f7f\">398</span></a>\n",
       "</pre>\n"
      ],
      "text/plain": [
       "\u001b[2;36m[05/12/24 12:03:15]\u001b[0m\u001b[2;36m \u001b[0m\u001b[34mINFO    \u001b[0m \u001b[1m[\u001b[0m\u001b[1;36m26\u001b[0m/\u001b[1;36m36\u001b[0m\u001b[1m]\u001b[0m Retrieving game with \u001b[33mid\u001b[0m=\u001b[1;36m4230789\u001b[0m                                  \u001b]8;id=74992;file://c:\\Users\\Operator\\.conda\\envs\\fantacalcio\\Lib\\site-packages\\soccerdata\\fotmob.py\u001b\\\u001b[2mfotmob.py\u001b[0m\u001b]8;;\u001b\\\u001b[2m:\u001b[0m\u001b]8;id=611142;file://c:\\Users\\Operator\\.conda\\envs\\fantacalcio\\Lib\\site-packages\\soccerdata\\fotmob.py#398\u001b\\\u001b[2m398\u001b[0m\u001b]8;;\u001b\\\n"
      ]
     },
     "metadata": {},
     "output_type": "display_data"
    },
    {
     "data": {
      "text/html": [
       "<pre style=\"white-space:pre;overflow-x:auto;line-height:normal;font-family:Menlo,'DejaVu Sans Mono',consolas,'Courier New',monospace\"><span style=\"color: #7fbfbf; text-decoration-color: #7fbfbf\">[05/12/24 12:03:16] </span><span style=\"color: #000080; text-decoration-color: #000080\">INFO    </span> <span style=\"font-weight: bold\">[</span><span style=\"color: #008080; text-decoration-color: #008080; font-weight: bold\">27</span>/<span style=\"color: #008080; text-decoration-color: #008080; font-weight: bold\">36</span><span style=\"font-weight: bold\">]</span> Retrieving game with <span style=\"color: #808000; text-decoration-color: #808000\">id</span>=<span style=\"color: #008080; text-decoration-color: #008080; font-weight: bold\">4230797</span>                                  <a href=\"file://c:\\Users\\Operator\\.conda\\envs\\fantacalcio\\Lib\\site-packages\\soccerdata\\fotmob.py\" target=\"_blank\"><span style=\"color: #7f7f7f; text-decoration-color: #7f7f7f\">fotmob.py</span></a><span style=\"color: #7f7f7f; text-decoration-color: #7f7f7f\">:</span><a href=\"file://c:\\Users\\Operator\\.conda\\envs\\fantacalcio\\Lib\\site-packages\\soccerdata\\fotmob.py#398\" target=\"_blank\"><span style=\"color: #7f7f7f; text-decoration-color: #7f7f7f\">398</span></a>\n",
       "</pre>\n"
      ],
      "text/plain": [
       "\u001b[2;36m[05/12/24 12:03:16]\u001b[0m\u001b[2;36m \u001b[0m\u001b[34mINFO    \u001b[0m \u001b[1m[\u001b[0m\u001b[1;36m27\u001b[0m/\u001b[1;36m36\u001b[0m\u001b[1m]\u001b[0m Retrieving game with \u001b[33mid\u001b[0m=\u001b[1;36m4230797\u001b[0m                                  \u001b]8;id=199096;file://c:\\Users\\Operator\\.conda\\envs\\fantacalcio\\Lib\\site-packages\\soccerdata\\fotmob.py\u001b\\\u001b[2mfotmob.py\u001b[0m\u001b]8;;\u001b\\\u001b[2m:\u001b[0m\u001b]8;id=721997;file://c:\\Users\\Operator\\.conda\\envs\\fantacalcio\\Lib\\site-packages\\soccerdata\\fotmob.py#398\u001b\\\u001b[2m398\u001b[0m\u001b]8;;\u001b\\\n"
      ]
     },
     "metadata": {},
     "output_type": "display_data"
    },
    {
     "data": {
      "text/html": [
       "<pre style=\"white-space:pre;overflow-x:auto;line-height:normal;font-family:Menlo,'DejaVu Sans Mono',consolas,'Courier New',monospace\"><span style=\"color: #7fbfbf; text-decoration-color: #7fbfbf\">[05/12/24 12:03:18] </span><span style=\"color: #000080; text-decoration-color: #000080\">INFO    </span> <span style=\"font-weight: bold\">[</span><span style=\"color: #008080; text-decoration-color: #008080; font-weight: bold\">28</span>/<span style=\"color: #008080; text-decoration-color: #008080; font-weight: bold\">36</span><span style=\"font-weight: bold\">]</span> Retrieving game with <span style=\"color: #808000; text-decoration-color: #808000\">id</span>=<span style=\"color: #008080; text-decoration-color: #008080; font-weight: bold\">4230817</span>                                  <a href=\"file://c:\\Users\\Operator\\.conda\\envs\\fantacalcio\\Lib\\site-packages\\soccerdata\\fotmob.py\" target=\"_blank\"><span style=\"color: #7f7f7f; text-decoration-color: #7f7f7f\">fotmob.py</span></a><span style=\"color: #7f7f7f; text-decoration-color: #7f7f7f\">:</span><a href=\"file://c:\\Users\\Operator\\.conda\\envs\\fantacalcio\\Lib\\site-packages\\soccerdata\\fotmob.py#398\" target=\"_blank\"><span style=\"color: #7f7f7f; text-decoration-color: #7f7f7f\">398</span></a>\n",
       "</pre>\n"
      ],
      "text/plain": [
       "\u001b[2;36m[05/12/24 12:03:18]\u001b[0m\u001b[2;36m \u001b[0m\u001b[34mINFO    \u001b[0m \u001b[1m[\u001b[0m\u001b[1;36m28\u001b[0m/\u001b[1;36m36\u001b[0m\u001b[1m]\u001b[0m Retrieving game with \u001b[33mid\u001b[0m=\u001b[1;36m4230817\u001b[0m                                  \u001b]8;id=803453;file://c:\\Users\\Operator\\.conda\\envs\\fantacalcio\\Lib\\site-packages\\soccerdata\\fotmob.py\u001b\\\u001b[2mfotmob.py\u001b[0m\u001b]8;;\u001b\\\u001b[2m:\u001b[0m\u001b]8;id=885991;file://c:\\Users\\Operator\\.conda\\envs\\fantacalcio\\Lib\\site-packages\\soccerdata\\fotmob.py#398\u001b\\\u001b[2m398\u001b[0m\u001b]8;;\u001b\\\n"
      ]
     },
     "metadata": {},
     "output_type": "display_data"
    },
    {
     "data": {
      "text/html": [
       "<pre style=\"white-space:pre;overflow-x:auto;line-height:normal;font-family:Menlo,'DejaVu Sans Mono',consolas,'Courier New',monospace\"><span style=\"color: #7fbfbf; text-decoration-color: #7fbfbf\">                    </span><span style=\"color: #000080; text-decoration-color: #000080\">INFO    </span> <span style=\"font-weight: bold\">[</span><span style=\"color: #008080; text-decoration-color: #008080; font-weight: bold\">29</span>/<span style=\"color: #008080; text-decoration-color: #008080; font-weight: bold\">36</span><span style=\"font-weight: bold\">]</span> Retrieving game with <span style=\"color: #808000; text-decoration-color: #808000\">id</span>=<span style=\"color: #008080; text-decoration-color: #008080; font-weight: bold\">4230826</span>                                  <a href=\"file://c:\\Users\\Operator\\.conda\\envs\\fantacalcio\\Lib\\site-packages\\soccerdata\\fotmob.py\" target=\"_blank\"><span style=\"color: #7f7f7f; text-decoration-color: #7f7f7f\">fotmob.py</span></a><span style=\"color: #7f7f7f; text-decoration-color: #7f7f7f\">:</span><a href=\"file://c:\\Users\\Operator\\.conda\\envs\\fantacalcio\\Lib\\site-packages\\soccerdata\\fotmob.py#398\" target=\"_blank\"><span style=\"color: #7f7f7f; text-decoration-color: #7f7f7f\">398</span></a>\n",
       "</pre>\n"
      ],
      "text/plain": [
       "\u001b[2;36m                   \u001b[0m\u001b[2;36m \u001b[0m\u001b[34mINFO    \u001b[0m \u001b[1m[\u001b[0m\u001b[1;36m29\u001b[0m/\u001b[1;36m36\u001b[0m\u001b[1m]\u001b[0m Retrieving game with \u001b[33mid\u001b[0m=\u001b[1;36m4230826\u001b[0m                                  \u001b]8;id=91121;file://c:\\Users\\Operator\\.conda\\envs\\fantacalcio\\Lib\\site-packages\\soccerdata\\fotmob.py\u001b\\\u001b[2mfotmob.py\u001b[0m\u001b]8;;\u001b\\\u001b[2m:\u001b[0m\u001b]8;id=644383;file://c:\\Users\\Operator\\.conda\\envs\\fantacalcio\\Lib\\site-packages\\soccerdata\\fotmob.py#398\u001b\\\u001b[2m398\u001b[0m\u001b]8;;\u001b\\\n"
      ]
     },
     "metadata": {},
     "output_type": "display_data"
    },
    {
     "data": {
      "text/html": [
       "<pre style=\"white-space:pre;overflow-x:auto;line-height:normal;font-family:Menlo,'DejaVu Sans Mono',consolas,'Courier New',monospace\"><span style=\"color: #7fbfbf; text-decoration-color: #7fbfbf\">[05/12/24 12:03:20] </span><span style=\"color: #000080; text-decoration-color: #000080\">INFO    </span> <span style=\"font-weight: bold\">[</span><span style=\"color: #008080; text-decoration-color: #008080; font-weight: bold\">30</span>/<span style=\"color: #008080; text-decoration-color: #008080; font-weight: bold\">36</span><span style=\"font-weight: bold\">]</span> Retrieving game with <span style=\"color: #808000; text-decoration-color: #808000\">id</span>=<span style=\"color: #008080; text-decoration-color: #008080; font-weight: bold\">4230836</span>                                  <a href=\"file://c:\\Users\\Operator\\.conda\\envs\\fantacalcio\\Lib\\site-packages\\soccerdata\\fotmob.py\" target=\"_blank\"><span style=\"color: #7f7f7f; text-decoration-color: #7f7f7f\">fotmob.py</span></a><span style=\"color: #7f7f7f; text-decoration-color: #7f7f7f\">:</span><a href=\"file://c:\\Users\\Operator\\.conda\\envs\\fantacalcio\\Lib\\site-packages\\soccerdata\\fotmob.py#398\" target=\"_blank\"><span style=\"color: #7f7f7f; text-decoration-color: #7f7f7f\">398</span></a>\n",
       "</pre>\n"
      ],
      "text/plain": [
       "\u001b[2;36m[05/12/24 12:03:20]\u001b[0m\u001b[2;36m \u001b[0m\u001b[34mINFO    \u001b[0m \u001b[1m[\u001b[0m\u001b[1;36m30\u001b[0m/\u001b[1;36m36\u001b[0m\u001b[1m]\u001b[0m Retrieving game with \u001b[33mid\u001b[0m=\u001b[1;36m4230836\u001b[0m                                  \u001b]8;id=564203;file://c:\\Users\\Operator\\.conda\\envs\\fantacalcio\\Lib\\site-packages\\soccerdata\\fotmob.py\u001b\\\u001b[2mfotmob.py\u001b[0m\u001b]8;;\u001b\\\u001b[2m:\u001b[0m\u001b]8;id=137500;file://c:\\Users\\Operator\\.conda\\envs\\fantacalcio\\Lib\\site-packages\\soccerdata\\fotmob.py#398\u001b\\\u001b[2m398\u001b[0m\u001b]8;;\u001b\\\n"
      ]
     },
     "metadata": {},
     "output_type": "display_data"
    },
    {
     "data": {
      "text/html": [
       "<pre style=\"white-space:pre;overflow-x:auto;line-height:normal;font-family:Menlo,'DejaVu Sans Mono',consolas,'Courier New',monospace\"><span style=\"color: #7fbfbf; text-decoration-color: #7fbfbf\">[05/12/24 12:03:21] </span><span style=\"color: #000080; text-decoration-color: #000080\">INFO    </span> <span style=\"font-weight: bold\">[</span><span style=\"color: #008080; text-decoration-color: #008080; font-weight: bold\">31</span>/<span style=\"color: #008080; text-decoration-color: #008080; font-weight: bold\">36</span><span style=\"font-weight: bold\">]</span> Retrieving game with <span style=\"color: #808000; text-decoration-color: #808000\">id</span>=<span style=\"color: #008080; text-decoration-color: #008080; font-weight: bold\">4230824</span>                                  <a href=\"file://c:\\Users\\Operator\\.conda\\envs\\fantacalcio\\Lib\\site-packages\\soccerdata\\fotmob.py\" target=\"_blank\"><span style=\"color: #7f7f7f; text-decoration-color: #7f7f7f\">fotmob.py</span></a><span style=\"color: #7f7f7f; text-decoration-color: #7f7f7f\">:</span><a href=\"file://c:\\Users\\Operator\\.conda\\envs\\fantacalcio\\Lib\\site-packages\\soccerdata\\fotmob.py#398\" target=\"_blank\"><span style=\"color: #7f7f7f; text-decoration-color: #7f7f7f\">398</span></a>\n",
       "</pre>\n"
      ],
      "text/plain": [
       "\u001b[2;36m[05/12/24 12:03:21]\u001b[0m\u001b[2;36m \u001b[0m\u001b[34mINFO    \u001b[0m \u001b[1m[\u001b[0m\u001b[1;36m31\u001b[0m/\u001b[1;36m36\u001b[0m\u001b[1m]\u001b[0m Retrieving game with \u001b[33mid\u001b[0m=\u001b[1;36m4230824\u001b[0m                                  \u001b]8;id=895225;file://c:\\Users\\Operator\\.conda\\envs\\fantacalcio\\Lib\\site-packages\\soccerdata\\fotmob.py\u001b\\\u001b[2mfotmob.py\u001b[0m\u001b]8;;\u001b\\\u001b[2m:\u001b[0m\u001b]8;id=328710;file://c:\\Users\\Operator\\.conda\\envs\\fantacalcio\\Lib\\site-packages\\soccerdata\\fotmob.py#398\u001b\\\u001b[2m398\u001b[0m\u001b]8;;\u001b\\\n"
      ]
     },
     "metadata": {},
     "output_type": "display_data"
    },
    {
     "data": {
      "text/html": [
       "<pre style=\"white-space:pre;overflow-x:auto;line-height:normal;font-family:Menlo,'DejaVu Sans Mono',consolas,'Courier New',monospace\"><span style=\"color: #7fbfbf; text-decoration-color: #7fbfbf\">[05/12/24 12:03:22] </span><span style=\"color: #000080; text-decoration-color: #000080\">INFO    </span> <span style=\"font-weight: bold\">[</span><span style=\"color: #008080; text-decoration-color: #008080; font-weight: bold\">32</span>/<span style=\"color: #008080; text-decoration-color: #008080; font-weight: bold\">36</span><span style=\"font-weight: bold\">]</span> Retrieving game with <span style=\"color: #808000; text-decoration-color: #808000\">id</span>=<span style=\"color: #008080; text-decoration-color: #008080; font-weight: bold\">4230852</span>                                  <a href=\"file://c:\\Users\\Operator\\.conda\\envs\\fantacalcio\\Lib\\site-packages\\soccerdata\\fotmob.py\" target=\"_blank\"><span style=\"color: #7f7f7f; text-decoration-color: #7f7f7f\">fotmob.py</span></a><span style=\"color: #7f7f7f; text-decoration-color: #7f7f7f\">:</span><a href=\"file://c:\\Users\\Operator\\.conda\\envs\\fantacalcio\\Lib\\site-packages\\soccerdata\\fotmob.py#398\" target=\"_blank\"><span style=\"color: #7f7f7f; text-decoration-color: #7f7f7f\">398</span></a>\n",
       "</pre>\n"
      ],
      "text/plain": [
       "\u001b[2;36m[05/12/24 12:03:22]\u001b[0m\u001b[2;36m \u001b[0m\u001b[34mINFO    \u001b[0m \u001b[1m[\u001b[0m\u001b[1;36m32\u001b[0m/\u001b[1;36m36\u001b[0m\u001b[1m]\u001b[0m Retrieving game with \u001b[33mid\u001b[0m=\u001b[1;36m4230852\u001b[0m                                  \u001b]8;id=898186;file://c:\\Users\\Operator\\.conda\\envs\\fantacalcio\\Lib\\site-packages\\soccerdata\\fotmob.py\u001b\\\u001b[2mfotmob.py\u001b[0m\u001b]8;;\u001b\\\u001b[2m:\u001b[0m\u001b]8;id=898775;file://c:\\Users\\Operator\\.conda\\envs\\fantacalcio\\Lib\\site-packages\\soccerdata\\fotmob.py#398\u001b\\\u001b[2m398\u001b[0m\u001b]8;;\u001b\\\n"
      ]
     },
     "metadata": {},
     "output_type": "display_data"
    },
    {
     "data": {
      "text/html": [
       "<pre style=\"white-space:pre;overflow-x:auto;line-height:normal;font-family:Menlo,'DejaVu Sans Mono',consolas,'Courier New',monospace\"><span style=\"color: #7fbfbf; text-decoration-color: #7fbfbf\">[05/12/24 12:03:23] </span><span style=\"color: #000080; text-decoration-color: #000080\">INFO    </span> <span style=\"font-weight: bold\">[</span><span style=\"color: #008080; text-decoration-color: #008080; font-weight: bold\">33</span>/<span style=\"color: #008080; text-decoration-color: #008080; font-weight: bold\">36</span><span style=\"font-weight: bold\">]</span> Retrieving game with <span style=\"color: #808000; text-decoration-color: #808000\">id</span>=<span style=\"color: #008080; text-decoration-color: #008080; font-weight: bold\">4230862</span>                                  <a href=\"file://c:\\Users\\Operator\\.conda\\envs\\fantacalcio\\Lib\\site-packages\\soccerdata\\fotmob.py\" target=\"_blank\"><span style=\"color: #7f7f7f; text-decoration-color: #7f7f7f\">fotmob.py</span></a><span style=\"color: #7f7f7f; text-decoration-color: #7f7f7f\">:</span><a href=\"file://c:\\Users\\Operator\\.conda\\envs\\fantacalcio\\Lib\\site-packages\\soccerdata\\fotmob.py#398\" target=\"_blank\"><span style=\"color: #7f7f7f; text-decoration-color: #7f7f7f\">398</span></a>\n",
       "</pre>\n"
      ],
      "text/plain": [
       "\u001b[2;36m[05/12/24 12:03:23]\u001b[0m\u001b[2;36m \u001b[0m\u001b[34mINFO    \u001b[0m \u001b[1m[\u001b[0m\u001b[1;36m33\u001b[0m/\u001b[1;36m36\u001b[0m\u001b[1m]\u001b[0m Retrieving game with \u001b[33mid\u001b[0m=\u001b[1;36m4230862\u001b[0m                                  \u001b]8;id=298020;file://c:\\Users\\Operator\\.conda\\envs\\fantacalcio\\Lib\\site-packages\\soccerdata\\fotmob.py\u001b\\\u001b[2mfotmob.py\u001b[0m\u001b]8;;\u001b\\\u001b[2m:\u001b[0m\u001b]8;id=313851;file://c:\\Users\\Operator\\.conda\\envs\\fantacalcio\\Lib\\site-packages\\soccerdata\\fotmob.py#398\u001b\\\u001b[2m398\u001b[0m\u001b]8;;\u001b\\\n"
      ]
     },
     "metadata": {},
     "output_type": "display_data"
    },
    {
     "data": {
      "text/html": [
       "<pre style=\"white-space:pre;overflow-x:auto;line-height:normal;font-family:Menlo,'DejaVu Sans Mono',consolas,'Courier New',monospace\"><span style=\"color: #7fbfbf; text-decoration-color: #7fbfbf\">[05/12/24 12:03:24] </span><span style=\"color: #000080; text-decoration-color: #000080\">INFO    </span> <span style=\"font-weight: bold\">[</span><span style=\"color: #008080; text-decoration-color: #008080; font-weight: bold\">34</span>/<span style=\"color: #008080; text-decoration-color: #008080; font-weight: bold\">36</span><span style=\"font-weight: bold\">]</span> Retrieving game with <span style=\"color: #808000; text-decoration-color: #808000\">id</span>=<span style=\"color: #008080; text-decoration-color: #008080; font-weight: bold\">4230869</span>                                  <a href=\"file://c:\\Users\\Operator\\.conda\\envs\\fantacalcio\\Lib\\site-packages\\soccerdata\\fotmob.py\" target=\"_blank\"><span style=\"color: #7f7f7f; text-decoration-color: #7f7f7f\">fotmob.py</span></a><span style=\"color: #7f7f7f; text-decoration-color: #7f7f7f\">:</span><a href=\"file://c:\\Users\\Operator\\.conda\\envs\\fantacalcio\\Lib\\site-packages\\soccerdata\\fotmob.py#398\" target=\"_blank\"><span style=\"color: #7f7f7f; text-decoration-color: #7f7f7f\">398</span></a>\n",
       "</pre>\n"
      ],
      "text/plain": [
       "\u001b[2;36m[05/12/24 12:03:24]\u001b[0m\u001b[2;36m \u001b[0m\u001b[34mINFO    \u001b[0m \u001b[1m[\u001b[0m\u001b[1;36m34\u001b[0m/\u001b[1;36m36\u001b[0m\u001b[1m]\u001b[0m Retrieving game with \u001b[33mid\u001b[0m=\u001b[1;36m4230869\u001b[0m                                  \u001b]8;id=778255;file://c:\\Users\\Operator\\.conda\\envs\\fantacalcio\\Lib\\site-packages\\soccerdata\\fotmob.py\u001b\\\u001b[2mfotmob.py\u001b[0m\u001b]8;;\u001b\\\u001b[2m:\u001b[0m\u001b]8;id=317047;file://c:\\Users\\Operator\\.conda\\envs\\fantacalcio\\Lib\\site-packages\\soccerdata\\fotmob.py#398\u001b\\\u001b[2m398\u001b[0m\u001b]8;;\u001b\\\n"
      ]
     },
     "metadata": {},
     "output_type": "display_data"
    },
    {
     "data": {
      "text/html": [
       "<pre style=\"white-space:pre;overflow-x:auto;line-height:normal;font-family:Menlo,'DejaVu Sans Mono',consolas,'Courier New',monospace\"><span style=\"color: #7fbfbf; text-decoration-color: #7fbfbf\">[05/12/24 12:03:25] </span><span style=\"color: #000080; text-decoration-color: #000080\">INFO    </span> <span style=\"font-weight: bold\">[</span><span style=\"color: #008080; text-decoration-color: #008080; font-weight: bold\">35</span>/<span style=\"color: #008080; text-decoration-color: #008080; font-weight: bold\">36</span><span style=\"font-weight: bold\">]</span> Retrieving game with <span style=\"color: #808000; text-decoration-color: #808000\">id</span>=<span style=\"color: #008080; text-decoration-color: #008080; font-weight: bold\">4230879</span>                                  <a href=\"file://c:\\Users\\Operator\\.conda\\envs\\fantacalcio\\Lib\\site-packages\\soccerdata\\fotmob.py\" target=\"_blank\"><span style=\"color: #7f7f7f; text-decoration-color: #7f7f7f\">fotmob.py</span></a><span style=\"color: #7f7f7f; text-decoration-color: #7f7f7f\">:</span><a href=\"file://c:\\Users\\Operator\\.conda\\envs\\fantacalcio\\Lib\\site-packages\\soccerdata\\fotmob.py#398\" target=\"_blank\"><span style=\"color: #7f7f7f; text-decoration-color: #7f7f7f\">398</span></a>\n",
       "</pre>\n"
      ],
      "text/plain": [
       "\u001b[2;36m[05/12/24 12:03:25]\u001b[0m\u001b[2;36m \u001b[0m\u001b[34mINFO    \u001b[0m \u001b[1m[\u001b[0m\u001b[1;36m35\u001b[0m/\u001b[1;36m36\u001b[0m\u001b[1m]\u001b[0m Retrieving game with \u001b[33mid\u001b[0m=\u001b[1;36m4230879\u001b[0m                                  \u001b]8;id=451569;file://c:\\Users\\Operator\\.conda\\envs\\fantacalcio\\Lib\\site-packages\\soccerdata\\fotmob.py\u001b\\\u001b[2mfotmob.py\u001b[0m\u001b]8;;\u001b\\\u001b[2m:\u001b[0m\u001b]8;id=115774;file://c:\\Users\\Operator\\.conda\\envs\\fantacalcio\\Lib\\site-packages\\soccerdata\\fotmob.py#398\u001b\\\u001b[2m398\u001b[0m\u001b]8;;\u001b\\\n"
      ]
     },
     "metadata": {},
     "output_type": "display_data"
    },
    {
     "data": {
      "text/html": [
       "<pre style=\"white-space:pre;overflow-x:auto;line-height:normal;font-family:Menlo,'DejaVu Sans Mono',consolas,'Courier New',monospace\"><span style=\"color: #7fbfbf; text-decoration-color: #7fbfbf\">                    </span><span style=\"color: #000080; text-decoration-color: #000080\">INFO    </span> <span style=\"font-weight: bold\">[</span><span style=\"color: #008080; text-decoration-color: #008080; font-weight: bold\">36</span>/<span style=\"color: #008080; text-decoration-color: #008080; font-weight: bold\">36</span><span style=\"font-weight: bold\">]</span> Retrieving game with <span style=\"color: #808000; text-decoration-color: #808000\">id</span>=<span style=\"color: #008080; text-decoration-color: #008080; font-weight: bold\">4230892</span>                                  <a href=\"file://c:\\Users\\Operator\\.conda\\envs\\fantacalcio\\Lib\\site-packages\\soccerdata\\fotmob.py\" target=\"_blank\"><span style=\"color: #7f7f7f; text-decoration-color: #7f7f7f\">fotmob.py</span></a><span style=\"color: #7f7f7f; text-decoration-color: #7f7f7f\">:</span><a href=\"file://c:\\Users\\Operator\\.conda\\envs\\fantacalcio\\Lib\\site-packages\\soccerdata\\fotmob.py#398\" target=\"_blank\"><span style=\"color: #7f7f7f; text-decoration-color: #7f7f7f\">398</span></a>\n",
       "</pre>\n"
      ],
      "text/plain": [
       "\u001b[2;36m                   \u001b[0m\u001b[2;36m \u001b[0m\u001b[34mINFO    \u001b[0m \u001b[1m[\u001b[0m\u001b[1;36m36\u001b[0m/\u001b[1;36m36\u001b[0m\u001b[1m]\u001b[0m Retrieving game with \u001b[33mid\u001b[0m=\u001b[1;36m4230892\u001b[0m                                  \u001b]8;id=103324;file://c:\\Users\\Operator\\.conda\\envs\\fantacalcio\\Lib\\site-packages\\soccerdata\\fotmob.py\u001b\\\u001b[2mfotmob.py\u001b[0m\u001b]8;;\u001b\\\u001b[2m:\u001b[0m\u001b]8;id=526843;file://c:\\Users\\Operator\\.conda\\envs\\fantacalcio\\Lib\\site-packages\\soccerdata\\fotmob.py#398\u001b\\\u001b[2m398\u001b[0m\u001b]8;;\u001b\\\n"
      ]
     },
     "metadata": {},
     "output_type": "display_data"
    },
    {
     "data": {
      "text/html": [
       "<div>\n",
       "<style scoped>\n",
       "    .dataframe tbody tr th:only-of-type {\n",
       "        vertical-align: middle;\n",
       "    }\n",
       "\n",
       "    .dataframe tbody tr th {\n",
       "        vertical-align: top;\n",
       "    }\n",
       "\n",
       "    .dataframe thead th {\n",
       "        text-align: right;\n",
       "    }\n",
       "</style>\n",
       "<table border=\"1\" class=\"dataframe\">\n",
       "  <thead>\n",
       "    <tr style=\"text-align: right;\">\n",
       "      <th></th>\n",
       "      <th></th>\n",
       "      <th></th>\n",
       "      <th></th>\n",
       "      <th>Accurate passes</th>\n",
       "      <th>Ball possession</th>\n",
       "      <th>Big chances</th>\n",
       "      <th>Big chances missed</th>\n",
       "      <th>Corners</th>\n",
       "      <th>Expected goals (xG)</th>\n",
       "      <th>Fouls committed</th>\n",
       "      <th>Shots on target</th>\n",
       "      <th>Total shots</th>\n",
       "      <th>Accurate passes (%)</th>\n",
       "    </tr>\n",
       "    <tr>\n",
       "      <th>league</th>\n",
       "      <th>season</th>\n",
       "      <th>game</th>\n",
       "      <th>team</th>\n",
       "      <th></th>\n",
       "      <th></th>\n",
       "      <th></th>\n",
       "      <th></th>\n",
       "      <th></th>\n",
       "      <th></th>\n",
       "      <th></th>\n",
       "      <th></th>\n",
       "      <th></th>\n",
       "      <th></th>\n",
       "    </tr>\n",
       "  </thead>\n",
       "  <tbody>\n",
       "    <tr>\n",
       "      <th rowspan=\"5\" valign=\"top\">ITA-Serie A</th>\n",
       "      <th rowspan=\"5\" valign=\"top\">2324</th>\n",
       "      <th>2023-08-21 Bologna-AC Milan</th>\n",
       "      <th>AC Milan</th>\n",
       "      <td>409</td>\n",
       "      <td>47</td>\n",
       "      <td>2</td>\n",
       "      <td>1</td>\n",
       "      <td>6</td>\n",
       "      <td>0.90</td>\n",
       "      <td>4</td>\n",
       "      <td>6</td>\n",
       "      <td>9</td>\n",
       "      <td>0.85</td>\n",
       "    </tr>\n",
       "    <tr>\n",
       "      <th>2023-08-26 AC Milan-Torino</th>\n",
       "      <th>AC Milan</th>\n",
       "      <td>431</td>\n",
       "      <td>59</td>\n",
       "      <td>4</td>\n",
       "      <td>0</td>\n",
       "      <td>2</td>\n",
       "      <td>3.04</td>\n",
       "      <td>13</td>\n",
       "      <td>7</td>\n",
       "      <td>17</td>\n",
       "      <td>0.87</td>\n",
       "    </tr>\n",
       "    <tr>\n",
       "      <th>2023-09-01 Roma-AC Milan</th>\n",
       "      <th>AC Milan</th>\n",
       "      <td>478</td>\n",
       "      <td>57</td>\n",
       "      <td>1</td>\n",
       "      <td>0</td>\n",
       "      <td>5</td>\n",
       "      <td>1.66</td>\n",
       "      <td>15</td>\n",
       "      <td>4</td>\n",
       "      <td>9</td>\n",
       "      <td>0.88</td>\n",
       "    </tr>\n",
       "    <tr>\n",
       "      <th>2023-09-16 Inter-AC Milan</th>\n",
       "      <th>AC Milan</th>\n",
       "      <td>475</td>\n",
       "      <td>60</td>\n",
       "      <td>2</td>\n",
       "      <td>1</td>\n",
       "      <td>0</td>\n",
       "      <td>1.06</td>\n",
       "      <td>13</td>\n",
       "      <td>2</td>\n",
       "      <td>9</td>\n",
       "      <td>0.90</td>\n",
       "    </tr>\n",
       "    <tr>\n",
       "      <th>2023-09-23 AC Milan-Hellas Verona</th>\n",
       "      <th>AC Milan</th>\n",
       "      <td>370</td>\n",
       "      <td>54</td>\n",
       "      <td>1</td>\n",
       "      <td>0</td>\n",
       "      <td>2</td>\n",
       "      <td>0.93</td>\n",
       "      <td>12</td>\n",
       "      <td>4</td>\n",
       "      <td>9</td>\n",
       "      <td>0.81</td>\n",
       "    </tr>\n",
       "  </tbody>\n",
       "</table>\n",
       "</div>"
      ],
      "text/plain": [
       "                                                              Accurate passes  \\\n",
       "league      season game                              team                       \n",
       "ITA-Serie A 2324   2023-08-21 Bologna-AC Milan       AC Milan             409   \n",
       "                   2023-08-26 AC Milan-Torino        AC Milan             431   \n",
       "                   2023-09-01 Roma-AC Milan          AC Milan             478   \n",
       "                   2023-09-16 Inter-AC Milan         AC Milan             475   \n",
       "                   2023-09-23 AC Milan-Hellas Verona AC Milan             370   \n",
       "\n",
       "                                                              Ball possession  \\\n",
       "league      season game                              team                       \n",
       "ITA-Serie A 2324   2023-08-21 Bologna-AC Milan       AC Milan              47   \n",
       "                   2023-08-26 AC Milan-Torino        AC Milan              59   \n",
       "                   2023-09-01 Roma-AC Milan          AC Milan              57   \n",
       "                   2023-09-16 Inter-AC Milan         AC Milan              60   \n",
       "                   2023-09-23 AC Milan-Hellas Verona AC Milan              54   \n",
       "\n",
       "                                                              Big chances  \\\n",
       "league      season game                              team                   \n",
       "ITA-Serie A 2324   2023-08-21 Bologna-AC Milan       AC Milan           2   \n",
       "                   2023-08-26 AC Milan-Torino        AC Milan           4   \n",
       "                   2023-09-01 Roma-AC Milan          AC Milan           1   \n",
       "                   2023-09-16 Inter-AC Milan         AC Milan           2   \n",
       "                   2023-09-23 AC Milan-Hellas Verona AC Milan           1   \n",
       "\n",
       "                                                              Big chances missed  \\\n",
       "league      season game                              team                          \n",
       "ITA-Serie A 2324   2023-08-21 Bologna-AC Milan       AC Milan                  1   \n",
       "                   2023-08-26 AC Milan-Torino        AC Milan                  0   \n",
       "                   2023-09-01 Roma-AC Milan          AC Milan                  0   \n",
       "                   2023-09-16 Inter-AC Milan         AC Milan                  1   \n",
       "                   2023-09-23 AC Milan-Hellas Verona AC Milan                  0   \n",
       "\n",
       "                                                              Corners  \\\n",
       "league      season game                              team               \n",
       "ITA-Serie A 2324   2023-08-21 Bologna-AC Milan       AC Milan       6   \n",
       "                   2023-08-26 AC Milan-Torino        AC Milan       2   \n",
       "                   2023-09-01 Roma-AC Milan          AC Milan       5   \n",
       "                   2023-09-16 Inter-AC Milan         AC Milan       0   \n",
       "                   2023-09-23 AC Milan-Hellas Verona AC Milan       2   \n",
       "\n",
       "                                                              Expected goals (xG)  \\\n",
       "league      season game                              team                           \n",
       "ITA-Serie A 2324   2023-08-21 Bologna-AC Milan       AC Milan                0.90   \n",
       "                   2023-08-26 AC Milan-Torino        AC Milan                3.04   \n",
       "                   2023-09-01 Roma-AC Milan          AC Milan                1.66   \n",
       "                   2023-09-16 Inter-AC Milan         AC Milan                1.06   \n",
       "                   2023-09-23 AC Milan-Hellas Verona AC Milan                0.93   \n",
       "\n",
       "                                                              Fouls committed  \\\n",
       "league      season game                              team                       \n",
       "ITA-Serie A 2324   2023-08-21 Bologna-AC Milan       AC Milan               4   \n",
       "                   2023-08-26 AC Milan-Torino        AC Milan              13   \n",
       "                   2023-09-01 Roma-AC Milan          AC Milan              15   \n",
       "                   2023-09-16 Inter-AC Milan         AC Milan              13   \n",
       "                   2023-09-23 AC Milan-Hellas Verona AC Milan              12   \n",
       "\n",
       "                                                              Shots on target  \\\n",
       "league      season game                              team                       \n",
       "ITA-Serie A 2324   2023-08-21 Bologna-AC Milan       AC Milan               6   \n",
       "                   2023-08-26 AC Milan-Torino        AC Milan               7   \n",
       "                   2023-09-01 Roma-AC Milan          AC Milan               4   \n",
       "                   2023-09-16 Inter-AC Milan         AC Milan               2   \n",
       "                   2023-09-23 AC Milan-Hellas Verona AC Milan               4   \n",
       "\n",
       "                                                              Total shots  \\\n",
       "league      season game                              team                   \n",
       "ITA-Serie A 2324   2023-08-21 Bologna-AC Milan       AC Milan           9   \n",
       "                   2023-08-26 AC Milan-Torino        AC Milan          17   \n",
       "                   2023-09-01 Roma-AC Milan          AC Milan           9   \n",
       "                   2023-09-16 Inter-AC Milan         AC Milan           9   \n",
       "                   2023-09-23 AC Milan-Hellas Verona AC Milan           9   \n",
       "\n",
       "                                                               Accurate passes (%)  \n",
       "league      season game                              team                           \n",
       "ITA-Serie A 2324   2023-08-21 Bologna-AC Milan       AC Milan                 0.85  \n",
       "                   2023-08-26 AC Milan-Torino        AC Milan                 0.87  \n",
       "                   2023-09-01 Roma-AC Milan          AC Milan                 0.88  \n",
       "                   2023-09-16 Inter-AC Milan         AC Milan                 0.90  \n",
       "                   2023-09-23 AC Milan-Hellas Verona AC Milan                 0.81  "
      ]
     },
     "execution_count": 9,
     "metadata": {},
     "output_type": "execute_result"
    }
   ],
   "source": [
    "match_stats = fotmob.read_team_match_stats(opponent_stats=False, team='AC Milan')\n",
    "match_stats.head()"
   ]
  },
  {
   "cell_type": "code",
   "execution_count": 10,
   "metadata": {},
   "outputs": [],
   "source": [
    "match_stats.to_json(\"./data/FotMob/match_stats_milan.json\")"
   ]
  }
 ],
 "metadata": {
  "kernelspec": {
   "display_name": "Python 3",
   "language": "python",
   "name": "python3"
  },
  "language_info": {
   "codemirror_mode": {
    "name": "ipython",
    "version": 3
   },
   "file_extension": ".py",
   "mimetype": "text/x-python",
   "name": "python",
   "nbconvert_exporter": "python",
   "pygments_lexer": "ipython3",
   "version": "3.11.9"
  }
 },
 "nbformat": 4,
 "nbformat_minor": 4
}
