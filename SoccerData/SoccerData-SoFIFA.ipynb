{
 "cells": [
  {
   "cell_type": "markdown",
   "metadata": {},
   "source": [
    "# SoccerData\n",
    "## SoFIFA\n",
    "\n",
    "Detailed scores on all player’s abilities from EA Sports FC.\n",
    "\n",
    "[Source URL](https://sofifa.com/) | \n",
    "[Example usage](https://soccerdata.readthedocs.io/en/latest/datasources/SoFIFA.html) |\n",
    "[API reference](https://soccerdata.readthedocs.io/en/latest/reference/sofifa.html) |\n",
    "[Py Code](https://github.com/probberechts/soccerdata/blob/master/soccerdata/sofifa.py)"
   ]
  },
  {
   "cell_type": "code",
   "execution_count": 1,
   "metadata": {},
   "outputs": [
    {
     "data": {
      "text/html": [
       "<pre style=\"white-space:pre;overflow-x:auto;line-height:normal;font-family:Menlo,'DejaVu Sans Mono',consolas,'Courier New',monospace\"><span style=\"color: #7fbfbf; text-decoration-color: #7fbfbf\">[05/12/24 16:39:14] </span><span style=\"color: #000080; text-decoration-color: #000080\">INFO    </span> No custom team name replacements found. You can configure these in       <a href=\"file://c:\\Users\\Operator\\.conda\\envs\\fantacalcio\\Lib\\site-packages\\soccerdata\\_config.py\" target=\"_blank\"><span style=\"color: #7f7f7f; text-decoration-color: #7f7f7f\">_config.py</span></a><span style=\"color: #7f7f7f; text-decoration-color: #7f7f7f\">:</span><a href=\"file://c:\\Users\\Operator\\.conda\\envs\\fantacalcio\\Lib\\site-packages\\soccerdata\\_config.py#87\" target=\"_blank\"><span style=\"color: #7f7f7f; text-decoration-color: #7f7f7f\">87</span></a>\n",
       "<span style=\"color: #7fbfbf; text-decoration-color: #7fbfbf\">                    </span>         C:\\Users\\Operator\\soccerdata\\config\\teamname_replacements.json.          <span style=\"color: #7f7f7f; text-decoration-color: #7f7f7f\">             </span>\n",
       "</pre>\n"
      ],
      "text/plain": [
       "\u001b[2;36m[05/12/24 16:39:14]\u001b[0m\u001b[2;36m \u001b[0m\u001b[34mINFO    \u001b[0m No custom team name replacements found. You can configure these in       \u001b]8;id=213334;file://c:\\Users\\Operator\\.conda\\envs\\fantacalcio\\Lib\\site-packages\\soccerdata\\_config.py\u001b\\\u001b[2m_config.py\u001b[0m\u001b]8;;\u001b\\\u001b[2m:\u001b[0m\u001b]8;id=290802;file://c:\\Users\\Operator\\.conda\\envs\\fantacalcio\\Lib\\site-packages\\soccerdata\\_config.py#87\u001b\\\u001b[2m87\u001b[0m\u001b]8;;\u001b\\\n",
       "\u001b[2;36m                    \u001b[0m         C:\\Users\\Operator\\soccerdata\\config\\teamname_replacements.json.          \u001b[2m             \u001b[0m\n"
      ]
     },
     "metadata": {},
     "output_type": "display_data"
    },
    {
     "data": {
      "text/html": [
       "<pre style=\"white-space:pre;overflow-x:auto;line-height:normal;font-family:Menlo,'DejaVu Sans Mono',consolas,'Courier New',monospace\"><span style=\"color: #7fbfbf; text-decoration-color: #7fbfbf\">                    </span><span style=\"color: #000080; text-decoration-color: #000080\">INFO    </span> No custom league dict found. You can configure additional leagues in    <a href=\"file://c:\\Users\\Operator\\.conda\\envs\\fantacalcio\\Lib\\site-packages\\soccerdata\\_config.py\" target=\"_blank\"><span style=\"color: #7f7f7f; text-decoration-color: #7f7f7f\">_config.py</span></a><span style=\"color: #7f7f7f; text-decoration-color: #7f7f7f\">:</span><a href=\"file://c:\\Users\\Operator\\.conda\\envs\\fantacalcio\\Lib\\site-packages\\soccerdata\\_config.py#177\" target=\"_blank\"><span style=\"color: #7f7f7f; text-decoration-color: #7f7f7f\">177</span></a>\n",
       "<span style=\"color: #7fbfbf; text-decoration-color: #7fbfbf\">                    </span>         C:\\Users\\Operator\\soccerdata\\config\\league_dict.json.                   <span style=\"color: #7f7f7f; text-decoration-color: #7f7f7f\">              </span>\n",
       "</pre>\n"
      ],
      "text/plain": [
       "\u001b[2;36m                   \u001b[0m\u001b[2;36m \u001b[0m\u001b[34mINFO    \u001b[0m No custom league dict found. You can configure additional leagues in    \u001b]8;id=842852;file://c:\\Users\\Operator\\.conda\\envs\\fantacalcio\\Lib\\site-packages\\soccerdata\\_config.py\u001b\\\u001b[2m_config.py\u001b[0m\u001b]8;;\u001b\\\u001b[2m:\u001b[0m\u001b]8;id=201620;file://c:\\Users\\Operator\\.conda\\envs\\fantacalcio\\Lib\\site-packages\\soccerdata\\_config.py#177\u001b\\\u001b[2m177\u001b[0m\u001b]8;;\u001b\\\n",
       "\u001b[2;36m                    \u001b[0m         C:\\Users\\Operator\\soccerdata\\config\\league_dict.json.                   \u001b[2m              \u001b[0m\n"
      ]
     },
     "metadata": {},
     "output_type": "display_data"
    }
   ],
   "source": [
    "import soccerdata as sd\n",
    "import pandas as pd\n",
    "\n",
    "# Show all cols and rows\n",
    "pd.set_option('display.max_columns', None)\n",
    "pd.set_option('display.max_rows', None)"
   ]
  },
  {
   "cell_type": "code",
   "execution_count": 5,
   "metadata": {},
   "outputs": [
    {
     "data": {
      "text/html": [
       "<pre style=\"white-space:pre;overflow-x:auto;line-height:normal;font-family:Menlo,'DejaVu Sans Mono',consolas,'Courier New',monospace\"><span style=\"color: #7fbfbf; text-decoration-color: #7fbfbf\">[05/12/24 16:41:12] </span><span style=\"color: #000080; text-decoration-color: #000080\">INFO    </span> Saving cached data to C:\\Users\\Operator\\soccerdata\\data\\SoFIFA           <a href=\"file://c:\\Users\\Operator\\.conda\\envs\\fantacalcio\\Lib\\site-packages\\soccerdata\\_common.py\" target=\"_blank\"><span style=\"color: #7f7f7f; text-decoration-color: #7f7f7f\">_common.py</span></a><span style=\"color: #7f7f7f; text-decoration-color: #7f7f7f\">:</span><a href=\"file://c:\\Users\\Operator\\.conda\\envs\\fantacalcio\\Lib\\site-packages\\soccerdata\\_common.py#92\" target=\"_blank\"><span style=\"color: #7f7f7f; text-decoration-color: #7f7f7f\">92</span></a>\n",
       "</pre>\n"
      ],
      "text/plain": [
       "\u001b[2;36m[05/12/24 16:41:12]\u001b[0m\u001b[2;36m \u001b[0m\u001b[34mINFO    \u001b[0m Saving cached data to C:\\Users\\Operator\\soccerdata\\data\\SoFIFA           \u001b]8;id=553417;file://c:\\Users\\Operator\\.conda\\envs\\fantacalcio\\Lib\\site-packages\\soccerdata\\_common.py\u001b\\\u001b[2m_common.py\u001b[0m\u001b]8;;\u001b\\\u001b[2m:\u001b[0m\u001b]8;id=160674;file://c:\\Users\\Operator\\.conda\\envs\\fantacalcio\\Lib\\site-packages\\soccerdata\\_common.py#92\u001b\\\u001b[2m92\u001b[0m\u001b]8;;\u001b\\\n"
      ]
     },
     "metadata": {},
     "output_type": "display_data"
    },
    {
     "name": "stdout",
     "output_type": "stream",
     "text": [
      "Provides pd.DataFrames from data at http://sofifa.com.\n",
      "\n",
      "    Data will be downloaded as necessary and cached locally in\n",
      "    ``~/soccerdata/data/SoFIFA``.\n",
      "\n",
      "    Parameters\n",
      "    ----------\n",
      "    leagues : string or iterable, optional\n",
      "        IDs of leagues to include.\n",
      "    versions : string, int or list of int, optional\n",
      "        FIFA releases to include. Should be specified by their ID used in the URL\n",
      "        (e.g., 230034). Alternatively, the string \"all\" can be used to include all\n",
      "        versions and \"latest\" to include the latest version only. Defaults to\n",
      "        \"latest\".\n",
      "    proxy : 'tor' or dict or list(dict) or callable, optional\n",
      "        Use a proxy to hide your IP address. Valid options are:\n",
      "            - \"tor\": Uses the Tor network. Tor should be running in\n",
      "              the background on port 9050.\n",
      "            - dict: A dictionary with the proxy to use. The dict should be\n",
      "              a mapping of supported protocols to proxy addresses. For example::\n",
      "\n",
      "                  {\n",
      "                      'http': 'http://10.10.1.10:3128',\n",
      "                      'https': 'http://10.10.1.10:1080',\n",
      "                  }\n",
      "\n",
      "            - list(dict): A list of proxies to choose from. A different proxy will\n",
      "              be selected from this list after failed requests, allowing rotating\n",
      "              proxies.\n",
      "            - callable: A function that returns a valid proxy. This function will\n",
      "              be called after failed requests, allowing rotating proxies.\n",
      "    no_cache : bool\n",
      "        If True, will not use cached data.\n",
      "    no_store : bool\n",
      "        If True, will not store downloaded data.\n",
      "    data_dir : Path\n",
      "        Path to directory where data will be cached.\n",
      "    \n"
     ]
    }
   ],
   "source": [
    "# Create scraper class instance\n",
    "sofifa = sd.SoFIFA(leagues=\"ITA-Serie A\", versions=\"latest\") \n",
    "print(sofifa.__doc__)"
   ]
  },
  {
   "cell_type": "markdown",
   "metadata": {},
   "source": [
    "### EA Sports FIFA team ratings"
   ]
  },
  {
   "cell_type": "code",
   "execution_count": 6,
   "metadata": {},
   "outputs": [
    {
     "data": {
      "text/html": [
       "<pre style=\"white-space:pre;overflow-x:auto;line-height:normal;font-family:Menlo,'DejaVu Sans Mono',consolas,'Courier New',monospace\"><span style=\"color: #7fbfbf; text-decoration-color: #7fbfbf\">[05/12/24 16:41:15] </span><span style=\"color: #000080; text-decoration-color: #000080\">INFO    </span> <span style=\"font-weight: bold\">[</span><span style=\"color: #008080; text-decoration-color: #008080; font-weight: bold\">1</span>/<span style=\"color: #008080; text-decoration-color: #008080; font-weight: bold\">1</span><span style=\"font-weight: bold\">]</span> Retrieving teams for ITA-Serie A in May <span style=\"color: #008080; text-decoration-color: #008080; font-weight: bold\">8</span>, <span style=\"color: #008080; text-decoration-color: #008080; font-weight: bold\">2024</span> edition            <a href=\"file://c:\\Users\\Operator\\.conda\\envs\\fantacalcio\\Lib\\site-packages\\soccerdata\\sofifa.py\" target=\"_blank\"><span style=\"color: #7f7f7f; text-decoration-color: #7f7f7f\">sofifa.py</span></a><span style=\"color: #7f7f7f; text-decoration-color: #7f7f7f\">:</span><a href=\"file://c:\\Users\\Operator\\.conda\\envs\\fantacalcio\\Lib\\site-packages\\soccerdata\\sofifa.py#346\" target=\"_blank\"><span style=\"color: #7f7f7f; text-decoration-color: #7f7f7f\">346</span></a>\n",
       "</pre>\n"
      ],
      "text/plain": [
       "\u001b[2;36m[05/12/24 16:41:15]\u001b[0m\u001b[2;36m \u001b[0m\u001b[34mINFO    \u001b[0m \u001b[1m[\u001b[0m\u001b[1;36m1\u001b[0m/\u001b[1;36m1\u001b[0m\u001b[1m]\u001b[0m Retrieving teams for ITA-Serie A in May \u001b[1;36m8\u001b[0m, \u001b[1;36m2024\u001b[0m edition            \u001b]8;id=944791;file://c:\\Users\\Operator\\.conda\\envs\\fantacalcio\\Lib\\site-packages\\soccerdata\\sofifa.py\u001b\\\u001b[2msofifa.py\u001b[0m\u001b]8;;\u001b\\\u001b[2m:\u001b[0m\u001b]8;id=19674;file://c:\\Users\\Operator\\.conda\\envs\\fantacalcio\\Lib\\site-packages\\soccerdata\\sofifa.py#346\u001b\\\u001b[2m346\u001b[0m\u001b]8;;\u001b\\\n"
      ]
     },
     "metadata": {},
     "output_type": "display_data"
    },
    {
     "data": {
      "text/html": [
       "<div>\n",
       "<style scoped>\n",
       "    .dataframe tbody tr th:only-of-type {\n",
       "        vertical-align: middle;\n",
       "    }\n",
       "\n",
       "    .dataframe tbody tr th {\n",
       "        vertical-align: top;\n",
       "    }\n",
       "\n",
       "    .dataframe thead th {\n",
       "        text-align: right;\n",
       "    }\n",
       "</style>\n",
       "<table border=\"1\" class=\"dataframe\">\n",
       "  <thead>\n",
       "    <tr style=\"text-align: right;\">\n",
       "      <th></th>\n",
       "      <th></th>\n",
       "      <th>overall</th>\n",
       "      <th>attack</th>\n",
       "      <th>midfield</th>\n",
       "      <th>defence</th>\n",
       "      <th>transfer_budget</th>\n",
       "      <th>club_worth</th>\n",
       "      <th>build_up_speed</th>\n",
       "      <th>build_up_dribbling</th>\n",
       "      <th>build_up_passing</th>\n",
       "      <th>build_up_positioning</th>\n",
       "      <th>chance_creation_crossing</th>\n",
       "      <th>chance_creation_passing</th>\n",
       "      <th>chance_creation_shooting</th>\n",
       "      <th>chance_creation_positioning</th>\n",
       "      <th>defence_aggression</th>\n",
       "      <th>defence_pressure</th>\n",
       "      <th>defence_team_width</th>\n",
       "      <th>defence_defender_line</th>\n",
       "      <th>defence_domestic_prestige</th>\n",
       "      <th>international_prestige</th>\n",
       "      <th>players</th>\n",
       "      <th>starting_xi_average_age</th>\n",
       "      <th>whole_team_average_age</th>\n",
       "      <th>fifa_edition</th>\n",
       "      <th>update</th>\n",
       "    </tr>\n",
       "    <tr>\n",
       "      <th>league</th>\n",
       "      <th>team</th>\n",
       "      <th></th>\n",
       "      <th></th>\n",
       "      <th></th>\n",
       "      <th></th>\n",
       "      <th></th>\n",
       "      <th></th>\n",
       "      <th></th>\n",
       "      <th></th>\n",
       "      <th></th>\n",
       "      <th></th>\n",
       "      <th></th>\n",
       "      <th></th>\n",
       "      <th></th>\n",
       "      <th></th>\n",
       "      <th></th>\n",
       "      <th></th>\n",
       "      <th></th>\n",
       "      <th></th>\n",
       "      <th></th>\n",
       "      <th></th>\n",
       "      <th></th>\n",
       "      <th></th>\n",
       "      <th></th>\n",
       "      <th></th>\n",
       "      <th></th>\n",
       "    </tr>\n",
       "  </thead>\n",
       "  <tbody>\n",
       "    <tr>\n",
       "      <th rowspan=\"5\" valign=\"top\">ITA-Serie A</th>\n",
       "      <th>Atalanta</th>\n",
       "      <td>79</td>\n",
       "      <td>79</td>\n",
       "      <td>78</td>\n",
       "      <td>78</td>\n",
       "      <td>€0</td>\n",
       "      <td>€350M</td>\n",
       "      <td>Slow</td>\n",
       "      <td>Little</td>\n",
       "      <td>Short</td>\n",
       "      <td>Organised</td>\n",
       "      <td>Little</td>\n",
       "      <td>Safe</td>\n",
       "      <td>Little</td>\n",
       "      <td>Organised</td>\n",
       "      <td>Contain</td>\n",
       "      <td>Deep</td>\n",
       "      <td>Narrow</td>\n",
       "      <td>Cover</td>\n",
       "      <td>7</td>\n",
       "      <td>6</td>\n",
       "      <td>25</td>\n",
       "      <td>25.45</td>\n",
       "      <td>25.88</td>\n",
       "      <td>FC 24</td>\n",
       "      <td>May 8, 2024</td>\n",
       "    </tr>\n",
       "    <tr>\n",
       "      <th>Bologna</th>\n",
       "      <td>76</td>\n",
       "      <td>78</td>\n",
       "      <td>76</td>\n",
       "      <td>75</td>\n",
       "      <td>€0</td>\n",
       "      <td>€130M</td>\n",
       "      <td>Slow</td>\n",
       "      <td>Little</td>\n",
       "      <td>Short</td>\n",
       "      <td>Organised</td>\n",
       "      <td>Little</td>\n",
       "      <td>Safe</td>\n",
       "      <td>Little</td>\n",
       "      <td>Organised</td>\n",
       "      <td>Contain</td>\n",
       "      <td>Deep</td>\n",
       "      <td>Narrow</td>\n",
       "      <td>Cover</td>\n",
       "      <td>4</td>\n",
       "      <td>2</td>\n",
       "      <td>27</td>\n",
       "      <td>24.73</td>\n",
       "      <td>24.04</td>\n",
       "      <td>FC 24</td>\n",
       "      <td>May 8, 2024</td>\n",
       "    </tr>\n",
       "    <tr>\n",
       "      <th>Cagliari</th>\n",
       "      <td>72</td>\n",
       "      <td>73</td>\n",
       "      <td>72</td>\n",
       "      <td>72</td>\n",
       "      <td>€0</td>\n",
       "      <td>€65M</td>\n",
       "      <td>Slow</td>\n",
       "      <td>Little</td>\n",
       "      <td>Short</td>\n",
       "      <td>Organised</td>\n",
       "      <td>Little</td>\n",
       "      <td>Safe</td>\n",
       "      <td>Little</td>\n",
       "      <td>Organised</td>\n",
       "      <td>Contain</td>\n",
       "      <td>Deep</td>\n",
       "      <td>Narrow</td>\n",
       "      <td>Cover</td>\n",
       "      <td>2</td>\n",
       "      <td>1</td>\n",
       "      <td>28</td>\n",
       "      <td>26.45</td>\n",
       "      <td>26.25</td>\n",
       "      <td>FC 24</td>\n",
       "      <td>May 8, 2024</td>\n",
       "    </tr>\n",
       "    <tr>\n",
       "      <th>Empoli</th>\n",
       "      <td>72</td>\n",
       "      <td>71</td>\n",
       "      <td>72</td>\n",
       "      <td>73</td>\n",
       "      <td>€0</td>\n",
       "      <td>€50M</td>\n",
       "      <td>Slow</td>\n",
       "      <td>Little</td>\n",
       "      <td>Short</td>\n",
       "      <td>Organised</td>\n",
       "      <td>Little</td>\n",
       "      <td>Safe</td>\n",
       "      <td>Little</td>\n",
       "      <td>Organised</td>\n",
       "      <td>Contain</td>\n",
       "      <td>Deep</td>\n",
       "      <td>Narrow</td>\n",
       "      <td>Cover</td>\n",
       "      <td>2</td>\n",
       "      <td>1</td>\n",
       "      <td>28</td>\n",
       "      <td>25.55</td>\n",
       "      <td>25.18</td>\n",
       "      <td>FC 24</td>\n",
       "      <td>May 8, 2024</td>\n",
       "    </tr>\n",
       "    <tr>\n",
       "      <th>Fiorentina</th>\n",
       "      <td>78</td>\n",
       "      <td>78</td>\n",
       "      <td>78</td>\n",
       "      <td>74</td>\n",
       "      <td>€0</td>\n",
       "      <td>€270M</td>\n",
       "      <td>Slow</td>\n",
       "      <td>Little</td>\n",
       "      <td>Short</td>\n",
       "      <td>Organised</td>\n",
       "      <td>Little</td>\n",
       "      <td>Safe</td>\n",
       "      <td>Little</td>\n",
       "      <td>Organised</td>\n",
       "      <td>Contain</td>\n",
       "      <td>Deep</td>\n",
       "      <td>Narrow</td>\n",
       "      <td>Cover</td>\n",
       "      <td>6</td>\n",
       "      <td>5</td>\n",
       "      <td>27</td>\n",
       "      <td>26.73</td>\n",
       "      <td>25.30</td>\n",
       "      <td>FC 24</td>\n",
       "      <td>May 8, 2024</td>\n",
       "    </tr>\n",
       "  </tbody>\n",
       "</table>\n",
       "</div>"
      ],
      "text/plain": [
       "                       overall attack midfield defence transfer_budget  \\\n",
       "league      team                                                         \n",
       "ITA-Serie A Atalanta        79     79       78      78              €0   \n",
       "            Bologna         76     78       76      75              €0   \n",
       "            Cagliari        72     73       72      72              €0   \n",
       "            Empoli          72     71       72      73              €0   \n",
       "            Fiorentina      78     78       78      74              €0   \n",
       "\n",
       "                       club_worth build_up_speed build_up_dribbling  \\\n",
       "league      team                                                      \n",
       "ITA-Serie A Atalanta        €350M           Slow             Little   \n",
       "            Bologna         €130M           Slow             Little   \n",
       "            Cagliari         €65M           Slow             Little   \n",
       "            Empoli           €50M           Slow             Little   \n",
       "            Fiorentina      €270M           Slow             Little   \n",
       "\n",
       "                       build_up_passing build_up_positioning  \\\n",
       "league      team                                               \n",
       "ITA-Serie A Atalanta              Short            Organised   \n",
       "            Bologna               Short            Organised   \n",
       "            Cagliari              Short            Organised   \n",
       "            Empoli                Short            Organised   \n",
       "            Fiorentina            Short            Organised   \n",
       "\n",
       "                       chance_creation_crossing chance_creation_passing  \\\n",
       "league      team                                                          \n",
       "ITA-Serie A Atalanta                     Little                    Safe   \n",
       "            Bologna                      Little                    Safe   \n",
       "            Cagliari                     Little                    Safe   \n",
       "            Empoli                       Little                    Safe   \n",
       "            Fiorentina                   Little                    Safe   \n",
       "\n",
       "                       chance_creation_shooting chance_creation_positioning  \\\n",
       "league      team                                                              \n",
       "ITA-Serie A Atalanta                     Little                   Organised   \n",
       "            Bologna                      Little                   Organised   \n",
       "            Cagliari                     Little                   Organised   \n",
       "            Empoli                       Little                   Organised   \n",
       "            Fiorentina                   Little                   Organised   \n",
       "\n",
       "                       defence_aggression defence_pressure defence_team_width  \\\n",
       "league      team                                                                \n",
       "ITA-Serie A Atalanta              Contain             Deep             Narrow   \n",
       "            Bologna               Contain             Deep             Narrow   \n",
       "            Cagliari              Contain             Deep             Narrow   \n",
       "            Empoli                Contain             Deep             Narrow   \n",
       "            Fiorentina            Contain             Deep             Narrow   \n",
       "\n",
       "                       defence_defender_line defence_domestic_prestige  \\\n",
       "league      team                                                         \n",
       "ITA-Serie A Atalanta                   Cover                         7   \n",
       "            Bologna                    Cover                         4   \n",
       "            Cagliari                   Cover                         2   \n",
       "            Empoli                     Cover                         2   \n",
       "            Fiorentina                 Cover                         6   \n",
       "\n",
       "                       international_prestige players starting_xi_average_age  \\\n",
       "league      team                                                                \n",
       "ITA-Serie A Atalanta                        6      25                   25.45   \n",
       "            Bologna                         2      27                   24.73   \n",
       "            Cagliari                        1      28                   26.45   \n",
       "            Empoli                          1      28                   25.55   \n",
       "            Fiorentina                      5      27                   26.73   \n",
       "\n",
       "                       whole_team_average_age fifa_edition       update  \n",
       "league      team                                                         \n",
       "ITA-Serie A Atalanta                    25.88        FC 24  May 8, 2024  \n",
       "            Bologna                     24.04        FC 24  May 8, 2024  \n",
       "            Cagliari                    26.25        FC 24  May 8, 2024  \n",
       "            Empoli                      25.18        FC 24  May 8, 2024  \n",
       "            Fiorentina                  25.30        FC 24  May 8, 2024  "
      ]
     },
     "execution_count": 6,
     "metadata": {},
     "output_type": "execute_result"
    }
   ],
   "source": [
    "team_ratings = sofifa.read_team_ratings()\n",
    "team_ratings.head()"
   ]
  },
  {
   "cell_type": "code",
   "execution_count": 7,
   "metadata": {},
   "outputs": [],
   "source": [
    "team_ratings.to_json(\"./data/SoFifa/team_ratings.json\")"
   ]
  },
  {
   "cell_type": "markdown",
   "metadata": {},
   "source": [
    "### EA Sports FIFA player ratings"
   ]
  },
  {
   "cell_type": "code",
   "execution_count": 8,
   "metadata": {},
   "outputs": [
    {
     "data": {
      "text/html": [
       "<pre style=\"white-space:pre;overflow-x:auto;line-height:normal;font-family:Menlo,'DejaVu Sans Mono',consolas,'Courier New',monospace\"><span style=\"color: #7fbfbf; text-decoration-color: #7fbfbf\">[05/12/24 16:41:57] </span><span style=\"color: #000080; text-decoration-color: #000080\">INFO    </span> <span style=\"font-weight: bold\">[</span><span style=\"color: #008080; text-decoration-color: #008080; font-weight: bold\">1</span>/<span style=\"color: #008080; text-decoration-color: #008080; font-weight: bold\">1</span><span style=\"font-weight: bold\">]</span> Retrieving teams for ITA-Serie A in May <span style=\"color: #008080; text-decoration-color: #008080; font-weight: bold\">8</span>, <span style=\"color: #008080; text-decoration-color: #008080; font-weight: bold\">2024</span> edition            <a href=\"file://c:\\Users\\Operator\\.conda\\envs\\fantacalcio\\Lib\\site-packages\\soccerdata\\sofifa.py\" target=\"_blank\"><span style=\"color: #7f7f7f; text-decoration-color: #7f7f7f\">sofifa.py</span></a><span style=\"color: #7f7f7f; text-decoration-color: #7f7f7f\">:</span><a href=\"file://c:\\Users\\Operator\\.conda\\envs\\fantacalcio\\Lib\\site-packages\\soccerdata\\sofifa.py#185\" target=\"_blank\"><span style=\"color: #7f7f7f; text-decoration-color: #7f7f7f\">185</span></a>\n",
       "</pre>\n"
      ],
      "text/plain": [
       "\u001b[2;36m[05/12/24 16:41:57]\u001b[0m\u001b[2;36m \u001b[0m\u001b[34mINFO    \u001b[0m \u001b[1m[\u001b[0m\u001b[1;36m1\u001b[0m/\u001b[1;36m1\u001b[0m\u001b[1m]\u001b[0m Retrieving teams for ITA-Serie A in May \u001b[1;36m8\u001b[0m, \u001b[1;36m2024\u001b[0m edition            \u001b]8;id=48226;file://c:\\Users\\Operator\\.conda\\envs\\fantacalcio\\Lib\\site-packages\\soccerdata\\sofifa.py\u001b\\\u001b[2msofifa.py\u001b[0m\u001b]8;;\u001b\\\u001b[2m:\u001b[0m\u001b]8;id=260977;file://c:\\Users\\Operator\\.conda\\envs\\fantacalcio\\Lib\\site-packages\\soccerdata\\sofifa.py#185\u001b\\\u001b[2m185\u001b[0m\u001b]8;;\u001b\\\n"
      ]
     },
     "metadata": {},
     "output_type": "display_data"
    },
    {
     "data": {
      "text/html": [
       "<pre style=\"white-space:pre;overflow-x:auto;line-height:normal;font-family:Menlo,'DejaVu Sans Mono',consolas,'Courier New',monospace\"><span style=\"color: #7fbfbf; text-decoration-color: #7fbfbf\">                    </span><span style=\"color: #000080; text-decoration-color: #000080\">INFO    </span> <span style=\"font-weight: bold\">[</span><span style=\"color: #008080; text-decoration-color: #008080; font-weight: bold\">1</span>/<span style=\"color: #008080; text-decoration-color: #008080; font-weight: bold\">1</span><span style=\"font-weight: bold\">]</span> Retrieving list of players for Milan in May <span style=\"color: #008080; text-decoration-color: #008080; font-weight: bold\">8</span>, <span style=\"color: #008080; text-decoration-color: #008080; font-weight: bold\">2024</span> edition        <a href=\"file://c:\\Users\\Operator\\.conda\\envs\\fantacalcio\\Lib\\site-packages\\soccerdata\\sofifa.py\" target=\"_blank\"><span style=\"color: #7f7f7f; text-decoration-color: #7f7f7f\">sofifa.py</span></a><span style=\"color: #7f7f7f; text-decoration-color: #7f7f7f\">:</span><a href=\"file://c:\\Users\\Operator\\.conda\\envs\\fantacalcio\\Lib\\site-packages\\soccerdata\\sofifa.py#264\" target=\"_blank\"><span style=\"color: #7f7f7f; text-decoration-color: #7f7f7f\">264</span></a>\n",
       "</pre>\n"
      ],
      "text/plain": [
       "\u001b[2;36m                   \u001b[0m\u001b[2;36m \u001b[0m\u001b[34mINFO    \u001b[0m \u001b[1m[\u001b[0m\u001b[1;36m1\u001b[0m/\u001b[1;36m1\u001b[0m\u001b[1m]\u001b[0m Retrieving list of players for Milan in May \u001b[1;36m8\u001b[0m, \u001b[1;36m2024\u001b[0m edition        \u001b]8;id=946610;file://c:\\Users\\Operator\\.conda\\envs\\fantacalcio\\Lib\\site-packages\\soccerdata\\sofifa.py\u001b\\\u001b[2msofifa.py\u001b[0m\u001b]8;;\u001b\\\u001b[2m:\u001b[0m\u001b]8;id=46160;file://c:\\Users\\Operator\\.conda\\envs\\fantacalcio\\Lib\\site-packages\\soccerdata\\sofifa.py#264\u001b\\\u001b[2m264\u001b[0m\u001b]8;;\u001b\\\n"
      ]
     },
     "metadata": {},
     "output_type": "display_data"
    },
    {
     "data": {
      "text/html": [
       "<pre style=\"white-space:pre;overflow-x:auto;line-height:normal;font-family:Menlo,'DejaVu Sans Mono',consolas,'Courier New',monospace\"><span style=\"color: #7fbfbf; text-decoration-color: #7fbfbf\">[05/12/24 16:41:59] </span><span style=\"color: #000080; text-decoration-color: #000080\">INFO    </span> <span style=\"font-weight: bold\">[</span><span style=\"color: #008080; text-decoration-color: #008080; font-weight: bold\">1</span>/<span style=\"color: #008080; text-decoration-color: #008080; font-weight: bold\">30</span><span style=\"font-weight: bold\">]</span> Retrieving ratings for player with ID <span style=\"color: #008080; text-decoration-color: #008080; font-weight: bold\">215698</span> in May <span style=\"color: #008080; text-decoration-color: #008080; font-weight: bold\">8</span>, <span style=\"color: #008080; text-decoration-color: #008080; font-weight: bold\">2024</span>       <a href=\"file://c:\\Users\\Operator\\.conda\\envs\\fantacalcio\\Lib\\site-packages\\soccerdata\\sofifa.py\" target=\"_blank\"><span style=\"color: #7f7f7f; text-decoration-color: #7f7f7f\">sofifa.py</span></a><span style=\"color: #7f7f7f; text-decoration-color: #7f7f7f\">:</span><a href=\"file://c:\\Users\\Operator\\.conda\\envs\\fantacalcio\\Lib\\site-packages\\soccerdata\\sofifa.py#459\" target=\"_blank\"><span style=\"color: #7f7f7f; text-decoration-color: #7f7f7f\">459</span></a>\n",
       "<span style=\"color: #7fbfbf; text-decoration-color: #7fbfbf\">                    </span>         edition                                                                  <span style=\"color: #7f7f7f; text-decoration-color: #7f7f7f\">             </span>\n",
       "</pre>\n"
      ],
      "text/plain": [
       "\u001b[2;36m[05/12/24 16:41:59]\u001b[0m\u001b[2;36m \u001b[0m\u001b[34mINFO    \u001b[0m \u001b[1m[\u001b[0m\u001b[1;36m1\u001b[0m/\u001b[1;36m30\u001b[0m\u001b[1m]\u001b[0m Retrieving ratings for player with ID \u001b[1;36m215698\u001b[0m in May \u001b[1;36m8\u001b[0m, \u001b[1;36m2024\u001b[0m       \u001b]8;id=34490;file://c:\\Users\\Operator\\.conda\\envs\\fantacalcio\\Lib\\site-packages\\soccerdata\\sofifa.py\u001b\\\u001b[2msofifa.py\u001b[0m\u001b]8;;\u001b\\\u001b[2m:\u001b[0m\u001b]8;id=17316;file://c:\\Users\\Operator\\.conda\\envs\\fantacalcio\\Lib\\site-packages\\soccerdata\\sofifa.py#459\u001b\\\u001b[2m459\u001b[0m\u001b]8;;\u001b\\\n",
       "\u001b[2;36m                    \u001b[0m         edition                                                                  \u001b[2m             \u001b[0m\n"
      ]
     },
     "metadata": {},
     "output_type": "display_data"
    },
    {
     "data": {
      "text/html": [
       "<pre style=\"white-space:pre;overflow-x:auto;line-height:normal;font-family:Menlo,'DejaVu Sans Mono',consolas,'Courier New',monospace\"><span style=\"color: #7fbfbf; text-decoration-color: #7fbfbf\">[05/12/24 16:42:00] </span><span style=\"color: #000080; text-decoration-color: #000080\">INFO    </span> <span style=\"font-weight: bold\">[</span><span style=\"color: #008080; text-decoration-color: #008080; font-weight: bold\">2</span>/<span style=\"color: #008080; text-decoration-color: #008080; font-weight: bold\">30</span><span style=\"font-weight: bold\">]</span> Retrieving ratings for player with ID <span style=\"color: #008080; text-decoration-color: #008080; font-weight: bold\">228881</span> in May <span style=\"color: #008080; text-decoration-color: #008080; font-weight: bold\">8</span>, <span style=\"color: #008080; text-decoration-color: #008080; font-weight: bold\">2024</span>       <a href=\"file://c:\\Users\\Operator\\.conda\\envs\\fantacalcio\\Lib\\site-packages\\soccerdata\\sofifa.py\" target=\"_blank\"><span style=\"color: #7f7f7f; text-decoration-color: #7f7f7f\">sofifa.py</span></a><span style=\"color: #7f7f7f; text-decoration-color: #7f7f7f\">:</span><a href=\"file://c:\\Users\\Operator\\.conda\\envs\\fantacalcio\\Lib\\site-packages\\soccerdata\\sofifa.py#459\" target=\"_blank\"><span style=\"color: #7f7f7f; text-decoration-color: #7f7f7f\">459</span></a>\n",
       "<span style=\"color: #7fbfbf; text-decoration-color: #7fbfbf\">                    </span>         edition                                                                  <span style=\"color: #7f7f7f; text-decoration-color: #7f7f7f\">             </span>\n",
       "</pre>\n"
      ],
      "text/plain": [
       "\u001b[2;36m[05/12/24 16:42:00]\u001b[0m\u001b[2;36m \u001b[0m\u001b[34mINFO    \u001b[0m \u001b[1m[\u001b[0m\u001b[1;36m2\u001b[0m/\u001b[1;36m30\u001b[0m\u001b[1m]\u001b[0m Retrieving ratings for player with ID \u001b[1;36m228881\u001b[0m in May \u001b[1;36m8\u001b[0m, \u001b[1;36m2024\u001b[0m       \u001b]8;id=964088;file://c:\\Users\\Operator\\.conda\\envs\\fantacalcio\\Lib\\site-packages\\soccerdata\\sofifa.py\u001b\\\u001b[2msofifa.py\u001b[0m\u001b]8;;\u001b\\\u001b[2m:\u001b[0m\u001b]8;id=284328;file://c:\\Users\\Operator\\.conda\\envs\\fantacalcio\\Lib\\site-packages\\soccerdata\\sofifa.py#459\u001b\\\u001b[2m459\u001b[0m\u001b]8;;\u001b\\\n",
       "\u001b[2;36m                    \u001b[0m         edition                                                                  \u001b[2m             \u001b[0m\n"
      ]
     },
     "metadata": {},
     "output_type": "display_data"
    },
    {
     "data": {
      "text/html": [
       "<pre style=\"white-space:pre;overflow-x:auto;line-height:normal;font-family:Menlo,'DejaVu Sans Mono',consolas,'Courier New',monospace\"><span style=\"color: #7fbfbf; text-decoration-color: #7fbfbf\">[05/12/24 16:42:01] </span><span style=\"color: #000080; text-decoration-color: #000080\">INFO    </span> <span style=\"font-weight: bold\">[</span><span style=\"color: #008080; text-decoration-color: #008080; font-weight: bold\">3</span>/<span style=\"color: #008080; text-decoration-color: #008080; font-weight: bold\">30</span><span style=\"font-weight: bold\">]</span> Retrieving ratings for player with ID <span style=\"color: #008080; text-decoration-color: #008080; font-weight: bold\">240277</span> in May <span style=\"color: #008080; text-decoration-color: #008080; font-weight: bold\">8</span>, <span style=\"color: #008080; text-decoration-color: #008080; font-weight: bold\">2024</span>       <a href=\"file://c:\\Users\\Operator\\.conda\\envs\\fantacalcio\\Lib\\site-packages\\soccerdata\\sofifa.py\" target=\"_blank\"><span style=\"color: #7f7f7f; text-decoration-color: #7f7f7f\">sofifa.py</span></a><span style=\"color: #7f7f7f; text-decoration-color: #7f7f7f\">:</span><a href=\"file://c:\\Users\\Operator\\.conda\\envs\\fantacalcio\\Lib\\site-packages\\soccerdata\\sofifa.py#459\" target=\"_blank\"><span style=\"color: #7f7f7f; text-decoration-color: #7f7f7f\">459</span></a>\n",
       "<span style=\"color: #7fbfbf; text-decoration-color: #7fbfbf\">                    </span>         edition                                                                  <span style=\"color: #7f7f7f; text-decoration-color: #7f7f7f\">             </span>\n",
       "</pre>\n"
      ],
      "text/plain": [
       "\u001b[2;36m[05/12/24 16:42:01]\u001b[0m\u001b[2;36m \u001b[0m\u001b[34mINFO    \u001b[0m \u001b[1m[\u001b[0m\u001b[1;36m3\u001b[0m/\u001b[1;36m30\u001b[0m\u001b[1m]\u001b[0m Retrieving ratings for player with ID \u001b[1;36m240277\u001b[0m in May \u001b[1;36m8\u001b[0m, \u001b[1;36m2024\u001b[0m       \u001b]8;id=891350;file://c:\\Users\\Operator\\.conda\\envs\\fantacalcio\\Lib\\site-packages\\soccerdata\\sofifa.py\u001b\\\u001b[2msofifa.py\u001b[0m\u001b]8;;\u001b\\\u001b[2m:\u001b[0m\u001b]8;id=678276;file://c:\\Users\\Operator\\.conda\\envs\\fantacalcio\\Lib\\site-packages\\soccerdata\\sofifa.py#459\u001b\\\u001b[2m459\u001b[0m\u001b]8;;\u001b\\\n",
       "\u001b[2;36m                    \u001b[0m         edition                                                                  \u001b[2m             \u001b[0m\n"
      ]
     },
     "metadata": {},
     "output_type": "display_data"
    },
    {
     "data": {
      "text/html": [
       "<pre style=\"white-space:pre;overflow-x:auto;line-height:normal;font-family:Menlo,'DejaVu Sans Mono',consolas,'Courier New',monospace\"><span style=\"color: #7fbfbf; text-decoration-color: #7fbfbf\">[05/12/24 16:42:03] </span><span style=\"color: #000080; text-decoration-color: #000080\">INFO    </span> <span style=\"font-weight: bold\">[</span><span style=\"color: #008080; text-decoration-color: #008080; font-weight: bold\">4</span>/<span style=\"color: #008080; text-decoration-color: #008080; font-weight: bold\">30</span><span style=\"font-weight: bold\">]</span> Retrieving ratings for player with ID <span style=\"color: #008080; text-decoration-color: #008080; font-weight: bold\">232756</span> in May <span style=\"color: #008080; text-decoration-color: #008080; font-weight: bold\">8</span>, <span style=\"color: #008080; text-decoration-color: #008080; font-weight: bold\">2024</span>       <a href=\"file://c:\\Users\\Operator\\.conda\\envs\\fantacalcio\\Lib\\site-packages\\soccerdata\\sofifa.py\" target=\"_blank\"><span style=\"color: #7f7f7f; text-decoration-color: #7f7f7f\">sofifa.py</span></a><span style=\"color: #7f7f7f; text-decoration-color: #7f7f7f\">:</span><a href=\"file://c:\\Users\\Operator\\.conda\\envs\\fantacalcio\\Lib\\site-packages\\soccerdata\\sofifa.py#459\" target=\"_blank\"><span style=\"color: #7f7f7f; text-decoration-color: #7f7f7f\">459</span></a>\n",
       "<span style=\"color: #7fbfbf; text-decoration-color: #7fbfbf\">                    </span>         edition                                                                  <span style=\"color: #7f7f7f; text-decoration-color: #7f7f7f\">             </span>\n",
       "</pre>\n"
      ],
      "text/plain": [
       "\u001b[2;36m[05/12/24 16:42:03]\u001b[0m\u001b[2;36m \u001b[0m\u001b[34mINFO    \u001b[0m \u001b[1m[\u001b[0m\u001b[1;36m4\u001b[0m/\u001b[1;36m30\u001b[0m\u001b[1m]\u001b[0m Retrieving ratings for player with ID \u001b[1;36m232756\u001b[0m in May \u001b[1;36m8\u001b[0m, \u001b[1;36m2024\u001b[0m       \u001b]8;id=784968;file://c:\\Users\\Operator\\.conda\\envs\\fantacalcio\\Lib\\site-packages\\soccerdata\\sofifa.py\u001b\\\u001b[2msofifa.py\u001b[0m\u001b]8;;\u001b\\\u001b[2m:\u001b[0m\u001b]8;id=110112;file://c:\\Users\\Operator\\.conda\\envs\\fantacalcio\\Lib\\site-packages\\soccerdata\\sofifa.py#459\u001b\\\u001b[2m459\u001b[0m\u001b]8;;\u001b\\\n",
       "\u001b[2;36m                    \u001b[0m         edition                                                                  \u001b[2m             \u001b[0m\n"
      ]
     },
     "metadata": {},
     "output_type": "display_data"
    },
    {
     "data": {
      "text/html": [
       "<pre style=\"white-space:pre;overflow-x:auto;line-height:normal;font-family:Menlo,'DejaVu Sans Mono',consolas,'Courier New',monospace\"><span style=\"color: #7fbfbf; text-decoration-color: #7fbfbf\">[05/12/24 16:42:04] </span><span style=\"color: #000080; text-decoration-color: #000080\">INFO    </span> <span style=\"font-weight: bold\">[</span><span style=\"color: #008080; text-decoration-color: #008080; font-weight: bold\">5</span>/<span style=\"color: #008080; text-decoration-color: #008080; font-weight: bold\">30</span><span style=\"font-weight: bold\">]</span> Retrieving ratings for player with ID <span style=\"color: #008080; text-decoration-color: #008080; font-weight: bold\">232656</span> in May <span style=\"color: #008080; text-decoration-color: #008080; font-weight: bold\">8</span>, <span style=\"color: #008080; text-decoration-color: #008080; font-weight: bold\">2024</span>       <a href=\"file://c:\\Users\\Operator\\.conda\\envs\\fantacalcio\\Lib\\site-packages\\soccerdata\\sofifa.py\" target=\"_blank\"><span style=\"color: #7f7f7f; text-decoration-color: #7f7f7f\">sofifa.py</span></a><span style=\"color: #7f7f7f; text-decoration-color: #7f7f7f\">:</span><a href=\"file://c:\\Users\\Operator\\.conda\\envs\\fantacalcio\\Lib\\site-packages\\soccerdata\\sofifa.py#459\" target=\"_blank\"><span style=\"color: #7f7f7f; text-decoration-color: #7f7f7f\">459</span></a>\n",
       "<span style=\"color: #7fbfbf; text-decoration-color: #7fbfbf\">                    </span>         edition                                                                  <span style=\"color: #7f7f7f; text-decoration-color: #7f7f7f\">             </span>\n",
       "</pre>\n"
      ],
      "text/plain": [
       "\u001b[2;36m[05/12/24 16:42:04]\u001b[0m\u001b[2;36m \u001b[0m\u001b[34mINFO    \u001b[0m \u001b[1m[\u001b[0m\u001b[1;36m5\u001b[0m/\u001b[1;36m30\u001b[0m\u001b[1m]\u001b[0m Retrieving ratings for player with ID \u001b[1;36m232656\u001b[0m in May \u001b[1;36m8\u001b[0m, \u001b[1;36m2024\u001b[0m       \u001b]8;id=22822;file://c:\\Users\\Operator\\.conda\\envs\\fantacalcio\\Lib\\site-packages\\soccerdata\\sofifa.py\u001b\\\u001b[2msofifa.py\u001b[0m\u001b]8;;\u001b\\\u001b[2m:\u001b[0m\u001b]8;id=555636;file://c:\\Users\\Operator\\.conda\\envs\\fantacalcio\\Lib\\site-packages\\soccerdata\\sofifa.py#459\u001b\\\u001b[2m459\u001b[0m\u001b]8;;\u001b\\\n",
       "\u001b[2;36m                    \u001b[0m         edition                                                                  \u001b[2m             \u001b[0m\n"
      ]
     },
     "metadata": {},
     "output_type": "display_data"
    },
    {
     "data": {
      "text/html": [
       "<pre style=\"white-space:pre;overflow-x:auto;line-height:normal;font-family:Menlo,'DejaVu Sans Mono',consolas,'Courier New',monospace\"><span style=\"color: #7fbfbf; text-decoration-color: #7fbfbf\">[05/12/24 16:42:05] </span><span style=\"color: #000080; text-decoration-color: #000080\">INFO    </span> <span style=\"font-weight: bold\">[</span><span style=\"color: #008080; text-decoration-color: #008080; font-weight: bold\">6</span>/<span style=\"color: #008080; text-decoration-color: #008080; font-weight: bold\">30</span><span style=\"font-weight: bold\">]</span> Retrieving ratings for player with ID <span style=\"color: #008080; text-decoration-color: #008080; font-weight: bold\">240638</span> in May <span style=\"color: #008080; text-decoration-color: #008080; font-weight: bold\">8</span>, <span style=\"color: #008080; text-decoration-color: #008080; font-weight: bold\">2024</span>       <a href=\"file://c:\\Users\\Operator\\.conda\\envs\\fantacalcio\\Lib\\site-packages\\soccerdata\\sofifa.py\" target=\"_blank\"><span style=\"color: #7f7f7f; text-decoration-color: #7f7f7f\">sofifa.py</span></a><span style=\"color: #7f7f7f; text-decoration-color: #7f7f7f\">:</span><a href=\"file://c:\\Users\\Operator\\.conda\\envs\\fantacalcio\\Lib\\site-packages\\soccerdata\\sofifa.py#459\" target=\"_blank\"><span style=\"color: #7f7f7f; text-decoration-color: #7f7f7f\">459</span></a>\n",
       "<span style=\"color: #7fbfbf; text-decoration-color: #7fbfbf\">                    </span>         edition                                                                  <span style=\"color: #7f7f7f; text-decoration-color: #7f7f7f\">             </span>\n",
       "</pre>\n"
      ],
      "text/plain": [
       "\u001b[2;36m[05/12/24 16:42:05]\u001b[0m\u001b[2;36m \u001b[0m\u001b[34mINFO    \u001b[0m \u001b[1m[\u001b[0m\u001b[1;36m6\u001b[0m/\u001b[1;36m30\u001b[0m\u001b[1m]\u001b[0m Retrieving ratings for player with ID \u001b[1;36m240638\u001b[0m in May \u001b[1;36m8\u001b[0m, \u001b[1;36m2024\u001b[0m       \u001b]8;id=863390;file://c:\\Users\\Operator\\.conda\\envs\\fantacalcio\\Lib\\site-packages\\soccerdata\\sofifa.py\u001b\\\u001b[2msofifa.py\u001b[0m\u001b]8;;\u001b\\\u001b[2m:\u001b[0m\u001b]8;id=718838;file://c:\\Users\\Operator\\.conda\\envs\\fantacalcio\\Lib\\site-packages\\soccerdata\\sofifa.py#459\u001b\\\u001b[2m459\u001b[0m\u001b]8;;\u001b\\\n",
       "\u001b[2;36m                    \u001b[0m         edition                                                                  \u001b[2m             \u001b[0m\n"
      ]
     },
     "metadata": {},
     "output_type": "display_data"
    },
    {
     "data": {
      "text/html": [
       "<pre style=\"white-space:pre;overflow-x:auto;line-height:normal;font-family:Menlo,'DejaVu Sans Mono',consolas,'Courier New',monospace\"><span style=\"color: #7fbfbf; text-decoration-color: #7fbfbf\">[05/12/24 16:42:07] </span><span style=\"color: #000080; text-decoration-color: #000080\">INFO    </span> <span style=\"font-weight: bold\">[</span><span style=\"color: #008080; text-decoration-color: #008080; font-weight: bold\">7</span>/<span style=\"color: #008080; text-decoration-color: #008080; font-weight: bold\">30</span><span style=\"font-weight: bold\">]</span> Retrieving ratings for player with ID <span style=\"color: #008080; text-decoration-color: #008080; font-weight: bold\">226754</span> in May <span style=\"color: #008080; text-decoration-color: #008080; font-weight: bold\">8</span>, <span style=\"color: #008080; text-decoration-color: #008080; font-weight: bold\">2024</span>       <a href=\"file://c:\\Users\\Operator\\.conda\\envs\\fantacalcio\\Lib\\site-packages\\soccerdata\\sofifa.py\" target=\"_blank\"><span style=\"color: #7f7f7f; text-decoration-color: #7f7f7f\">sofifa.py</span></a><span style=\"color: #7f7f7f; text-decoration-color: #7f7f7f\">:</span><a href=\"file://c:\\Users\\Operator\\.conda\\envs\\fantacalcio\\Lib\\site-packages\\soccerdata\\sofifa.py#459\" target=\"_blank\"><span style=\"color: #7f7f7f; text-decoration-color: #7f7f7f\">459</span></a>\n",
       "<span style=\"color: #7fbfbf; text-decoration-color: #7fbfbf\">                    </span>         edition                                                                  <span style=\"color: #7f7f7f; text-decoration-color: #7f7f7f\">             </span>\n",
       "</pre>\n"
      ],
      "text/plain": [
       "\u001b[2;36m[05/12/24 16:42:07]\u001b[0m\u001b[2;36m \u001b[0m\u001b[34mINFO    \u001b[0m \u001b[1m[\u001b[0m\u001b[1;36m7\u001b[0m/\u001b[1;36m30\u001b[0m\u001b[1m]\u001b[0m Retrieving ratings for player with ID \u001b[1;36m226754\u001b[0m in May \u001b[1;36m8\u001b[0m, \u001b[1;36m2024\u001b[0m       \u001b]8;id=314171;file://c:\\Users\\Operator\\.conda\\envs\\fantacalcio\\Lib\\site-packages\\soccerdata\\sofifa.py\u001b\\\u001b[2msofifa.py\u001b[0m\u001b]8;;\u001b\\\u001b[2m:\u001b[0m\u001b]8;id=531957;file://c:\\Users\\Operator\\.conda\\envs\\fantacalcio\\Lib\\site-packages\\soccerdata\\sofifa.py#459\u001b\\\u001b[2m459\u001b[0m\u001b]8;;\u001b\\\n",
       "\u001b[2;36m                    \u001b[0m         edition                                                                  \u001b[2m             \u001b[0m\n"
      ]
     },
     "metadata": {},
     "output_type": "display_data"
    },
    {
     "data": {
      "text/html": [
       "<pre style=\"white-space:pre;overflow-x:auto;line-height:normal;font-family:Menlo,'DejaVu Sans Mono',consolas,'Courier New',monospace\"><span style=\"color: #7fbfbf; text-decoration-color: #7fbfbf\">[05/12/24 16:42:08] </span><span style=\"color: #000080; text-decoration-color: #000080\">INFO    </span> <span style=\"font-weight: bold\">[</span><span style=\"color: #008080; text-decoration-color: #008080; font-weight: bold\">8</span>/<span style=\"color: #008080; text-decoration-color: #008080; font-weight: bold\">30</span><span style=\"font-weight: bold\">]</span> Retrieving ratings for player with ID <span style=\"color: #008080; text-decoration-color: #008080; font-weight: bold\">227796</span> in May <span style=\"color: #008080; text-decoration-color: #008080; font-weight: bold\">8</span>, <span style=\"color: #008080; text-decoration-color: #008080; font-weight: bold\">2024</span>       <a href=\"file://c:\\Users\\Operator\\.conda\\envs\\fantacalcio\\Lib\\site-packages\\soccerdata\\sofifa.py\" target=\"_blank\"><span style=\"color: #7f7f7f; text-decoration-color: #7f7f7f\">sofifa.py</span></a><span style=\"color: #7f7f7f; text-decoration-color: #7f7f7f\">:</span><a href=\"file://c:\\Users\\Operator\\.conda\\envs\\fantacalcio\\Lib\\site-packages\\soccerdata\\sofifa.py#459\" target=\"_blank\"><span style=\"color: #7f7f7f; text-decoration-color: #7f7f7f\">459</span></a>\n",
       "<span style=\"color: #7fbfbf; text-decoration-color: #7fbfbf\">                    </span>         edition                                                                  <span style=\"color: #7f7f7f; text-decoration-color: #7f7f7f\">             </span>\n",
       "</pre>\n"
      ],
      "text/plain": [
       "\u001b[2;36m[05/12/24 16:42:08]\u001b[0m\u001b[2;36m \u001b[0m\u001b[34mINFO    \u001b[0m \u001b[1m[\u001b[0m\u001b[1;36m8\u001b[0m/\u001b[1;36m30\u001b[0m\u001b[1m]\u001b[0m Retrieving ratings for player with ID \u001b[1;36m227796\u001b[0m in May \u001b[1;36m8\u001b[0m, \u001b[1;36m2024\u001b[0m       \u001b]8;id=94432;file://c:\\Users\\Operator\\.conda\\envs\\fantacalcio\\Lib\\site-packages\\soccerdata\\sofifa.py\u001b\\\u001b[2msofifa.py\u001b[0m\u001b]8;;\u001b\\\u001b[2m:\u001b[0m\u001b]8;id=887495;file://c:\\Users\\Operator\\.conda\\envs\\fantacalcio\\Lib\\site-packages\\soccerdata\\sofifa.py#459\u001b\\\u001b[2m459\u001b[0m\u001b]8;;\u001b\\\n",
       "\u001b[2;36m                    \u001b[0m         edition                                                                  \u001b[2m             \u001b[0m\n"
      ]
     },
     "metadata": {},
     "output_type": "display_data"
    },
    {
     "data": {
      "text/html": [
       "<pre style=\"white-space:pre;overflow-x:auto;line-height:normal;font-family:Menlo,'DejaVu Sans Mono',consolas,'Courier New',monospace\"><span style=\"color: #7fbfbf; text-decoration-color: #7fbfbf\">[05/12/24 16:42:10] </span><span style=\"color: #000080; text-decoration-color: #000080\">INFO    </span> <span style=\"font-weight: bold\">[</span><span style=\"color: #008080; text-decoration-color: #008080; font-weight: bold\">9</span>/<span style=\"color: #008080; text-decoration-color: #008080; font-weight: bold\">30</span><span style=\"font-weight: bold\">]</span> Retrieving ratings for player with ID <span style=\"color: #008080; text-decoration-color: #008080; font-weight: bold\">241721</span> in May <span style=\"color: #008080; text-decoration-color: #008080; font-weight: bold\">8</span>, <span style=\"color: #008080; text-decoration-color: #008080; font-weight: bold\">2024</span>       <a href=\"file://c:\\Users\\Operator\\.conda\\envs\\fantacalcio\\Lib\\site-packages\\soccerdata\\sofifa.py\" target=\"_blank\"><span style=\"color: #7f7f7f; text-decoration-color: #7f7f7f\">sofifa.py</span></a><span style=\"color: #7f7f7f; text-decoration-color: #7f7f7f\">:</span><a href=\"file://c:\\Users\\Operator\\.conda\\envs\\fantacalcio\\Lib\\site-packages\\soccerdata\\sofifa.py#459\" target=\"_blank\"><span style=\"color: #7f7f7f; text-decoration-color: #7f7f7f\">459</span></a>\n",
       "<span style=\"color: #7fbfbf; text-decoration-color: #7fbfbf\">                    </span>         edition                                                                  <span style=\"color: #7f7f7f; text-decoration-color: #7f7f7f\">             </span>\n",
       "</pre>\n"
      ],
      "text/plain": [
       "\u001b[2;36m[05/12/24 16:42:10]\u001b[0m\u001b[2;36m \u001b[0m\u001b[34mINFO    \u001b[0m \u001b[1m[\u001b[0m\u001b[1;36m9\u001b[0m/\u001b[1;36m30\u001b[0m\u001b[1m]\u001b[0m Retrieving ratings for player with ID \u001b[1;36m241721\u001b[0m in May \u001b[1;36m8\u001b[0m, \u001b[1;36m2024\u001b[0m       \u001b]8;id=720166;file://c:\\Users\\Operator\\.conda\\envs\\fantacalcio\\Lib\\site-packages\\soccerdata\\sofifa.py\u001b\\\u001b[2msofifa.py\u001b[0m\u001b]8;;\u001b\\\u001b[2m:\u001b[0m\u001b]8;id=803966;file://c:\\Users\\Operator\\.conda\\envs\\fantacalcio\\Lib\\site-packages\\soccerdata\\sofifa.py#459\u001b\\\u001b[2m459\u001b[0m\u001b]8;;\u001b\\\n",
       "\u001b[2;36m                    \u001b[0m         edition                                                                  \u001b[2m             \u001b[0m\n"
      ]
     },
     "metadata": {},
     "output_type": "display_data"
    },
    {
     "data": {
      "text/html": [
       "<pre style=\"white-space:pre;overflow-x:auto;line-height:normal;font-family:Menlo,'DejaVu Sans Mono',consolas,'Courier New',monospace\"><span style=\"color: #7fbfbf; text-decoration-color: #7fbfbf\">[05/12/24 16:42:11] </span><span style=\"color: #000080; text-decoration-color: #000080\">INFO    </span> <span style=\"font-weight: bold\">[</span><span style=\"color: #008080; text-decoration-color: #008080; font-weight: bold\">10</span>/<span style=\"color: #008080; text-decoration-color: #008080; font-weight: bold\">30</span><span style=\"font-weight: bold\">]</span> Retrieving ratings for player with ID <span style=\"color: #008080; text-decoration-color: #008080; font-weight: bold\">213666</span> in May <span style=\"color: #008080; text-decoration-color: #008080; font-weight: bold\">8</span>, <span style=\"color: #008080; text-decoration-color: #008080; font-weight: bold\">2024</span>      <a href=\"file://c:\\Users\\Operator\\.conda\\envs\\fantacalcio\\Lib\\site-packages\\soccerdata\\sofifa.py\" target=\"_blank\"><span style=\"color: #7f7f7f; text-decoration-color: #7f7f7f\">sofifa.py</span></a><span style=\"color: #7f7f7f; text-decoration-color: #7f7f7f\">:</span><a href=\"file://c:\\Users\\Operator\\.conda\\envs\\fantacalcio\\Lib\\site-packages\\soccerdata\\sofifa.py#459\" target=\"_blank\"><span style=\"color: #7f7f7f; text-decoration-color: #7f7f7f\">459</span></a>\n",
       "<span style=\"color: #7fbfbf; text-decoration-color: #7fbfbf\">                    </span>         edition                                                                  <span style=\"color: #7f7f7f; text-decoration-color: #7f7f7f\">             </span>\n",
       "</pre>\n"
      ],
      "text/plain": [
       "\u001b[2;36m[05/12/24 16:42:11]\u001b[0m\u001b[2;36m \u001b[0m\u001b[34mINFO    \u001b[0m \u001b[1m[\u001b[0m\u001b[1;36m10\u001b[0m/\u001b[1;36m30\u001b[0m\u001b[1m]\u001b[0m Retrieving ratings for player with ID \u001b[1;36m213666\u001b[0m in May \u001b[1;36m8\u001b[0m, \u001b[1;36m2024\u001b[0m      \u001b]8;id=555602;file://c:\\Users\\Operator\\.conda\\envs\\fantacalcio\\Lib\\site-packages\\soccerdata\\sofifa.py\u001b\\\u001b[2msofifa.py\u001b[0m\u001b]8;;\u001b\\\u001b[2m:\u001b[0m\u001b]8;id=342955;file://c:\\Users\\Operator\\.conda\\envs\\fantacalcio\\Lib\\site-packages\\soccerdata\\sofifa.py#459\u001b\\\u001b[2m459\u001b[0m\u001b]8;;\u001b\\\n",
       "\u001b[2;36m                    \u001b[0m         edition                                                                  \u001b[2m             \u001b[0m\n"
      ]
     },
     "metadata": {},
     "output_type": "display_data"
    },
    {
     "data": {
      "text/html": [
       "<pre style=\"white-space:pre;overflow-x:auto;line-height:normal;font-family:Menlo,'DejaVu Sans Mono',consolas,'Courier New',monospace\"><span style=\"color: #7fbfbf; text-decoration-color: #7fbfbf\">[05/12/24 16:42:12] </span><span style=\"color: #000080; text-decoration-color: #000080\">INFO    </span> <span style=\"font-weight: bold\">[</span><span style=\"color: #008080; text-decoration-color: #008080; font-weight: bold\">11</span>/<span style=\"color: #008080; text-decoration-color: #008080; font-weight: bold\">30</span><span style=\"font-weight: bold\">]</span> Retrieving ratings for player with ID <span style=\"color: #008080; text-decoration-color: #008080; font-weight: bold\">178509</span> in May <span style=\"color: #008080; text-decoration-color: #008080; font-weight: bold\">8</span>, <span style=\"color: #008080; text-decoration-color: #008080; font-weight: bold\">2024</span>      <a href=\"file://c:\\Users\\Operator\\.conda\\envs\\fantacalcio\\Lib\\site-packages\\soccerdata\\sofifa.py\" target=\"_blank\"><span style=\"color: #7f7f7f; text-decoration-color: #7f7f7f\">sofifa.py</span></a><span style=\"color: #7f7f7f; text-decoration-color: #7f7f7f\">:</span><a href=\"file://c:\\Users\\Operator\\.conda\\envs\\fantacalcio\\Lib\\site-packages\\soccerdata\\sofifa.py#459\" target=\"_blank\"><span style=\"color: #7f7f7f; text-decoration-color: #7f7f7f\">459</span></a>\n",
       "<span style=\"color: #7fbfbf; text-decoration-color: #7fbfbf\">                    </span>         edition                                                                  <span style=\"color: #7f7f7f; text-decoration-color: #7f7f7f\">             </span>\n",
       "</pre>\n"
      ],
      "text/plain": [
       "\u001b[2;36m[05/12/24 16:42:12]\u001b[0m\u001b[2;36m \u001b[0m\u001b[34mINFO    \u001b[0m \u001b[1m[\u001b[0m\u001b[1;36m11\u001b[0m/\u001b[1;36m30\u001b[0m\u001b[1m]\u001b[0m Retrieving ratings for player with ID \u001b[1;36m178509\u001b[0m in May \u001b[1;36m8\u001b[0m, \u001b[1;36m2024\u001b[0m      \u001b]8;id=884416;file://c:\\Users\\Operator\\.conda\\envs\\fantacalcio\\Lib\\site-packages\\soccerdata\\sofifa.py\u001b\\\u001b[2msofifa.py\u001b[0m\u001b]8;;\u001b\\\u001b[2m:\u001b[0m\u001b]8;id=366248;file://c:\\Users\\Operator\\.conda\\envs\\fantacalcio\\Lib\\site-packages\\soccerdata\\sofifa.py#459\u001b\\\u001b[2m459\u001b[0m\u001b]8;;\u001b\\\n",
       "\u001b[2;36m                    \u001b[0m         edition                                                                  \u001b[2m             \u001b[0m\n"
      ]
     },
     "metadata": {},
     "output_type": "display_data"
    },
    {
     "data": {
      "text/html": [
       "<pre style=\"white-space:pre;overflow-x:auto;line-height:normal;font-family:Menlo,'DejaVu Sans Mono',consolas,'Courier New',monospace\"><span style=\"color: #7fbfbf; text-decoration-color: #7fbfbf\">[05/12/24 16:42:13] </span><span style=\"color: #000080; text-decoration-color: #000080\">INFO    </span> <span style=\"font-weight: bold\">[</span><span style=\"color: #008080; text-decoration-color: #008080; font-weight: bold\">12</span>/<span style=\"color: #008080; text-decoration-color: #008080; font-weight: bold\">30</span><span style=\"font-weight: bold\">]</span> Retrieving ratings for player with ID <span style=\"color: #008080; text-decoration-color: #008080; font-weight: bold\">246172</span> in May <span style=\"color: #008080; text-decoration-color: #008080; font-weight: bold\">8</span>, <span style=\"color: #008080; text-decoration-color: #008080; font-weight: bold\">2024</span>      <a href=\"file://c:\\Users\\Operator\\.conda\\envs\\fantacalcio\\Lib\\site-packages\\soccerdata\\sofifa.py\" target=\"_blank\"><span style=\"color: #7f7f7f; text-decoration-color: #7f7f7f\">sofifa.py</span></a><span style=\"color: #7f7f7f; text-decoration-color: #7f7f7f\">:</span><a href=\"file://c:\\Users\\Operator\\.conda\\envs\\fantacalcio\\Lib\\site-packages\\soccerdata\\sofifa.py#459\" target=\"_blank\"><span style=\"color: #7f7f7f; text-decoration-color: #7f7f7f\">459</span></a>\n",
       "<span style=\"color: #7fbfbf; text-decoration-color: #7fbfbf\">                    </span>         edition                                                                  <span style=\"color: #7f7f7f; text-decoration-color: #7f7f7f\">             </span>\n",
       "</pre>\n"
      ],
      "text/plain": [
       "\u001b[2;36m[05/12/24 16:42:13]\u001b[0m\u001b[2;36m \u001b[0m\u001b[34mINFO    \u001b[0m \u001b[1m[\u001b[0m\u001b[1;36m12\u001b[0m/\u001b[1;36m30\u001b[0m\u001b[1m]\u001b[0m Retrieving ratings for player with ID \u001b[1;36m246172\u001b[0m in May \u001b[1;36m8\u001b[0m, \u001b[1;36m2024\u001b[0m      \u001b]8;id=932158;file://c:\\Users\\Operator\\.conda\\envs\\fantacalcio\\Lib\\site-packages\\soccerdata\\sofifa.py\u001b\\\u001b[2msofifa.py\u001b[0m\u001b]8;;\u001b\\\u001b[2m:\u001b[0m\u001b]8;id=158845;file://c:\\Users\\Operator\\.conda\\envs\\fantacalcio\\Lib\\site-packages\\soccerdata\\sofifa.py#459\u001b\\\u001b[2m459\u001b[0m\u001b]8;;\u001b\\\n",
       "\u001b[2;36m                    \u001b[0m         edition                                                                  \u001b[2m             \u001b[0m\n"
      ]
     },
     "metadata": {},
     "output_type": "display_data"
    },
    {
     "data": {
      "text/html": [
       "<pre style=\"white-space:pre;overflow-x:auto;line-height:normal;font-family:Menlo,'DejaVu Sans Mono',consolas,'Courier New',monospace\"><span style=\"color: #7fbfbf; text-decoration-color: #7fbfbf\">[05/12/24 16:42:15] </span><span style=\"color: #000080; text-decoration-color: #000080\">INFO    </span> <span style=\"font-weight: bold\">[</span><span style=\"color: #008080; text-decoration-color: #008080; font-weight: bold\">13</span>/<span style=\"color: #008080; text-decoration-color: #008080; font-weight: bold\">30</span><span style=\"font-weight: bold\">]</span> Retrieving ratings for player with ID <span style=\"color: #008080; text-decoration-color: #008080; font-weight: bold\">232432</span> in May <span style=\"color: #008080; text-decoration-color: #008080; font-weight: bold\">8</span>, <span style=\"color: #008080; text-decoration-color: #008080; font-weight: bold\">2024</span>      <a href=\"file://c:\\Users\\Operator\\.conda\\envs\\fantacalcio\\Lib\\site-packages\\soccerdata\\sofifa.py\" target=\"_blank\"><span style=\"color: #7f7f7f; text-decoration-color: #7f7f7f\">sofifa.py</span></a><span style=\"color: #7f7f7f; text-decoration-color: #7f7f7f\">:</span><a href=\"file://c:\\Users\\Operator\\.conda\\envs\\fantacalcio\\Lib\\site-packages\\soccerdata\\sofifa.py#459\" target=\"_blank\"><span style=\"color: #7f7f7f; text-decoration-color: #7f7f7f\">459</span></a>\n",
       "<span style=\"color: #7fbfbf; text-decoration-color: #7fbfbf\">                    </span>         edition                                                                  <span style=\"color: #7f7f7f; text-decoration-color: #7f7f7f\">             </span>\n",
       "</pre>\n"
      ],
      "text/plain": [
       "\u001b[2;36m[05/12/24 16:42:15]\u001b[0m\u001b[2;36m \u001b[0m\u001b[34mINFO    \u001b[0m \u001b[1m[\u001b[0m\u001b[1;36m13\u001b[0m/\u001b[1;36m30\u001b[0m\u001b[1m]\u001b[0m Retrieving ratings for player with ID \u001b[1;36m232432\u001b[0m in May \u001b[1;36m8\u001b[0m, \u001b[1;36m2024\u001b[0m      \u001b]8;id=953344;file://c:\\Users\\Operator\\.conda\\envs\\fantacalcio\\Lib\\site-packages\\soccerdata\\sofifa.py\u001b\\\u001b[2msofifa.py\u001b[0m\u001b]8;;\u001b\\\u001b[2m:\u001b[0m\u001b]8;id=818784;file://c:\\Users\\Operator\\.conda\\envs\\fantacalcio\\Lib\\site-packages\\soccerdata\\sofifa.py#459\u001b\\\u001b[2m459\u001b[0m\u001b]8;;\u001b\\\n",
       "\u001b[2;36m                    \u001b[0m         edition                                                                  \u001b[2m             \u001b[0m\n"
      ]
     },
     "metadata": {},
     "output_type": "display_data"
    },
    {
     "data": {
      "text/html": [
       "<pre style=\"white-space:pre;overflow-x:auto;line-height:normal;font-family:Menlo,'DejaVu Sans Mono',consolas,'Courier New',monospace\"><span style=\"color: #7fbfbf; text-decoration-color: #7fbfbf\">[05/12/24 16:42:16] </span><span style=\"color: #000080; text-decoration-color: #000080\">INFO    </span> <span style=\"font-weight: bold\">[</span><span style=\"color: #008080; text-decoration-color: #008080; font-weight: bold\">14</span>/<span style=\"color: #008080; text-decoration-color: #008080; font-weight: bold\">30</span><span style=\"font-weight: bold\">]</span> Retrieving ratings for player with ID <span style=\"color: #008080; text-decoration-color: #008080; font-weight: bold\">242530</span> in May <span style=\"color: #008080; text-decoration-color: #008080; font-weight: bold\">8</span>, <span style=\"color: #008080; text-decoration-color: #008080; font-weight: bold\">2024</span>      <a href=\"file://c:\\Users\\Operator\\.conda\\envs\\fantacalcio\\Lib\\site-packages\\soccerdata\\sofifa.py\" target=\"_blank\"><span style=\"color: #7f7f7f; text-decoration-color: #7f7f7f\">sofifa.py</span></a><span style=\"color: #7f7f7f; text-decoration-color: #7f7f7f\">:</span><a href=\"file://c:\\Users\\Operator\\.conda\\envs\\fantacalcio\\Lib\\site-packages\\soccerdata\\sofifa.py#459\" target=\"_blank\"><span style=\"color: #7f7f7f; text-decoration-color: #7f7f7f\">459</span></a>\n",
       "<span style=\"color: #7fbfbf; text-decoration-color: #7fbfbf\">                    </span>         edition                                                                  <span style=\"color: #7f7f7f; text-decoration-color: #7f7f7f\">             </span>\n",
       "</pre>\n"
      ],
      "text/plain": [
       "\u001b[2;36m[05/12/24 16:42:16]\u001b[0m\u001b[2;36m \u001b[0m\u001b[34mINFO    \u001b[0m \u001b[1m[\u001b[0m\u001b[1;36m14\u001b[0m/\u001b[1;36m30\u001b[0m\u001b[1m]\u001b[0m Retrieving ratings for player with ID \u001b[1;36m242530\u001b[0m in May \u001b[1;36m8\u001b[0m, \u001b[1;36m2024\u001b[0m      \u001b]8;id=99235;file://c:\\Users\\Operator\\.conda\\envs\\fantacalcio\\Lib\\site-packages\\soccerdata\\sofifa.py\u001b\\\u001b[2msofifa.py\u001b[0m\u001b]8;;\u001b\\\u001b[2m:\u001b[0m\u001b]8;id=34272;file://c:\\Users\\Operator\\.conda\\envs\\fantacalcio\\Lib\\site-packages\\soccerdata\\sofifa.py#459\u001b\\\u001b[2m459\u001b[0m\u001b]8;;\u001b\\\n",
       "\u001b[2;36m                    \u001b[0m         edition                                                                  \u001b[2m             \u001b[0m\n"
      ]
     },
     "metadata": {},
     "output_type": "display_data"
    },
    {
     "data": {
      "text/html": [
       "<pre style=\"white-space:pre;overflow-x:auto;line-height:normal;font-family:Menlo,'DejaVu Sans Mono',consolas,'Courier New',monospace\"><span style=\"color: #7fbfbf; text-decoration-color: #7fbfbf\">[05/12/24 16:42:17] </span><span style=\"color: #000080; text-decoration-color: #000080\">INFO    </span> <span style=\"font-weight: bold\">[</span><span style=\"color: #008080; text-decoration-color: #008080; font-weight: bold\">15</span>/<span style=\"color: #008080; text-decoration-color: #008080; font-weight: bold\">30</span><span style=\"font-weight: bold\">]</span> Retrieving ratings for player with ID <span style=\"color: #008080; text-decoration-color: #008080; font-weight: bold\">243627</span> in May <span style=\"color: #008080; text-decoration-color: #008080; font-weight: bold\">8</span>, <span style=\"color: #008080; text-decoration-color: #008080; font-weight: bold\">2024</span>      <a href=\"file://c:\\Users\\Operator\\.conda\\envs\\fantacalcio\\Lib\\site-packages\\soccerdata\\sofifa.py\" target=\"_blank\"><span style=\"color: #7f7f7f; text-decoration-color: #7f7f7f\">sofifa.py</span></a><span style=\"color: #7f7f7f; text-decoration-color: #7f7f7f\">:</span><a href=\"file://c:\\Users\\Operator\\.conda\\envs\\fantacalcio\\Lib\\site-packages\\soccerdata\\sofifa.py#459\" target=\"_blank\"><span style=\"color: #7f7f7f; text-decoration-color: #7f7f7f\">459</span></a>\n",
       "<span style=\"color: #7fbfbf; text-decoration-color: #7fbfbf\">                    </span>         edition                                                                  <span style=\"color: #7f7f7f; text-decoration-color: #7f7f7f\">             </span>\n",
       "</pre>\n"
      ],
      "text/plain": [
       "\u001b[2;36m[05/12/24 16:42:17]\u001b[0m\u001b[2;36m \u001b[0m\u001b[34mINFO    \u001b[0m \u001b[1m[\u001b[0m\u001b[1;36m15\u001b[0m/\u001b[1;36m30\u001b[0m\u001b[1m]\u001b[0m Retrieving ratings for player with ID \u001b[1;36m243627\u001b[0m in May \u001b[1;36m8\u001b[0m, \u001b[1;36m2024\u001b[0m      \u001b]8;id=161358;file://c:\\Users\\Operator\\.conda\\envs\\fantacalcio\\Lib\\site-packages\\soccerdata\\sofifa.py\u001b\\\u001b[2msofifa.py\u001b[0m\u001b]8;;\u001b\\\u001b[2m:\u001b[0m\u001b]8;id=369087;file://c:\\Users\\Operator\\.conda\\envs\\fantacalcio\\Lib\\site-packages\\soccerdata\\sofifa.py#459\u001b\\\u001b[2m459\u001b[0m\u001b]8;;\u001b\\\n",
       "\u001b[2;36m                    \u001b[0m         edition                                                                  \u001b[2m             \u001b[0m\n"
      ]
     },
     "metadata": {},
     "output_type": "display_data"
    },
    {
     "data": {
      "text/html": [
       "<pre style=\"white-space:pre;overflow-x:auto;line-height:normal;font-family:Menlo,'DejaVu Sans Mono',consolas,'Courier New',monospace\"><span style=\"color: #7fbfbf; text-decoration-color: #7fbfbf\">[05/12/24 16:42:19] </span><span style=\"color: #000080; text-decoration-color: #000080\">INFO    </span> <span style=\"font-weight: bold\">[</span><span style=\"color: #008080; text-decoration-color: #008080; font-weight: bold\">16</span>/<span style=\"color: #008080; text-decoration-color: #008080; font-weight: bold\">30</span><span style=\"font-weight: bold\">]</span> Retrieving ratings for player with ID <span style=\"color: #008080; text-decoration-color: #008080; font-weight: bold\">179645</span> in May <span style=\"color: #008080; text-decoration-color: #008080; font-weight: bold\">8</span>, <span style=\"color: #008080; text-decoration-color: #008080; font-weight: bold\">2024</span>      <a href=\"file://c:\\Users\\Operator\\.conda\\envs\\fantacalcio\\Lib\\site-packages\\soccerdata\\sofifa.py\" target=\"_blank\"><span style=\"color: #7f7f7f; text-decoration-color: #7f7f7f\">sofifa.py</span></a><span style=\"color: #7f7f7f; text-decoration-color: #7f7f7f\">:</span><a href=\"file://c:\\Users\\Operator\\.conda\\envs\\fantacalcio\\Lib\\site-packages\\soccerdata\\sofifa.py#459\" target=\"_blank\"><span style=\"color: #7f7f7f; text-decoration-color: #7f7f7f\">459</span></a>\n",
       "<span style=\"color: #7fbfbf; text-decoration-color: #7fbfbf\">                    </span>         edition                                                                  <span style=\"color: #7f7f7f; text-decoration-color: #7f7f7f\">             </span>\n",
       "</pre>\n"
      ],
      "text/plain": [
       "\u001b[2;36m[05/12/24 16:42:19]\u001b[0m\u001b[2;36m \u001b[0m\u001b[34mINFO    \u001b[0m \u001b[1m[\u001b[0m\u001b[1;36m16\u001b[0m/\u001b[1;36m30\u001b[0m\u001b[1m]\u001b[0m Retrieving ratings for player with ID \u001b[1;36m179645\u001b[0m in May \u001b[1;36m8\u001b[0m, \u001b[1;36m2024\u001b[0m      \u001b]8;id=35796;file://c:\\Users\\Operator\\.conda\\envs\\fantacalcio\\Lib\\site-packages\\soccerdata\\sofifa.py\u001b\\\u001b[2msofifa.py\u001b[0m\u001b]8;;\u001b\\\u001b[2m:\u001b[0m\u001b]8;id=56259;file://c:\\Users\\Operator\\.conda\\envs\\fantacalcio\\Lib\\site-packages\\soccerdata\\sofifa.py#459\u001b\\\u001b[2m459\u001b[0m\u001b]8;;\u001b\\\n",
       "\u001b[2;36m                    \u001b[0m         edition                                                                  \u001b[2m             \u001b[0m\n"
      ]
     },
     "metadata": {},
     "output_type": "display_data"
    },
    {
     "data": {
      "text/html": [
       "<pre style=\"white-space:pre;overflow-x:auto;line-height:normal;font-family:Menlo,'DejaVu Sans Mono',consolas,'Courier New',monospace\"><span style=\"color: #7fbfbf; text-decoration-color: #7fbfbf\">[05/12/24 16:42:20] </span><span style=\"color: #000080; text-decoration-color: #000080\">INFO    </span> <span style=\"font-weight: bold\">[</span><span style=\"color: #008080; text-decoration-color: #008080; font-weight: bold\">17</span>/<span style=\"color: #008080; text-decoration-color: #008080; font-weight: bold\">30</span><span style=\"font-weight: bold\">]</span> Retrieving ratings for player with ID <span style=\"color: #008080; text-decoration-color: #008080; font-weight: bold\">203551</span> in May <span style=\"color: #008080; text-decoration-color: #008080; font-weight: bold\">8</span>, <span style=\"color: #008080; text-decoration-color: #008080; font-weight: bold\">2024</span>      <a href=\"file://c:\\Users\\Operator\\.conda\\envs\\fantacalcio\\Lib\\site-packages\\soccerdata\\sofifa.py\" target=\"_blank\"><span style=\"color: #7f7f7f; text-decoration-color: #7f7f7f\">sofifa.py</span></a><span style=\"color: #7f7f7f; text-decoration-color: #7f7f7f\">:</span><a href=\"file://c:\\Users\\Operator\\.conda\\envs\\fantacalcio\\Lib\\site-packages\\soccerdata\\sofifa.py#459\" target=\"_blank\"><span style=\"color: #7f7f7f; text-decoration-color: #7f7f7f\">459</span></a>\n",
       "<span style=\"color: #7fbfbf; text-decoration-color: #7fbfbf\">                    </span>         edition                                                                  <span style=\"color: #7f7f7f; text-decoration-color: #7f7f7f\">             </span>\n",
       "</pre>\n"
      ],
      "text/plain": [
       "\u001b[2;36m[05/12/24 16:42:20]\u001b[0m\u001b[2;36m \u001b[0m\u001b[34mINFO    \u001b[0m \u001b[1m[\u001b[0m\u001b[1;36m17\u001b[0m/\u001b[1;36m30\u001b[0m\u001b[1m]\u001b[0m Retrieving ratings for player with ID \u001b[1;36m203551\u001b[0m in May \u001b[1;36m8\u001b[0m, \u001b[1;36m2024\u001b[0m      \u001b]8;id=44650;file://c:\\Users\\Operator\\.conda\\envs\\fantacalcio\\Lib\\site-packages\\soccerdata\\sofifa.py\u001b\\\u001b[2msofifa.py\u001b[0m\u001b]8;;\u001b\\\u001b[2m:\u001b[0m\u001b]8;id=507711;file://c:\\Users\\Operator\\.conda\\envs\\fantacalcio\\Lib\\site-packages\\soccerdata\\sofifa.py#459\u001b\\\u001b[2m459\u001b[0m\u001b]8;;\u001b\\\n",
       "\u001b[2;36m                    \u001b[0m         edition                                                                  \u001b[2m             \u001b[0m\n"
      ]
     },
     "metadata": {},
     "output_type": "display_data"
    },
    {
     "data": {
      "text/html": [
       "<pre style=\"white-space:pre;overflow-x:auto;line-height:normal;font-family:Menlo,'DejaVu Sans Mono',consolas,'Courier New',monospace\"><span style=\"color: #7fbfbf; text-decoration-color: #7fbfbf\">[05/12/24 16:42:21] </span><span style=\"color: #000080; text-decoration-color: #000080\">INFO    </span> <span style=\"font-weight: bold\">[</span><span style=\"color: #008080; text-decoration-color: #008080; font-weight: bold\">18</span>/<span style=\"color: #008080; text-decoration-color: #008080; font-weight: bold\">30</span><span style=\"font-weight: bold\">]</span> Retrieving ratings for player with ID <span style=\"color: #008080; text-decoration-color: #008080; font-weight: bold\">216065</span> in May <span style=\"color: #008080; text-decoration-color: #008080; font-weight: bold\">8</span>, <span style=\"color: #008080; text-decoration-color: #008080; font-weight: bold\">2024</span>      <a href=\"file://c:\\Users\\Operator\\.conda\\envs\\fantacalcio\\Lib\\site-packages\\soccerdata\\sofifa.py\" target=\"_blank\"><span style=\"color: #7f7f7f; text-decoration-color: #7f7f7f\">sofifa.py</span></a><span style=\"color: #7f7f7f; text-decoration-color: #7f7f7f\">:</span><a href=\"file://c:\\Users\\Operator\\.conda\\envs\\fantacalcio\\Lib\\site-packages\\soccerdata\\sofifa.py#459\" target=\"_blank\"><span style=\"color: #7f7f7f; text-decoration-color: #7f7f7f\">459</span></a>\n",
       "<span style=\"color: #7fbfbf; text-decoration-color: #7fbfbf\">                    </span>         edition                                                                  <span style=\"color: #7f7f7f; text-decoration-color: #7f7f7f\">             </span>\n",
       "</pre>\n"
      ],
      "text/plain": [
       "\u001b[2;36m[05/12/24 16:42:21]\u001b[0m\u001b[2;36m \u001b[0m\u001b[34mINFO    \u001b[0m \u001b[1m[\u001b[0m\u001b[1;36m18\u001b[0m/\u001b[1;36m30\u001b[0m\u001b[1m]\u001b[0m Retrieving ratings for player with ID \u001b[1;36m216065\u001b[0m in May \u001b[1;36m8\u001b[0m, \u001b[1;36m2024\u001b[0m      \u001b]8;id=461673;file://c:\\Users\\Operator\\.conda\\envs\\fantacalcio\\Lib\\site-packages\\soccerdata\\sofifa.py\u001b\\\u001b[2msofifa.py\u001b[0m\u001b]8;;\u001b\\\u001b[2m:\u001b[0m\u001b]8;id=477460;file://c:\\Users\\Operator\\.conda\\envs\\fantacalcio\\Lib\\site-packages\\soccerdata\\sofifa.py#459\u001b\\\u001b[2m459\u001b[0m\u001b]8;;\u001b\\\n",
       "\u001b[2;36m                    \u001b[0m         edition                                                                  \u001b[2m             \u001b[0m\n"
      ]
     },
     "metadata": {},
     "output_type": "display_data"
    },
    {
     "data": {
      "text/html": [
       "<pre style=\"white-space:pre;overflow-x:auto;line-height:normal;font-family:Menlo,'DejaVu Sans Mono',consolas,'Courier New',monospace\"><span style=\"color: #7fbfbf; text-decoration-color: #7fbfbf\">[05/12/24 16:42:22] </span><span style=\"color: #000080; text-decoration-color: #000080\">INFO    </span> <span style=\"font-weight: bold\">[</span><span style=\"color: #008080; text-decoration-color: #008080; font-weight: bold\">19</span>/<span style=\"color: #008080; text-decoration-color: #008080; font-weight: bold\">30</span><span style=\"font-weight: bold\">]</span> Retrieving ratings for player with ID <span style=\"color: #008080; text-decoration-color: #008080; font-weight: bold\">256261</span> in May <span style=\"color: #008080; text-decoration-color: #008080; font-weight: bold\">8</span>, <span style=\"color: #008080; text-decoration-color: #008080; font-weight: bold\">2024</span>      <a href=\"file://c:\\Users\\Operator\\.conda\\envs\\fantacalcio\\Lib\\site-packages\\soccerdata\\sofifa.py\" target=\"_blank\"><span style=\"color: #7f7f7f; text-decoration-color: #7f7f7f\">sofifa.py</span></a><span style=\"color: #7f7f7f; text-decoration-color: #7f7f7f\">:</span><a href=\"file://c:\\Users\\Operator\\.conda\\envs\\fantacalcio\\Lib\\site-packages\\soccerdata\\sofifa.py#459\" target=\"_blank\"><span style=\"color: #7f7f7f; text-decoration-color: #7f7f7f\">459</span></a>\n",
       "<span style=\"color: #7fbfbf; text-decoration-color: #7fbfbf\">                    </span>         edition                                                                  <span style=\"color: #7f7f7f; text-decoration-color: #7f7f7f\">             </span>\n",
       "</pre>\n"
      ],
      "text/plain": [
       "\u001b[2;36m[05/12/24 16:42:22]\u001b[0m\u001b[2;36m \u001b[0m\u001b[34mINFO    \u001b[0m \u001b[1m[\u001b[0m\u001b[1;36m19\u001b[0m/\u001b[1;36m30\u001b[0m\u001b[1m]\u001b[0m Retrieving ratings for player with ID \u001b[1;36m256261\u001b[0m in May \u001b[1;36m8\u001b[0m, \u001b[1;36m2024\u001b[0m      \u001b]8;id=301984;file://c:\\Users\\Operator\\.conda\\envs\\fantacalcio\\Lib\\site-packages\\soccerdata\\sofifa.py\u001b\\\u001b[2msofifa.py\u001b[0m\u001b]8;;\u001b\\\u001b[2m:\u001b[0m\u001b]8;id=650993;file://c:\\Users\\Operator\\.conda\\envs\\fantacalcio\\Lib\\site-packages\\soccerdata\\sofifa.py#459\u001b\\\u001b[2m459\u001b[0m\u001b]8;;\u001b\\\n",
       "\u001b[2;36m                    \u001b[0m         edition                                                                  \u001b[2m             \u001b[0m\n"
      ]
     },
     "metadata": {},
     "output_type": "display_data"
    },
    {
     "data": {
      "text/html": [
       "<pre style=\"white-space:pre;overflow-x:auto;line-height:normal;font-family:Menlo,'DejaVu Sans Mono',consolas,'Courier New',monospace\"><span style=\"color: #7fbfbf; text-decoration-color: #7fbfbf\">[05/12/24 16:42:24] </span><span style=\"color: #000080; text-decoration-color: #000080\">INFO    </span> <span style=\"font-weight: bold\">[</span><span style=\"color: #008080; text-decoration-color: #008080; font-weight: bold\">20</span>/<span style=\"color: #008080; text-decoration-color: #008080; font-weight: bold\">30</span><span style=\"font-weight: bold\">]</span> Retrieving ratings for player with ID <span style=\"color: #008080; text-decoration-color: #008080; font-weight: bold\">252060</span> in May <span style=\"color: #008080; text-decoration-color: #008080; font-weight: bold\">8</span>, <span style=\"color: #008080; text-decoration-color: #008080; font-weight: bold\">2024</span>      <a href=\"file://c:\\Users\\Operator\\.conda\\envs\\fantacalcio\\Lib\\site-packages\\soccerdata\\sofifa.py\" target=\"_blank\"><span style=\"color: #7f7f7f; text-decoration-color: #7f7f7f\">sofifa.py</span></a><span style=\"color: #7f7f7f; text-decoration-color: #7f7f7f\">:</span><a href=\"file://c:\\Users\\Operator\\.conda\\envs\\fantacalcio\\Lib\\site-packages\\soccerdata\\sofifa.py#459\" target=\"_blank\"><span style=\"color: #7f7f7f; text-decoration-color: #7f7f7f\">459</span></a>\n",
       "<span style=\"color: #7fbfbf; text-decoration-color: #7fbfbf\">                    </span>         edition                                                                  <span style=\"color: #7f7f7f; text-decoration-color: #7f7f7f\">             </span>\n",
       "</pre>\n"
      ],
      "text/plain": [
       "\u001b[2;36m[05/12/24 16:42:24]\u001b[0m\u001b[2;36m \u001b[0m\u001b[34mINFO    \u001b[0m \u001b[1m[\u001b[0m\u001b[1;36m20\u001b[0m/\u001b[1;36m30\u001b[0m\u001b[1m]\u001b[0m Retrieving ratings for player with ID \u001b[1;36m252060\u001b[0m in May \u001b[1;36m8\u001b[0m, \u001b[1;36m2024\u001b[0m      \u001b]8;id=427030;file://c:\\Users\\Operator\\.conda\\envs\\fantacalcio\\Lib\\site-packages\\soccerdata\\sofifa.py\u001b\\\u001b[2msofifa.py\u001b[0m\u001b]8;;\u001b\\\u001b[2m:\u001b[0m\u001b]8;id=113531;file://c:\\Users\\Operator\\.conda\\envs\\fantacalcio\\Lib\\site-packages\\soccerdata\\sofifa.py#459\u001b\\\u001b[2m459\u001b[0m\u001b]8;;\u001b\\\n",
       "\u001b[2;36m                    \u001b[0m         edition                                                                  \u001b[2m             \u001b[0m\n"
      ]
     },
     "metadata": {},
     "output_type": "display_data"
    },
    {
     "data": {
      "text/html": [
       "<pre style=\"white-space:pre;overflow-x:auto;line-height:normal;font-family:Menlo,'DejaVu Sans Mono',consolas,'Courier New',monospace\"><span style=\"color: #7fbfbf; text-decoration-color: #7fbfbf\">[05/12/24 16:42:25] </span><span style=\"color: #000080; text-decoration-color: #000080\">INFO    </span> <span style=\"font-weight: bold\">[</span><span style=\"color: #008080; text-decoration-color: #008080; font-weight: bold\">21</span>/<span style=\"color: #008080; text-decoration-color: #008080; font-weight: bold\">30</span><span style=\"font-weight: bold\">]</span> Retrieving ratings for player with ID <span style=\"color: #008080; text-decoration-color: #008080; font-weight: bold\">253177</span> in May <span style=\"color: #008080; text-decoration-color: #008080; font-weight: bold\">8</span>, <span style=\"color: #008080; text-decoration-color: #008080; font-weight: bold\">2024</span>      <a href=\"file://c:\\Users\\Operator\\.conda\\envs\\fantacalcio\\Lib\\site-packages\\soccerdata\\sofifa.py\" target=\"_blank\"><span style=\"color: #7f7f7f; text-decoration-color: #7f7f7f\">sofifa.py</span></a><span style=\"color: #7f7f7f; text-decoration-color: #7f7f7f\">:</span><a href=\"file://c:\\Users\\Operator\\.conda\\envs\\fantacalcio\\Lib\\site-packages\\soccerdata\\sofifa.py#459\" target=\"_blank\"><span style=\"color: #7f7f7f; text-decoration-color: #7f7f7f\">459</span></a>\n",
       "<span style=\"color: #7fbfbf; text-decoration-color: #7fbfbf\">                    </span>         edition                                                                  <span style=\"color: #7f7f7f; text-decoration-color: #7f7f7f\">             </span>\n",
       "</pre>\n"
      ],
      "text/plain": [
       "\u001b[2;36m[05/12/24 16:42:25]\u001b[0m\u001b[2;36m \u001b[0m\u001b[34mINFO    \u001b[0m \u001b[1m[\u001b[0m\u001b[1;36m21\u001b[0m/\u001b[1;36m30\u001b[0m\u001b[1m]\u001b[0m Retrieving ratings for player with ID \u001b[1;36m253177\u001b[0m in May \u001b[1;36m8\u001b[0m, \u001b[1;36m2024\u001b[0m      \u001b]8;id=91380;file://c:\\Users\\Operator\\.conda\\envs\\fantacalcio\\Lib\\site-packages\\soccerdata\\sofifa.py\u001b\\\u001b[2msofifa.py\u001b[0m\u001b]8;;\u001b\\\u001b[2m:\u001b[0m\u001b]8;id=939231;file://c:\\Users\\Operator\\.conda\\envs\\fantacalcio\\Lib\\site-packages\\soccerdata\\sofifa.py#459\u001b\\\u001b[2m459\u001b[0m\u001b]8;;\u001b\\\n",
       "\u001b[2;36m                    \u001b[0m         edition                                                                  \u001b[2m             \u001b[0m\n"
      ]
     },
     "metadata": {},
     "output_type": "display_data"
    },
    {
     "data": {
      "text/html": [
       "<pre style=\"white-space:pre;overflow-x:auto;line-height:normal;font-family:Menlo,'DejaVu Sans Mono',consolas,'Courier New',monospace\"><span style=\"color: #7fbfbf; text-decoration-color: #7fbfbf\">[05/12/24 16:42:26] </span><span style=\"color: #000080; text-decoration-color: #000080\">INFO    </span> <span style=\"font-weight: bold\">[</span><span style=\"color: #008080; text-decoration-color: #008080; font-weight: bold\">22</span>/<span style=\"color: #008080; text-decoration-color: #008080; font-weight: bold\">30</span><span style=\"font-weight: bold\">]</span> Retrieving ratings for player with ID <span style=\"color: #008080; text-decoration-color: #008080; font-weight: bold\">271579</span> in May <span style=\"color: #008080; text-decoration-color: #008080; font-weight: bold\">8</span>, <span style=\"color: #008080; text-decoration-color: #008080; font-weight: bold\">2024</span>      <a href=\"file://c:\\Users\\Operator\\.conda\\envs\\fantacalcio\\Lib\\site-packages\\soccerdata\\sofifa.py\" target=\"_blank\"><span style=\"color: #7f7f7f; text-decoration-color: #7f7f7f\">sofifa.py</span></a><span style=\"color: #7f7f7f; text-decoration-color: #7f7f7f\">:</span><a href=\"file://c:\\Users\\Operator\\.conda\\envs\\fantacalcio\\Lib\\site-packages\\soccerdata\\sofifa.py#459\" target=\"_blank\"><span style=\"color: #7f7f7f; text-decoration-color: #7f7f7f\">459</span></a>\n",
       "<span style=\"color: #7fbfbf; text-decoration-color: #7fbfbf\">                    </span>         edition                                                                  <span style=\"color: #7f7f7f; text-decoration-color: #7f7f7f\">             </span>\n",
       "</pre>\n"
      ],
      "text/plain": [
       "\u001b[2;36m[05/12/24 16:42:26]\u001b[0m\u001b[2;36m \u001b[0m\u001b[34mINFO    \u001b[0m \u001b[1m[\u001b[0m\u001b[1;36m22\u001b[0m/\u001b[1;36m30\u001b[0m\u001b[1m]\u001b[0m Retrieving ratings for player with ID \u001b[1;36m271579\u001b[0m in May \u001b[1;36m8\u001b[0m, \u001b[1;36m2024\u001b[0m      \u001b]8;id=802022;file://c:\\Users\\Operator\\.conda\\envs\\fantacalcio\\Lib\\site-packages\\soccerdata\\sofifa.py\u001b\\\u001b[2msofifa.py\u001b[0m\u001b]8;;\u001b\\\u001b[2m:\u001b[0m\u001b]8;id=600134;file://c:\\Users\\Operator\\.conda\\envs\\fantacalcio\\Lib\\site-packages\\soccerdata\\sofifa.py#459\u001b\\\u001b[2m459\u001b[0m\u001b]8;;\u001b\\\n",
       "\u001b[2;36m                    \u001b[0m         edition                                                                  \u001b[2m             \u001b[0m\n"
      ]
     },
     "metadata": {},
     "output_type": "display_data"
    },
    {
     "data": {
      "text/html": [
       "<pre style=\"white-space:pre;overflow-x:auto;line-height:normal;font-family:Menlo,'DejaVu Sans Mono',consolas,'Courier New',monospace\"><span style=\"color: #7fbfbf; text-decoration-color: #7fbfbf\">[05/12/24 16:42:28] </span><span style=\"color: #000080; text-decoration-color: #000080\">INFO    </span> <span style=\"font-weight: bold\">[</span><span style=\"color: #008080; text-decoration-color: #008080; font-weight: bold\">23</span>/<span style=\"color: #008080; text-decoration-color: #008080; font-weight: bold\">30</span><span style=\"font-weight: bold\">]</span> Retrieving ratings for player with ID <span style=\"color: #008080; text-decoration-color: #008080; font-weight: bold\">140293</span> in May <span style=\"color: #008080; text-decoration-color: #008080; font-weight: bold\">8</span>, <span style=\"color: #008080; text-decoration-color: #008080; font-weight: bold\">2024</span>      <a href=\"file://c:\\Users\\Operator\\.conda\\envs\\fantacalcio\\Lib\\site-packages\\soccerdata\\sofifa.py\" target=\"_blank\"><span style=\"color: #7f7f7f; text-decoration-color: #7f7f7f\">sofifa.py</span></a><span style=\"color: #7f7f7f; text-decoration-color: #7f7f7f\">:</span><a href=\"file://c:\\Users\\Operator\\.conda\\envs\\fantacalcio\\Lib\\site-packages\\soccerdata\\sofifa.py#459\" target=\"_blank\"><span style=\"color: #7f7f7f; text-decoration-color: #7f7f7f\">459</span></a>\n",
       "<span style=\"color: #7fbfbf; text-decoration-color: #7fbfbf\">                    </span>         edition                                                                  <span style=\"color: #7f7f7f; text-decoration-color: #7f7f7f\">             </span>\n",
       "</pre>\n"
      ],
      "text/plain": [
       "\u001b[2;36m[05/12/24 16:42:28]\u001b[0m\u001b[2;36m \u001b[0m\u001b[34mINFO    \u001b[0m \u001b[1m[\u001b[0m\u001b[1;36m23\u001b[0m/\u001b[1;36m30\u001b[0m\u001b[1m]\u001b[0m Retrieving ratings for player with ID \u001b[1;36m140293\u001b[0m in May \u001b[1;36m8\u001b[0m, \u001b[1;36m2024\u001b[0m      \u001b]8;id=358538;file://c:\\Users\\Operator\\.conda\\envs\\fantacalcio\\Lib\\site-packages\\soccerdata\\sofifa.py\u001b\\\u001b[2msofifa.py\u001b[0m\u001b]8;;\u001b\\\u001b[2m:\u001b[0m\u001b]8;id=439145;file://c:\\Users\\Operator\\.conda\\envs\\fantacalcio\\Lib\\site-packages\\soccerdata\\sofifa.py#459\u001b\\\u001b[2m459\u001b[0m\u001b]8;;\u001b\\\n",
       "\u001b[2;36m                    \u001b[0m         edition                                                                  \u001b[2m             \u001b[0m\n"
      ]
     },
     "metadata": {},
     "output_type": "display_data"
    },
    {
     "data": {
      "text/html": [
       "<pre style=\"white-space:pre;overflow-x:auto;line-height:normal;font-family:Menlo,'DejaVu Sans Mono',consolas,'Courier New',monospace\"><span style=\"color: #7fbfbf; text-decoration-color: #7fbfbf\">[05/12/24 16:42:29] </span><span style=\"color: #000080; text-decoration-color: #000080\">INFO    </span> <span style=\"font-weight: bold\">[</span><span style=\"color: #008080; text-decoration-color: #008080; font-weight: bold\">24</span>/<span style=\"color: #008080; text-decoration-color: #008080; font-weight: bold\">30</span><span style=\"font-weight: bold\">]</span> Retrieving ratings for player with ID <span style=\"color: #008080; text-decoration-color: #008080; font-weight: bold\">220477</span> in May <span style=\"color: #008080; text-decoration-color: #008080; font-weight: bold\">8</span>, <span style=\"color: #008080; text-decoration-color: #008080; font-weight: bold\">2024</span>      <a href=\"file://c:\\Users\\Operator\\.conda\\envs\\fantacalcio\\Lib\\site-packages\\soccerdata\\sofifa.py\" target=\"_blank\"><span style=\"color: #7f7f7f; text-decoration-color: #7f7f7f\">sofifa.py</span></a><span style=\"color: #7f7f7f; text-decoration-color: #7f7f7f\">:</span><a href=\"file://c:\\Users\\Operator\\.conda\\envs\\fantacalcio\\Lib\\site-packages\\soccerdata\\sofifa.py#459\" target=\"_blank\"><span style=\"color: #7f7f7f; text-decoration-color: #7f7f7f\">459</span></a>\n",
       "<span style=\"color: #7fbfbf; text-decoration-color: #7fbfbf\">                    </span>         edition                                                                  <span style=\"color: #7f7f7f; text-decoration-color: #7f7f7f\">             </span>\n",
       "</pre>\n"
      ],
      "text/plain": [
       "\u001b[2;36m[05/12/24 16:42:29]\u001b[0m\u001b[2;36m \u001b[0m\u001b[34mINFO    \u001b[0m \u001b[1m[\u001b[0m\u001b[1;36m24\u001b[0m/\u001b[1;36m30\u001b[0m\u001b[1m]\u001b[0m Retrieving ratings for player with ID \u001b[1;36m220477\u001b[0m in May \u001b[1;36m8\u001b[0m, \u001b[1;36m2024\u001b[0m      \u001b]8;id=896488;file://c:\\Users\\Operator\\.conda\\envs\\fantacalcio\\Lib\\site-packages\\soccerdata\\sofifa.py\u001b\\\u001b[2msofifa.py\u001b[0m\u001b]8;;\u001b\\\u001b[2m:\u001b[0m\u001b]8;id=493668;file://c:\\Users\\Operator\\.conda\\envs\\fantacalcio\\Lib\\site-packages\\soccerdata\\sofifa.py#459\u001b\\\u001b[2m459\u001b[0m\u001b]8;;\u001b\\\n",
       "\u001b[2;36m                    \u001b[0m         edition                                                                  \u001b[2m             \u001b[0m\n"
      ]
     },
     "metadata": {},
     "output_type": "display_data"
    },
    {
     "data": {
      "text/html": [
       "<pre style=\"white-space:pre;overflow-x:auto;line-height:normal;font-family:Menlo,'DejaVu Sans Mono',consolas,'Courier New',monospace\"><span style=\"color: #7fbfbf; text-decoration-color: #7fbfbf\">[05/12/24 16:42:30] </span><span style=\"color: #000080; text-decoration-color: #000080\">INFO    </span> <span style=\"font-weight: bold\">[</span><span style=\"color: #008080; text-decoration-color: #008080; font-weight: bold\">25</span>/<span style=\"color: #008080; text-decoration-color: #008080; font-weight: bold\">30</span><span style=\"font-weight: bold\">]</span> Retrieving ratings for player with ID <span style=\"color: #008080; text-decoration-color: #008080; font-weight: bold\">277022</span> in May <span style=\"color: #008080; text-decoration-color: #008080; font-weight: bold\">8</span>, <span style=\"color: #008080; text-decoration-color: #008080; font-weight: bold\">2024</span>      <a href=\"file://c:\\Users\\Operator\\.conda\\envs\\fantacalcio\\Lib\\site-packages\\soccerdata\\sofifa.py\" target=\"_blank\"><span style=\"color: #7f7f7f; text-decoration-color: #7f7f7f\">sofifa.py</span></a><span style=\"color: #7f7f7f; text-decoration-color: #7f7f7f\">:</span><a href=\"file://c:\\Users\\Operator\\.conda\\envs\\fantacalcio\\Lib\\site-packages\\soccerdata\\sofifa.py#459\" target=\"_blank\"><span style=\"color: #7f7f7f; text-decoration-color: #7f7f7f\">459</span></a>\n",
       "<span style=\"color: #7fbfbf; text-decoration-color: #7fbfbf\">                    </span>         edition                                                                  <span style=\"color: #7f7f7f; text-decoration-color: #7f7f7f\">             </span>\n",
       "</pre>\n"
      ],
      "text/plain": [
       "\u001b[2;36m[05/12/24 16:42:30]\u001b[0m\u001b[2;36m \u001b[0m\u001b[34mINFO    \u001b[0m \u001b[1m[\u001b[0m\u001b[1;36m25\u001b[0m/\u001b[1;36m30\u001b[0m\u001b[1m]\u001b[0m Retrieving ratings for player with ID \u001b[1;36m277022\u001b[0m in May \u001b[1;36m8\u001b[0m, \u001b[1;36m2024\u001b[0m      \u001b]8;id=323527;file://c:\\Users\\Operator\\.conda\\envs\\fantacalcio\\Lib\\site-packages\\soccerdata\\sofifa.py\u001b\\\u001b[2msofifa.py\u001b[0m\u001b]8;;\u001b\\\u001b[2m:\u001b[0m\u001b]8;id=497493;file://c:\\Users\\Operator\\.conda\\envs\\fantacalcio\\Lib\\site-packages\\soccerdata\\sofifa.py#459\u001b\\\u001b[2m459\u001b[0m\u001b]8;;\u001b\\\n",
       "\u001b[2;36m                    \u001b[0m         edition                                                                  \u001b[2m             \u001b[0m\n"
      ]
     },
     "metadata": {},
     "output_type": "display_data"
    },
    {
     "data": {
      "text/html": [
       "<pre style=\"white-space:pre;overflow-x:auto;line-height:normal;font-family:Menlo,'DejaVu Sans Mono',consolas,'Courier New',monospace\"><span style=\"color: #7fbfbf; text-decoration-color: #7fbfbf\">[05/12/24 16:42:31] </span><span style=\"color: #000080; text-decoration-color: #000080\">INFO    </span> <span style=\"font-weight: bold\">[</span><span style=\"color: #008080; text-decoration-color: #008080; font-weight: bold\">26</span>/<span style=\"color: #008080; text-decoration-color: #008080; font-weight: bold\">30</span><span style=\"font-weight: bold\">]</span> Retrieving ratings for player with ID <span style=\"color: #008080; text-decoration-color: #008080; font-weight: bold\">255654</span> in May <span style=\"color: #008080; text-decoration-color: #008080; font-weight: bold\">8</span>, <span style=\"color: #008080; text-decoration-color: #008080; font-weight: bold\">2024</span>      <a href=\"file://c:\\Users\\Operator\\.conda\\envs\\fantacalcio\\Lib\\site-packages\\soccerdata\\sofifa.py\" target=\"_blank\"><span style=\"color: #7f7f7f; text-decoration-color: #7f7f7f\">sofifa.py</span></a><span style=\"color: #7f7f7f; text-decoration-color: #7f7f7f\">:</span><a href=\"file://c:\\Users\\Operator\\.conda\\envs\\fantacalcio\\Lib\\site-packages\\soccerdata\\sofifa.py#459\" target=\"_blank\"><span style=\"color: #7f7f7f; text-decoration-color: #7f7f7f\">459</span></a>\n",
       "<span style=\"color: #7fbfbf; text-decoration-color: #7fbfbf\">                    </span>         edition                                                                  <span style=\"color: #7f7f7f; text-decoration-color: #7f7f7f\">             </span>\n",
       "</pre>\n"
      ],
      "text/plain": [
       "\u001b[2;36m[05/12/24 16:42:31]\u001b[0m\u001b[2;36m \u001b[0m\u001b[34mINFO    \u001b[0m \u001b[1m[\u001b[0m\u001b[1;36m26\u001b[0m/\u001b[1;36m30\u001b[0m\u001b[1m]\u001b[0m Retrieving ratings for player with ID \u001b[1;36m255654\u001b[0m in May \u001b[1;36m8\u001b[0m, \u001b[1;36m2024\u001b[0m      \u001b]8;id=681082;file://c:\\Users\\Operator\\.conda\\envs\\fantacalcio\\Lib\\site-packages\\soccerdata\\sofifa.py\u001b\\\u001b[2msofifa.py\u001b[0m\u001b]8;;\u001b\\\u001b[2m:\u001b[0m\u001b]8;id=487665;file://c:\\Users\\Operator\\.conda\\envs\\fantacalcio\\Lib\\site-packages\\soccerdata\\sofifa.py#459\u001b\\\u001b[2m459\u001b[0m\u001b]8;;\u001b\\\n",
       "\u001b[2;36m                    \u001b[0m         edition                                                                  \u001b[2m             \u001b[0m\n"
      ]
     },
     "metadata": {},
     "output_type": "display_data"
    },
    {
     "data": {
      "text/html": [
       "<pre style=\"white-space:pre;overflow-x:auto;line-height:normal;font-family:Menlo,'DejaVu Sans Mono',consolas,'Courier New',monospace\"><span style=\"color: #7fbfbf; text-decoration-color: #7fbfbf\">[05/12/24 16:42:33] </span><span style=\"color: #000080; text-decoration-color: #000080\">INFO    </span> <span style=\"font-weight: bold\">[</span><span style=\"color: #008080; text-decoration-color: #008080; font-weight: bold\">27</span>/<span style=\"color: #008080; text-decoration-color: #008080; font-weight: bold\">30</span><span style=\"font-weight: bold\">]</span> Retrieving ratings for player with ID <span style=\"color: #008080; text-decoration-color: #008080; font-weight: bold\">278351</span> in May <span style=\"color: #008080; text-decoration-color: #008080; font-weight: bold\">8</span>, <span style=\"color: #008080; text-decoration-color: #008080; font-weight: bold\">2024</span>      <a href=\"file://c:\\Users\\Operator\\.conda\\envs\\fantacalcio\\Lib\\site-packages\\soccerdata\\sofifa.py\" target=\"_blank\"><span style=\"color: #7f7f7f; text-decoration-color: #7f7f7f\">sofifa.py</span></a><span style=\"color: #7f7f7f; text-decoration-color: #7f7f7f\">:</span><a href=\"file://c:\\Users\\Operator\\.conda\\envs\\fantacalcio\\Lib\\site-packages\\soccerdata\\sofifa.py#459\" target=\"_blank\"><span style=\"color: #7f7f7f; text-decoration-color: #7f7f7f\">459</span></a>\n",
       "<span style=\"color: #7fbfbf; text-decoration-color: #7fbfbf\">                    </span>         edition                                                                  <span style=\"color: #7f7f7f; text-decoration-color: #7f7f7f\">             </span>\n",
       "</pre>\n"
      ],
      "text/plain": [
       "\u001b[2;36m[05/12/24 16:42:33]\u001b[0m\u001b[2;36m \u001b[0m\u001b[34mINFO    \u001b[0m \u001b[1m[\u001b[0m\u001b[1;36m27\u001b[0m/\u001b[1;36m30\u001b[0m\u001b[1m]\u001b[0m Retrieving ratings for player with ID \u001b[1;36m278351\u001b[0m in May \u001b[1;36m8\u001b[0m, \u001b[1;36m2024\u001b[0m      \u001b]8;id=159880;file://c:\\Users\\Operator\\.conda\\envs\\fantacalcio\\Lib\\site-packages\\soccerdata\\sofifa.py\u001b\\\u001b[2msofifa.py\u001b[0m\u001b]8;;\u001b\\\u001b[2m:\u001b[0m\u001b]8;id=413458;file://c:\\Users\\Operator\\.conda\\envs\\fantacalcio\\Lib\\site-packages\\soccerdata\\sofifa.py#459\u001b\\\u001b[2m459\u001b[0m\u001b]8;;\u001b\\\n",
       "\u001b[2;36m                    \u001b[0m         edition                                                                  \u001b[2m             \u001b[0m\n"
      ]
     },
     "metadata": {},
     "output_type": "display_data"
    },
    {
     "data": {
      "text/html": [
       "<pre style=\"white-space:pre;overflow-x:auto;line-height:normal;font-family:Menlo,'DejaVu Sans Mono',consolas,'Courier New',monospace\"><span style=\"color: #7fbfbf; text-decoration-color: #7fbfbf\">[05/12/24 16:42:34] </span><span style=\"color: #000080; text-decoration-color: #000080\">INFO    </span> <span style=\"font-weight: bold\">[</span><span style=\"color: #008080; text-decoration-color: #008080; font-weight: bold\">28</span>/<span style=\"color: #008080; text-decoration-color: #008080; font-weight: bold\">30</span><span style=\"font-weight: bold\">]</span> Retrieving ratings for player with ID <span style=\"color: #008080; text-decoration-color: #008080; font-weight: bold\">278237</span> in May <span style=\"color: #008080; text-decoration-color: #008080; font-weight: bold\">8</span>, <span style=\"color: #008080; text-decoration-color: #008080; font-weight: bold\">2024</span>      <a href=\"file://c:\\Users\\Operator\\.conda\\envs\\fantacalcio\\Lib\\site-packages\\soccerdata\\sofifa.py\" target=\"_blank\"><span style=\"color: #7f7f7f; text-decoration-color: #7f7f7f\">sofifa.py</span></a><span style=\"color: #7f7f7f; text-decoration-color: #7f7f7f\">:</span><a href=\"file://c:\\Users\\Operator\\.conda\\envs\\fantacalcio\\Lib\\site-packages\\soccerdata\\sofifa.py#459\" target=\"_blank\"><span style=\"color: #7f7f7f; text-decoration-color: #7f7f7f\">459</span></a>\n",
       "<span style=\"color: #7fbfbf; text-decoration-color: #7fbfbf\">                    </span>         edition                                                                  <span style=\"color: #7f7f7f; text-decoration-color: #7f7f7f\">             </span>\n",
       "</pre>\n"
      ],
      "text/plain": [
       "\u001b[2;36m[05/12/24 16:42:34]\u001b[0m\u001b[2;36m \u001b[0m\u001b[34mINFO    \u001b[0m \u001b[1m[\u001b[0m\u001b[1;36m28\u001b[0m/\u001b[1;36m30\u001b[0m\u001b[1m]\u001b[0m Retrieving ratings for player with ID \u001b[1;36m278237\u001b[0m in May \u001b[1;36m8\u001b[0m, \u001b[1;36m2024\u001b[0m      \u001b]8;id=715435;file://c:\\Users\\Operator\\.conda\\envs\\fantacalcio\\Lib\\site-packages\\soccerdata\\sofifa.py\u001b\\\u001b[2msofifa.py\u001b[0m\u001b]8;;\u001b\\\u001b[2m:\u001b[0m\u001b]8;id=475960;file://c:\\Users\\Operator\\.conda\\envs\\fantacalcio\\Lib\\site-packages\\soccerdata\\sofifa.py#459\u001b\\\u001b[2m459\u001b[0m\u001b]8;;\u001b\\\n",
       "\u001b[2;36m                    \u001b[0m         edition                                                                  \u001b[2m             \u001b[0m\n"
      ]
     },
     "metadata": {},
     "output_type": "display_data"
    },
    {
     "data": {
      "text/html": [
       "<pre style=\"white-space:pre;overflow-x:auto;line-height:normal;font-family:Menlo,'DejaVu Sans Mono',consolas,'Courier New',monospace\"><span style=\"color: #7fbfbf; text-decoration-color: #7fbfbf\">[05/12/24 16:42:35] </span><span style=\"color: #000080; text-decoration-color: #000080\">INFO    </span> <span style=\"font-weight: bold\">[</span><span style=\"color: #008080; text-decoration-color: #008080; font-weight: bold\">29</span>/<span style=\"color: #008080; text-decoration-color: #008080; font-weight: bold\">30</span><span style=\"font-weight: bold\">]</span> Retrieving ratings for player with ID <span style=\"color: #008080; text-decoration-color: #008080; font-weight: bold\">278928</span> in May <span style=\"color: #008080; text-decoration-color: #008080; font-weight: bold\">8</span>, <span style=\"color: #008080; text-decoration-color: #008080; font-weight: bold\">2024</span>      <a href=\"file://c:\\Users\\Operator\\.conda\\envs\\fantacalcio\\Lib\\site-packages\\soccerdata\\sofifa.py\" target=\"_blank\"><span style=\"color: #7f7f7f; text-decoration-color: #7f7f7f\">sofifa.py</span></a><span style=\"color: #7f7f7f; text-decoration-color: #7f7f7f\">:</span><a href=\"file://c:\\Users\\Operator\\.conda\\envs\\fantacalcio\\Lib\\site-packages\\soccerdata\\sofifa.py#459\" target=\"_blank\"><span style=\"color: #7f7f7f; text-decoration-color: #7f7f7f\">459</span></a>\n",
       "<span style=\"color: #7fbfbf; text-decoration-color: #7fbfbf\">                    </span>         edition                                                                  <span style=\"color: #7f7f7f; text-decoration-color: #7f7f7f\">             </span>\n",
       "</pre>\n"
      ],
      "text/plain": [
       "\u001b[2;36m[05/12/24 16:42:35]\u001b[0m\u001b[2;36m \u001b[0m\u001b[34mINFO    \u001b[0m \u001b[1m[\u001b[0m\u001b[1;36m29\u001b[0m/\u001b[1;36m30\u001b[0m\u001b[1m]\u001b[0m Retrieving ratings for player with ID \u001b[1;36m278928\u001b[0m in May \u001b[1;36m8\u001b[0m, \u001b[1;36m2024\u001b[0m      \u001b]8;id=559030;file://c:\\Users\\Operator\\.conda\\envs\\fantacalcio\\Lib\\site-packages\\soccerdata\\sofifa.py\u001b\\\u001b[2msofifa.py\u001b[0m\u001b]8;;\u001b\\\u001b[2m:\u001b[0m\u001b]8;id=476108;file://c:\\Users\\Operator\\.conda\\envs\\fantacalcio\\Lib\\site-packages\\soccerdata\\sofifa.py#459\u001b\\\u001b[2m459\u001b[0m\u001b]8;;\u001b\\\n",
       "\u001b[2;36m                    \u001b[0m         edition                                                                  \u001b[2m             \u001b[0m\n"
      ]
     },
     "metadata": {},
     "output_type": "display_data"
    },
    {
     "data": {
      "text/html": [
       "<pre style=\"white-space:pre;overflow-x:auto;line-height:normal;font-family:Menlo,'DejaVu Sans Mono',consolas,'Courier New',monospace\"><span style=\"color: #7fbfbf; text-decoration-color: #7fbfbf\">[05/12/24 16:42:37] </span><span style=\"color: #000080; text-decoration-color: #000080\">INFO    </span> <span style=\"font-weight: bold\">[</span><span style=\"color: #008080; text-decoration-color: #008080; font-weight: bold\">30</span>/<span style=\"color: #008080; text-decoration-color: #008080; font-weight: bold\">30</span><span style=\"font-weight: bold\">]</span> Retrieving ratings for player with ID <span style=\"color: #008080; text-decoration-color: #008080; font-weight: bold\">278331</span> in May <span style=\"color: #008080; text-decoration-color: #008080; font-weight: bold\">8</span>, <span style=\"color: #008080; text-decoration-color: #008080; font-weight: bold\">2024</span>      <a href=\"file://c:\\Users\\Operator\\.conda\\envs\\fantacalcio\\Lib\\site-packages\\soccerdata\\sofifa.py\" target=\"_blank\"><span style=\"color: #7f7f7f; text-decoration-color: #7f7f7f\">sofifa.py</span></a><span style=\"color: #7f7f7f; text-decoration-color: #7f7f7f\">:</span><a href=\"file://c:\\Users\\Operator\\.conda\\envs\\fantacalcio\\Lib\\site-packages\\soccerdata\\sofifa.py#459\" target=\"_blank\"><span style=\"color: #7f7f7f; text-decoration-color: #7f7f7f\">459</span></a>\n",
       "<span style=\"color: #7fbfbf; text-decoration-color: #7fbfbf\">                    </span>         edition                                                                  <span style=\"color: #7f7f7f; text-decoration-color: #7f7f7f\">             </span>\n",
       "</pre>\n"
      ],
      "text/plain": [
       "\u001b[2;36m[05/12/24 16:42:37]\u001b[0m\u001b[2;36m \u001b[0m\u001b[34mINFO    \u001b[0m \u001b[1m[\u001b[0m\u001b[1;36m30\u001b[0m/\u001b[1;36m30\u001b[0m\u001b[1m]\u001b[0m Retrieving ratings for player with ID \u001b[1;36m278331\u001b[0m in May \u001b[1;36m8\u001b[0m, \u001b[1;36m2024\u001b[0m      \u001b]8;id=718396;file://c:\\Users\\Operator\\.conda\\envs\\fantacalcio\\Lib\\site-packages\\soccerdata\\sofifa.py\u001b\\\u001b[2msofifa.py\u001b[0m\u001b]8;;\u001b\\\u001b[2m:\u001b[0m\u001b]8;id=992228;file://c:\\Users\\Operator\\.conda\\envs\\fantacalcio\\Lib\\site-packages\\soccerdata\\sofifa.py#459\u001b\\\u001b[2m459\u001b[0m\u001b]8;;\u001b\\\n",
       "\u001b[2;36m                    \u001b[0m         edition                                                                  \u001b[2m             \u001b[0m\n"
      ]
     },
     "metadata": {},
     "output_type": "display_data"
    },
    {
     "data": {
      "text/html": [
       "<div>\n",
       "<style scoped>\n",
       "    .dataframe tbody tr th:only-of-type {\n",
       "        vertical-align: middle;\n",
       "    }\n",
       "\n",
       "    .dataframe tbody tr th {\n",
       "        vertical-align: top;\n",
       "    }\n",
       "\n",
       "    .dataframe thead th {\n",
       "        text-align: right;\n",
       "    }\n",
       "</style>\n",
       "<table border=\"1\" class=\"dataframe\">\n",
       "  <thead>\n",
       "    <tr style=\"text-align: right;\">\n",
       "      <th></th>\n",
       "      <th>fifa_edition</th>\n",
       "      <th>update</th>\n",
       "      <th>overallrating</th>\n",
       "      <th>potential</th>\n",
       "      <th>crossing</th>\n",
       "      <th>finishing</th>\n",
       "      <th>headingaccuracy</th>\n",
       "      <th>shortpassing</th>\n",
       "      <th>volleys</th>\n",
       "      <th>dribbling</th>\n",
       "      <th>curve</th>\n",
       "      <th>fk_accuracy</th>\n",
       "      <th>longpassing</th>\n",
       "      <th>ballcontrol</th>\n",
       "      <th>acceleration</th>\n",
       "      <th>sprintspeed</th>\n",
       "      <th>agility</th>\n",
       "      <th>reactions</th>\n",
       "      <th>balance</th>\n",
       "      <th>shotpower</th>\n",
       "      <th>jumping</th>\n",
       "      <th>stamina</th>\n",
       "      <th>strength</th>\n",
       "      <th>longshots</th>\n",
       "      <th>aggression</th>\n",
       "      <th>interceptions</th>\n",
       "      <th>positioning</th>\n",
       "      <th>vision</th>\n",
       "      <th>penalties</th>\n",
       "      <th>composure</th>\n",
       "      <th>defensiveawareness</th>\n",
       "      <th>standingtackle</th>\n",
       "      <th>slidingtackle</th>\n",
       "      <th>gk_diving</th>\n",
       "      <th>gk_handling</th>\n",
       "      <th>gk_kicking</th>\n",
       "      <th>gk_positioning</th>\n",
       "      <th>gk_reflexes</th>\n",
       "    </tr>\n",
       "    <tr>\n",
       "      <th>player</th>\n",
       "      <th></th>\n",
       "      <th></th>\n",
       "      <th></th>\n",
       "      <th></th>\n",
       "      <th></th>\n",
       "      <th></th>\n",
       "      <th></th>\n",
       "      <th></th>\n",
       "      <th></th>\n",
       "      <th></th>\n",
       "      <th></th>\n",
       "      <th></th>\n",
       "      <th></th>\n",
       "      <th></th>\n",
       "      <th></th>\n",
       "      <th></th>\n",
       "      <th></th>\n",
       "      <th></th>\n",
       "      <th></th>\n",
       "      <th></th>\n",
       "      <th></th>\n",
       "      <th></th>\n",
       "      <th></th>\n",
       "      <th></th>\n",
       "      <th></th>\n",
       "      <th></th>\n",
       "      <th></th>\n",
       "      <th></th>\n",
       "      <th></th>\n",
       "      <th></th>\n",
       "      <th></th>\n",
       "      <th></th>\n",
       "      <th></th>\n",
       "      <th></th>\n",
       "      <th></th>\n",
       "      <th></th>\n",
       "      <th></th>\n",
       "      <th></th>\n",
       "    </tr>\n",
       "  </thead>\n",
       "  <tbody>\n",
       "    <tr>\n",
       "      <th>Alejandro Jiménez Sánchez</th>\n",
       "      <td>FC 24</td>\n",
       "      <td>May 8, 2024</td>\n",
       "      <td>64</td>\n",
       "      <td>84</td>\n",
       "      <td>59</td>\n",
       "      <td>55</td>\n",
       "      <td>54</td>\n",
       "      <td>60</td>\n",
       "      <td>49</td>\n",
       "      <td>65</td>\n",
       "      <td>54</td>\n",
       "      <td>43</td>\n",
       "      <td>55</td>\n",
       "      <td>63</td>\n",
       "      <td>84</td>\n",
       "      <td>81</td>\n",
       "      <td>77</td>\n",
       "      <td>61</td>\n",
       "      <td>76</td>\n",
       "      <td>45</td>\n",
       "      <td>66</td>\n",
       "      <td>65</td>\n",
       "      <td>53</td>\n",
       "      <td>49</td>\n",
       "      <td>56</td>\n",
       "      <td>58</td>\n",
       "      <td>10</td>\n",
       "      <td>55</td>\n",
       "      <td>46</td>\n",
       "      <td>58</td>\n",
       "      <td>60</td>\n",
       "      <td>61</td>\n",
       "      <td>56</td>\n",
       "      <td>9</td>\n",
       "      <td>8</td>\n",
       "      <td>6</td>\n",
       "      <td>10</td>\n",
       "      <td>7</td>\n",
       "    </tr>\n",
       "    <tr>\n",
       "      <th>Alessandro Florenzi</th>\n",
       "      <td>FC 24</td>\n",
       "      <td>May 8, 2024</td>\n",
       "      <td>75</td>\n",
       "      <td>75</td>\n",
       "      <td>75</td>\n",
       "      <td>71</td>\n",
       "      <td>68</td>\n",
       "      <td>80</td>\n",
       "      <td>84</td>\n",
       "      <td>75</td>\n",
       "      <td>71</td>\n",
       "      <td>71</td>\n",
       "      <td>76</td>\n",
       "      <td>81</td>\n",
       "      <td>76</td>\n",
       "      <td>71</td>\n",
       "      <td>86</td>\n",
       "      <td>75</td>\n",
       "      <td>82</td>\n",
       "      <td>82</td>\n",
       "      <td>67</td>\n",
       "      <td>63</td>\n",
       "      <td>48</td>\n",
       "      <td>81</td>\n",
       "      <td>66</td>\n",
       "      <td>76</td>\n",
       "      <td>11</td>\n",
       "      <td>80</td>\n",
       "      <td>73</td>\n",
       "      <td>79</td>\n",
       "      <td>75</td>\n",
       "      <td>74</td>\n",
       "      <td>69</td>\n",
       "      <td>9</td>\n",
       "      <td>8</td>\n",
       "      <td>10</td>\n",
       "      <td>11</td>\n",
       "      <td>10</td>\n",
       "    </tr>\n",
       "    <tr>\n",
       "      <th>Antonio Mirante</th>\n",
       "      <td>FC 24</td>\n",
       "      <td>May 8, 2024</td>\n",
       "      <td>72</td>\n",
       "      <td>72</td>\n",
       "      <td>10</td>\n",
       "      <td>17</td>\n",
       "      <td>13</td>\n",
       "      <td>35</td>\n",
       "      <td>15</td>\n",
       "      <td>24</td>\n",
       "      <td>17</td>\n",
       "      <td>13</td>\n",
       "      <td>35</td>\n",
       "      <td>25</td>\n",
       "      <td>44</td>\n",
       "      <td>43</td>\n",
       "      <td>50</td>\n",
       "      <td>70</td>\n",
       "      <td>50</td>\n",
       "      <td>50</td>\n",
       "      <td>59</td>\n",
       "      <td>33</td>\n",
       "      <td>55</td>\n",
       "      <td>15</td>\n",
       "      <td>32</td>\n",
       "      <td>17</td>\n",
       "      <td>76</td>\n",
       "      <td>43</td>\n",
       "      <td>21</td>\n",
       "      <td>70</td>\n",
       "      <td>10</td>\n",
       "      <td>12</td>\n",
       "      <td>12</td>\n",
       "      <td>68</td>\n",
       "      <td>72</td>\n",
       "      <td>66</td>\n",
       "      <td>76</td>\n",
       "      <td>71</td>\n",
       "    </tr>\n",
       "    <tr>\n",
       "      <th>Christian Pulisic</th>\n",
       "      <td>FC 24</td>\n",
       "      <td>May 8, 2024</td>\n",
       "      <td>82</td>\n",
       "      <td>85</td>\n",
       "      <td>75</td>\n",
       "      <td>80</td>\n",
       "      <td>50</td>\n",
       "      <td>80</td>\n",
       "      <td>74</td>\n",
       "      <td>87</td>\n",
       "      <td>80</td>\n",
       "      <td>58</td>\n",
       "      <td>64</td>\n",
       "      <td>85</td>\n",
       "      <td>89</td>\n",
       "      <td>83</td>\n",
       "      <td>87</td>\n",
       "      <td>80</td>\n",
       "      <td>86</td>\n",
       "      <td>81</td>\n",
       "      <td>68</td>\n",
       "      <td>77</td>\n",
       "      <td>54</td>\n",
       "      <td>74</td>\n",
       "      <td>70</td>\n",
       "      <td>33</td>\n",
       "      <td>16</td>\n",
       "      <td>78</td>\n",
       "      <td>80</td>\n",
       "      <td>82</td>\n",
       "      <td>38</td>\n",
       "      <td>32</td>\n",
       "      <td>47</td>\n",
       "      <td>8</td>\n",
       "      <td>12</td>\n",
       "      <td>13</td>\n",
       "      <td>16</td>\n",
       "      <td>14</td>\n",
       "    </tr>\n",
       "    <tr>\n",
       "      <th>Davide Bartesaghi</th>\n",
       "      <td>FC 24</td>\n",
       "      <td>May 8, 2024</td>\n",
       "      <td>63</td>\n",
       "      <td>78</td>\n",
       "      <td>58</td>\n",
       "      <td>38</td>\n",
       "      <td>62</td>\n",
       "      <td>58</td>\n",
       "      <td>43</td>\n",
       "      <td>60</td>\n",
       "      <td>52</td>\n",
       "      <td>49</td>\n",
       "      <td>53</td>\n",
       "      <td>63</td>\n",
       "      <td>62</td>\n",
       "      <td>66</td>\n",
       "      <td>52</td>\n",
       "      <td>59</td>\n",
       "      <td>54</td>\n",
       "      <td>49</td>\n",
       "      <td>73</td>\n",
       "      <td>62</td>\n",
       "      <td>75</td>\n",
       "      <td>45</td>\n",
       "      <td>60</td>\n",
       "      <td>61</td>\n",
       "      <td>14</td>\n",
       "      <td>49</td>\n",
       "      <td>43</td>\n",
       "      <td>50</td>\n",
       "      <td>60</td>\n",
       "      <td>64</td>\n",
       "      <td>62</td>\n",
       "      <td>8</td>\n",
       "      <td>13</td>\n",
       "      <td>9</td>\n",
       "      <td>14</td>\n",
       "      <td>12</td>\n",
       "    </tr>\n",
       "  </tbody>\n",
       "</table>\n",
       "</div>"
      ],
      "text/plain": [
       "                          fifa_edition       update overallrating potential  \\\n",
       "player                                                                        \n",
       "Alejandro Jiménez Sánchez        FC 24  May 8, 2024            64        84   \n",
       "Alessandro Florenzi              FC 24  May 8, 2024            75        75   \n",
       "Antonio Mirante                  FC 24  May 8, 2024            72        72   \n",
       "Christian Pulisic                FC 24  May 8, 2024            82        85   \n",
       "Davide Bartesaghi                FC 24  May 8, 2024            63        78   \n",
       "\n",
       "                          crossing finishing headingaccuracy shortpassing  \\\n",
       "player                                                                      \n",
       "Alejandro Jiménez Sánchez       59        55              54           60   \n",
       "Alessandro Florenzi             75        71              68           80   \n",
       "Antonio Mirante                 10        17              13           35   \n",
       "Christian Pulisic               75        80              50           80   \n",
       "Davide Bartesaghi               58        38              62           58   \n",
       "\n",
       "                          volleys dribbling curve fk_accuracy longpassing  \\\n",
       "player                                                                      \n",
       "Alejandro Jiménez Sánchez      49        65    54          43          55   \n",
       "Alessandro Florenzi            84        75    71          71          76   \n",
       "Antonio Mirante                15        24    17          13          35   \n",
       "Christian Pulisic              74        87    80          58          64   \n",
       "Davide Bartesaghi              43        60    52          49          53   \n",
       "\n",
       "                          ballcontrol acceleration sprintspeed agility  \\\n",
       "player                                                                   \n",
       "Alejandro Jiménez Sánchez          63           84          81      77   \n",
       "Alessandro Florenzi                81           76          71      86   \n",
       "Antonio Mirante                    25           44          43      50   \n",
       "Christian Pulisic                  85           89          83      87   \n",
       "Davide Bartesaghi                  63           62          66      52   \n",
       "\n",
       "                          reactions balance shotpower jumping stamina  \\\n",
       "player                                                                  \n",
       "Alejandro Jiménez Sánchez        61      76        45      66      65   \n",
       "Alessandro Florenzi              75      82        82      67      63   \n",
       "Antonio Mirante                  70      50        50      59      33   \n",
       "Christian Pulisic                80      86        81      68      77   \n",
       "Davide Bartesaghi                59      54        49      73      62   \n",
       "\n",
       "                          strength longshots aggression interceptions  \\\n",
       "player                                                                  \n",
       "Alejandro Jiménez Sánchez       53        49         56            58   \n",
       "Alessandro Florenzi             48        81         66            76   \n",
       "Antonio Mirante                 55        15         32            17   \n",
       "Christian Pulisic               54        74         70            33   \n",
       "Davide Bartesaghi               75        45         60            61   \n",
       "\n",
       "                          positioning vision penalties composure  \\\n",
       "player                                                             \n",
       "Alejandro Jiménez Sánchez          10     55        46        58   \n",
       "Alessandro Florenzi                11     80        73        79   \n",
       "Antonio Mirante                    76     43        21        70   \n",
       "Christian Pulisic                  16     78        80        82   \n",
       "Davide Bartesaghi                  14     49        43        50   \n",
       "\n",
       "                          defensiveawareness standingtackle slidingtackle  \\\n",
       "player                                                                      \n",
       "Alejandro Jiménez Sánchez                 60             61            56   \n",
       "Alessandro Florenzi                       75             74            69   \n",
       "Antonio Mirante                           10             12            12   \n",
       "Christian Pulisic                         38             32            47   \n",
       "Davide Bartesaghi                         60             64            62   \n",
       "\n",
       "                          gk_diving gk_handling gk_kicking gk_positioning  \\\n",
       "player                                                                      \n",
       "Alejandro Jiménez Sánchez         9           8          6             10   \n",
       "Alessandro Florenzi               9           8         10             11   \n",
       "Antonio Mirante                  68          72         66             76   \n",
       "Christian Pulisic                 8          12         13             16   \n",
       "Davide Bartesaghi                 8          13          9             14   \n",
       "\n",
       "                          gk_reflexes  \n",
       "player                                 \n",
       "Alejandro Jiménez Sánchez           7  \n",
       "Alessandro Florenzi                10  \n",
       "Antonio Mirante                    71  \n",
       "Christian Pulisic                  14  \n",
       "Davide Bartesaghi                  12  "
      ]
     },
     "execution_count": 8,
     "metadata": {},
     "output_type": "execute_result"
    }
   ],
   "source": [
    "player_ratings = sofifa.read_player_ratings(team=\"Milan\")\n",
    "player_ratings.head()"
   ]
  },
  {
   "cell_type": "code",
   "execution_count": 10,
   "metadata": {},
   "outputs": [],
   "source": [
    "player_ratings.to_json(\"./data/SoFifa/milan_player_ratings.json\")"
   ]
  },
  {
   "cell_type": "markdown",
   "metadata": {},
   "source": [
    "### Other"
   ]
  },
  {
   "cell_type": "code",
   "execution_count": 11,
   "metadata": {},
   "outputs": [
    {
     "data": {
      "text/html": [
       "<pre style=\"white-space:pre;overflow-x:auto;line-height:normal;font-family:Menlo,'DejaVu Sans Mono',consolas,'Courier New',monospace\"><span style=\"color: #7fbfbf; text-decoration-color: #7fbfbf\">[05/12/24 16:43:24] </span><span style=\"color: #000080; text-decoration-color: #000080\">INFO    </span> <span style=\"font-weight: bold\">[</span><span style=\"color: #008080; text-decoration-color: #008080; font-weight: bold\">1</span>/<span style=\"color: #008080; text-decoration-color: #008080; font-weight: bold\">1</span><span style=\"font-weight: bold\">]</span> Retrieving teams for ITA-Serie A in May <span style=\"color: #008080; text-decoration-color: #008080; font-weight: bold\">8</span>, <span style=\"color: #008080; text-decoration-color: #008080; font-weight: bold\">2024</span> edition            <a href=\"file://c:\\Users\\Operator\\.conda\\envs\\fantacalcio\\Lib\\site-packages\\soccerdata\\sofifa.py\" target=\"_blank\"><span style=\"color: #7f7f7f; text-decoration-color: #7f7f7f\">sofifa.py</span></a><span style=\"color: #7f7f7f; text-decoration-color: #7f7f7f\">:</span><a href=\"file://c:\\Users\\Operator\\.conda\\envs\\fantacalcio\\Lib\\site-packages\\soccerdata\\sofifa.py#185\" target=\"_blank\"><span style=\"color: #7f7f7f; text-decoration-color: #7f7f7f\">185</span></a>\n",
       "</pre>\n"
      ],
      "text/plain": [
       "\u001b[2;36m[05/12/24 16:43:24]\u001b[0m\u001b[2;36m \u001b[0m\u001b[34mINFO    \u001b[0m \u001b[1m[\u001b[0m\u001b[1;36m1\u001b[0m/\u001b[1;36m1\u001b[0m\u001b[1m]\u001b[0m Retrieving teams for ITA-Serie A in May \u001b[1;36m8\u001b[0m, \u001b[1;36m2024\u001b[0m edition            \u001b]8;id=211917;file://c:\\Users\\Operator\\.conda\\envs\\fantacalcio\\Lib\\site-packages\\soccerdata\\sofifa.py\u001b\\\u001b[2msofifa.py\u001b[0m\u001b]8;;\u001b\\\u001b[2m:\u001b[0m\u001b]8;id=642794;file://c:\\Users\\Operator\\.conda\\envs\\fantacalcio\\Lib\\site-packages\\soccerdata\\sofifa.py#185\u001b\\\u001b[2m185\u001b[0m\u001b]8;;\u001b\\\n"
      ]
     },
     "metadata": {},
     "output_type": "display_data"
    },
    {
     "data": {
      "text/html": [
       "<div>\n",
       "<style scoped>\n",
       "    .dataframe tbody tr th:only-of-type {\n",
       "        vertical-align: middle;\n",
       "    }\n",
       "\n",
       "    .dataframe tbody tr th {\n",
       "        vertical-align: top;\n",
       "    }\n",
       "\n",
       "    .dataframe thead th {\n",
       "        text-align: right;\n",
       "    }\n",
       "</style>\n",
       "<table border=\"1\" class=\"dataframe\">\n",
       "  <thead>\n",
       "    <tr style=\"text-align: right;\">\n",
       "      <th></th>\n",
       "      <th>team</th>\n",
       "      <th>league</th>\n",
       "      <th>fifa_edition</th>\n",
       "      <th>update</th>\n",
       "    </tr>\n",
       "    <tr>\n",
       "      <th>team_id</th>\n",
       "      <th></th>\n",
       "      <th></th>\n",
       "      <th></th>\n",
       "      <th></th>\n",
       "    </tr>\n",
       "  </thead>\n",
       "  <tbody>\n",
       "    <tr>\n",
       "      <th>44</th>\n",
       "      <td>Inter</td>\n",
       "      <td>ITA-Serie A</td>\n",
       "      <td>FC 24</td>\n",
       "      <td>May 8, 2024</td>\n",
       "    </tr>\n",
       "    <tr>\n",
       "      <th>47</th>\n",
       "      <td>Milan</td>\n",
       "      <td>ITA-Serie A</td>\n",
       "      <td>FC 24</td>\n",
       "      <td>May 8, 2024</td>\n",
       "    </tr>\n",
       "    <tr>\n",
       "      <th>45</th>\n",
       "      <td>Juventus</td>\n",
       "      <td>ITA-Serie A</td>\n",
       "      <td>FC 24</td>\n",
       "      <td>May 8, 2024</td>\n",
       "    </tr>\n",
       "    <tr>\n",
       "      <th>46</th>\n",
       "      <td>Lazio</td>\n",
       "      <td>ITA-Serie A</td>\n",
       "      <td>FC 24</td>\n",
       "      <td>May 8, 2024</td>\n",
       "    </tr>\n",
       "    <tr>\n",
       "      <th>48</th>\n",
       "      <td>Napoli</td>\n",
       "      <td>ITA-Serie A</td>\n",
       "      <td>FC 24</td>\n",
       "      <td>May 8, 2024</td>\n",
       "    </tr>\n",
       "    <tr>\n",
       "      <th>52</th>\n",
       "      <td>Roma</td>\n",
       "      <td>ITA-Serie A</td>\n",
       "      <td>FC 24</td>\n",
       "      <td>May 8, 2024</td>\n",
       "    </tr>\n",
       "    <tr>\n",
       "      <th>39</th>\n",
       "      <td>Atalanta</td>\n",
       "      <td>ITA-Serie A</td>\n",
       "      <td>FC 24</td>\n",
       "      <td>May 8, 2024</td>\n",
       "    </tr>\n",
       "    <tr>\n",
       "      <th>110374</th>\n",
       "      <td>Fiorentina</td>\n",
       "      <td>ITA-Serie A</td>\n",
       "      <td>FC 24</td>\n",
       "      <td>May 8, 2024</td>\n",
       "    </tr>\n",
       "    <tr>\n",
       "      <th>54</th>\n",
       "      <td>Torino</td>\n",
       "      <td>ITA-Serie A</td>\n",
       "      <td>FC 24</td>\n",
       "      <td>May 8, 2024</td>\n",
       "    </tr>\n",
       "    <tr>\n",
       "      <th>189</th>\n",
       "      <td>Bologna</td>\n",
       "      <td>ITA-Serie A</td>\n",
       "      <td>FC 24</td>\n",
       "      <td>May 8, 2024</td>\n",
       "    </tr>\n",
       "    <tr>\n",
       "      <th>111974</th>\n",
       "      <td>Sassuolo</td>\n",
       "      <td>ITA-Serie A</td>\n",
       "      <td>FC 24</td>\n",
       "      <td>May 8, 2024</td>\n",
       "    </tr>\n",
       "    <tr>\n",
       "      <th>111811</th>\n",
       "      <td>Monza</td>\n",
       "      <td>ITA-Serie A</td>\n",
       "      <td>FC 24</td>\n",
       "      <td>May 8, 2024</td>\n",
       "    </tr>\n",
       "    <tr>\n",
       "      <th>110373</th>\n",
       "      <td>Salernitana</td>\n",
       "      <td>ITA-Serie A</td>\n",
       "      <td>FC 24</td>\n",
       "      <td>May 8, 2024</td>\n",
       "    </tr>\n",
       "    <tr>\n",
       "      <th>55</th>\n",
       "      <td>Udinese</td>\n",
       "      <td>ITA-Serie A</td>\n",
       "      <td>FC 24</td>\n",
       "      <td>May 8, 2024</td>\n",
       "    </tr>\n",
       "    <tr>\n",
       "      <th>206</th>\n",
       "      <td>Hellas Verona</td>\n",
       "      <td>ITA-Serie A</td>\n",
       "      <td>FC 24</td>\n",
       "      <td>May 8, 2024</td>\n",
       "    </tr>\n",
       "    <tr>\n",
       "      <th>110556</th>\n",
       "      <td>Genoa</td>\n",
       "      <td>ITA-Serie A</td>\n",
       "      <td>FC 24</td>\n",
       "      <td>May 8, 2024</td>\n",
       "    </tr>\n",
       "    <tr>\n",
       "      <th>1842</th>\n",
       "      <td>Cagliari</td>\n",
       "      <td>ITA-Serie A</td>\n",
       "      <td>FC 24</td>\n",
       "      <td>May 8, 2024</td>\n",
       "    </tr>\n",
       "    <tr>\n",
       "      <th>347</th>\n",
       "      <td>Lecce</td>\n",
       "      <td>ITA-Serie A</td>\n",
       "      <td>FC 24</td>\n",
       "      <td>May 8, 2024</td>\n",
       "    </tr>\n",
       "    <tr>\n",
       "      <th>1746</th>\n",
       "      <td>Empoli</td>\n",
       "      <td>ITA-Serie A</td>\n",
       "      <td>FC 24</td>\n",
       "      <td>May 8, 2024</td>\n",
       "    </tr>\n",
       "    <tr>\n",
       "      <th>111657</th>\n",
       "      <td>Frosinone</td>\n",
       "      <td>ITA-Serie A</td>\n",
       "      <td>FC 24</td>\n",
       "      <td>May 8, 2024</td>\n",
       "    </tr>\n",
       "  </tbody>\n",
       "</table>\n",
       "</div>"
      ],
      "text/plain": [
       "                  team       league fifa_edition       update\n",
       "team_id                                                      \n",
       "44               Inter  ITA-Serie A        FC 24  May 8, 2024\n",
       "47               Milan  ITA-Serie A        FC 24  May 8, 2024\n",
       "45            Juventus  ITA-Serie A        FC 24  May 8, 2024\n",
       "46               Lazio  ITA-Serie A        FC 24  May 8, 2024\n",
       "48              Napoli  ITA-Serie A        FC 24  May 8, 2024\n",
       "52                Roma  ITA-Serie A        FC 24  May 8, 2024\n",
       "39            Atalanta  ITA-Serie A        FC 24  May 8, 2024\n",
       "110374      Fiorentina  ITA-Serie A        FC 24  May 8, 2024\n",
       "54              Torino  ITA-Serie A        FC 24  May 8, 2024\n",
       "189            Bologna  ITA-Serie A        FC 24  May 8, 2024\n",
       "111974        Sassuolo  ITA-Serie A        FC 24  May 8, 2024\n",
       "111811           Monza  ITA-Serie A        FC 24  May 8, 2024\n",
       "110373     Salernitana  ITA-Serie A        FC 24  May 8, 2024\n",
       "55             Udinese  ITA-Serie A        FC 24  May 8, 2024\n",
       "206      Hellas Verona  ITA-Serie A        FC 24  May 8, 2024\n",
       "110556           Genoa  ITA-Serie A        FC 24  May 8, 2024\n",
       "1842          Cagliari  ITA-Serie A        FC 24  May 8, 2024\n",
       "347              Lecce  ITA-Serie A        FC 24  May 8, 2024\n",
       "1746            Empoli  ITA-Serie A        FC 24  May 8, 2024\n",
       "111657       Frosinone  ITA-Serie A        FC 24  May 8, 2024"
      ]
     },
     "execution_count": 11,
     "metadata": {},
     "output_type": "execute_result"
    }
   ],
   "source": [
    "sofifa.read_teams()"
   ]
  },
  {
   "cell_type": "code",
   "execution_count": 12,
   "metadata": {},
   "outputs": [
    {
     "data": {
      "text/html": [
       "<pre style=\"white-space:pre;overflow-x:auto;line-height:normal;font-family:Menlo,'DejaVu Sans Mono',consolas,'Courier New',monospace\"><span style=\"color: #7fbfbf; text-decoration-color: #7fbfbf\">[05/12/24 16:44:10] </span><span style=\"color: #000080; text-decoration-color: #000080\">INFO    </span> <span style=\"font-weight: bold\">[</span><span style=\"color: #008080; text-decoration-color: #008080; font-weight: bold\">1</span>/<span style=\"color: #008080; text-decoration-color: #008080; font-weight: bold\">1</span><span style=\"font-weight: bold\">]</span> Retrieving teams for ITA-Serie A in May <span style=\"color: #008080; text-decoration-color: #008080; font-weight: bold\">8</span>, <span style=\"color: #008080; text-decoration-color: #008080; font-weight: bold\">2024</span> edition            <a href=\"file://c:\\Users\\Operator\\.conda\\envs\\fantacalcio\\Lib\\site-packages\\soccerdata\\sofifa.py\" target=\"_blank\"><span style=\"color: #7f7f7f; text-decoration-color: #7f7f7f\">sofifa.py</span></a><span style=\"color: #7f7f7f; text-decoration-color: #7f7f7f\">:</span><a href=\"file://c:\\Users\\Operator\\.conda\\envs\\fantacalcio\\Lib\\site-packages\\soccerdata\\sofifa.py#185\" target=\"_blank\"><span style=\"color: #7f7f7f; text-decoration-color: #7f7f7f\">185</span></a>\n",
       "</pre>\n"
      ],
      "text/plain": [
       "\u001b[2;36m[05/12/24 16:44:10]\u001b[0m\u001b[2;36m \u001b[0m\u001b[34mINFO    \u001b[0m \u001b[1m[\u001b[0m\u001b[1;36m1\u001b[0m/\u001b[1;36m1\u001b[0m\u001b[1m]\u001b[0m Retrieving teams for ITA-Serie A in May \u001b[1;36m8\u001b[0m, \u001b[1;36m2024\u001b[0m edition            \u001b]8;id=13671;file://c:\\Users\\Operator\\.conda\\envs\\fantacalcio\\Lib\\site-packages\\soccerdata\\sofifa.py\u001b\\\u001b[2msofifa.py\u001b[0m\u001b]8;;\u001b\\\u001b[2m:\u001b[0m\u001b]8;id=333544;file://c:\\Users\\Operator\\.conda\\envs\\fantacalcio\\Lib\\site-packages\\soccerdata\\sofifa.py#185\u001b\\\u001b[2m185\u001b[0m\u001b]8;;\u001b\\\n"
      ]
     },
     "metadata": {},
     "output_type": "display_data"
    },
    {
     "data": {
      "text/html": [
       "<pre style=\"white-space:pre;overflow-x:auto;line-height:normal;font-family:Menlo,'DejaVu Sans Mono',consolas,'Courier New',monospace\"><span style=\"color: #7fbfbf; text-decoration-color: #7fbfbf\">                    </span><span style=\"color: #000080; text-decoration-color: #000080\">INFO    </span> <span style=\"font-weight: bold\">[</span><span style=\"color: #008080; text-decoration-color: #008080; font-weight: bold\">1</span>/<span style=\"color: #008080; text-decoration-color: #008080; font-weight: bold\">1</span><span style=\"font-weight: bold\">]</span> Retrieving list of players for Milan in May <span style=\"color: #008080; text-decoration-color: #008080; font-weight: bold\">8</span>, <span style=\"color: #008080; text-decoration-color: #008080; font-weight: bold\">2024</span> edition        <a href=\"file://c:\\Users\\Operator\\.conda\\envs\\fantacalcio\\Lib\\site-packages\\soccerdata\\sofifa.py\" target=\"_blank\"><span style=\"color: #7f7f7f; text-decoration-color: #7f7f7f\">sofifa.py</span></a><span style=\"color: #7f7f7f; text-decoration-color: #7f7f7f\">:</span><a href=\"file://c:\\Users\\Operator\\.conda\\envs\\fantacalcio\\Lib\\site-packages\\soccerdata\\sofifa.py#264\" target=\"_blank\"><span style=\"color: #7f7f7f; text-decoration-color: #7f7f7f\">264</span></a>\n",
       "</pre>\n"
      ],
      "text/plain": [
       "\u001b[2;36m                   \u001b[0m\u001b[2;36m \u001b[0m\u001b[34mINFO    \u001b[0m \u001b[1m[\u001b[0m\u001b[1;36m1\u001b[0m/\u001b[1;36m1\u001b[0m\u001b[1m]\u001b[0m Retrieving list of players for Milan in May \u001b[1;36m8\u001b[0m, \u001b[1;36m2024\u001b[0m edition        \u001b]8;id=122009;file://c:\\Users\\Operator\\.conda\\envs\\fantacalcio\\Lib\\site-packages\\soccerdata\\sofifa.py\u001b\\\u001b[2msofifa.py\u001b[0m\u001b]8;;\u001b\\\u001b[2m:\u001b[0m\u001b]8;id=327504;file://c:\\Users\\Operator\\.conda\\envs\\fantacalcio\\Lib\\site-packages\\soccerdata\\sofifa.py#264\u001b\\\u001b[2m264\u001b[0m\u001b]8;;\u001b\\\n"
      ]
     },
     "metadata": {},
     "output_type": "display_data"
    },
    {
     "data": {
      "text/html": [
       "<div>\n",
       "<style scoped>\n",
       "    .dataframe tbody tr th:only-of-type {\n",
       "        vertical-align: middle;\n",
       "    }\n",
       "\n",
       "    .dataframe tbody tr th {\n",
       "        vertical-align: top;\n",
       "    }\n",
       "\n",
       "    .dataframe thead th {\n",
       "        text-align: right;\n",
       "    }\n",
       "</style>\n",
       "<table border=\"1\" class=\"dataframe\">\n",
       "  <thead>\n",
       "    <tr style=\"text-align: right;\">\n",
       "      <th></th>\n",
       "      <th>player</th>\n",
       "      <th>team</th>\n",
       "      <th>league</th>\n",
       "      <th>fifa_edition</th>\n",
       "      <th>update</th>\n",
       "    </tr>\n",
       "    <tr>\n",
       "      <th>player_id</th>\n",
       "      <th></th>\n",
       "      <th></th>\n",
       "      <th></th>\n",
       "      <th></th>\n",
       "      <th></th>\n",
       "    </tr>\n",
       "  </thead>\n",
       "  <tbody>\n",
       "    <tr>\n",
       "      <th>215698</th>\n",
       "      <td>Mike Maignan</td>\n",
       "      <td>Milan</td>\n",
       "      <td>ITA-Serie A</td>\n",
       "      <td>FC 24</td>\n",
       "      <td>May 8, 2024</td>\n",
       "    </tr>\n",
       "    <tr>\n",
       "      <th>228881</th>\n",
       "      <td>Davide Calabria</td>\n",
       "      <td>Milan</td>\n",
       "      <td>ITA-Serie A</td>\n",
       "      <td>FC 24</td>\n",
       "      <td>May 8, 2024</td>\n",
       "    </tr>\n",
       "    <tr>\n",
       "      <th>240277</th>\n",
       "      <td>Matteo Gabbia</td>\n",
       "      <td>Milan</td>\n",
       "      <td>ITA-Serie A</td>\n",
       "      <td>FC 24</td>\n",
       "      <td>May 8, 2024</td>\n",
       "    </tr>\n",
       "    <tr>\n",
       "      <th>232756</th>\n",
       "      <td>Fikayo Tomori</td>\n",
       "      <td>Milan</td>\n",
       "      <td>ITA-Serie A</td>\n",
       "      <td>FC 24</td>\n",
       "      <td>May 8, 2024</td>\n",
       "    </tr>\n",
       "    <tr>\n",
       "      <th>232656</th>\n",
       "      <td>Theo Hernández</td>\n",
       "      <td>Milan</td>\n",
       "      <td>ITA-Serie A</td>\n",
       "      <td>FC 24</td>\n",
       "      <td>May 8, 2024</td>\n",
       "    </tr>\n",
       "    <tr>\n",
       "      <th>240638</th>\n",
       "      <td>Tijjani Reijnders</td>\n",
       "      <td>Milan</td>\n",
       "      <td>ITA-Serie A</td>\n",
       "      <td>FC 24</td>\n",
       "      <td>May 8, 2024</td>\n",
       "    </tr>\n",
       "    <tr>\n",
       "      <th>226754</th>\n",
       "      <td>Ismaël Bennacer</td>\n",
       "      <td>Milan</td>\n",
       "      <td>ITA-Serie A</td>\n",
       "      <td>FC 24</td>\n",
       "      <td>May 8, 2024</td>\n",
       "    </tr>\n",
       "    <tr>\n",
       "      <th>227796</th>\n",
       "      <td>Christian Pulisic</td>\n",
       "      <td>Milan</td>\n",
       "      <td>ITA-Serie A</td>\n",
       "      <td>FC 24</td>\n",
       "      <td>May 8, 2024</td>\n",
       "    </tr>\n",
       "    <tr>\n",
       "      <th>241721</th>\n",
       "      <td>Rafael da Conceição Leão</td>\n",
       "      <td>Milan</td>\n",
       "      <td>ITA-Serie A</td>\n",
       "      <td>FC 24</td>\n",
       "      <td>May 8, 2024</td>\n",
       "    </tr>\n",
       "    <tr>\n",
       "      <th>213666</th>\n",
       "      <td>Ruben Loftus-Cheek</td>\n",
       "      <td>Milan</td>\n",
       "      <td>ITA-Serie A</td>\n",
       "      <td>FC 24</td>\n",
       "      <td>May 8, 2024</td>\n",
       "    </tr>\n",
       "    <tr>\n",
       "      <th>178509</th>\n",
       "      <td>Olivier Giroud</td>\n",
       "      <td>Milan</td>\n",
       "      <td>ITA-Serie A</td>\n",
       "      <td>FC 24</td>\n",
       "      <td>May 8, 2024</td>\n",
       "    </tr>\n",
       "    <tr>\n",
       "      <th>246172</th>\n",
       "      <td>Samuel Chukwueze</td>\n",
       "      <td>Milan</td>\n",
       "      <td>ITA-Serie A</td>\n",
       "      <td>FC 24</td>\n",
       "      <td>May 8, 2024</td>\n",
       "    </tr>\n",
       "    <tr>\n",
       "      <th>232432</th>\n",
       "      <td>Luka Jović</td>\n",
       "      <td>Milan</td>\n",
       "      <td>ITA-Serie A</td>\n",
       "      <td>FC 24</td>\n",
       "      <td>May 8, 2024</td>\n",
       "    </tr>\n",
       "    <tr>\n",
       "      <th>242530</th>\n",
       "      <td>Noah Okafor</td>\n",
       "      <td>Milan</td>\n",
       "      <td>ITA-Serie A</td>\n",
       "      <td>FC 24</td>\n",
       "      <td>May 8, 2024</td>\n",
       "    </tr>\n",
       "    <tr>\n",
       "      <th>243627</th>\n",
       "      <td>Yacine Adli</td>\n",
       "      <td>Milan</td>\n",
       "      <td>ITA-Serie A</td>\n",
       "      <td>FC 24</td>\n",
       "      <td>May 8, 2024</td>\n",
       "    </tr>\n",
       "    <tr>\n",
       "      <th>179645</th>\n",
       "      <td>Simon Kjær</td>\n",
       "      <td>Milan</td>\n",
       "      <td>ITA-Serie A</td>\n",
       "      <td>FC 24</td>\n",
       "      <td>May 8, 2024</td>\n",
       "    </tr>\n",
       "    <tr>\n",
       "      <th>203551</th>\n",
       "      <td>Alessandro Florenzi</td>\n",
       "      <td>Milan</td>\n",
       "      <td>ITA-Serie A</td>\n",
       "      <td>FC 24</td>\n",
       "      <td>May 8, 2024</td>\n",
       "    </tr>\n",
       "    <tr>\n",
       "      <th>216065</th>\n",
       "      <td>Marco Sportiello</td>\n",
       "      <td>Milan</td>\n",
       "      <td>ITA-Serie A</td>\n",
       "      <td>FC 24</td>\n",
       "      <td>May 8, 2024</td>\n",
       "    </tr>\n",
       "    <tr>\n",
       "      <th>256261</th>\n",
       "      <td>Malick Thiaw</td>\n",
       "      <td>Milan</td>\n",
       "      <td>ITA-Serie A</td>\n",
       "      <td>FC 24</td>\n",
       "      <td>May 8, 2024</td>\n",
       "    </tr>\n",
       "    <tr>\n",
       "      <th>252060</th>\n",
       "      <td>Tommaso Pobega</td>\n",
       "      <td>Milan</td>\n",
       "      <td>ITA-Serie A</td>\n",
       "      <td>FC 24</td>\n",
       "      <td>May 8, 2024</td>\n",
       "    </tr>\n",
       "    <tr>\n",
       "      <th>253177</th>\n",
       "      <td>Yunus Musah</td>\n",
       "      <td>Milan</td>\n",
       "      <td>ITA-Serie A</td>\n",
       "      <td>FC 24</td>\n",
       "      <td>May 8, 2024</td>\n",
       "    </tr>\n",
       "    <tr>\n",
       "      <th>271579</th>\n",
       "      <td>Filippo Terracciano</td>\n",
       "      <td>Milan</td>\n",
       "      <td>ITA-Serie A</td>\n",
       "      <td>FC 24</td>\n",
       "      <td>May 8, 2024</td>\n",
       "    </tr>\n",
       "    <tr>\n",
       "      <th>140293</th>\n",
       "      <td>Antonio Mirante</td>\n",
       "      <td>Milan</td>\n",
       "      <td>ITA-Serie A</td>\n",
       "      <td>FC 24</td>\n",
       "      <td>May 8, 2024</td>\n",
       "    </tr>\n",
       "    <tr>\n",
       "      <th>220477</th>\n",
       "      <td>Mattia Caldara</td>\n",
       "      <td>Milan</td>\n",
       "      <td>ITA-Serie A</td>\n",
       "      <td>FC 24</td>\n",
       "      <td>May 8, 2024</td>\n",
       "    </tr>\n",
       "    <tr>\n",
       "      <th>277022</th>\n",
       "      <td>Jan-Carlo Simić</td>\n",
       "      <td>Milan</td>\n",
       "      <td>ITA-Serie A</td>\n",
       "      <td>FC 24</td>\n",
       "      <td>May 8, 2024</td>\n",
       "    </tr>\n",
       "    <tr>\n",
       "      <th>255654</th>\n",
       "      <td>Pierre Kalulu</td>\n",
       "      <td>Milan</td>\n",
       "      <td>ITA-Serie A</td>\n",
       "      <td>FC 24</td>\n",
       "      <td>May 8, 2024</td>\n",
       "    </tr>\n",
       "    <tr>\n",
       "      <th>278351</th>\n",
       "      <td>Kevin Zeroli</td>\n",
       "      <td>Milan</td>\n",
       "      <td>ITA-Serie A</td>\n",
       "      <td>FC 24</td>\n",
       "      <td>May 8, 2024</td>\n",
       "    </tr>\n",
       "    <tr>\n",
       "      <th>278237</th>\n",
       "      <td>Davide Bartesaghi</td>\n",
       "      <td>Milan</td>\n",
       "      <td>ITA-Serie A</td>\n",
       "      <td>FC 24</td>\n",
       "      <td>May 8, 2024</td>\n",
       "    </tr>\n",
       "    <tr>\n",
       "      <th>278928</th>\n",
       "      <td>Sánchez Alejandro Jiménez</td>\n",
       "      <td>Milan</td>\n",
       "      <td>ITA-Serie A</td>\n",
       "      <td>FC 24</td>\n",
       "      <td>May 8, 2024</td>\n",
       "    </tr>\n",
       "    <tr>\n",
       "      <th>278331</th>\n",
       "      <td>Lapo Nava</td>\n",
       "      <td>Milan</td>\n",
       "      <td>ITA-Serie A</td>\n",
       "      <td>FC 24</td>\n",
       "      <td>May 8, 2024</td>\n",
       "    </tr>\n",
       "  </tbody>\n",
       "</table>\n",
       "</div>"
      ],
      "text/plain": [
       "                              player   team       league fifa_edition  \\\n",
       "player_id                                                               \n",
       "215698                  Mike Maignan  Milan  ITA-Serie A        FC 24   \n",
       "228881               Davide Calabria  Milan  ITA-Serie A        FC 24   \n",
       "240277                 Matteo Gabbia  Milan  ITA-Serie A        FC 24   \n",
       "232756                 Fikayo Tomori  Milan  ITA-Serie A        FC 24   \n",
       "232656                Theo Hernández  Milan  ITA-Serie A        FC 24   \n",
       "240638             Tijjani Reijnders  Milan  ITA-Serie A        FC 24   \n",
       "226754               Ismaël Bennacer  Milan  ITA-Serie A        FC 24   \n",
       "227796             Christian Pulisic  Milan  ITA-Serie A        FC 24   \n",
       "241721      Rafael da Conceição Leão  Milan  ITA-Serie A        FC 24   \n",
       "213666            Ruben Loftus-Cheek  Milan  ITA-Serie A        FC 24   \n",
       "178509                Olivier Giroud  Milan  ITA-Serie A        FC 24   \n",
       "246172              Samuel Chukwueze  Milan  ITA-Serie A        FC 24   \n",
       "232432                    Luka Jović  Milan  ITA-Serie A        FC 24   \n",
       "242530                   Noah Okafor  Milan  ITA-Serie A        FC 24   \n",
       "243627                   Yacine Adli  Milan  ITA-Serie A        FC 24   \n",
       "179645                    Simon Kjær  Milan  ITA-Serie A        FC 24   \n",
       "203551           Alessandro Florenzi  Milan  ITA-Serie A        FC 24   \n",
       "216065              Marco Sportiello  Milan  ITA-Serie A        FC 24   \n",
       "256261                  Malick Thiaw  Milan  ITA-Serie A        FC 24   \n",
       "252060                Tommaso Pobega  Milan  ITA-Serie A        FC 24   \n",
       "253177                   Yunus Musah  Milan  ITA-Serie A        FC 24   \n",
       "271579           Filippo Terracciano  Milan  ITA-Serie A        FC 24   \n",
       "140293               Antonio Mirante  Milan  ITA-Serie A        FC 24   \n",
       "220477                Mattia Caldara  Milan  ITA-Serie A        FC 24   \n",
       "277022               Jan-Carlo Simić  Milan  ITA-Serie A        FC 24   \n",
       "255654                 Pierre Kalulu  Milan  ITA-Serie A        FC 24   \n",
       "278351                  Kevin Zeroli  Milan  ITA-Serie A        FC 24   \n",
       "278237             Davide Bartesaghi  Milan  ITA-Serie A        FC 24   \n",
       "278928     Sánchez Alejandro Jiménez  Milan  ITA-Serie A        FC 24   \n",
       "278331                     Lapo Nava  Milan  ITA-Serie A        FC 24   \n",
       "\n",
       "                update  \n",
       "player_id               \n",
       "215698     May 8, 2024  \n",
       "228881     May 8, 2024  \n",
       "240277     May 8, 2024  \n",
       "232756     May 8, 2024  \n",
       "232656     May 8, 2024  \n",
       "240638     May 8, 2024  \n",
       "226754     May 8, 2024  \n",
       "227796     May 8, 2024  \n",
       "241721     May 8, 2024  \n",
       "213666     May 8, 2024  \n",
       "178509     May 8, 2024  \n",
       "246172     May 8, 2024  \n",
       "232432     May 8, 2024  \n",
       "242530     May 8, 2024  \n",
       "243627     May 8, 2024  \n",
       "179645     May 8, 2024  \n",
       "203551     May 8, 2024  \n",
       "216065     May 8, 2024  \n",
       "256261     May 8, 2024  \n",
       "252060     May 8, 2024  \n",
       "253177     May 8, 2024  \n",
       "271579     May 8, 2024  \n",
       "140293     May 8, 2024  \n",
       "220477     May 8, 2024  \n",
       "277022     May 8, 2024  \n",
       "255654     May 8, 2024  \n",
       "278351     May 8, 2024  \n",
       "278237     May 8, 2024  \n",
       "278928     May 8, 2024  \n",
       "278331     May 8, 2024  "
      ]
     },
     "execution_count": 12,
     "metadata": {},
     "output_type": "execute_result"
    }
   ],
   "source": [
    "sofifa.read_players(team=\"Milan\")"
   ]
  }
 ],
 "metadata": {
  "kernelspec": {
   "display_name": "Python 3",
   "language": "python",
   "name": "python3"
  },
  "language_info": {
   "codemirror_mode": {
    "name": "ipython",
    "version": 3
   },
   "file_extension": ".py",
   "mimetype": "text/x-python",
   "name": "python",
   "nbconvert_exporter": "python",
   "pygments_lexer": "ipython3",
   "version": "3.11.9"
  }
 },
 "nbformat": 4,
 "nbformat_minor": 4
}
