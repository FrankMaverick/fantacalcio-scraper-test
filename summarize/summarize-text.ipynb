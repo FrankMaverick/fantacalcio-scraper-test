{
 "cells": [
  {
   "cell_type": "markdown",
   "metadata": {},
   "source": [
    "# Sumy"
   ]
  },
  {
   "cell_type": "code",
   "execution_count": 13,
   "metadata": {},
   "outputs": [
    {
     "ename": "ModuleNotFoundError",
     "evalue": "No module named 'sumy.summarizers.lexrank'",
     "output_type": "error",
     "traceback": [
      "\u001b[1;31m---------------------------------------------------------------------------\u001b[0m",
      "\u001b[1;31mModuleNotFoundError\u001b[0m                       Traceback (most recent call last)",
      "Cell \u001b[1;32mIn[13], line 2\u001b[0m\n\u001b[0;32m      1\u001b[0m \u001b[38;5;28;01mimport\u001b[39;00m \u001b[38;5;21;01msumy\u001b[39;00m\n\u001b[1;32m----> 2\u001b[0m \u001b[38;5;28;01mfrom\u001b[39;00m \u001b[38;5;21;01msumy\u001b[39;00m\u001b[38;5;21;01m.\u001b[39;00m\u001b[38;5;21;01msummarizers\u001b[39;00m\u001b[38;5;21;01m.\u001b[39;00m\u001b[38;5;21;01mlexrank\u001b[39;00m \u001b[38;5;28;01mimport\u001b[39;00m LexRankSummarizer\n\u001b[0;32m      4\u001b[0m testo \u001b[38;5;241m=\u001b[39m \u001b[38;5;124m\"\u001b[39m\u001b[38;5;124mIl gatto saltò sul tavolo e rovesciò un bicchiere d\u001b[39m\u001b[38;5;124m'\u001b[39m\u001b[38;5;124macqua. La donna si arrabbiò e lo sgridò. Il gatto si spaventò e scappò via.\u001b[39m\u001b[38;5;124m\"\u001b[39m\n\u001b[0;32m      6\u001b[0m \u001b[38;5;66;03m# Create a Summarizer object\u001b[39;00m\n",
      "\u001b[1;31mModuleNotFoundError\u001b[0m: No module named 'sumy.summarizers.lexrank'"
     ]
    }
   ],
   "source": [
    "import sumy\n",
    "from sumy.summarizers.lexrank import LexRankSummarizer\n",
    "\n",
    "testo = \"Il gatto saltò sul tavolo e rovesciò un bicchiere d'acqua. La donna si arrabbiò e lo sgridò. Il gatto si spaventò e scappò via.\"\n",
    "\n",
    "# Create a Summarizer object\n",
    "summarizer = LexRankSummarizer()\n",
    "\n",
    "# Summarize the text\n",
    "riassunto = summarizer.summarize(testo, 2)  # Returns a list of sentences\n",
    "\n",
    "print(riassunto)"
   ]
  },
  {
   "cell_type": "markdown",
   "metadata": {},
   "source": [
    "## Yake"
   ]
  },
  {
   "cell_type": "code",
   "execution_count": 15,
   "metadata": {},
   "outputs": [
    {
     "ename": "NameError",
     "evalue": "name 'Yake' is not defined",
     "output_type": "error",
     "traceback": [
      "\u001b[1;31m---------------------------------------------------------------------------\u001b[0m",
      "\u001b[1;31mNameError\u001b[0m                                 Traceback (most recent call last)",
      "Cell \u001b[1;32mIn[15], line 7\u001b[0m\n\u001b[0;32m      4\u001b[0m testo \u001b[38;5;241m=\u001b[39m \u001b[38;5;124m\"\u001b[39m\u001b[38;5;124mIl gatto saltò sul tavolo e rovesciò un bicchiere d\u001b[39m\u001b[38;5;124m'\u001b[39m\u001b[38;5;124macqua. La donna si arrabbiò e lo sgridò. Il gatto si spaventò e scappò via.\u001b[39m\u001b[38;5;124m\"\u001b[39m\n\u001b[0;32m      6\u001b[0m \u001b[38;5;66;03m# Creare un oggetto Yake\u001b[39;00m\n\u001b[1;32m----> 7\u001b[0m yake_instance \u001b[38;5;241m=\u001b[39m \u001b[43mYake\u001b[49m(language\u001b[38;5;241m=\u001b[39m\u001b[38;5;124m\"\u001b[39m\u001b[38;5;124mit\u001b[39m\u001b[38;5;124m\"\u001b[39m, max_tokens\u001b[38;5;241m=\u001b[39m\u001b[38;5;241m3\u001b[39m)  \u001b[38;5;66;03m# Impostare la lingua e il numero massimo di token\u001b[39;00m\n\u001b[0;32m      9\u001b[0m \u001b[38;5;66;03m# Estrarre le frasi chiave\u001b[39;00m\n\u001b[0;32m     10\u001b[0m frasi_chiave \u001b[38;5;241m=\u001b[39m yake_instance\u001b[38;5;241m.\u001b[39mextract_keywords(text\u001b[38;5;241m=\u001b[39mtesto)\n",
      "\u001b[1;31mNameError\u001b[0m: name 'Yake' is not defined"
     ]
    }
   ],
   "source": [
    "from yake import yake\n",
    "\n",
    "# Definire il testo\n",
    "testo = \"Il gatto saltò sul tavolo e rovesciò un bicchiere d'acqua. La donna si arrabbiò e lo sgridò. Il gatto si spaventò e scappò via.\"\n",
    "\n",
    "# Creare un oggetto Yake\n",
    "yake_instance = Yake(language=\"it\", max_tokens=3)  # Impostare la lingua e il numero massimo di token\n",
    "\n",
    "# Estrarre le frasi chiave\n",
    "frasi_chiave = yake_instance.extract_keywords(text=testo)\n",
    "\n",
    "# Riassumere il testo\n",
    "riassunto = \" \".join([frase for frase, score in frasi_chiave[:2]])  # Restituisce le prime 2 frasi\n",
    "\n",
    "print(riassunto)"
   ]
  },
  {
   "cell_type": "markdown",
   "metadata": {},
   "source": [
    "## gensim\n"
   ]
  },
  {
   "cell_type": "code",
   "execution_count": 9,
   "metadata": {},
   "outputs": [
    {
     "ename": "ModuleNotFoundError",
     "evalue": "No module named 'gensim.summarization'",
     "output_type": "error",
     "traceback": [
      "\u001b[1;31m---------------------------------------------------------------------------\u001b[0m",
      "\u001b[1;31mModuleNotFoundError\u001b[0m                       Traceback (most recent call last)",
      "Cell \u001b[1;32mIn[9], line 3\u001b[0m\n\u001b[0;32m      1\u001b[0m \u001b[38;5;66;03m#pip install gensim==3.8.3\u001b[39;00m\n\u001b[0;32m      2\u001b[0m \u001b[38;5;28;01mimport\u001b[39;00m \u001b[38;5;21;01mgensim\u001b[39;00m\n\u001b[1;32m----> 3\u001b[0m \u001b[38;5;28;01mfrom\u001b[39;00m \u001b[38;5;21;01mgensim\u001b[39;00m\u001b[38;5;21;01m.\u001b[39;00m\u001b[38;5;21;01msummarization\u001b[39;00m \u001b[38;5;28;01mimport\u001b[39;00m summarize\n\u001b[0;32m      5\u001b[0m testo \u001b[38;5;241m=\u001b[39m \u001b[38;5;124m\"\u001b[39m\u001b[38;5;124mIl gatto saltò sul tavolo e rovesciò un bicchiere d\u001b[39m\u001b[38;5;124m'\u001b[39m\u001b[38;5;124macqua. La donna si arrabbiò e lo sgridò. Il gatto si spaventò e scappò via.\u001b[39m\u001b[38;5;124m\"\u001b[39m\n\u001b[0;32m      7\u001b[0m \u001b[38;5;66;03m# Creare un modello LDA\u001b[39;00m\n",
      "\u001b[1;31mModuleNotFoundError\u001b[0m: No module named 'gensim.summarization'"
     ]
    }
   ],
   "source": [
    "#pip install gensim==3.8.3\n",
    "import gensim\n",
    "from gensim.summarization import summarize\n",
    "\n",
    "testo = \"Il gatto saltò sul tavolo e rovesciò un bicchiere d'acqua. La donna si arrabbiò e lo sgridò. Il gatto si spaventò e scappò via.\"\n",
    "\n",
    "# Creare un modello LDA\n",
    "modello = gensim.models.ldamodel.LdaModel(gensim.corpora.Dictionary([testo.split()]), texts=[testo.split()], num_topics=2)\n",
    "\n",
    "# Riassumere il testo\n",
    "riassunto = summarize(testo, ratio=0.5)\n",
    "\n",
    "print(riassunto)"
   ]
  }
 ],
 "metadata": {
  "kernelspec": {
   "display_name": "fantacalcio",
   "language": "python",
   "name": "python3"
  },
  "language_info": {
   "codemirror_mode": {
    "name": "ipython",
    "version": 3
   },
   "file_extension": ".py",
   "mimetype": "text/x-python",
   "name": "python",
   "nbconvert_exporter": "python",
   "pygments_lexer": "ipython3",
   "version": "3.11.9"
  }
 },
 "nbformat": 4,
 "nbformat_minor": 2
}
